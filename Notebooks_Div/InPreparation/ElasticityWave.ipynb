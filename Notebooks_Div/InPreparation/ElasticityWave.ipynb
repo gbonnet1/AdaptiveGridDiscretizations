{
 "cells": [
  {
   "cell_type": "markdown",
   "metadata": {},
   "source": [
    "# Adaptive PDE discretizations on cartesian grids \n",
    "## Volume : Divergence form PDEs\n",
    "## Part : Linear elasticity\n",
    "## Chapter : The wave equation"
   ]
  },
  {
   "cell_type": "markdown",
   "metadata": {},
   "source": [
    "We use a novel discretization of the Dirichlet elastic energy to solve the elastic wave equation, and compare the first arrival times with those computed in the high frequency asymptotic using an eikonal equation."
   ]
  },
  {
   "cell_type": "markdown",
   "metadata": {},
   "source": [
    "## 0. Importing the required libraries"
   ]
  },
  {
   "cell_type": "code",
   "execution_count": 1,
   "metadata": {},
   "outputs": [],
   "source": [
    "import sys; sys.path.insert(0,\"../..\") # Allow import of agd from parent directory (useless if conda package installed)\n",
    "#from Miscellaneous import TocTools; print(TocTools.displayTOC('ElasticityDirichlet','NonDiv'))"
   ]
  },
  {
   "cell_type": "code",
   "execution_count": 23,
   "metadata": {},
   "outputs": [],
   "source": [
    "from agd import LinearParallel as lp\n",
    "from agd import FiniteDifferences as fd\n",
    "from agd.Metrics.Seismic import Hooke\n",
    "from agd import Metrics\n",
    "from agd.Metrics.hamiltonian import QuadraticHamiltonian\n",
    "from agd import AutomaticDifferentiation as ad\n",
    "from agd import Domain\n",
    "from agd.Plotting import savefig; #savefig.dirName = 'Images/ElasticityDirichlet'\n",
    "norm_infinity = ad.Optimization.norm_infinity\n",
    "\n",
    "from agd.ExportedCode.Notebooks_Div.ElasticEnergy import ElasticEnergy"
   ]
  },
  {
   "cell_type": "code",
   "execution_count": 3,
   "metadata": {},
   "outputs": [],
   "source": [
    "import numpy as np\n",
    "import matplotlib.pyplot as plt\n",
    "import scipy.sparse; import scipy.sparse.linalg"
   ]
  },
  {
   "cell_type": "code",
   "execution_count": 4,
   "metadata": {},
   "outputs": [],
   "source": [
    "def ReloadPackages():\n",
    "    from Miscellaneous.rreload import rreload\n",
    "    global Hooke\n",
    "    Hooke, = rreload((Hooke,),rootdir=\"../..\")"
   ]
  },
  {
   "cell_type": "markdown",
   "metadata": {},
   "source": [
    "## 1. Model analysis\n"
   ]
  },
  {
   "cell_type": "markdown",
   "metadata": {},
   "source": [
    "### 1.1 The Hamiltonian\n",
    "\n",
    "\n",
    "The Hamiltonian of the elastic wave equation is separable, and is the sum of two quadratic terms: the kinetic energy, and the elastic energy.\n",
    "$$\n",
    "    H(v,m) = \\frac 1 2 \\int_\\Omega c(\\epsilon,\\epsilon) + \\frac{\\|m\\|^2}{\\rho},\n",
    "$$\n",
    "where $c$ is the Hooke tensor, $\\epsilon$ is the stress tensor, $m$ is the momentum density, and $\\rho$ is the material density.\n",
    "The finite differences approximation of $c(\\epsilon,\\epsilon)$ is the subject of [another notebook](ElasticEnergy.ipynb). In order to complete our Hamiltonian, we thus only need to discretize the kinetic energy."
   ]
  },
  {
   "cell_type": "code",
   "execution_count": 5,
   "metadata": {},
   "outputs": [],
   "source": [
    "def KineticEnergy(m,ρ):\n",
    "    \"\"\"Squared norm of the momentum, divided by the density, \n",
    "    which is (twice) the kinetic energy density.\"\"\"\n",
    "    return (m**2).sum(axis=0) / ρ"
   ]
  },
  {
   "cell_type": "markdown",
   "metadata": {},
   "source": [
    "Based on the earlier discussion along the [discretization of $c(\\epsilon,\\epsilon)$](ElasticEnergy.ipynb), and on the [wave equation CFL condition](Time1D_Div.ipynb), we obtain the CFL condition for the wave equation. "
   ]
  },
  {
   "cell_type": "code",
   "execution_count": 6,
   "metadata": {},
   "outputs": [],
   "source": [
    "def CFL(dx,hooke,ρ,order=1):\n",
    "    \"\"\"Largest time step expected to be stable for the elastic wave equation\"\"\"\n",
    "    tr = lp.trace(hooke.to_Mandel())\n",
    "    L = (16,78)[order] # See elastic energy notebook\n",
    "    return 2*dx / np.sqrt(L * ρ * tr)"
   ]
  },
  {
   "cell_type": "markdown",
   "metadata": {},
   "source": [
    "### 1.2 Choosing a material\n",
    "\n",
    "We collected a few examples of material elasticity tensors and density, for illustration purposes. For simplicity, we use a constant material, and a periodic domain."
   ]
  },
  {
   "cell_type": "code",
   "execution_count": 7,
   "metadata": {},
   "outputs": [],
   "source": [
    "# Constant hooke tensor over the domain\n",
    "mica,ρ = Hooke.mica # Note ρ is in g/cm^3, which is inconsistent with the Hooke tensor SI units \n",
    "hooke = mica.extract_xz().rotate_by(0.5)"
   ]
  },
  {
   "cell_type": "markdown",
   "metadata": {},
   "source": [
    "For the purposes of illustration, we also consider a simpler isotropic material, defined from its Lame coefficients."
   ]
  },
  {
   "cell_type": "code",
   "execution_count": 8,
   "metadata": {},
   "outputs": [],
   "source": [
    "hooke_iso = Hooke.from_Lame(1.,1.)"
   ]
  },
  {
   "cell_type": "markdown",
   "metadata": {},
   "source": [
    "We are now in position to introduce the full hamiltonian, for a periodic domain at least. \n",
    "\n",
    "<!---\n",
    "The following does not work, because AD simplification must occur before summation\n",
    "--->\n",
    "\n",
    "<!---\n",
    "def Hamiltonian(hooke,ρ,dom,**kwargs):\n",
    "    \"\"\"Returns the Hamiltonian of the linear elastic wave equation.\"\"\"\n",
    "    Hq = lambda q: 0.5 * ElasticEnergy(q,hooke,dom,**kwargs).sum() * h**2 \n",
    "    Hp = lambda p: 0.5 * KineticEnergy(p,ρ).sum() * h**2\n",
    "\n",
    "    H = Metrics.Hamiltonian( (Hq, Hp), shape_free = X.shape, inv_inner=h**-2 )\n",
    "#    H.separable_quadratic_set_sparse_matrices(simplify_ad=2)\n",
    "    return H\n",
    "--->"
   ]
  },
  {
   "cell_type": "code",
   "execution_count": 34,
   "metadata": {},
   "outputs": [],
   "source": [
    "def WaveHamiltonian(hooke,ρ,dom,order=1):\n",
    "    \"\"\"Returns the Hamiltonian of the linear elastic wave equation.\"\"\"\n",
    "    # Summation is implicit, and purposedly not done here (for simplify_ad)\n",
    "    h = dom.gridscale\n",
    "    Hq = lambda q: 0.5 * ElasticEnergy(q,hooke,dom,order=order) * h**2 \n",
    "    Hp = lambda p: 0.5 * KineticEnergy(p,ρ) * h**2\n",
    "    H = QuadraticHamiltonian(Hq,Hp,inv_inner=h**-2)\n",
    "    z = np.zeros((dom.vdim,*dom.shape)) # Correctly shaped placeholder for position or impulsion\n",
    "    H.set_spmat(z) # Replaces quadratic functions with sparse matrices\n",
    "    return H "
   ]
  },
  {
   "cell_type": "markdown",
   "metadata": {},
   "source": [
    "### 1.3 Traveling waves\n",
    "\n",
    "Traveling waves are eigenmodes of the wave equation. In the case of elastic materials, several waves of different velocities may travel in the same direction. The fastest is known as the *pressure wave*. There also exists two independent shear waves in three dimension, and a single one in two dimensions.\n",
    "\n",
    "Traveling waves take the form\n",
    "$$\n",
    "    V \\exp(k\\cdot x - \\omega t),\n",
    "$$\n",
    "where $k$ is the wave number, $\\omega$ is the pulsation, and $V$ is the amplitude. Given the wave vector $k$, there exists $d$ possible pulsations, and $d$ possible amplitudes (up to multiplication by a scalar)."
   ]
  },
  {
   "cell_type": "code",
   "execution_count": 10,
   "metadata": {},
   "outputs": [],
   "source": [
    "def wave(t,x,ω,k,V):\n",
    "    t,x,ω,k,V = fd.common_field((t,x,ω,k,V),depths=(0,1,0,1,1))\n",
    "    return V*np.exp(lp.dot_VV(k,x)-ω*t)"
   ]
  },
  {
   "cell_type": "markdown",
   "metadata": {},
   "source": [
    "The `Hooke` class provides a method for computing the (normalized) amplitude and pulsation associated to a wave vector."
   ]
  },
  {
   "cell_type": "code",
   "execution_count": 11,
   "metadata": {},
   "outputs": [],
   "source": [
    "mica,ρ = Hooke.mica\n",
    "hooke = mica.extract_xz().rotate_by(0.5)\n",
    "hooke_iso = Hooke.from_Lame(1.,1.)"
   ]
  },
  {
   "cell_type": "code",
   "execution_count": 12,
   "metadata": {},
   "outputs": [],
   "source": [
    "k = [0.6,0.8]\n",
    "ω,V = hooke_iso.waves(k,1.)"
   ]
  },
  {
   "cell_type": "markdown",
   "metadata": {},
   "source": [
    "In dimension two, there are two wave modes. The fastest mode, associated with the largest pulsation, is the pressure wave."
   ]
  },
  {
   "cell_type": "code",
   "execution_count": 13,
   "metadata": {},
   "outputs": [
    {
     "name": "stdout",
     "output_type": "stream",
     "text": [
      "Wave pulsations [1.         1.73205081] for wave vector [0.6, 0.8]\n"
     ]
    }
   ],
   "source": [
    "print(f\"Wave pulsations {ω} for wave vector {k}\")"
   ]
  },
  {
   "cell_type": "markdown",
   "metadata": {},
   "source": [
    "In isotropic materials, the amplitude of the pressure wave is collinear with the wave vector, whereas the amplitude of shear waves is orthogonal to the wave vector."
   ]
  },
  {
   "cell_type": "code",
   "execution_count": 14,
   "metadata": {},
   "outputs": [
    {
     "name": "stdout",
     "output_type": "stream",
     "text": [
      "Amplitude of the shear wave: [-0.8  0.6], and pressure wave: [0.6 0.8]\n"
     ]
    }
   ],
   "source": [
    "print(f\"Amplitude of the shear wave: {V[:,0]}, and pressure wave: {V[:,1]}\")"
   ]
  },
  {
   "cell_type": "markdown",
   "metadata": {},
   "source": [
    "This property is lost in anisotropic materials. The amplitude of the shear and pressure waves is neither collinear nor orthogonal to the wave vector."
   ]
  },
  {
   "cell_type": "code",
   "execution_count": 15,
   "metadata": {},
   "outputs": [
    {
     "name": "stdout",
     "output_type": "stream",
     "text": [
      "Amplitude of the shear wave: [ 0.54538986 -0.8381825 ], and pressure wave: [-0.8381825  -0.54538986], for wave vector [0.6, 0.8].\n"
     ]
    }
   ],
   "source": [
    "k = [0.6,0.8]\n",
    "ω,V = hooke.waves(k,ρ)\n",
    "print(f\"Amplitude of the shear wave: {V[:,0]}, and pressure wave: {V[:,1]}, for wave vector {k}.\")"
   ]
  },
  {
   "cell_type": "markdown",
   "metadata": {},
   "source": [
    "Let us check, using automatic differentiation, the we do obtain eigenmodes of the wave equation, in the case of a constant hooke tensor and density."
   ]
  },
  {
   "cell_type": "code",
   "execution_count": 16,
   "metadata": {},
   "outputs": [],
   "source": [
    "def WaveModes(k,hooke,ρ):\n",
    "    \"\"\"Returns the wave modes associated with a given Hooke tensor and wave vector\"\"\"\n",
    "    def wave_(ω,V): return lambda t,x : wave(t,x,ω,k,V)\n",
    "    ω_,V_ = hooke.waves(k,ρ)\n",
    "    return [wave_(ω,V) for ω,V in zip(ω_,V_.T)]"
   ]
  },
  {
   "cell_type": "code",
   "execution_count": 17,
   "metadata": {},
   "outputs": [],
   "source": [
    "def WaveResidue(t,x,wave,hooke,ρ):\n",
    "    # Differentiate twice w.r.t time\n",
    "    t_ad = ad.Dense2.identity(constant=t)\n",
    "    w_tt = wave(t_ad,x).hessian(0,0)\n",
    "    \n",
    "    # Differentiate twice w.r.t position\n",
    "    x_ad = ad.Dense2.identity(constant=x)\n",
    "    w_xx = wave(t,x_ad).hessian() # Axes : partial derivatives, then coordinates.\n",
    "    \n",
    "    # Contract with the Hooke tensor\n",
    "    d = hooke.vdim\n",
    "    hk = hooke.to_depth4() # Format hooke tensor as a depth 4 tensor\n",
    "    Δw = sum(hk[:,i,j,k]*w_xx[i,j,k] for i in range(d) for j in range(d) for k in range(d))\n",
    "\n",
    "    return ρ*w_tt - Δw"
   ]
  },
  {
   "cell_type": "code",
   "execution_count": 18,
   "metadata": {},
   "outputs": [],
   "source": [
    "t,x = 1.,[2.,3.]; material = (hooke_iso,1.)\n",
    "shearW,pressW = WaveModes(k,*material)\n",
    "assert np.allclose(WaveResidue(t,x,shearW,*material), 0.)\n",
    "assert np.allclose(WaveResidue(t,x,pressW,*material), 0.)"
   ]
  },
  {
   "cell_type": "code",
   "execution_count": 19,
   "metadata": {},
   "outputs": [],
   "source": [
    "t,x = 1.,[2.,3.]; material = (hooke,ρ)\n",
    "shearW,pressW = WaveModes(k,*material)\n",
    "assert np.allclose(WaveResidue(t,x,shearW,*material), 0.)\n",
    "assert np.allclose(WaveResidue(t,x,pressW,*material), 0.)"
   ]
  },
  {
   "cell_type": "markdown",
   "metadata": {},
   "source": [
    "## 2. Constant material\n",
    "\n",
    "We compute elastic waves in a constant material, either isotropic or crystalline, in a periodic domain."
   ]
  },
  {
   "cell_type": "code",
   "execution_count": 20,
   "metadata": {},
   "outputs": [],
   "source": [
    "# Periodic domain [-1,1]^2\n",
    "aX,dx = np.linspace(-1,1,endpoint=False,retstep=True)\n",
    "X=np.array(np.meshgrid(aX,aX,indexing='ij'))\n",
    "dom = Domain.MockDirichlet(X.shape[1:],dx,padding=None) #Periodic domain (wrap instead of pad)"
   ]
  },
  {
   "cell_type": "code",
   "execution_count": 21,
   "metadata": {},
   "outputs": [],
   "source": [
    "def Hamiltonian(hooke,ρ,dom,order=1):\n",
    "    \"\"\"Returns the Hamiltonian of the linear elastic wave equation, with sparse matrices.\"\"\"\n",
    "    v_ad = ad.Sparse2.identity((dom.vdim,*dom.shape))\n",
    "    Elastic_ad = 0.5 * ElasticEnergy(v_ad,hooke,dom,order=order)\n",
    "    for i in range(2): Elastic_ad.simplify_ad() # These intermediary steps cannot be done by Hamiltonian class\n",
    "    h = dom.gridscale\n",
    "    Hq_ad = 0.5 * Elastic_ad.sum() * h**2\n",
    "    Hq_spmat = scipy.sparse.coo_matrix(Hq_ad.triplets()).tocsc()\n",
    "\n",
    "    Hp = lambda p: 0.5 * KineticEnergy(p,ρ).sum() * h**2\n",
    "    H = Metrics.Hamiltonian( (Hq_spmat, Hp), shape_free = X.shape, inv_inner=h**-2 )\n",
    "    H.separable_quadratic_set_sparse_matrices() # yields Hp_spmat\n",
    "    return H"
   ]
  },
  {
   "cell_type": "markdown",
   "metadata": {},
   "source": [
    "### 2.1 Isotropic \n",
    "\n",
    "First let us set the Hamiltonian, governing the wave equation, and the time step."
   ]
  },
  {
   "cell_type": "code",
   "execution_count": 35,
   "metadata": {},
   "outputs": [],
   "source": [
    "material = (hooke_iso,1.)\n",
    "WaveH = WaveHamiltonian(*material,dom)\n",
    "dt = CFL(dx,*material)"
   ]
  },
  {
   "cell_type": "markdown",
   "metadata": {},
   "source": [
    "Then, we choose an initial condition, space periodic for simplicity."
   ]
  },
  {
   "cell_type": "code",
   "execution_count": 36,
   "metadata": {},
   "outputs": [],
   "source": [
    "k = [np.pi,0.] \n",
    "pressW,shearW = WaveModes(k,*material)"
   ]
  },
  {
   "cell_type": "code",
   "execution_count": 37,
   "metadata": {},
   "outputs": [],
   "source": [
    "q0 = pressW(0,X) # Initial displacement\n",
    "t_ad = ad.Dense.identity(constant=0.)\n",
    "p0 = pressW(t_ad,X).gradient(0) # Initial momentum (rho=1)"
   ]
  },
  {
   "cell_type": "code",
   "execution_count": null,
   "metadata": {},
   "outputs": [],
   "source": [
    "p0.shape"
   ]
  },
  {
   "cell_type": "code",
   "execution_count": null,
   "metadata": {},
   "outputs": [],
   "source": [
    "class A: pass\n",
    "class B(A): pass"
   ]
  },
  {
   "cell_type": "code",
   "execution_count": null,
   "metadata": {},
   "outputs": [],
   "source": [
    "np.prod((),dtype=int)"
   ]
  },
  {
   "cell_type": "code",
   "execution_count": null,
   "metadata": {},
   "outputs": [],
   "source": [
    "# Need some flattening of the input"
   ]
  },
  {
   "cell_type": "code",
   "execution_count": null,
   "metadata": {},
   "outputs": [],
   "source": [
    "WaveH.H(q0,p0)"
   ]
  },
  {
   "cell_type": "code",
   "execution_count": null,
   "metadata": {},
   "outputs": [],
   "source": [
    "niter=10\n",
    "Q,P = WaveH.integrate(q0,p0, scheme='Euler-p',niter=niter,T=niter*dt,path=True)"
   ]
  },
  {
   "cell_type": "code",
   "execution_count": null,
   "metadata": {},
   "outputs": [],
   "source": [
    "help(Wave.integrate)"
   ]
  },
  {
   "cell_type": "code",
   "execution_count": null,
   "metadata": {},
   "outputs": [],
   "source": []
  }
 ],
 "metadata": {
  "celltoolbar": "Format de la Cellule Texte Brut",
  "kernelspec": {
   "display_name": "Python 3",
   "language": "python",
   "name": "python3"
  },
  "language_info": {
   "codemirror_mode": {
    "name": "ipython",
    "version": 3
   },
   "file_extension": ".py",
   "mimetype": "text/x-python",
   "name": "python",
   "nbconvert_exporter": "python",
   "pygments_lexer": "ipython3",
   "version": "3.7.6"
  }
 },
 "nbformat": 4,
 "nbformat_minor": 4
}

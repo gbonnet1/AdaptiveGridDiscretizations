{
 "cells": [
  {
   "cell_type": "markdown",
   "metadata": {},
   "source": [
    "# Adaptive PDE discretizations on cartesian grids \n",
    "## Volume : Reproducible research\n",
    "## Part : Eikonal CPU/GPU solvers comparison\n",
    "## Chapter : Manifolds defined by local charts"
   ]
  },
  {
   "cell_type": "markdown",
   "metadata": {},
   "source": [
    "We solve eikonal PDEs on manifolds defined by local charts. In particular the projective plane, and the klein bottle.\n",
    "\n",
    "This functionality is so far only implemented in the GPU eikonal solver. It is used in the context of the rolling ball models, which involve PDEs on the group $\\mathrm{SO}_3$, parametrized by three dimensional projective space $\\mathrm{P}_3$."
   ]
  },
  {
   "cell_type": "markdown",
   "metadata": {},
   "source": [
    "## 0. Importing the required libraries"
   ]
  },
  {
   "cell_type": "code",
   "execution_count": 2,
   "metadata": {},
   "outputs": [],
   "source": [
    "import sys; sys.path.insert(0,\"../..\")\n",
    "#from Miscellaneous import TocTools; print(TocTools.displayTOC('Trailers','GPU'))"
   ]
  },
  {
   "cell_type": "code",
   "execution_count": 3,
   "metadata": {},
   "outputs": [],
   "source": [
    "from agd import Eikonal\n",
    "from agd import AutomaticDifferentiation as ad\n",
    "from agd import Metrics\n",
    "from agd import LinearParallel as lp\n",
    "norm_infinity = ad.Optimization.norm_infinity"
   ]
  },
  {
   "cell_type": "code",
   "execution_count": 5,
   "metadata": {},
   "outputs": [],
   "source": [
    "from agd.ExportedCode.Notebooks_Algo import RollingBall_Models\n",
    "plane_to_sphere = RollingBall_Models.quaternion_from_euclidean\n",
    "sphere_to_plane = RollingBall_Models.euclidean_from_quaternion"
   ]
  },
  {
   "cell_type": "code",
   "execution_count": 6,
   "metadata": {},
   "outputs": [],
   "source": [
    "import numpy as np; xp=np; allclose = np.allclose\n",
    "from matplotlib import pyplot as plt\n",
    "np.set_printoptions(edgeitems=30, linewidth=100000, formatter=dict(float=lambda x: \"%5.3g\" % x))"
   ]
  },
  {
   "cell_type": "markdown",
   "metadata": {},
   "source": [
    "### 0.1 Additional configuration\n",
    "\n",
    "The GPU accelerated solver is mandatory for this notebook."
   ]
  },
  {
   "cell_type": "code",
   "execution_count": 4,
   "metadata": {},
   "outputs": [
    {
     "name": "stdout",
     "output_type": "stream",
     "text": [
      "Replacing numpy with cupy, set to output 32bit ints and floats by default.\n",
      "Using cp.asarray(*,dtype=np.float32) as the default caster in ad.array.\n",
      "Setting dictIn.default_mode = 'gpu' in module agd.Eikonal .\n",
      "Returning a copy of module matplotlib.pyplot whose functions accept cupy arrays as input.\n",
      "Setting float32 compatible default values atol=rtol=1e-5 in np.allclose\n"
     ]
    }
   ],
   "source": [
    "xp,Eikonal,plt,allclose = [ad.cupy_friendly(e) for e in (xp,Eikonal,plt,allclose)]"
   ]
  },
  {
   "cell_type": "markdown",
   "metadata": {},
   "source": [
    "## 1. Projective plane\n",
    "\n"
   ]
  },
  {
   "cell_type": "markdown",
   "metadata": {},
   "source": [
    "### 1.1 Manifold description\n",
    "\n",
    "The projective plane is defined as the unit sphere, in which pairs of opposite points are identified.\n",
    "The `plane_to_sphere` map parametrizes the northern hemisphere from the equatorial disk, by projection from the south pole."
   ]
  },
  {
   "cell_type": "code",
   "execution_count": 8,
   "metadata": {},
   "outputs": [],
   "source": [
    "def chart_mapping(x): \n",
    "    \"\"\"\n",
    "    Glue map for the projective plane, as parameterized from the equator.\n",
    "    (Maps a point to the other point with which it identifies.)\n",
    "    \"\"\"    \n",
    "    return sphere_to_plane( - plane_to_sphere(x))"
   ]
  },
  {
   "cell_type": "markdown",
   "metadata": {},
   "source": [
    "The equatorial projection is conformal to the isotropic metric on the plane, with an explicit cost function."
   ]
  },
  {
   "cell_type": "code",
   "execution_count": 9,
   "metadata": {},
   "outputs": [],
   "source": [
    "def cost(x):\n",
    "    \"\"\"\n",
    "    Isotropic cost function for the projective plane, as parametrized from the equator.\n",
    "    \"\"\"\n",
    "    return 1/np.sqrt(1.+lp.dot_VV(x,x))"
   ]
  },
  {
   "cell_type": "markdown",
   "metadata": {},
   "source": [
    "### 1.2 Input to the library"
   ]
  },
  {
   "cell_type": "code",
   "execution_count": 10,
   "metadata": {},
   "outputs": [],
   "source": [
    "hfmIn = Eikonal.dictIn({\n",
    "    'model':'Isotropic2',\n",
    "    'seed':[0.5,0.7],\n",
    "    'exportValues':True,\n",
    "    'factoringRadius':10,\n",
    "})\n",
    "\n",
    "r=1.1\n",
    "hfmIn.SetRect([[-r,r],[-r,r]],dimx=101)\n",
    "X = hfmIn.Grid()\n",
    "\n",
    "hfmIn['cost']=cost(X)\n",
    "hfmIn.SetUniformTips((4,4))\n",
    "\n"
   ]
  },
  {
   "cell_type": "code",
   "execution_count": null,
   "metadata": {},
   "outputs": [],
   "source": []
  }
 ],
 "metadata": {
  "kernelspec": {
   "display_name": "Python 3",
   "language": "python",
   "name": "python3"
  },
  "language_info": {
   "codemirror_mode": {
    "name": "ipython",
    "version": 3
   },
   "file_extension": ".py",
   "mimetype": "text/x-python",
   "name": "python",
   "nbconvert_exporter": "python",
   "pygments_lexer": "ipython3",
   "version": "3.7.6"
  }
 },
 "nbformat": 4,
 "nbformat_minor": 4
}

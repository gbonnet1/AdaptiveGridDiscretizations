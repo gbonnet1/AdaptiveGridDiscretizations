{
 "cells": [
  {
   "cell_type": "markdown",
   "metadata": {},
   "source": [
    "# Adaptive PDE discretizations on cartesian grids\n",
    "## Volume : Algorithmic tools\n",
    "## Part : Tensor decomposition techniques\n",
    "## Chapter : Voronoi's reduction, in dimension 6, application to Hooke tensor decomposition\n",
    "\n",
    "We rely on Voronoi's first reduction of quadratic forms to decompose symmetric positive definite matrices in dimension $\\leq 6$, in a form which resembles the eigenvalue-eigenvector decomposition but with integer offsets:\n",
    "$$\n",
    "    D = \\sum_{1 \\leq i \\leq d'} \\rho_i e_i e_i^T\n",
    "$$\n",
    "where $d'=d(d+1)/2$ (except $d'=12$ in dimension $4$ in our implementation), $\\rho_i\\geq 0$, and $e_i \\in Z^d$.\n",
    "\n",
    "The six-dimensional case is especially interesting for its applications to the Hooke elasticity tensor in three dimensional elasticity. The approach is (very) unlikely to extend to higher dimensions (including dimension 7), in a computationally efficient manner, due to a combinatorial explosion in Voronoi's theory."
   ]
  },
  {
   "cell_type": "markdown",
   "metadata": {},
   "source": [
    "## 0. Importing the required libraries"
   ]
  },
  {
   "cell_type": "code",
   "execution_count": 1,
   "metadata": {},
   "outputs": [],
   "source": [
    "import sys; sys.path.insert(0,\"../..\") # Allow import of agd from parent directory (useless if conda package installed)\n",
    "#from Miscellaneous import TocTools; TocTools.displayTOC('TensorVoronoi','Algo')"
   ]
  },
  {
   "cell_type": "code",
   "execution_count": 35,
   "metadata": {},
   "outputs": [],
   "source": [
    "from agd import LinearParallel as lp\n",
    "from agd.Selling import GatherByOffset\n",
    "from agd import AutomaticDifferentiation as ad\n",
    "from agd.Metrics import Seismic\n",
    "from agd.Plotting import savefig; #savefig.dirName = 'Figures/TensorVoronoi'\n",
    "from agd.Metrics.misc import flatten_symmetric_matrix"
   ]
  },
  {
   "cell_type": "markdown",
   "metadata": {},
   "source": [
    "The routines for tensor decomposition are for efficiency purposes provided in a small c++ library, named FileVDQ where VDQ stands for \"Voronoi Decomposition of Quadratic forms\". This is in contrast with the two and three dimensional cases, where the decomposition algorithm is coded in Python (the c++ library can also be used in smaller dimensions). A function named `VoronoiDecomposition` provides the interface."
   ]
  },
  {
   "cell_type": "code",
   "execution_count": 3,
   "metadata": {},
   "outputs": [],
   "source": [
    "from agd.Eikonal import VoronoiDecomposition"
   ]
  },
  {
   "cell_type": "code",
   "execution_count": 4,
   "metadata": {},
   "outputs": [],
   "source": [
    "import numpy as np; allclose = np.allclose\n",
    "import matplotlib.pyplot as plt\n",
    "%matplotlib inline\n",
    "import time"
   ]
  },
  {
   "cell_type": "markdown",
   "metadata": {},
   "source": [
    "### 0.1 Optional configuration\n",
    "\n",
    "Uncomment the following line to use the GPU implementation of Voronoi's decomposition."
   ]
  },
  {
   "cell_type": "code",
   "execution_count": 5,
   "metadata": {
    "tags": [
     "EikonalGPU_config"
    ]
   },
   "outputs": [
    {
     "name": "stdout",
     "output_type": "stream",
     "text": [
      "Setting float32 compatible default values atol=rtol=1e-5 in np.allclose\n"
     ]
    }
   ],
   "source": [
    "VoronoiDecomposition.default_mode = 'gpu_transfer'; allclose = ad.cupy_friendly(allclose)"
   ]
  },
  {
   "cell_type": "markdown",
   "metadata": {},
   "source": [
    "Choose to use, or not, large instances by uncommenting the following line (computation time may become longer)."
   ]
  },
  {
   "cell_type": "code",
   "execution_count": 6,
   "metadata": {},
   "outputs": [],
   "source": [
    "large_instances = False"
   ]
  },
  {
   "cell_type": "markdown",
   "metadata": {},
   "source": [
    "## 1. Computing the decomposition of a tensor\n",
    "\n",
    "We illustrate our tensor decomposition method on random positive definite matrices, of the form \n",
    "$$\n",
    "    D = A^T A,\n",
    "$$\n",
    "where $A$ is a square matrix with random coefficients w.r.t. the Gaussian normal law."
   ]
  },
  {
   "cell_type": "code",
   "execution_count": 7,
   "metadata": {},
   "outputs": [],
   "source": [
    "def MakeRandomTensor(dim, shape=tuple(), relax=0.05):\n",
    "    A = np.random.standard_normal( (dim,dim) + shape )\n",
    "    D = lp.dot_AA(lp.transpose(A),A)\n",
    "    identity = np.eye(dim).reshape((dim,dim)+(1,)*len(shape))\n",
    "    return D+lp.trace(D)*relax*identity"
   ]
  },
  {
   "cell_type": "markdown",
   "metadata": {},
   "source": [
    "The inserse operation to tensor decomposition is, of course, reconstruction, defined by \n",
    "$$\n",
    "    (\\lambda_i, e_i)_{i=1}^I \\mapsto D = \\sum_{1 \\leq i \\leq I} \\lambda_i e_i e_i^T\n",
    "$$"
   ]
  },
  {
   "cell_type": "code",
   "execution_count": 8,
   "metadata": {},
   "outputs": [],
   "source": [
    "def Reconstruct(coefs,offsets):\n",
    "     return lp.mult(coefs,lp.outer_self(offsets)).sum(2)"
   ]
  },
  {
   "cell_type": "code",
   "execution_count": 9,
   "metadata": {},
   "outputs": [],
   "source": [
    "def LInfNorm(a):\n",
    "    return np.max(np.abs(a))"
   ]
  },
  {
   "cell_type": "markdown",
   "metadata": {},
   "source": [
    "### 1.1 Case of a $6\\times 6$ tensor"
   ]
  },
  {
   "cell_type": "code",
   "execution_count": 10,
   "metadata": {},
   "outputs": [],
   "source": [
    "np.random.seed(42) # Reproducibility\n",
    "D = MakeRandomTensor(6)"
   ]
  },
  {
   "cell_type": "markdown",
   "metadata": {},
   "source": [
    "The compile time can be quite long on GPU. The execution time may not be instantaneous either, especially on GPU."
   ]
  },
  {
   "cell_type": "code",
   "execution_count": 11,
   "metadata": {},
   "outputs": [],
   "source": [
    "coefs,offsets = VoronoiDecomposition(D)"
   ]
  },
  {
   "cell_type": "markdown",
   "metadata": {},
   "source": [
    "Our decomposition of a $6\\times 6$ symmetric positive definite matrix involves $21$ (non-negative) weights and (integral) offsets."
   ]
  },
  {
   "cell_type": "code",
   "execution_count": 12,
   "metadata": {},
   "outputs": [
    {
     "name": "stdout",
     "output_type": "stream",
     "text": [
      "Coefficients :  [0.06272522 0.17300802 0.23497277 0.25534138 0.33765554 0.37974864\n",
      " 0.43117049 0.43259385 0.51438046 0.56434208 0.59308726 0.69393462\n",
      " 1.10483932 1.20791483 1.57071912 1.61792779 1.70016479 1.71589744\n",
      " 1.77768147 2.50048923 6.47826099]\n",
      "Offsets : \n",
      " [[ 1  1  0  1  1  1  0  0  1  1  0  1  1  0  0  0  0  0  1  0  0]\n",
      " [ 1  0  1  0  0 -1  1  1  0  0  1  0  1  0  1  0  0  0  0  0  1]\n",
      " [ 0 -1  0 -1  0  0 -1  0  0  0  1  0 -1  1  1  1  0  1  0  0  0]\n",
      " [ 1  0  0  1  1  1  0  0  1  1  0  0  0  1  0  0  0  0  0  1  0]\n",
      " [ 0 -1  0 -1  0 -1  0  1 -1  0  1  0  0  0  1  0  0  0  0  0  0]\n",
      " [ 0  0 -1  0  1  1  0  0  0  0 -1  1  0  0  0 -1  1  0  0  0  0]]\n"
     ]
    }
   ],
   "source": [
    "print(\"Coefficients : \", coefs)\n",
    "print(\"Offsets : \\n\", offsets.astype(int))"
   ]
  },
  {
   "cell_type": "markdown",
   "metadata": {},
   "source": [
    "By design, the coefficients are non-negative, and the reconstruction is exact up to numerical precision."
   ]
  },
  {
   "cell_type": "code",
   "execution_count": 13,
   "metadata": {},
   "outputs": [
    {
     "name": "stdout",
     "output_type": "stream",
     "text": [
      "Minimal coefficient :  0.06272521615028381\n",
      "Reconstruction error :  2.5517233179783716e-06\n"
     ]
    }
   ],
   "source": [
    "print(\"Minimal coefficient : \", np.min(coefs))\n",
    "print(\"Reconstruction error : \", LInfNorm(D-Reconstruct(coefs,offsets)))\n",
    "assert np.allclose(D,Reconstruct(coefs,offsets))"
   ]
  },
  {
   "cell_type": "markdown",
   "metadata": {},
   "source": [
    "### 1.2 A family of tensors\n",
    "\n",
    "As we interpolate between two tensors, the coefficients and the offsets vary. In the present implementation the coefficients may vary discontinuously, due to the non-uniqueness of Voronoi's. It is in principle possible to fix this issue, as in the $4$ and $5$ dimensional cases, and obtain a decomposition with Lipschitz regularity w.r.t the metric, by using an appropriate selection criterion."
   ]
  },
  {
   "cell_type": "code",
   "execution_count": 14,
   "metadata": {},
   "outputs": [],
   "source": [
    "def Interpolate(a,b,T=np.linspace(0,1,100)):\n",
    "    return T, np.moveaxis(np.array([(1-t)*a + t*b for t in T]),0,-1)"
   ]
  },
  {
   "cell_type": "code",
   "execution_count": 15,
   "metadata": {},
   "outputs": [],
   "source": [
    "T_interp, D_interp = Interpolate(MakeRandomTensor(6),MakeRandomTensor(6))"
   ]
  },
  {
   "cell_type": "code",
   "execution_count": 16,
   "metadata": {},
   "outputs": [],
   "source": [
    "np.random.seed(43)\n",
    "a,b = MakeRandomTensor(6),MakeRandomTensor(6)\n",
    "t1,t2=0.8,0.85\n",
    "T_interp, D_interp = Interpolate(a*(1-t1)+b*t1, a*(1-t2)+b*t2)\n",
    "#T_interp, D_interp = Interpolate(MakeRandomTensor(6),MakeRandomTensor(6))"
   ]
  },
  {
   "cell_type": "code",
   "execution_count": 17,
   "metadata": {},
   "outputs": [
    {
     "name": "stdout",
     "output_type": "stream",
     "text": [
      "Wall time: 138 ms\n"
     ]
    }
   ],
   "source": [
    "%%time\n",
    "coefs,offsets = VoronoiDecomposition(D_interp)"
   ]
  },
  {
   "cell_type": "code",
   "execution_count": 18,
   "metadata": {},
   "outputs": [
    {
     "data": {
      "text/plain": [
       "array([[ 1,  0, -1, -1,  0,  0],\n",
       "       [ 0,  0,  0,  1,  1,  0],\n",
       "       [ 0,  0,  0,  1,  0,  1],\n",
       "       [ 0,  1, -1,  0,  0,  0],\n",
       "       [ 1, -1,  0, -1,  0,  0],\n",
       "       [ 1,  0,  0, -1,  0,  0],\n",
       "       [ 0,  0,  1,  1,  0,  0],\n",
       "       [ 0,  0,  0,  1,  1,  1],\n",
       "       [ 1, -1,  0, -1,  0, -1],\n",
       "       [ 0,  1, -1,  0,  0,  1],\n",
       "       [ 1, -1,  0,  0,  0,  0],\n",
       "       [ 0,  0,  1,  0, -1,  0],\n",
       "       [ 0,  0,  1,  0,  0,  0],\n",
       "       [ 0,  1,  0,  0,  0,  1],\n",
       "       [ 0,  0,  0,  0,  0,  1],\n",
       "       [ 1,  0,  0, -1, -1,  0],\n",
       "       [ 0,  0,  0,  1,  0,  0],\n",
       "       [ 0,  1,  0,  0, -1,  0],\n",
       "       [ 0,  0,  0,  0,  1,  0],\n",
       "       [ 0,  1,  0,  0,  0,  0],\n",
       "       [ 1,  0,  0,  0,  0,  0]], dtype=int64)"
      ]
     },
     "execution_count": 18,
     "metadata": {},
     "output_type": "execute_result"
    }
   ],
   "source": [
    "offsets[:,:,0].T"
   ]
  },
  {
   "cell_type": "code",
   "execution_count": 19,
   "metadata": {},
   "outputs": [
    {
     "name": "stdout",
     "output_type": "stream",
     "text": [
      "Reconstruction error :  1.775266276382581e-05\n"
     ]
    }
   ],
   "source": [
    "print(\"Reconstruction error : \", LInfNorm(D_interp - Reconstruct(coefs,offsets)))\n",
    "assert np.allclose(D_interp, Reconstruct(coefs,offsets),atol=1e-5)"
   ]
  },
  {
   "cell_type": "code",
   "execution_count": 20,
   "metadata": {},
   "outputs": [],
   "source": [
    "decomp = GatherByOffset(T_interp,coefs,offsets)"
   ]
  },
  {
   "cell_type": "code",
   "execution_count": 21,
   "metadata": {},
   "outputs": [
    {
     "data": {
      "image/png": "[encoded data removed]",
      "text/plain": [
       "<Figure size 1440x720 with 1 Axes>"
      ]
     },
     "metadata": {
      "needs_background": "light"
     },
     "output_type": "display_data"
    }
   ],
   "source": [
    "fig = plt.figure(figsize=(20,10))\n",
    "for offset,(t,coef) in decomp.items():\n",
    "    plt.plot(t,coef)\n",
    "plt.legend(decomp.keys(),ncol=3)\n",
    "savefig(fig,\"Coefs_Vor4.pdf\")"
   ]
  },
  {
   "cell_type": "markdown",
   "metadata": {},
   "source": [
    "### 1.3 Case of a field of tensors\n",
    "\n",
    "On the CPU, the decomposition time increases linearly with the number of tensors.\n",
    "On the GPU, the decomposition runs on a single thread, and there e.g. $2560$ of them on a nvidia $1080$ class card. \n",
    "Therefore time is rather insensitive to the number of tensors until that number is reached.\n",
    "\n",
    "The GPU based Voronoi decomposition is approximately $100$ times faster than the CPU based one (except on the first call on a given machine, where JIT compilation takes a little while). However, it is also less stable, since it uses single precision scalars. \n",
    "\n",
    "<!--- This needs to be sorted out. One possibility would be to make a second call using double precision for the few tensors which were not correctly decomposed. Another approach is to try debug the code.--->\n",
    "\n",
    "<!---\n",
    "**Note on CPU/GPU computation time**\n",
    "Computation time is dominated ($90\\%$) by the solution of a linear problem, with 15 variables and 36 constraints. \n",
    "Currently this is done using the following algorithm:\n",
    "\n",
    "* Academic paper : Seidel, R. (1991), \"Small-dimensional linear programming and convex hulls made easy\", Discrete & Computational Geometry 6 (1): 423–434, doi:10.1007/BF02574699\n",
    "* Source code : https://github.com/cgrushko/seidel-lp-solver\n",
    "\n",
    "This algorithm appears not to be well adapted to the task at hand, since it is mostly intended for linear programs in dimension $<10$, and its complexity grows exponentially with the dimension. Also, the GPU seems not to like it (lots of branching).\n",
    "--->\n",
    "\n",
    "<!---In the current implementation, the GPU code appears to be quite slow, in addition to being less stable due to the use of single-precision floating point variables. A multi-threaded CPU implementation--->"
   ]
  },
  {
   "cell_type": "code",
   "execution_count": 22,
   "metadata": {},
   "outputs": [],
   "source": [
    "def decomp_time(n):\n",
    "    np.random.seed(42)\n",
    "    D = MakeRandomTensor(6,(n,))\n",
    "    start = time.time()\n",
    "    coefs,offsets = VoronoiDecomposition(D)\n",
    "    print(f\"Decomposition of {n} matrices completed in {time.time()-start} seconds\")\n",
    "    print(\"Tensor shape: \",D.shape,\", max reconstruction error : \",np.max(np.abs(D-Reconstruct(coefs,offsets))))\n",
    "#    assert allclose(D,Reconstruct(coefs,offsets))\n",
    "    return D,coefs,offsets"
   ]
  },
  {
   "cell_type": "code",
   "execution_count": 23,
   "metadata": {},
   "outputs": [
    {
     "name": "stdout",
     "output_type": "stream",
     "text": [
      "Decomposition of 10 matrices completed in 0.17852067947387695 seconds\n",
      "Tensor shape:  (6, 6, 10) , max reconstruction error :  1.641055172640904e-05\n"
     ]
    }
   ],
   "source": [
    "decomp_time(10);"
   ]
  },
  {
   "cell_type": "code",
   "execution_count": 24,
   "metadata": {},
   "outputs": [
    {
     "name": "stdout",
     "output_type": "stream",
     "text": [
      "Decomposition of 100 matrices completed in 0.19947314262390137 seconds\n",
      "Tensor shape:  (6, 6, 100) , max reconstruction error :  8.573952663581963e-05\n"
     ]
    }
   ],
   "source": [
    "decomp_time(100);"
   ]
  },
  {
   "cell_type": "code",
   "execution_count": 25,
   "metadata": {},
   "outputs": [
    {
     "name": "stdout",
     "output_type": "stream",
     "text": [
      "Decomposition of 1000 matrices completed in 0.22001242637634277 seconds\n",
      "Tensor shape:  (6, 6, 1000) , max reconstruction error :  0.00025845178100425414\n"
     ]
    }
   ],
   "source": [
    "decomp_time(1000);"
   ]
  },
  {
   "cell_type": "markdown",
   "metadata": {},
   "source": [
    "On the GPU, decomposition time should be mostly insensitive to $n\\leq 2500$, and scale linearly with $n$ beyond that limit. \n",
    "\n",
    "<!---\n",
    "TODO : investigate this GPU failure, which is probably due to roundoff errors.\n",
    "Decomposition of 10000 matrices completed in 73.4375216960907 seconds\n",
    "Tensor shape:  (6, 6, 10000) , max reconstruction error :  7.562082901426454\n",
    "\n",
    "CPU does not fail here.\n",
    "Decomposition of 10000 matrices completed in 340.8524580001831 seconds\n",
    "Tensor shape:  (6, 6, 10000) , max reconstruction error :  5.329070518200751e-13\n",
    "--->"
   ]
  },
  {
   "cell_type": "code",
   "execution_count": 57,
   "metadata": {},
   "outputs": [],
   "source": [
    "if large_instances: decomp_time(10000)"
   ]
  },
  {
   "cell_type": "code",
   "execution_count": 31,
   "metadata": {},
   "outputs": [
    {
     "name": "stdout",
     "output_type": "stream",
     "text": [
      "Decomposition of 20000 matrices completed in 0.9735245704650879 seconds\n",
      "Tensor shape:  (6, 6, 20000) , max reconstruction error :  nan\n"
     ]
    }
   ],
   "source": [
    "D,coefs,offsets = decomp_time(20000)"
   ]
  },
  {
   "cell_type": "markdown",
   "metadata": {},
   "source": [
    "### 1.4 Instability ?"
   ]
  },
  {
   "cell_type": "code",
   "execution_count": 32,
   "metadata": {},
   "outputs": [
    {
     "data": {
      "text/plain": [
       "(array([ 7486, 12279], dtype=int64),)"
      ]
     },
     "execution_count": 32,
     "metadata": {},
     "output_type": "execute_result"
    }
   ],
   "source": [
    "np.where(np.isnan(coefs.sum(axis=0)))"
   ]
  },
  {
   "cell_type": "code",
   "execution_count": 37,
   "metadata": {},
   "outputs": [
    {
     "data": {
      "text/plain": [
       "(array([21.92152281,  9.3357373 ,  7.72133237,  6.5977878 ,  1.9145782 ,\n",
       "         2.12972137]),\n",
       " array([ 6.95255701e+00, -5.32955745e-05,  6.36550503e+00,  2.33353892e-01,\n",
       "        -1.94225749e+00,  6.05378390e+00, -2.91289668e+00, -2.94573144e-01,\n",
       "         7.91077326e-01,  4.79205128e+00, -2.59653744e+00, -1.54813241e+00,\n",
       "        -2.31489840e+00,  2.69341502e+00,  1.07374178e+01, -2.60258808e-01,\n",
       "         1.16571279e+00, -1.01770205e+00,  3.38064740e+00,  7.11701412e+00,\n",
       "         1.47193648e+01]))"
      ]
     },
     "execution_count": 37,
     "metadata": {},
     "output_type": "execute_result"
    }
   ],
   "source": [
    "DTest = D[:,:,12279]\n",
    "np.linalg.eigvals(DTest),flatten_symmetric_matrix(DTest)"
   ]
  },
  {
   "cell_type": "code",
   "execution_count": 78,
   "metadata": {},
   "outputs": [
    {
     "name": "stdout",
     "output_type": "stream",
     "text": [
      "Help on function VoronoiDecomposition in module agd.Eikonal:\n",
      "\n",
      "VoronoiDecomposition(arr, mode=None, *args, **kwargs)\n",
      "    Calls the FileVDQ library to decompose the provided quadratic form(s),\n",
      "    as based on Voronoi's first reduction of quadratic forms.\n",
      "    - mode : 'cpu' or 'gpu'. Defaults to VoronoiDecomposition.default_mode\n",
      "    - args,kwargs : passed to gpu decomposition method\n",
      "\n"
     ]
    }
   ],
   "source": [
    "help(VoronoiDecomposition)"
   ]
  },
  {
   "cell_type": "code",
   "execution_count": 38,
   "metadata": {},
   "outputs": [
    {
     "data": {
      "text/plain": [
       "(array([ inf,  nan, -inf,   0.,   0.,  nan,   0.,   0.,   0.,  inf,  inf,\n",
       "         nan,  inf,  nan,   0.,  inf,  inf,  nan, -inf,   0.,  nan]),\n",
       " array([[ 0,  0,  1,  1,  0,  1,  1,  1,  0,  0,  1,  0,  1,  0,  1,  0,\n",
       "          0,  1,  0,  1,  1],\n",
       "        [ 1,  1,  0,  1,  0,  0,  1,  1,  0,  1,  0,  0,  0,  1,  1,  0,\n",
       "          0,  0,  1,  0,  0],\n",
       "        [ 0, -1,  0,  0,  0,  1, -1, -1,  1, -1,  0,  0,  0,  0,  0,  0,\n",
       "          1,  0,  0,  0, -1],\n",
       "        [ 0, -1,  0,  0,  0,  0,  0, -1,  1,  0, -1,  0,  0,  0,  0,  1,\n",
       "          0, -1,  0,  0, -1],\n",
       "        [ 0,  0,  0, -1,  1, -1,  0,  0,  0,  0, -1,  0,  0, -1,  0,  0,\n",
       "         -1,  0,  0, -1,  0],\n",
       "        [ 0,  0,  0,  0,  0,  0,  1,  0,  0,  1, -1,  1,  1,  0,  1,  0,\n",
       "          0,  0,  1,  0,  0]], dtype=int64))"
      ]
     },
     "execution_count": 38,
     "metadata": {},
     "output_type": "execute_result"
    }
   ],
   "source": [
    "VoronoiDecomposition(DTest)"
   ]
  },
  {
   "cell_type": "markdown",
   "metadata": {},
   "source": [
    "### 2. Case of a Hooke tensor\n",
    "\n",
    "The hooke tensor is a $(3,3,3,3)$ shaped tensor characterizing the elastic properties of a physical medium.\n",
    "It has various symmetries, and can be regarded as a quadratic form on the space of $6 \\times 6$ symmetric matrices."
   ]
  },
  {
   "cell_type": "code",
   "execution_count": 144,
   "metadata": {},
   "outputs": [],
   "source": [
    "hooke,ρ = Seismic.Hooke.mica # Hooke tensor of the mica medium, vertically aligned\n",
    "hooke = hooke.rotate_by(0.5, (1,2,3)) # Rotate around some arbitrary axis"
   ]
  },
  {
   "cell_type": "code",
   "execution_count": 145,
   "metadata": {},
   "outputs": [
    {
     "name": "stdout",
     "output_type": "stream",
     "text": [
      "offset_norm2_,priority (1,2)(3,20)(2,6)(5,26)(4,22)(2,9)(1,0)(6,30)(3,16)(3,18)(8,35)(7,34)(5,27)(2,8)(3,12)(7,33)(4,21)(3,19)(4,25)(4,24)(5,28)(2,7)(3,14)(6,31)(3,15)(3,11)(2,4)(2,10)(3,17)(6,32)(2,5)(3,13)(1,3)(4,23)(5,29)(1,1)\n",
      "Value of the linear program -5.76262\n",
      "state.vertex2\n"
     ]
    }
   ],
   "source": [
    "coefs,moffsets = hooke.Selling()"
   ]
  },
  {
   "cell_type": "markdown",
   "metadata": {},
   "source": [
    "The quadratic form defined by the Hooke tensor is reformulated, using Voronoi's decomposition, in the form\n",
    "$$\n",
    "    \\sum_{1 \\leq i \\leq d'} \\rho_i \\mathrm{Tr}(M D_i)^2\n",
    "$$\n",
    "where $d'=21$, $\\rho_i\\geq 0$, $D_i$ is a $3 \\times 3$ symmetric matrix with integer entries.\n",
    "\n",
    "The matrices $D_i$ usually have rather small entries within $-2,...,2$, since the the Hooke tensor associated with physical materials is not too large."
   ]
  },
  {
   "cell_type": "code",
   "execution_count": 148,
   "metadata": {},
   "outputs": [
    {
     "data": {
      "text/plain": [
       "array([ 24.4      ,  24.4      ,  52.3970675, 135.6      , 135.6      ,\n",
       "       222.9029325])"
      ]
     },
     "execution_count": 148,
     "metadata": {},
     "output_type": "execute_result"
    }
   ],
   "source": [
    "np.linalg.eigvalsh(hooke.to_Mandel()) # Eigenvalues of the Mandel form (rotation invariant)"
   ]
  },
  {
   "cell_type": "code",
   "execution_count": 149,
   "metadata": {},
   "outputs": [
    {
     "name": "stdout",
     "output_type": "stream",
     "text": [
      "Coefficients ρ_i :  [  0.19785622   0.73867623   1.28421131   1.84331979   2.3655976\n",
      "   2.63328284   2.66900612   2.83550192   3.09899899   4.88484138\n",
      "   5.11617677   5.17007954   5.4538333    5.4885592    8.98090467\n",
      "  11.41825148  17.5386092   23.20832892  34.13150106  64.72591257\n",
      " 130.29715545]\n",
      "Matrix offsets D_i : \n",
      " [[[ 1  1  0]\n",
      "  [ 1  0 -1]\n",
      "  [ 0 -1  1]]\n",
      "\n",
      " [[ 1  0 -1]\n",
      "  [ 0  0  0]\n",
      "  [-1  0 -1]]\n",
      "\n",
      " [[ 1 -1 -1]\n",
      "  [-1  0  0]\n",
      "  [-1  0  0]]\n",
      "\n",
      " [[ 2 -1 -1]\n",
      "  [-1  1  1]\n",
      "  [-1  1  0]]\n",
      "\n",
      " [[ 1  1  0]\n",
      "  [ 1  0 -1]\n",
      "  [ 0 -1  0]]\n",
      "\n",
      " [[ 0 -1  0]\n",
      "  [-1  0  0]\n",
      "  [ 0  0  1]]\n",
      "\n",
      " [[ 0  0  0]\n",
      "  [ 0  1  1]\n",
      "  [ 0  1  0]]\n",
      "\n",
      " [[ 1  0  0]\n",
      "  [ 0  1  0]\n",
      "  [ 0  0  0]]\n",
      "\n",
      " [[ 2  0 -1]\n",
      "  [ 0  0  0]\n",
      "  [-1  0  0]]\n",
      "\n",
      " [[ 0 -1  0]\n",
      "  [-1  0  1]\n",
      "  [ 0  1  0]]\n",
      "\n",
      " [[ 1  1  0]\n",
      "  [ 1  1  0]\n",
      "  [ 0  0  0]]\n",
      "\n",
      " [[ 0  1  0]\n",
      "  [ 1  1  0]\n",
      "  [ 0  0  0]]\n",
      "\n",
      " [[ 2  0 -1]\n",
      "  [ 0  1  0]\n",
      "  [-1  0  0]]\n",
      "\n",
      " [[ 0 -1  0]\n",
      "  [-1  1  1]\n",
      "  [ 0  1  0]]\n",
      "\n",
      " [[ 1  0  0]\n",
      "  [ 0  0  0]\n",
      "  [ 0  0  1]]\n",
      "\n",
      " [[ 1  0 -1]\n",
      "  [ 0  0  0]\n",
      "  [-1  0  0]]\n",
      "\n",
      " [[ 1  0  0]\n",
      "  [ 0  1  0]\n",
      "  [ 0  0  1]]\n",
      "\n",
      " [[ 0  0  0]\n",
      "  [ 0  0  0]\n",
      "  [ 0  0  1]]\n",
      "\n",
      " [[ 0  1  0]\n",
      "  [ 1  0  0]\n",
      "  [ 0  0  0]]\n",
      "\n",
      " [[ 1  0  0]\n",
      "  [ 0  0  0]\n",
      "  [ 0  0  0]]\n",
      "\n",
      " [[ 0  0  0]\n",
      "  [ 0  1  0]\n",
      "  [ 0  0  0]]]\n"
     ]
    }
   ],
   "source": [
    "print(\"Coefficients ρ_i : \",coefs)\n",
    "print(\"Matrix offsets D_i : \\n\",np.moveaxis(moffsets,-1,0).astype(int))"
   ]
  },
  {
   "cell_type": "markdown",
   "metadata": {},
   "source": [
    "# 2. Under the hood, Voronoi's first reduction \n",
    "\n",
    "\n",
    "\n",
    "<!---\n",
    "np.random.seed(42)\n",
    "m = MakeRandomTensor(3)\n",
    "\n",
    "2 1\n",
    "21 1\n",
    "23 1\n",
    "39 1\n",
    "40 1\n",
    "43 1\n",
    "75 1\n",
    "82 1\n",
    "83 1\n",
    "97 5\n",
    "99 1\n",
    "114 1\n",
    "122 1\n",
    "131 1\n",
    "135 1\n",
    "145 1\n",
    "154 5\n",
    "162 1\n",
    "184 5\n",
    "186 1\n",
    "198 3\n",
    "201 1\n",
    "205 1\n",
    "217 1\n",
    "218 1\n",
    "235 1\n",
    "237 1\n",
    "255 4\n",
    "261 1\n",
    "268 5\n",
    "273 1\n",
    "279 1\n",
    "284 1\n",
    "286 3\n",
    "298 1\n",
    "--->"
   ]
  },
  {
   "cell_type": "code",
   "execution_count": null,
   "metadata": {},
   "outputs": [],
   "source": []
  }
 ],
 "metadata": {
  "kernelspec": {
   "display_name": "Python 3",
   "language": "python",
   "name": "python3"
  },
  "language_info": {
   "codemirror_mode": {
    "name": "ipython",
    "version": 3
   },
   "file_extension": ".py",
   "mimetype": "text/x-python",
   "name": "python",
   "nbconvert_exporter": "python",
   "pygments_lexer": "ipython3",
   "version": "3.7.6"
  }
 },
 "nbformat": 4,
 "nbformat_minor": 4
}

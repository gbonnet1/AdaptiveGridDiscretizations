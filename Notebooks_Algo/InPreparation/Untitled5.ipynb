{
 "cells": [
  {
   "cell_type": "code",
   "execution_count": 1,
   "metadata": {},
   "outputs": [],
   "source": [
    "import numpy as np"
   ]
  },
  {
   "cell_type": "code",
   "execution_count": 2,
   "metadata": {},
   "outputs": [],
   "source": [
    "import matplotlib.pyplot as plt\n",
    "import inspect"
   ]
  },
  {
   "cell_type": "code",
   "execution_count": 4,
   "metadata": {},
   "outputs": [
    {
     "name": "stdout",
     "output_type": "stream",
     "text": [
      "@docstring.copy(Axes.streamplot)\n",
      "def streamplot(\n",
      "        x, y, u, v, density=1, linewidth=None, color=None, cmap=None,\n",
      "        norm=None, arrowsize=1, arrowstyle='-|>', minlength=0.1,\n",
      "        transform=None, zorder=None, start_points=None, maxlength=4.0,\n",
      "        integration_direction='both', *, data=None):\n",
      "    __ret = gca().streamplot(\n",
      "        x, y, u, v, density=density, linewidth=linewidth, color=color,\n",
      "        cmap=cmap, norm=norm, arrowsize=arrowsize,\n",
      "        arrowstyle=arrowstyle, minlength=minlength,\n",
      "        transform=transform, zorder=zorder, start_points=start_points,\n",
      "        maxlength=maxlength,\n",
      "        integration_direction=integration_direction, **({\"data\": data}\n",
      "        if data is not None else {}))\n",
      "    sci(__ret.lines)\n",
      "    return __ret\n",
      "\n"
     ]
    }
   ],
   "source": [
    "print(inspect.getsource(plt.streamplot))"
   ]
  },
  {
   "cell_type": "markdown",
   "metadata": {},
   "source": [
    "***Installing the AdaptiveGridDiscretizations (AGD) library.*** This notebook requires that the AGD library is available on your computer. You may install it using *Anaconda*, using *Pip*, or rely on a *local copy on your computer*. For that purpose, you may uncomment one of the lines in the following cell."
   ]
  },
  {
   "cell_type": "code",
   "execution_count": 12,
   "metadata": {},
   "outputs": [],
   "source": [
    "#!conda install agd -c agd-lbr      # Install the AGD library via Anaconda\n",
    "#!pip install agd                   # Install the AGD library via pip (required on Google Colab)\n",
    "import sys; sys.path.insert(0,\"..\") # Use a copy of the AGD library stored in the parent directory"
   ]
  },
  {
   "cell_type": "markdown",
   "metadata": {},
   "source": [
    "***Installing the HamiltonFastMarching (HFM) library.*** In order to use the CPU eikonal solver, `eikonal_mode=\"cpu\"`, the HFM library needs to be available on your computer. For that purpose, you may uncomment one of the lines in the following cell. Nothing needs to be done for the gpu eikonal solver, `eikonal_mode=\"gpu\"`, which is included in the AGD library, or to use a local copy."
   ]
  },
  {
   "cell_type": "code",
   "execution_count": 14,
   "metadata": {},
   "outputs": [],
   "source": [
    "## DO NOTHING if eikonal_mode=\"gpu\"\n",
    "## DO NOTHING if the HFM library is compiled from source on your computer\n",
    "#!conda install hfm -c agd-lbr # Install the HFM library via Anaconda"
   ]
  },
  {
   "cell_type": "code",
   "execution_count": 8,
   "metadata": {},
   "outputs": [
    {
     "name": "stdout",
     "output_type": "stream",
     "text": [
      "def streamplot(axes, x, y, u, v, density=1, linewidth=None, color=None,\n",
      "               cmap=None, norm=None, arrowsize=1, arrowstyle='-|>',\n",
      "               minlength=0.1, transform=None, zorder=None, start_points=None,\n",
      "               maxlength=4.0, integration_direction='both'):\n",
      "    \"\"\"\n",
      "    Draw streamlines of a vector flow.\n",
      "\n",
      "    Parameters\n",
      "    ----------\n",
      "    x, y : 1D arrays\n",
      "        An evenly spaced grid.\n",
      "    u, v : 2D arrays\n",
      "        *x* and *y*-velocities. The number of rows and columns must match\n",
      "        the length of *y* and *x*, respectively.\n",
      "    density : float or (float, float)\n",
      "        Controls the closeness of streamlines. When ``density = 1``, the domain\n",
      "        is divided into a 30x30 grid. *density* linearly scales this grid.\n",
      "        Each cell in the grid can have, at most, one traversing streamline.\n",
      "        For different densities in each direction, use a tuple\n",
      "        (density_x, density_y).\n",
      "    linewidth : float or 2D array\n",
      "        The width of the stream lines. With a 2D array the line width can be\n",
      "        varied across the grid. The array must have the same shape as *u*\n",
      "        and *v*.\n",
      "    color : matplotlib color code, or 2D array\n",
      "        The streamline color. If given an array, its values are converted to\n",
      "        colors using *cmap* and *norm*.  The array must have the same shape\n",
      "        as *u* and *v*.\n",
      "    cmap : `~matplotlib.colors.Colormap`\n",
      "        Colormap used to plot streamlines and arrows. This is only used if\n",
      "        *color* is an array.\n",
      "    norm : `~matplotlib.colors.Normalize`\n",
      "        Normalize object used to scale luminance data to 0, 1. If ``None``,\n",
      "        stretch (min, max) to (0, 1). This is only used if *color* is an array.\n",
      "    arrowsize : float\n",
      "        Scaling factor for the arrow size.\n",
      "    arrowstyle : str\n",
      "        Arrow style specification.\n",
      "        See `~matplotlib.patches.FancyArrowPatch`.\n",
      "    minlength : float\n",
      "        Minimum length of streamline in axes coordinates.\n",
      "    start_points : Nx2 array\n",
      "        Coordinates of starting points for the streamlines in data coordinates\n",
      "        (the same coordinates as the *x* and *y* arrays).\n",
      "    zorder : int\n",
      "        The zorder of the stream lines and arrows.\n",
      "        Artists with lower zorder values are drawn first.\n",
      "    maxlength : float\n",
      "        Maximum length of streamline in axes coordinates.\n",
      "    integration_direction : {'forward', 'backward', 'both'}\n",
      "        Integrate the streamline in forward, backward or both directions.\n",
      "        default is ``'both'``.\n",
      "\n",
      "    Returns\n",
      "    -------\n",
      "    stream_container : StreamplotSet\n",
      "        Container object with attributes\n",
      "\n",
      "        - ``lines``: `.LineCollection` of streamlines\n",
      "\n",
      "        - ``arrows``: `.PatchCollection` containing `.FancyArrowPatch`\n",
      "          objects representing the arrows half-way along stream lines.\n",
      "\n",
      "        This container will probably change in the future to allow changes\n",
      "        to the colormap, alpha, etc. for both lines and arrows, but these\n",
      "        changes should be backward compatible.\n",
      "    \"\"\"\n",
      "    grid = Grid(x, y)\n",
      "    mask = StreamMask(density)\n",
      "    dmap = DomainMap(grid, mask)\n",
      "\n",
      "    if zorder is None:\n",
      "        zorder = mlines.Line2D.zorder\n",
      "\n",
      "    # default to data coordinates\n",
      "    if transform is None:\n",
      "        transform = axes.transData\n",
      "\n",
      "    if color is None:\n",
      "        color = axes._get_lines.get_next_color()\n",
      "\n",
      "    if linewidth is None:\n",
      "        linewidth = matplotlib.rcParams['lines.linewidth']\n",
      "\n",
      "    line_kw = {}\n",
      "    arrow_kw = dict(arrowstyle=arrowstyle, mutation_scale=10 * arrowsize)\n",
      "\n",
      "    if integration_direction not in ['both', 'forward', 'backward']:\n",
      "        errstr = (\"Integration direction '%s' not recognised. \"\n",
      "                  \"Expected 'both', 'forward' or 'backward'.\" %\n",
      "                  integration_direction)\n",
      "        raise ValueError(errstr)\n",
      "\n",
      "    if integration_direction == 'both':\n",
      "        maxlength /= 2.\n",
      "\n",
      "    use_multicolor_lines = isinstance(color, np.ndarray)\n",
      "    if use_multicolor_lines:\n",
      "        if color.shape != grid.shape:\n",
      "            raise ValueError(\n",
      "                \"If 'color' is given, must have the shape of 'Grid(x,y)'\")\n",
      "        line_colors = []\n",
      "        color = np.ma.masked_invalid(color)\n",
      "    else:\n",
      "        line_kw['color'] = color\n",
      "        arrow_kw['color'] = color\n",
      "\n",
      "    if isinstance(linewidth, np.ndarray):\n",
      "        if linewidth.shape != grid.shape:\n",
      "            raise ValueError(\n",
      "                \"If 'linewidth' is given, must have the shape of 'Grid(x,y)'\")\n",
      "        line_kw['linewidth'] = []\n",
      "    else:\n",
      "        line_kw['linewidth'] = linewidth\n",
      "        arrow_kw['linewidth'] = linewidth\n",
      "\n",
      "    line_kw['zorder'] = zorder\n",
      "    arrow_kw['zorder'] = zorder\n",
      "\n",
      "    ## Sanity checks.\n",
      "    if u.shape != grid.shape or v.shape != grid.shape:\n",
      "        raise ValueError(\"'u' and 'v' must be of shape 'Grid(x,y)'\")\n",
      "\n",
      "    u = np.ma.masked_invalid(u)\n",
      "    v = np.ma.masked_invalid(v)\n",
      "\n",
      "    integrate = get_integrator(u, v, dmap, minlength, maxlength,\n",
      "                               integration_direction)\n",
      "\n",
      "    trajectories = []\n",
      "    if start_points is None:\n",
      "        for xm, ym in _gen_starting_points(mask.shape):\n",
      "            if mask[ym, xm] == 0:\n",
      "                xg, yg = dmap.mask2grid(xm, ym)\n",
      "                t = integrate(xg, yg)\n",
      "                if t is not None:\n",
      "                    trajectories.append(t)\n",
      "    else:\n",
      "        sp2 = np.asanyarray(start_points, dtype=float).copy()\n",
      "\n",
      "        # Check if start_points are outside the data boundaries\n",
      "        for xs, ys in sp2:\n",
      "            if not (grid.x_origin <= xs <= grid.x_origin + grid.width\n",
      "                    and grid.y_origin <= ys <= grid.y_origin + grid.height):\n",
      "                raise ValueError(\"Starting point ({}, {}) outside of data \"\n",
      "                                 \"boundaries\".format(xs, ys))\n",
      "\n",
      "        # Convert start_points from data to array coords\n",
      "        # Shift the seed points from the bottom left of the data so that\n",
      "        # data2grid works properly.\n",
      "        sp2[:, 0] -= grid.x_origin\n",
      "        sp2[:, 1] -= grid.y_origin\n",
      "\n",
      "        for xs, ys in sp2:\n",
      "            xg, yg = dmap.data2grid(xs, ys)\n",
      "            t = integrate(xg, yg)\n",
      "            if t is not None:\n",
      "                trajectories.append(t)\n",
      "\n",
      "    if use_multicolor_lines:\n",
      "        if norm is None:\n",
      "            norm = mcolors.Normalize(color.min(), color.max())\n",
      "        if cmap is None:\n",
      "            cmap = cm.get_cmap(matplotlib.rcParams['image.cmap'])\n",
      "        else:\n",
      "            cmap = cm.get_cmap(cmap)\n",
      "\n",
      "    streamlines = []\n",
      "    arrows = []\n",
      "    for t in trajectories:\n",
      "        tgx = np.array(t[0])\n",
      "        tgy = np.array(t[1])\n",
      "        # Rescale from grid-coordinates to data-coordinates.\n",
      "        tx, ty = dmap.grid2data(*np.array(t))\n",
      "        tx += grid.x_origin\n",
      "        ty += grid.y_origin\n",
      "\n",
      "        points = np.transpose([tx, ty]).reshape(-1, 1, 2)\n",
      "        streamlines.extend(np.hstack([points[:-1], points[1:]]))\n",
      "\n",
      "        # Add arrows half way along each trajectory.\n",
      "        s = np.cumsum(np.hypot(np.diff(tx), np.diff(ty)))\n",
      "        n = np.searchsorted(s, s[-1] / 2.)\n",
      "        arrow_tail = (tx[n], ty[n])\n",
      "        arrow_head = (np.mean(tx[n:n + 2]), np.mean(ty[n:n + 2]))\n",
      "\n",
      "        if isinstance(linewidth, np.ndarray):\n",
      "            line_widths = interpgrid(linewidth, tgx, tgy)[:-1]\n",
      "            line_kw['linewidth'].extend(line_widths)\n",
      "            arrow_kw['linewidth'] = line_widths[n]\n",
      "\n",
      "        if use_multicolor_lines:\n",
      "            color_values = interpgrid(color, tgx, tgy)[:-1]\n",
      "            line_colors.append(color_values)\n",
      "            arrow_kw['color'] = cmap(norm(color_values[n]))\n",
      "\n",
      "        p = patches.FancyArrowPatch(\n",
      "            arrow_tail, arrow_head, transform=transform, **arrow_kw)\n",
      "        axes.add_patch(p)\n",
      "        arrows.append(p)\n",
      "\n",
      "    lc = mcollections.LineCollection(\n",
      "        streamlines, transform=transform, **line_kw)\n",
      "    lc.sticky_edges.x[:] = [grid.x_origin, grid.x_origin + grid.width]\n",
      "    lc.sticky_edges.y[:] = [grid.y_origin, grid.y_origin + grid.height]\n",
      "    if use_multicolor_lines:\n",
      "        lc.set_array(np.ma.hstack(line_colors))\n",
      "        lc.set_cmap(cmap)\n",
      "        lc.set_norm(norm)\n",
      "    axes.add_collection(lc)\n",
      "    axes.autoscale_view()\n",
      "\n",
      "    ac = matplotlib.collections.PatchCollection(arrows)\n",
      "    stream_container = StreamplotSet(lc, ac)\n",
      "    return stream_container\n",
      "\n"
     ]
    },
    {
     "data": {
      "image/png": "[encoded data removed]",
      "text/plain": [
       "<Figure size 432x288 with 1 Axes>"
      ]
     },
     "metadata": {
      "needs_background": "light"
     },
     "output_type": "display_data"
    }
   ],
   "source": [
    "print(inspect.getsource(plt.gca().streamplot))"
   ]
  },
  {
   "cell_type": "code",
   "execution_count": 2,
   "metadata": {},
   "outputs": [],
   "source": [
    "import sys; sys.path.insert(0,\"../..\")\n",
    "from agd import AutomaticDifferentiation as ad"
   ]
  },
  {
   "cell_type": "code",
   "execution_count": 3,
   "metadata": {},
   "outputs": [],
   "source": [
    "x=ad.Dense.identity((2,))\n",
    "x_dis = ad.disassociate(x,shape_free=(2,))"
   ]
  },
  {
   "cell_type": "code",
   "execution_count": 6,
   "metadata": {},
   "outputs": [
    {
     "name": "stdout",
     "output_type": "stream",
     "text": [
      "hi\n"
     ]
    }
   ],
   "source": [
    "if ad.Optimization.norm_infinity(x_dis)<0.1: print('hi')"
   ]
  },
  {
   "cell_type": "code",
   "execution_count": 4,
   "metadata": {},
   "outputs": [
    {
     "data": {
      "text/plain": [
       "denseAD(array([0.]),array([[0., 0.]]))"
      ]
     },
     "execution_count": 4,
     "metadata": {},
     "output_type": "execute_result"
    }
   ],
   "source": [
    "np.max(np.vectorize(np.abs)(x_dis))"
   ]
  },
  {
   "cell_type": "code",
   "execution_count": 5,
   "metadata": {},
   "outputs": [
    {
     "ename": "TypeError",
     "evalue": "bad operand type for abs(): 'denseAD'",
     "output_type": "error",
     "traceback": [
      "\u001b[0;31m---------------------------------------------------------------------------\u001b[0m",
      "\u001b[0;31mTypeError\u001b[0m                                 Traceback (most recent call last)",
      "\u001b[0;32m<ipython-input-5-23c00ee03116>\u001b[0m in \u001b[0;36m<module>\u001b[0;34m\u001b[0m\n\u001b[0;32m----> 1\u001b[0;31m \u001b[0mnp\u001b[0m\u001b[0;34m.\u001b[0m\u001b[0mabs\u001b[0m\u001b[0;34m(\u001b[0m\u001b[0mx_dis\u001b[0m\u001b[0;34m)\u001b[0m\u001b[0;34m\u001b[0m\u001b[0;34m\u001b[0m\u001b[0m\n\u001b[0m",
      "\u001b[0;31mTypeError\u001b[0m: bad operand type for abs(): 'denseAD'"
     ]
    }
   ],
   "source": [
    "np.abs(x_dis)"
   ]
  },
  {
   "cell_type": "code",
   "execution_count": 5,
   "metadata": {},
   "outputs": [
    {
     "data": {
      "text/plain": [
       "denseAD(array(0.),array([0., 0.]))"
      ]
     },
     "execution_count": 5,
     "metadata": {},
     "output_type": "execute_result"
    }
   ],
   "source": [
    "ad.Optimization.norm_infinity(x)"
   ]
  },
  {
   "cell_type": "code",
   "execution_count": 5,
   "metadata": {},
   "outputs": [
    {
     "ename": "TypeError",
     "evalue": "bad operand type for abs(): 'denseAD'",
     "output_type": "error",
     "traceback": [
      "\u001b[0;31m---------------------------------------------------------------------------\u001b[0m",
      "\u001b[0;31mTypeError\u001b[0m                                 Traceback (most recent call last)",
      "\u001b[0;32m<ipython-input-5-578f5248619c>\u001b[0m in \u001b[0;36m<module>\u001b[0;34m\u001b[0m\n\u001b[0;32m----> 1\u001b[0;31m \u001b[0mad\u001b[0m\u001b[0;34m.\u001b[0m\u001b[0mOptimization\u001b[0m\u001b[0;34m.\u001b[0m\u001b[0mnorm_infinity\u001b[0m\u001b[0;34m(\u001b[0m\u001b[0mad\u001b[0m\u001b[0;34m.\u001b[0m\u001b[0mdisassociate\u001b[0m\u001b[0;34m(\u001b[0m\u001b[0mx\u001b[0m\u001b[0;34m,\u001b[0m\u001b[0mshape_free\u001b[0m\u001b[0;34m=\u001b[0m\u001b[0;34m(\u001b[0m\u001b[0;36m2\u001b[0m\u001b[0;34m,\u001b[0m\u001b[0;34m)\u001b[0m\u001b[0;34m)\u001b[0m\u001b[0;34m)\u001b[0m\u001b[0;34m\u001b[0m\u001b[0;34m\u001b[0m\u001b[0m\n\u001b[0m",
      "\u001b[0;32m~/Dropbox/Programmes/Github/AdaptiveGridDiscretizations/agd/AutomaticDifferentiation/Optimization.py\u001b[0m in \u001b[0;36mnorm_infinity\u001b[0;34m(arr, *args, **kwargs)\u001b[0m\n\u001b[1;32m     44\u001b[0m         \u001b[0mL\u001b[0m\u001b[0;34m-\u001b[0m\u001b[0mInfinity\u001b[0m \u001b[0mnorm\u001b[0m \u001b[0;34m(\u001b[0m\u001b[0mlargest\u001b[0m \u001b[0mabsolute\u001b[0m \u001b[0mvalue\u001b[0m\u001b[0;34m)\u001b[0m\u001b[0;34m\u001b[0m\u001b[0;34m\u001b[0m\u001b[0m\n\u001b[1;32m     45\u001b[0m \t\"\"\"\n\u001b[0;32m---> 46\u001b[0;31m         \u001b[0;32mreturn\u001b[0m \u001b[0mnorm\u001b[0m\u001b[0;34m(\u001b[0m\u001b[0marr\u001b[0m\u001b[0;34m,\u001b[0m\u001b[0mnp\u001b[0m\u001b[0;34m.\u001b[0m\u001b[0minf\u001b[0m\u001b[0;34m,\u001b[0m\u001b[0;34m*\u001b[0m\u001b[0margs\u001b[0m\u001b[0;34m,\u001b[0m\u001b[0;34m**\u001b[0m\u001b[0mkwargs\u001b[0m\u001b[0;34m)\u001b[0m\u001b[0;34m\u001b[0m\u001b[0;34m\u001b[0m\u001b[0m\n\u001b[0m\u001b[1;32m     47\u001b[0m \u001b[0;34m\u001b[0m\u001b[0m\n\u001b[1;32m     48\u001b[0m \u001b[0;32mdef\u001b[0m \u001b[0mnorm_average\u001b[0m\u001b[0;34m(\u001b[0m\u001b[0marr\u001b[0m\u001b[0;34m,\u001b[0m\u001b[0;34m*\u001b[0m\u001b[0margs\u001b[0m\u001b[0;34m,\u001b[0m\u001b[0;34m**\u001b[0m\u001b[0mkwargs\u001b[0m\u001b[0;34m)\u001b[0m\u001b[0;34m:\u001b[0m\u001b[0;34m\u001b[0m\u001b[0;34m\u001b[0m\u001b[0m\n",
      "\u001b[0;32m~/Dropbox/Programmes/Github/AdaptiveGridDiscretizations/agd/AutomaticDifferentiation/Optimization.py\u001b[0m in \u001b[0;36mnorm\u001b[0;34m(arr, ord, axis, keepdims, averaged)\u001b[0m\n\u001b[1;32m     30\u001b[0m                 \u001b[0;32mdef\u001b[0m \u001b[0mf\u001b[0m\u001b[0;34m(\u001b[0m\u001b[0mx\u001b[0m\u001b[0;34m)\u001b[0m\u001b[0;34m:\u001b[0m\u001b[0;32mreturn\u001b[0m \u001b[0mnorm\u001b[0m\u001b[0;34m(\u001b[0m\u001b[0mx\u001b[0m\u001b[0;34m,\u001b[0m\u001b[0mord\u001b[0m\u001b[0;34m=\u001b[0m\u001b[0mord\u001b[0m\u001b[0;34m,\u001b[0m\u001b[0maveraged\u001b[0m\u001b[0;34m=\u001b[0m\u001b[0maveraged\u001b[0m\u001b[0;34m)\u001b[0m\u001b[0;34m\u001b[0m\u001b[0;34m\u001b[0m\u001b[0m\n\u001b[1;32m     31\u001b[0m                 \u001b[0marr\u001b[0m \u001b[0;34m=\u001b[0m \u001b[0mnp\u001b[0m\u001b[0;34m.\u001b[0m\u001b[0mvectorize\u001b[0m\u001b[0;34m(\u001b[0m\u001b[0mf\u001b[0m\u001b[0;34m)\u001b[0m\u001b[0;34m(\u001b[0m\u001b[0marr\u001b[0m\u001b[0;34m)\u001b[0m\u001b[0;34m\u001b[0m\u001b[0;34m\u001b[0m\u001b[0m\n\u001b[0;32m---> 32\u001b[0;31m         \u001b[0;32mif\u001b[0m \u001b[0mord\u001b[0m\u001b[0;34m==\u001b[0m\u001b[0mnp\u001b[0m\u001b[0;34m.\u001b[0m\u001b[0minf\u001b[0m\u001b[0;34m:\u001b[0m \u001b[0;32mreturn\u001b[0m \u001b[0mnp\u001b[0m\u001b[0;34m.\u001b[0m\u001b[0mmax\u001b[0m\u001b[0;34m(\u001b[0m\u001b[0mnp\u001b[0m\u001b[0;34m.\u001b[0m\u001b[0mabs\u001b[0m\u001b[0;34m(\u001b[0m\u001b[0marr\u001b[0m\u001b[0;34m)\u001b[0m\u001b[0;34m,\u001b[0m\u001b[0maxis\u001b[0m\u001b[0;34m=\u001b[0m\u001b[0maxis\u001b[0m\u001b[0;34m,\u001b[0m\u001b[0mkeepdims\u001b[0m\u001b[0;34m=\u001b[0m\u001b[0mkeepdims\u001b[0m\u001b[0;34m)\u001b[0m\u001b[0;34m\u001b[0m\u001b[0;34m\u001b[0m\u001b[0m\n\u001b[0m\u001b[1;32m     33\u001b[0m         \u001b[0;32mif\u001b[0m \u001b[0mord\u001b[0m\u001b[0;34m%\u001b[0m\u001b[0;36m2\u001b[0m\u001b[0;34m!=\u001b[0m\u001b[0;36m0\u001b[0m\u001b[0;34m:\u001b[0m    \u001b[0marr\u001b[0m \u001b[0;34m=\u001b[0m \u001b[0mnp\u001b[0m\u001b[0;34m.\u001b[0m\u001b[0mabs\u001b[0m\u001b[0;34m(\u001b[0m\u001b[0marr\u001b[0m\u001b[0;34m)\u001b[0m\u001b[0;34m\u001b[0m\u001b[0;34m\u001b[0m\u001b[0m\n\u001b[1;32m     34\u001b[0m         \u001b[0msum_pow\u001b[0m \u001b[0;34m=\u001b[0m \u001b[0mnp\u001b[0m\u001b[0;34m.\u001b[0m\u001b[0msum\u001b[0m\u001b[0;34m(\u001b[0m\u001b[0marr\u001b[0m\u001b[0;34m**\u001b[0m\u001b[0mord\u001b[0m\u001b[0;34m,\u001b[0m\u001b[0maxis\u001b[0m\u001b[0;34m=\u001b[0m\u001b[0maxis\u001b[0m\u001b[0;34m,\u001b[0m\u001b[0mkeepdims\u001b[0m\u001b[0;34m=\u001b[0m\u001b[0mkeepdims\u001b[0m\u001b[0;34m)\u001b[0m\u001b[0;34m\u001b[0m\u001b[0;34m\u001b[0m\u001b[0m\n",
      "\u001b[0;31mTypeError\u001b[0m: bad operand type for abs(): 'denseAD'"
     ]
    }
   ],
   "source": [
    "ad.Optimization.norm_infinity(ad.disassociate(x,shape_free=(2,)))"
   ]
  },
  {
   "cell_type": "code",
   "execution_count": 4,
   "metadata": {},
   "outputs": [
    {
     "data": {
      "text/plain": [
       "array([0.])"
      ]
     },
     "execution_count": 4,
     "metadata": {},
     "output_type": "execute_result"
    }
   ],
   "source": [
    "np.max(np.abs(ad.disassociate(x.value,shape_free=(2,))))"
   ]
  },
  {
   "cell_type": "code",
   "execution_count": 23,
   "metadata": {},
   "outputs": [
    {
     "data": {
      "text/plain": [
       "True"
      ]
     },
     "execution_count": 23,
     "metadata": {},
     "output_type": "execute_result"
    }
   ],
   "source": [
    "ad.disassociate(x.value,shape_free=(2,)).dtype == np.object"
   ]
  },
  {
   "cell_type": "code",
   "execution_count": 9,
   "metadata": {},
   "outputs": [
    {
     "data": {
      "text/plain": [
       "denseAD(array([[0., 0.],\n",
       "       [0., 0.]]),\n",
       "array([[[0., 0., 0., 0.],\n",
       "        [0., 0., 0., 0.]],\n",
       "\n",
       "       [[0., 0., 0., 0.],\n",
       "        [0., 0., 0., 0.]]]))"
      ]
     },
     "execution_count": 9,
     "metadata": {},
     "output_type": "execute_result"
    }
   ],
   "source": [
    "np.abs(x)"
   ]
  },
  {
   "cell_type": "code",
   "execution_count": 4,
   "metadata": {},
   "outputs": [
    {
     "data": {
      "text/plain": [
       "0"
      ]
     },
     "execution_count": 4,
     "metadata": {},
     "output_type": "execute_result"
    }
   ],
   "source": [
    "x.argmin()"
   ]
  },
  {
   "cell_type": "code",
   "execution_count": 4,
   "metadata": {},
   "outputs": [
    {
     "data": {
      "text/plain": [
       "denseAD(array([1, 2]),array([], shape=(2, 0), dtype=int64))"
      ]
     },
     "execution_count": 4,
     "metadata": {},
     "output_type": "execute_result"
    }
   ],
   "source": [
    "x.new((1,2))"
   ]
  },
  {
   "cell_type": "code",
   "execution_count": 5,
   "metadata": {},
   "outputs": [
    {
     "data": {
      "text/plain": [
       "denseAD(array([[1., 1.],\n",
       "       [1., 1.]]),\n",
       "array([[[0.5, 0. , 0. , 0. ],\n",
       "        [0. , 0.5, 0. , 0. ]],\n",
       "\n",
       "       [[0. , 0. , 0.5, 0. ],\n",
       "        [0. , 0. , 0. , 0.5]]]))"
      ]
     },
     "execution_count": 5,
     "metadata": {},
     "output_type": "execute_result"
    }
   ],
   "source": [
    "(x+1).sqrt()"
   ]
  },
  {
   "cell_type": "code",
   "execution_count": 10,
   "metadata": {},
   "outputs": [
    {
     "data": {
      "text/plain": [
       "denseAD(array([0., 0., 0., 0.]),\n",
       "array([[1., 0., 0., 0.],\n",
       "       [0., 1., 0., 0.],\n",
       "       [0., 0., 1., 0.],\n",
       "       [0., 0., 0., 1.]]))"
      ]
     },
     "execution_count": 10,
     "metadata": {},
     "output_type": "execute_result"
    }
   ],
   "source": [
    "np.reshape(x,(4,))"
   ]
  },
  {
   "cell_type": "code",
   "execution_count": 12,
   "metadata": {},
   "outputs": [
    {
     "data": {
      "text/plain": [
       "array([1, 2, 3, 4])"
      ]
     },
     "execution_count": 12,
     "metadata": {},
     "output_type": "execute_result"
    }
   ],
   "source": [
    "a = np.array((4,1,2,3))\n",
    "a.sort()\n",
    "a"
   ]
  },
  {
   "cell_type": "code",
   "execution_count": 10,
   "metadata": {},
   "outputs": [
    {
     "data": {
      "text/plain": [
       "array([1, 2, 3, 4])"
      ]
     },
     "execution_count": 10,
     "metadata": {},
     "output_type": "execute_result"
    }
   ],
   "source": [
    "a"
   ]
  },
  {
   "cell_type": "code",
   "execution_count": 5,
   "metadata": {},
   "outputs": [
    {
     "data": {
      "text/plain": [
       "array([[0, 0],\n",
       "       [0, 0]])"
      ]
     },
     "execution_count": 5,
     "metadata": {},
     "output_type": "execute_result"
    }
   ],
   "source": [
    "np.floor(x).astype(int)"
   ]
  },
  {
   "cell_type": "code",
   "execution_count": 6,
   "metadata": {},
   "outputs": [
    {
     "data": {
      "text/plain": [
       "denseAD(array([[[0., 0.],\n",
       "        [0., 0.]]]),\n",
       "array([[[[1., 0., 0., 0.],\n",
       "         [0., 1., 0., 0.]],\n",
       "\n",
       "        [[0., 0., 1., 0.],\n",
       "         [0., 0., 0., 1.]]]]))"
      ]
     },
     "execution_count": 6,
     "metadata": {},
     "output_type": "execute_result"
    }
   ],
   "source": [
    "np.expand_dims(x,axis=0)"
   ]
  },
  {
   "cell_type": "code",
   "execution_count": 5,
   "metadata": {},
   "outputs": [
    {
     "name": "stdout",
     "output_type": "stream",
     "text": [
      "@array_function_dispatch(_take_along_axis_dispatcher)\n",
      "def take_along_axis(arr, indices, axis):\n",
      "    \"\"\"\n",
      "    Take values from the input array by matching 1d index and data slices.\n",
      "\n",
      "    This iterates over matching 1d slices oriented along the specified axis in\n",
      "    the index and data arrays, and uses the former to look up values in the\n",
      "    latter. These slices can be different lengths.\n",
      "\n",
      "    Functions returning an index along an axis, like `argsort` and\n",
      "    `argpartition`, produce suitable indices for this function.\n",
      "\n",
      "    .. versionadded:: 1.15.0\n",
      "\n",
      "    Parameters\n",
      "    ----------\n",
      "    arr: ndarray (Ni..., M, Nk...)\n",
      "        Source array\n",
      "    indices: ndarray (Ni..., J, Nk...)\n",
      "        Indices to take along each 1d slice of `arr`. This must match the\n",
      "        dimension of arr, but dimensions Ni and Nj only need to broadcast\n",
      "        against `arr`.\n",
      "    axis: int\n",
      "        The axis to take 1d slices along. If axis is None, the input array is\n",
      "        treated as if it had first been flattened to 1d, for consistency with\n",
      "        `sort` and `argsort`.\n",
      "\n",
      "    Returns\n",
      "    -------\n",
      "    out: ndarray (Ni..., J, Nk...)\n",
      "        The indexed result.\n",
      "\n",
      "    Notes\n",
      "    -----\n",
      "    This is equivalent to (but faster than) the following use of `ndindex` and\n",
      "    `s_`, which sets each of ``ii`` and ``kk`` to a tuple of indices::\n",
      "\n",
      "        Ni, M, Nk = a.shape[:axis], a.shape[axis], a.shape[axis+1:]\n",
      "        J = indices.shape[axis]  # Need not equal M\n",
      "        out = np.empty(Ni + (J,) + Nk)\n",
      "\n",
      "        for ii in ndindex(Ni):\n",
      "            for kk in ndindex(Nk):\n",
      "                a_1d       = a      [ii + s_[:,] + kk]\n",
      "                indices_1d = indices[ii + s_[:,] + kk]\n",
      "                out_1d     = out    [ii + s_[:,] + kk]\n",
      "                for j in range(J):\n",
      "                    out_1d[j] = a_1d[indices_1d[j]]\n",
      "\n",
      "    Equivalently, eliminating the inner loop, the last two lines would be::\n",
      "\n",
      "                out_1d[:] = a_1d[indices_1d]\n",
      "\n",
      "    See Also\n",
      "    --------\n",
      "    take : Take along an axis, using the same indices for every 1d slice\n",
      "    put_along_axis :\n",
      "        Put values into the destination array by matching 1d index and data slices\n",
      "\n",
      "    Examples\n",
      "    --------\n",
      "\n",
      "    For this sample array\n",
      "\n",
      "    >>> a = np.array([[10, 30, 20], [60, 40, 50]])\n",
      "\n",
      "    We can sort either by using sort directly, or argsort and this function\n",
      "\n",
      "    >>> np.sort(a, axis=1)\n",
      "    array([[10, 20, 30],\n",
      "           [40, 50, 60]])\n",
      "    >>> ai = np.argsort(a, axis=1); ai\n",
      "    array([[0, 2, 1],\n",
      "           [1, 2, 0]])\n",
      "    >>> np.take_along_axis(a, ai, axis=1)\n",
      "    array([[10, 20, 30],\n",
      "           [40, 50, 60]])\n",
      "\n",
      "    The same works for max and min, if you expand the dimensions:\n",
      "\n",
      "    >>> np.expand_dims(np.max(a, axis=1), axis=1)\n",
      "    array([[30],\n",
      "           [60]])\n",
      "    >>> ai = np.expand_dims(np.argmax(a, axis=1), axis=1)\n",
      "    >>> ai\n",
      "    array([[1],\n",
      "           [0]])\n",
      "    >>> np.take_along_axis(a, ai, axis=1)\n",
      "    array([[30],\n",
      "           [60]])\n",
      "\n",
      "    If we want to get the max and min at the same time, we can stack the\n",
      "    indices first\n",
      "\n",
      "    >>> ai_min = np.expand_dims(np.argmin(a, axis=1), axis=1)\n",
      "    >>> ai_max = np.expand_dims(np.argmax(a, axis=1), axis=1)\n",
      "    >>> ai = np.concatenate([ai_min, ai_max], axis=1)\n",
      "    >>> ai\n",
      "    array([[0, 1],\n",
      "           [1, 0]])\n",
      "    >>> np.take_along_axis(a, ai, axis=1)\n",
      "    array([[10, 30],\n",
      "           [40, 60]])\n",
      "    \"\"\"\n",
      "    # normalize inputs\n",
      "    if axis is None:\n",
      "        arr = arr.flat\n",
      "        arr_shape = (len(arr),)  # flatiter has no .shape\n",
      "        axis = 0\n",
      "    else:\n",
      "        axis = normalize_axis_index(axis, arr.ndim)\n",
      "        arr_shape = arr.shape\n",
      "\n",
      "    # use the fancy index\n",
      "    return arr[_make_along_axis_idx(arr_shape, indices, axis)]\n",
      "\n"
     ]
    }
   ],
   "source": [
    "import inspect\n",
    "print(inspect.getsource(np.take_along_axis))"
   ]
  },
  {
   "cell_type": "code",
   "execution_count": 14,
   "metadata": {},
   "outputs": [
    {
     "ename": "AttributeError",
     "evalue": "module 'numpy' has no attribute 'normalize_axis_index'",
     "output_type": "error",
     "traceback": [
      "\u001b[0;31m---------------------------------------------------------------------------\u001b[0m",
      "\u001b[0;31mAttributeError\u001b[0m                            Traceback (most recent call last)",
      "\u001b[0;32m<ipython-input-14-4a30aee9c4bc>\u001b[0m in \u001b[0;36m<module>\u001b[0;34m\u001b[0m\n\u001b[0;32m----> 1\u001b[0;31m \u001b[0mnp\u001b[0m\u001b[0;34m.\u001b[0m\u001b[0mnormalize_axis_index\u001b[0m\u001b[0;34m(\u001b[0m\u001b[0;36m1\u001b[0m\u001b[0;34m,\u001b[0m\u001b[0;36m2\u001b[0m\u001b[0;34m)\u001b[0m\u001b[0;34m\u001b[0m\u001b[0;34m\u001b[0m\u001b[0m\n\u001b[0m",
      "\u001b[0;31mAttributeError\u001b[0m: module 'numpy' has no attribute 'normalize_axis_index'"
     ]
    }
   ],
   "source": [
    "np.normalize_axis_index(1,2)"
   ]
  },
  {
   "cell_type": "code",
   "execution_count": 18,
   "metadata": {},
   "outputs": [
    {
     "data": {
      "text/plain": [
       "'aBl'"
      ]
     },
     "execution_count": 18,
     "metadata": {},
     "output_type": "execute_result"
    }
   ],
   "source": [
    "'abl'.replace('b','B')"
   ]
  },
  {
   "cell_type": "code",
   "execution_count": 5,
   "metadata": {},
   "outputs": [
    {
     "data": {
      "text/plain": [
       "['0', '1', '21']"
      ]
     },
     "execution_count": 5,
     "metadata": {},
     "output_type": "execute_result"
    }
   ],
   "source": [
    "'0.1.21'.split('.')"
   ]
  },
  {
   "cell_type": "code",
   "execution_count": 6,
   "metadata": {},
   "outputs": [
    {
     "data": {
      "text/plain": [
       "[1, 2, 4]"
      ]
     },
     "execution_count": 6,
     "metadata": {},
     "output_type": "execute_result"
    }
   ],
   "source": [
    "l=[1,2,3]; l[-1]+=1; l"
   ]
  },
  {
   "cell_type": "code",
   "execution_count": 9,
   "metadata": {},
   "outputs": [
    {
     "data": {
      "text/plain": [
       "True"
      ]
     },
     "execution_count": 9,
     "metadata": {},
     "output_type": "execute_result"
    }
   ],
   "source": [
    "bool('False')"
   ]
  },
  {
   "cell_type": "code",
   "execution_count": 12,
   "metadata": {},
   "outputs": [
    {
     "data": {
      "text/plain": [
       "1"
      ]
     },
     "execution_count": 12,
     "metadata": {},
     "output_type": "execute_result"
    }
   ],
   "source": [
    "from distutils.util import strtobool\n",
    "strtobool('True')"
   ]
  },
  {
   "cell_type": "code",
   "execution_count": 14,
   "metadata": {},
   "outputs": [
    {
     "data": {
      "text/plain": [
       "True"
      ]
     },
     "execution_count": 14,
     "metadata": {},
     "output_type": "execute_result"
    }
   ],
   "source": [
    "[1,2,3]==[1,2,3]"
   ]
  },
  {
   "cell_type": "code",
   "execution_count": 1,
   "metadata": {},
   "outputs": [],
   "source": [
    "# Python code to generate the contents of this file.\n",
    "import numpy as np\n",
    "def wasserstein(a,b):\n",
    "    \"\"\"Return the L2 wasserstein distance between 1D measures equidistributed at the given points\"\"\"\n",
    "    a,b = np.sort(np.repeat(a,len(b))), np.sort(np.repeat(b,len(a)))\n",
    "    return ((a-b)**2).sum()/len(a)\n",
    "\n",
    "def nextpoint(a,n):\n",
    "    \"\"\"Choose the next point to insert in a which makes it closest to range(n) in wasserstein distance\"\"\"\n",
    "    return np.argmin(list(wasserstein(a+[i],range(n)) if i not in a else np.inf for i in range(n)))\n",
    "\n",
    "def eqseq(n):\n",
    "    \"\"\"Greedy ordering to approximate range(n) as well as possible as quickly as possible\"\"\"\n",
    "    a=[]\n",
    "    for i in range(n): \n",
    "        a = a+[nextpoint(a,n)]\n",
    "    return a\n",
    "\n",
    "def display(l):\n",
    "    n=len(l)\n",
    "    print(f\"const int eqseq{n}[{n}] = {{{','.join(map(str,l))}}};\")"
   ]
  },
  {
   "cell_type": "code",
   "execution_count": 47,
   "metadata": {},
   "outputs": [],
   "source": [
    "def wasserstein(a,b):\n",
    "    \"\"\"Return the L2 wasserstein distance between 1D measures equidistributed at the given points\"\"\"\n",
    "    a,b = np.sort(np.repeat(a,len(b))), np.sort(np.repeat(b,len(a)))\n",
    "    return ((a-b)**2).sum()/len(a)\n",
    "\n",
    "def nextpoint(a,n):\n",
    "    \"\"\"Choose the next point to insert in a which makes it closest to range(n) in wasserstein distance\"\"\"\n",
    "    return np.argmin(list(wasserstein(a+[i],range(n)) if i not in a else np.inf for i in range(n)))\n",
    "\n",
    "def eqseq(n):\n",
    "    \"\"\"Greedy ordering to approximate range(n) as well as possible as quickly as possible\"\"\"\n",
    "    a=[]\n",
    "    for i in range(n): \n",
    "        a = a+[nextpoint(a,n)]\n",
    "    return a\n",
    "\n",
    "def display(l):\n",
    "    n=len(l)\n",
    "    print(f\"template<> int eqseq<{n}>[{n}] = {{{','.join(map(str,l))}}};\")"
   ]
  },
  {
   "cell_type": "code",
   "execution_count": 3,
   "metadata": {},
   "outputs": [
    {
     "name": "stdout",
     "output_type": "stream",
     "text": [
      "const int eqseq1[1] = {0};\n",
      "const int eqseq2[2] = {0,1};\n",
      "const int eqseq3[3] = {1,0,2};\n",
      "const int eqseq4[4] = {1,2,0,3};\n",
      "const int eqseq5[5] = {2,1,4,0,3};\n",
      "const int eqseq6[6] = {2,4,0,3,5,1};\n",
      "const int eqseq7[7] = {3,1,5,2,6,0,4};\n",
      "const int eqseq8[8] = {3,5,1,6,2,4,0,7};\n",
      "const int eqseq9[9] = {4,2,7,1,6,3,8,0,5};\n",
      "const int eqseq10[10] = {4,7,1,6,2,9,3,5,0,8};\n",
      "const int eqseq11[11] = {5,2,9,4,7,0,8,3,10,1,6};\n",
      "const int eqseq12[12] = {5,8,1,10,3,6,2,9,4,11,0,7};\n",
      "const int eqseq13[13] = {6,3,10,1,9,5,12,2,7,4,11,0,8};\n",
      "const int eqseq14[14] = {6,10,2,8,4,12,0,9,5,13,3,7,1,11};\n",
      "const int eqseq15[15] = {7,3,12,5,10,1,13,6,9,0,11,4,14,2,8};\n",
      "const int eqseq16[16] = {7,11,2,13,4,9,1,14,6,10,3,12,5,8,0,15};\n",
      "const int eqseq17[17] = {8,4,14,2,11,7,15,1,10,5,13,3,12,6,16,0,9};\n",
      "const int eqseq18[18] = {8,13,2,11,5,16,3,10,6,15,0,12,7,17,1,9,14,4};\n",
      "const int eqseq19[19] = {9,4,15,7,13,1,17,5,11,2,16,8,12,3,14,6,18,0,10};\n",
      "const int eqseq20[20] = {9,14,3,17,5,11,1,16,7,12,4,19,8,0,15,10,6,18,2,13};\n"
     ]
    }
   ],
   "source": [
    "for i in range(1,21):\n",
    "    display(eqseq(i))"
   ]
  },
  {
   "cell_type": "code",
   "execution_count": 31,
   "metadata": {},
   "outputs": [
    {
     "data": {
      "text/plain": [
       "'1,2,3'"
      ]
     },
     "execution_count": 31,
     "metadata": {},
     "output_type": "execute_result"
    }
   ],
   "source": [
    "','.join(map(str,[1,2,3]))"
   ]
  },
  {
   "cell_type": "code",
   "execution_count": 24,
   "metadata": {},
   "outputs": [],
   "source": []
  },
  {
   "cell_type": "code",
   "execution_count": 29,
   "metadata": {},
   "outputs": [
    {
     "data": {
      "text/plain": [
       "[[0, 1],\n",
       " [1, 0, 2],\n",
       " [1, 2, 0, 3],\n",
       " [2, 1, 4, 0, 3],\n",
       " [2, 4, 0, 3, 5, 1],\n",
       " [3, 1, 5, 2, 6, 0, 4],\n",
       " [3, 5, 1, 6, 2, 4, 0, 7],\n",
       " [4, 2, 7, 1, 6, 3, 8, 0, 5],\n",
       " [4, 7, 1, 6, 2, 9, 3, 5, 0, 8],\n",
       " [5, 2, 9, 4, 7, 0, 8, 3, 10, 1, 6],\n",
       " [5, 8, 1, 10, 3, 6, 2, 9, 4, 11, 0, 7],\n",
       " [6, 3, 10, 1, 9, 5, 12, 2, 7, 4, 11, 0, 8],\n",
       " [6, 10, 2, 8, 4, 12, 0, 9, 5, 13, 3, 7, 1, 11],\n",
       " [7, 3, 12, 5, 10, 1, 13, 6, 9, 0, 11, 4, 14, 2, 8],\n",
       " [7, 11, 2, 13, 4, 9, 1, 14, 6, 10, 3, 12, 5, 8, 0, 15],\n",
       " [8, 4, 14, 2, 11, 7, 15, 1, 10, 5, 13, 3, 12, 6, 16, 0, 9],\n",
       " [8, 13, 2, 11, 5, 16, 3, 10, 6, 15, 0, 12, 7, 17, 1, 9, 14, 4],\n",
       " [9, 4, 15, 7, 13, 1, 17, 5, 11, 2, 16, 8, 12, 3, 14, 6, 18, 0, 10]]"
      ]
     },
     "execution_count": 29,
     "metadata": {},
     "output_type": "execute_result"
    }
   ],
   "source": [
    "[order(i) for i in range(2,20)]"
   ]
  },
  {
   "cell_type": "code",
   "execution_count": 28,
   "metadata": {},
   "outputs": [
    {
     "data": {
      "text/plain": [
       "[4, 7, 1, 6, 2, 9, 3, 5, 0, 8]"
      ]
     },
     "execution_count": 28,
     "metadata": {},
     "output_type": "execute_result"
    }
   ],
   "source": [
    "order(10)"
   ]
  },
  {
   "cell_type": "code",
   "execution_count": 13,
   "metadata": {},
   "outputs": [
    {
     "data": {
      "text/plain": [
       "inf"
      ]
     },
     "execution_count": 13,
     "metadata": {},
     "output_type": "execute_result"
    }
   ],
   "source": [
    "np.inf"
   ]
  },
  {
   "cell_type": "code",
   "execution_count": null,
   "metadata": {},
   "outputs": [],
   "source": []
  }
 ],
 "metadata": {
  "kernelspec": {
   "display_name": "Python 3",
   "language": "python",
   "name": "python3"
  },
  "language_info": {
   "codemirror_mode": {
    "name": "ipython",
    "version": 3
   },
   "file_extension": ".py",
   "mimetype": "text/x-python",
   "name": "python",
   "nbconvert_exporter": "python",
   "pygments_lexer": "ipython3",
   "version": "3.8.1"
  }
 },
 "nbformat": 4,
 "nbformat_minor": 4
}

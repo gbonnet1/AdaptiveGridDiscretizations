{
 "cells": [
  {
   "cell_type": "markdown",
   "metadata": {},
   "source": [
    "In this notebook, we define a Rander approximation to an asymmetric quadratic metric, which has some interesting properties."
   ]
  },
  {
   "cell_type": "markdown",
   "metadata": {},
   "source": [
    "## 0. Importing the required libraries"
   ]
  },
  {
   "cell_type": "code",
   "execution_count": 1,
   "metadata": {},
   "outputs": [],
   "source": [
    "import sys; sys.path.insert(0,\"../..\")"
   ]
  },
  {
   "cell_type": "code",
   "execution_count": 170,
   "metadata": {},
   "outputs": [],
   "source": [
    "from agd import Metrics\n",
    "from agd import LinearParallel as lp\n",
    "from agd import FiniteDifferences as fd"
   ]
  },
  {
   "cell_type": "code",
   "execution_count": 158,
   "metadata": {},
   "outputs": [],
   "source": [
    "import numpy as np\n",
    "from matplotlib import pyplot as plt"
   ]
  },
  {
   "cell_type": "markdown",
   "metadata": {},
   "source": [
    "## 1. Rander approx"
   ]
  },
  {
   "cell_type": "code",
   "execution_count": 166,
   "metadata": {},
   "outputs": [],
   "source": [
    "aX = np.linspace(-1.5,1.5)\n",
    "X = np.meshgrid(aX,aX,indexing='ij')"
   ]
  },
  {
   "cell_type": "code",
   "execution_count": 199,
   "metadata": {},
   "outputs": [],
   "source": [
    "#asym = Metrics.AsymQuad([[1.,0.5],[0.5,2.]],[0.2,3.])\n",
    "asym = Metrics.AsymQuad(np.eye(2),[2.,0])"
   ]
  },
  {
   "cell_type": "code",
   "execution_count": 200,
   "metadata": {},
   "outputs": [
    {
     "data": {
      "text/plain": [
       "2.23606797749979"
      ]
     },
     "execution_count": 200,
     "metadata": {},
     "output_type": "execute_result"
    }
   ],
   "source": [
    "asym.norm([1,0])"
   ]
  },
  {
   "cell_type": "code",
   "execution_count": 239,
   "metadata": {},
   "outputs": [],
   "source": [
    "def ZermeloApprox(asym):\n",
    "    ω = lp.solve_AV(asym.m,asym.w)\n",
    "    wn2 = lp.dot_VV(asym.w,ω)\n",
    "    wn = np.sqrt(wn2)\n",
    "    λ = 0.5-0.5/np.sqrt(1+wn2); print(f\"λ = {λ}\")\n",
    "    γpμ = 1/(0.5+0.5/np.sqrt(1+wn2))**2; print(f\"γpμ = {γpμ}\")\n",
    "    γ = 1.-λ**2 * γpμ; print(f\"γ {γ}\")\n",
    "    μ = γpμ - γ; print(f\"μ = {μ}\")\n",
    "    m2 = γ*asym.m+μ*lp.outer_self(asym.w)/wn2\n",
    "    ω2 = -λ*ω/wn\n",
    "    def zerm(v):\n",
    "        m2_,ω2_,v = fd.common_field((m2,ω2,v), depths=(2,1,1))\n",
    "        return lp.dot_VAV(v-ω2_,m2_,v-ω2_)\n",
    "    return m2,ω2,zerm"
   ]
  },
  {
   "cell_type": "code",
   "execution_count": 250,
   "metadata": {},
   "outputs": [],
   "source": [
    "def ZermeloApproxReduced(asym):\n",
    "    ω = lp.solve_AV(asym.m,asym.w)\n",
    "    n2 = lp.dot_VV(asym.w,ω)\n",
    "    n = np.sqrt(n2)\n",
    "    in2 = np.sqrt(1+n2)\n",
    "    iin2 = 1+in2\n",
    "    \n",
    "    λ = n/(2*in2*iin2); print(f\"λ={λ*n}\")\n",
    "    μ = 4*in2/iin2**3;  print(f\"μ = {μ*n**2}\")\n",
    "    γ = 4.*(1+n2)/iin2**2 - n2*μ; print(f\"γ {γ}\")\n",
    "    \n",
    "    m2 = γ*asym.m+μ*lp.outer_self(asym.w)\n",
    "    ω2 = -λ*ω\n",
    "    def zerm(v):\n",
    "        m2_,ω2_,v = fd.common_field((m2,ω2,v), depths=(2,1,1))\n",
    "        return lp.dot_VAV(v-ω2_,m2_,v-ω2_)\n",
    "    return m2,ω2,zerm"
   ]
  },
  {
   "cell_type": "code",
   "execution_count": 251,
   "metadata": {},
   "outputs": [
    {
     "name": "stdout",
     "output_type": "stream",
     "text": [
      "λ = 0.27639320225002106\n",
      "γpμ = 1.9098300562505262\n",
      "γ 0.8541019662496845\n",
      "μ = 1.0557280900008417\n"
     ]
    }
   ],
   "source": [
    "m2,ω2,zerm = ZermeloApprox(asym)"
   ]
  },
  {
   "cell_type": "code",
   "execution_count": 252,
   "metadata": {},
   "outputs": [
    {
     "name": "stdout",
     "output_type": "stream",
     "text": [
      "λ=0.276393202250021\n",
      "μ = 1.0557280900008412\n",
      "γ 0.8541019662496845\n"
     ]
    }
   ],
   "source": [
    "m2,ω2,zerm = ZermeloApproxReduced(asym)"
   ]
  },
  {
   "cell_type": "code",
   "execution_count": 253,
   "metadata": {
    "scrolled": true
   },
   "outputs": [
    {
     "name": "stdout",
     "output_type": "stream",
     "text": [
      "0.9999999999999999 0.9999999999999999\n",
      "0.9999999999999999 0.9999999999999999\n"
     ]
    }
   ],
   "source": [
    "v = lp.perp(asym.w)\n",
    "v /= asym.norm(v)\n",
    "print(zerm(v),zerm(-v))\n",
    "v = lp.solve_AV(asym.m,asym.w)\n",
    "v /= np.sqrt(lp.dot_VV(v,asym.w))\n",
    "print( zerm(v/asym.norm(v)), zerm(-v/asym.norm(-v)) )"
   ]
  },
  {
   "cell_type": "code",
   "execution_count": 204,
   "metadata": {},
   "outputs": [
    {
     "data": {
      "text/plain": [
       "array([-0.2763932, -0.       ])"
      ]
     },
     "execution_count": 204,
     "metadata": {},
     "output_type": "execute_result"
    }
   ],
   "source": [
    "ω2"
   ]
  },
  {
   "cell_type": "code",
   "execution_count": 205,
   "metadata": {},
   "outputs": [
    {
     "data": {
      "text/plain": [
       "<matplotlib.contour.QuadContourSet at 0x11e7eb150>"
      ]
     },
     "execution_count": 205,
     "metadata": {},
     "output_type": "execute_result"
    },
    {
     "data": {
      "image/png": "[encoded data removed]",
      "text/plain": [
       "<Figure size 432x288 with 1 Axes>"
      ]
     },
     "metadata": {
      "needs_background": "light"
     },
     "output_type": "display_data"
    }
   ],
   "source": [
    "plt.contour(*X,asym.norm(X),levels=[1.])\n",
    "plt.contour(*X,zerm(X),levels=[1.])"
   ]
  },
  {
   "cell_type": "code",
   "execution_count": null,
   "metadata": {},
   "outputs": [],
   "source": []
  },
  {
   "cell_type": "code",
   "execution_count": null,
   "metadata": {},
   "outputs": [],
   "source": []
  }
 ],
 "metadata": {
  "kernelspec": {
   "display_name": "Python 3",
   "language": "python",
   "name": "python3"
  },
  "language_info": {
   "codemirror_mode": {
    "name": "ipython",
    "version": 3
   },
   "file_extension": ".py",
   "mimetype": "text/x-python",
   "name": "python",
   "nbconvert_exporter": "python",
   "pygments_lexer": "ipython3",
   "version": "3.7.6"
  }
 },
 "nbformat": 4,
 "nbformat_minor": 4
}

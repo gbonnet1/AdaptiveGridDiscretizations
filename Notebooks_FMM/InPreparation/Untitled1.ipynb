{
 "cells": [
  {
   "cell_type": "code",
   "execution_count": 1,
   "metadata": {},
   "outputs": [],
   "source": [
    "import sys; sys.path.insert(0,\"../..\")\n",
    "import numpy as np\n",
    "import types\n",
    "from scipy import ndimage\n",
    "import cupyx.scipy\n",
    "from matplotlib import pyplot as plt\n",
    "from agd import AutomaticDifferentiation as ad\n",
    "from agd.Plotting import savefig,quiver;\n",
    "from agd import Eikonal"
   ]
  },
  {
   "cell_type": "code",
   "execution_count": 2,
   "metadata": {},
   "outputs": [
    {
     "name": "stdout",
     "output_type": "stream",
     "text": [
      "Replacing numpy with cupy, set to output 32bit ints and floats by default.\n",
      "Using cp.asarray(*,dtype=np.float32) as the default caster in ad.array.\n",
      "Replacing module scipy.ndimage with cupyx.scipy.ndimage\n",
      "Returning a copy of function quiver which accepts cupy arrays as input\n",
      "Returning a copy of module matplotlib.pyplot whose functions accept cupy arrays as input\n",
      "Setting dictIn.default_mode = 'gpu' in module agd.Eikonal\n"
     ]
    }
   ],
   "source": [
    "xp,ndimage,quiver,plt,Eikonal = map(ad.cupy_generic.cupy_friendly,(np,ndimage,quiver,plt,Eikonal))"
   ]
  },
  {
   "cell_type": "code",
   "execution_count": 8,
   "metadata": {},
   "outputs": [],
   "source": [
    "quiver = ad.cupy_generic.cupy_get_args(quiver)"
   ]
  },
  {
   "cell_type": "code",
   "execution_count": 6,
   "metadata": {},
   "outputs": [],
   "source": [
    "plt_cp = ad.functional.decorate_module_functions(plt,ad.cupy_generic.cupy_get_args)"
   ]
  },
  {
   "cell_type": "code",
   "execution_count": 1,
   "metadata": {},
   "outputs": [],
   "source": [
    "from cupyx.scipy import ndimage"
   ]
  },
  {
   "cell_type": "code",
   "execution_count": 7,
   "metadata": {},
   "outputs": [
    {
     "data": {
      "text/plain": [
       "True"
      ]
     },
     "execution_count": 7,
     "metadata": {},
     "output_type": "execute_result"
    }
   ],
   "source": [
    "isinstance(plt_cp,types.ModuleType)"
   ]
  },
  {
   "cell_type": "code",
   "execution_count": 8,
   "metadata": {},
   "outputs": [
    {
     "data": {
      "text/plain": [
       "'matplotlib.pyplot'"
      ]
     },
     "execution_count": 8,
     "metadata": {},
     "output_type": "execute_result"
    }
   ],
   "source": [
    "plt_cp.__name__"
   ]
  },
  {
   "cell_type": "code",
   "execution_count": 7,
   "metadata": {},
   "outputs": [
    {
     "data": {
      "text/plain": [
       "True"
      ]
     },
     "execution_count": 7,
     "metadata": {},
     "output_type": "execute_result"
    }
   ],
   "source": [
    "np is np"
   ]
  },
  {
   "cell_type": "raw",
   "metadata": {},
   "source": [
    "type(quiver)"
   ]
  },
  {
   "cell_type": "code",
   "execution_count": 4,
   "metadata": {},
   "outputs": [
    {
     "name": "stdout",
     "output_type": "stream",
     "text": [
      "Help on function quiver in module agd.Plotting:\n",
      "\n",
      "quiver(X, Y, U, V, subsampling=(), **kwargs)\n",
      "    Pyplot quiver with additional arg:\n",
      "    - subsampling (tuple). Subsample X,Y,U,V\n",
      "\n"
     ]
    }
   ],
   "source": [
    "help(quiver)"
   ]
  },
  {
   "cell_type": "code",
   "execution_count": 9,
   "metadata": {},
   "outputs": [
    {
     "data": {
      "text/plain": [
       "('agd.Plotting', 'quiver')"
      ]
     },
     "execution_count": 9,
     "metadata": {},
     "output_type": "execute_result"
    }
   ],
   "source": [
    "quiver.__module__,quiver.__name__"
   ]
  },
  {
   "cell_type": "code",
   "execution_count": 14,
   "metadata": {},
   "outputs": [
    {
     "data": {
      "text/plain": [
       "True"
      ]
     },
     "execution_count": 14,
     "metadata": {},
     "output_type": "execute_result"
    }
   ],
   "source": [
    "isinstance(quiver,types.FunctionType)"
   ]
  },
  {
   "cell_type": "markdown",
   "metadata": {},
   "source": [
    "# Map eigenvalues"
   ]
  },
  {
   "cell_type": "code",
   "execution_count": 2,
   "metadata": {},
   "outputs": [
    {
     "ename": "SyntaxError",
     "evalue": "unexpected EOF while parsing (cupy_generic.py, line 163)",
     "output_type": "error",
     "traceback": [
      "Traceback \u001b[1;36m(most recent call last)\u001b[0m:\n",
      "  File \u001b[0;32m\"C:\\Users\\Shadow\\Miniconda3\\envs\\gpuenv\\lib\\site-packages\\IPython\\core\\interactiveshell.py\"\u001b[0m, line \u001b[0;32m3331\u001b[0m, in \u001b[0;35mrun_code\u001b[0m\n    exec(code_obj, self.user_global_ns, self.user_ns)\n",
      "  File \u001b[0;32m\"<ipython-input-2-6d749ca68ddb>\"\u001b[0m, line \u001b[0;32m4\u001b[0m, in \u001b[0;35m<module>\u001b[0m\n    from agd import AutomaticDifferentiation as ad\n",
      "\u001b[1;36m  File \u001b[1;32m\"../..\\agd\\AutomaticDifferentiation\\__init__.py\"\u001b[1;36m, line \u001b[1;32m7\u001b[1;36m, in \u001b[1;35m<module>\u001b[1;36m\u001b[0m\n\u001b[1;33m    from . import cupy_generic\u001b[0m\n",
      "\u001b[1;36m  File \u001b[1;32m\"../..\\agd\\AutomaticDifferentiation\\cupy_generic.py\"\u001b[1;36m, line \u001b[1;32m163\u001b[0m\n\u001b[1;33m    \u001b[0m\n\u001b[1;37m    ^\u001b[0m\n\u001b[1;31mSyntaxError\u001b[0m\u001b[1;31m:\u001b[0m unexpected EOF while parsing\n"
     ]
    }
   ],
   "source": [
    "import sys; sys.path.insert(0,\"../..\")\n",
    "import cupy as cp\n",
    "import numpy as np\n",
    "from agd import AutomaticDifferentiation as ad"
   ]
  },
  {
   "cell_type": "code",
   "execution_count": 6,
   "metadata": {},
   "outputs": [
    {
     "data": {
      "text/plain": [
       "(denseAD(array([1., 1.]),\n",
       " array([[1., 0.],\n",
       "        [0., 1.]])),\n",
       " array([       nan, -0.2995335], dtype=float32),\n",
       " denseAD(array([0.54030231, 0.54030231]),\n",
       " array([[-0.84147098, -0.        ],\n",
       "        [-0.        , -0.84147098]])))"
      ]
     },
     "execution_count": 6,
     "metadata": {},
     "output_type": "execute_result"
    }
   ],
   "source": [
    "x = ad.Dense.identity(constant=cp.array((1.,1.)))\n",
    "x,cp.cos(x),np.cos(x)"
   ]
  },
  {
   "cell_type": "markdown",
   "metadata": {},
   "source": [
    "## 0. Importing the required libraries"
   ]
  },
  {
   "cell_type": "code",
   "execution_count": 1,
   "metadata": {},
   "outputs": [],
   "source": [
    "import sys; sys.path.insert(0,\"../..\") # Allow import of agd from parent directory (useless if conda package installed)\n",
    "#from Miscellaneous import TocTools; print(TocTools.displayTOC('Riemannian','FMM'))"
   ]
  },
  {
   "cell_type": "code",
   "execution_count": 2,
   "metadata": {},
   "outputs": [],
   "source": [
    "from agd import HFMUtils\n",
    "from agd.Metrics import Riemann\n",
    "from agd import LinearParallel as lp\n",
    "from agd import FiniteDifferences as fd\n",
    "from agd.Plotting import savefig; #savefig.dirName = 'Figures/Riemannian'\n",
    "from agd.AutomaticDifferentiation.Optimization import norm_infinity"
   ]
  },
  {
   "cell_type": "code",
   "execution_count": 3,
   "metadata": {},
   "outputs": [],
   "source": [
    "import numpy as np\n",
    "%matplotlib inline\n",
    "import matplotlib.pyplot as plt\n",
    "\n",
    "# Required for 3D plotting\n",
    "from mpl_toolkits.mplot3d import Axes3D # Plots geodesics\n",
    "useMayavi = False\n",
    "if useMayavi:\n",
    "    from mayavi import mlab # Plots implicit surfaces"
   ]
  },
  {
   "cell_type": "code",
   "execution_count": null,
   "metadata": {},
   "outputs": [],
   "source": []
  },
  {
   "cell_type": "markdown",
   "metadata": {},
   "source": [
    "## 1. Testing"
   ]
  },
  {
   "cell_type": "code",
   "execution_count": 4,
   "metadata": {},
   "outputs": [],
   "source": [
    "M = np.eye(2).reshape((1,2,2))"
   ]
  },
  {
   "cell_type": "code",
   "execution_count": 5,
   "metadata": {},
   "outputs": [],
   "source": [
    "M = np.random.normal(size=(3,3,2,4))\n",
    "M = M+lp.transpose(M)"
   ]
  },
  {
   "cell_type": "code",
   "execution_count": 6,
   "metadata": {},
   "outputs": [],
   "source": [
    "M_ = np.moveaxis(M,(0,1),(-2,-1))\n",
    "ev_,vp_ = np.linalg.eig(M_)\n",
    "ev = np.moveaxis(ev_,-1,0)\n",
    "vp = np.moveaxis(vp_,(-2,-1),(0,1))"
   ]
  },
  {
   "cell_type": "code",
   "execution_count": 7,
   "metadata": {},
   "outputs": [
    {
     "name": "stdout",
     "output_type": "stream",
     "text": [
      "(3, 2, 4), (3, 3, 2, 4)\n"
     ]
    }
   ],
   "source": [
    "print(f\"{ev.shape}, {vp.shape}\")"
   ]
  },
  {
   "cell_type": "code",
   "execution_count": 8,
   "metadata": {},
   "outputs": [
    {
     "data": {
      "text/plain": [
       "3.9968028886505635e-15"
      ]
     },
     "execution_count": 8,
     "metadata": {},
     "output_type": "execute_result"
    }
   ],
   "source": [
    "outer = lp.outer(vp,ev*vp)\n",
    "norm_infinity(M - outer.sum(axis=2))"
   ]
  },
  {
   "cell_type": "code",
   "execution_count": 9,
   "metadata": {},
   "outputs": [
    {
     "data": {
      "text/plain": [
       "6.394884621840902e-14"
      ]
     },
     "execution_count": 9,
     "metadata": {},
     "output_type": "execute_result"
    }
   ],
   "source": [
    "outer = lp.outer(vp,(1/ev)*vp)\n",
    "MInv = outer.sum(axis=2)\n",
    "Id = fd.as_field(np.eye(3),M.shape[2:])\n",
    "norm_infinity(Id - lp.dot_AA(M,MInv))"
   ]
  },
  {
   "cell_type": "code",
   "execution_count": 10,
   "metadata": {},
   "outputs": [],
   "source": [
    "order = ev.argsort(axis=0)\n",
    "ev_sorted = np.take_along_axis(ev,order,axis=0)"
   ]
  },
  {
   "cell_type": "code",
   "execution_count": 11,
   "metadata": {},
   "outputs": [
    {
     "data": {
      "text/plain": [
       "array([-4.10198405, -2.81974936,  1.28721789])"
      ]
     },
     "execution_count": 11,
     "metadata": {},
     "output_type": "execute_result"
    }
   ],
   "source": [
    "ev_sorted[:,0,0]"
   ]
  },
  {
   "cell_type": "code",
   "execution_count": 12,
   "metadata": {},
   "outputs": [],
   "source": [
    "order_inv = order.argsort(axis=0)\n",
    "ev_orig = np.take_along_axis(ev_sorted,order_inv,axis=0)"
   ]
  },
  {
   "cell_type": "code",
   "execution_count": 13,
   "metadata": {},
   "outputs": [
    {
     "data": {
      "text/plain": [
       "(3, 2, 4)"
      ]
     },
     "execution_count": 13,
     "metadata": {},
     "output_type": "execute_result"
    }
   ],
   "source": [
    "(ev-ev_orig).shape"
   ]
  },
  {
   "cell_type": "code",
   "execution_count": 14,
   "metadata": {},
   "outputs": [],
   "source": [
    "riem = Riemann.from_mapped_eigenvalues(M,lambda x:1./x)"
   ]
  },
  {
   "cell_type": "code",
   "execution_count": 15,
   "metadata": {},
   "outputs": [
    {
     "data": {
      "text/plain": [
       "2.8421709430404007e-13"
      ]
     },
     "execution_count": 15,
     "metadata": {},
     "output_type": "execute_result"
    }
   ],
   "source": [
    "norm_infinity(riem.m - lp.inverse(M))"
   ]
  },
  {
   "cell_type": "code",
   "execution_count": 19,
   "metadata": {},
   "outputs": [
    {
     "data": {
      "text/plain": [
       "5.551115123125783e-15"
      ]
     },
     "execution_count": 19,
     "metadata": {},
     "output_type": "execute_result"
    }
   ],
   "source": [
    "def f(x):\n",
    "    x0,x1,x2 = x\n",
    "    assert np.all(x0<=x1) and np.all(x1<=x2)\n",
    "    return x0,x1+1,x2+2\n",
    "def g(x):\n",
    "    x0,x1,x2 = x\n",
    "    return x0,x1-1,x2-2\n",
    "\n",
    "riem_f = Riemann.from_mapped_eigenvalues(M,f)\n",
    "riem_orig = Riemann.from_mapped_eigenvalues(riem_f.m,g)\n",
    "norm_infinity(riem_orig.m-M)"
   ]
  },
  {
   "cell_type": "code",
   "execution_count": null,
   "metadata": {},
   "outputs": [],
   "source": []
  }
 ],
 "metadata": {
  "kernelspec": {
   "display_name": "Python 3",
   "language": "python",
   "name": "python3"
  },
  "language_info": {
   "codemirror_mode": {
    "name": "ipython",
    "version": 3
   },
   "file_extension": ".py",
   "mimetype": "text/x-python",
   "name": "python",
   "nbconvert_exporter": "python",
   "pygments_lexer": "ipython3",
   "version": "3.7.6"
  }
 },
 "nbformat": 4,
 "nbformat_minor": 4
}

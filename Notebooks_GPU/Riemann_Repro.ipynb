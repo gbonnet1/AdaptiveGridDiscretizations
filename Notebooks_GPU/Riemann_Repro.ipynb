{
 "cells": [
  {
   "cell_type": "markdown",
   "metadata": {},
   "source": [
    "# Adaptive PDE discretizations on cartesian grids \n",
    "## Volume : GPU accelerated methods\n",
    "## Part : Eikonal equations, acceleration and reproducibility\n",
    "## Chapter : Riemannian metrics"
   ]
  },
  {
   "cell_type": "markdown",
   "metadata": {},
   "source": [
    "In this notebook, we solve Riemannian eikonal equations on the CPU and the GPU, and check that they produce consistent results.\n",
    "\n",
    "**GPU performance** GPUs are massively parallel machines, which efficiently exploit cache locality. Hence they are at their advantage with :\n",
    "* Large problem instances, which are embarassingly parallel\n",
    "* Moderate anisotropy, so that the numerical scheme stncils are not too wide"
   ]
  },
  {
   "cell_type": "code",
   "execution_count": 1,
   "metadata": {},
   "outputs": [],
   "source": [
    "large_instances = False # True favors the GPU code (CPU times may become a big long.)\n",
    "strong_anisotropy = True # True favors the CPU code \n",
    "anisotropy_bound = 10. if strong_anisotropy else 4. # Ratio between the fastest and the smallest velocity at any given point"
   ]
  },
  {
   "cell_type": "markdown",
   "metadata": {},
   "source": [
    "[**Summary**](Summary.ipynb) of volume GPU accelerated methods, this series of notebooks.\n",
    "\n",
    "[**Main summary**](../Summary.ipynb) of the Adaptive Grid Discretizations \n",
    "\tbook of notebooks, including the other volumes.\n",
    "\n",
    "# Table of contents\n",
    "  * [1. Two dimensions](#1.-Two-dimensions)\n",
    "    * [1.1 Isotropic metric](#1.1-Isotropic-metric)\n",
    "    * [1.2 Smooth anisotropic metric](#1.2-Smooth-anisotropic-metric)\n",
    "  * [2. Three dimensions](#2.-Three-dimensions)\n",
    "    * [2.1 Smooth anisotropic metric](#2.1-Smooth-anisotropic-metric)\n",
    "\n",
    "\n",
    "\n",
    "**Acknowledgement.** The experiments presented in these notebooks are part of ongoing research.\n",
    "The author would like to acknowledge fruitful informal discussions with L. Gayraud on the \n",
    "topic of GPU coding and optimization.\n",
    "\n",
    "Copyright Jean-Marie Mirebeau, University Paris-Sud, CNRS, University Paris-Saclay"
   ]
  },
  {
   "cell_type": "markdown",
   "metadata": {},
   "source": [
    "## 0. Importing the required libraries"
   ]
  },
  {
   "cell_type": "code",
   "execution_count": 2,
   "metadata": {},
   "outputs": [],
   "source": [
    "import sys; sys.path.insert(0,\"..\")\n",
    "#from Miscellaneous import TocTools; print(TocTools.displayTOC('Riemann_Repro','GPU'))"
   ]
  },
  {
   "cell_type": "code",
   "execution_count": 3,
   "metadata": {},
   "outputs": [],
   "source": [
    "import cupy as cp\n",
    "import numpy as np\n",
    "import itertools\n",
    "from matplotlib import pyplot as plt\n",
    "np.set_printoptions(edgeitems=30, linewidth=100000, formatter=dict(float=lambda x: \"%5.3g\" % x))"
   ]
  },
  {
   "cell_type": "code",
   "execution_count": 4,
   "metadata": {},
   "outputs": [],
   "source": [
    "from agd import Eikonal\n",
    "from agd import AutomaticDifferentiation as ad\n",
    "from agd import Metrics\n",
    "from agd import FiniteDifferences as fd\n",
    "from agd import LinearParallel as lp\n",
    "import agd.AutomaticDifferentiation.cupy_generic as cugen\n",
    "\n",
    "from agd.ExportedCode.Notebooks_GPU.Isotropic_Repro import RunCompare\n",
    "Eikonal.dictIn.default_mode = 'gpu'"
   ]
  },
  {
   "cell_type": "code",
   "execution_count": 5,
   "metadata": {},
   "outputs": [],
   "source": [
    "def ReloadPackages():\n",
    "    from Miscellaneous.rreload import rreload\n",
    "    global Eikonal,ad,cugen,RunGPU,RunSmart,Metrics\n",
    "    Eikonal,ad,cugen,Metrics = rreload([Eikonal,ad,cugen,Metrics],\"../..\")    \n",
    "    Eikonal.dictIn.default_mode = 'gpu'"
   ]
  },
  {
   "cell_type": "code",
   "execution_count": 6,
   "metadata": {},
   "outputs": [],
   "source": [
    "cp = ad.functional.decorate_module_functions(cp,cugen.set_output_dtype32) # Use float32 and int32 types in place of float64 and int64\n",
    "plt = ad.functional.decorate_module_functions(plt,cugen.cupy_get_args)"
   ]
  },
  {
   "cell_type": "markdown",
   "metadata": {},
   "source": [
    "## 1. Two dimensions"
   ]
  },
  {
   "cell_type": "markdown",
   "metadata": {},
   "source": [
    "### 1.1 Isotropic metric"
   ]
  },
  {
   "cell_type": "code",
   "execution_count": 9,
   "metadata": {},
   "outputs": [
    {
     "name": "stdout",
     "output_type": "stream",
     "text": [
      "Casting output of function array from float64 to float32\n"
     ]
    }
   ],
   "source": [
    "n=4000 if large_instances else 1000\n",
    "hfmIn = Eikonal.dictIn({\n",
    "    'model':'Riemann2',\n",
    "    'metric':Metrics.Riemann.from_cast(Metrics.Isotropic(cp.array(1.),vdim=2)),\n",
    "    'seed':[0.5,0.5],\n",
    "    'exportValues':1,\n",
    "#    'bound_active_blocks':True,\n",
    "    'traits':{\n",
    "        'niter_i':24,'shape_i':(12,12), # Best\n",
    "    }\n",
    "})\n",
    "hfmIn.SetRect([[0,1],[0,1]],dimx=n+1,sampleBoundary=True)"
   ]
  },
  {
   "cell_type": "code",
   "execution_count": 10,
   "metadata": {},
   "outputs": [
    {
     "name": "stdout",
     "output_type": "stream",
     "text": [
      "Setting the kernel traits.\n",
      "Prepating the domain data (shape,metric,...)\n",
      "Preparing the problem rhs (cost, seeds,...)\n",
      "Preparing the GPU kernel\n",
      "Running the eikonal GPU kernel\n",
      "GPU kernel eikonal ran for 0.07550168037414551 seconds, and 86 iterations.\n",
      "Post-Processing\n",
      "--- gpu done, turning to cpu ---\n",
      "Field verbosity defaults to 1\n",
      "Field order defaults to 1\n",
      "Field seedRadius defaults to 0\n",
      "Fast marching solver completed in 0.787 s.\n",
      "Solver time (s). GPU : 0.07550168037414551, CPU : 1.4500000000000002. Device acceleration : 19.20487057790746\n",
      "Max |gpuValues-cpuValues| :  2.91457399725914e-06\n"
     ]
    }
   ],
   "source": [
    "_,cpuOut = RunCompare(hfmIn,check=1e-5)"
   ]
  },
  {
   "cell_type": "code",
   "execution_count": 11,
   "metadata": {},
   "outputs": [],
   "source": [
    "n=200; hfmInS = hfmIn.copy() # Define a small instance for bit-consistency validation\n",
    "hfmInS.SetRect([[0,1],[0,1]],dimx=n+1,sampleBoundary=True)\n",
    "X = hfmInS.Grid()\n",
    "cost = np.prod(np.sin(2*np.pi*X),axis=0)+1.1\n",
    "hfmInS.update({\n",
    "    'metric': Metrics.Riemann.from_cast(Metrics.Isotropic(cost,vdim=2)), # Isotropic but non-constant metric\n",
    "    'verbosity':0,\n",
    "})"
   ]
  },
  {
   "cell_type": "code",
   "execution_count": 11,
   "metadata": {},
   "outputs": [
    {
     "name": "stdout",
     "output_type": "stream",
     "text": [
      "Solver time (s). GPU : 0.016005277633666992, CPU : 0.054. Device acceleration : 3.3738871162354203\n",
      "Max |gpuValues-cpuValues| :  1.2913288426341651e-06\n",
      "\n",
      " --- Variant {'multiprecision': True} ---\n",
      "Solver time (s). GPU : 0.016496658325195312, CPU : 0.051000000000000004. Device acceleration : 3.091535206382241\n",
      "Max |gpuValues-cpuValues| :  4.5230663991979725e-08\n",
      "\n",
      " --- Variant {'seedRadius': 2.0} ---\n",
      "Solver time (s). GPU : 0.01599860191345215, CPU : 0.052. Device acceleration : 3.2502840111470426\n",
      "Max |gpuValues-cpuValues| :  1.2437417652444438e-06\n",
      "\n",
      " --- Variant {'seedRadius': 2.0, 'multiprecision': True} ---\n",
      "Solver time (s). GPU : 0.016500473022460938, CPU : 0.051000000000000004. Device acceleration : 3.0908204831811354\n",
      "Max |gpuValues-cpuValues| :  5.144490700104143e-08\n"
     ]
    }
   ],
   "source": [
    "RunCompare(hfmInS,variants='basic')"
   ]
  },
  {
   "cell_type": "code",
   "execution_count": 12,
   "metadata": {},
   "outputs": [
    {
     "name": "stdout",
     "output_type": "stream",
     "text": [
      "Solver time (s). GPU : 0.015001058578491211, CPU : 0.052. Device acceleration : 3.4664220346795083\n",
      "Max |gpuValues-cpuValues| :  1.2913288426341651e-06\n",
      "\n",
      " --- Variant {'multiprecision': True} ---\n",
      "Solver time (s). GPU : 0.012981891632080078, CPU : 0.054. Device acceleration : 4.159640330578513\n",
      "Max |gpuValues-cpuValues| :  4.5230663991979725e-08\n",
      "\n",
      " --- Variant {'seedRadius': 2.0} ---\n",
      "Solver time (s). GPU : 0.015497922897338867, CPU : 0.051000000000000004. Device acceleration : 3.29076356475855\n",
      "Max |gpuValues-cpuValues| :  1.2437417652444438e-06\n",
      "\n",
      " --- Variant {'seedRadius': 2.0, 'multiprecision': True} ---\n",
      "Solver time (s). GPU : 0.013988256454467773, CPU : 0.051000000000000004. Device acceleration : 3.645915426701437\n",
      "Max |gpuValues-cpuValues| :  5.144490700104143e-08\n",
      "\n",
      " --- Variant {'factoringRadius': 10.0, 'factoringPointChoice': 'Key'} ---\n",
      "Solver time (s). GPU : 0.015999794006347656, CPU : 0.054. Device acceleration : 3.375043452345473\n",
      "Max |gpuValues-cpuValues| :  0.00014084236694447694\n",
      "\n",
      " --- Variant {'factoringRadius': 10.0, 'factoringPointChoice': 'Key', 'multiprecision': True} ---\n",
      "Solver time (s). GPU : 0.016500234603881836, CPU : 0.051000000000000004. Device acceleration : 3.090865143699337\n",
      "Max |gpuValues-cpuValues| :  0.0001408460922347754\n",
      "\n",
      " --- Variant {'order': 2} ---\n",
      "Solver time (s). GPU : 0.01848435401916504, CPU : 0.06899999999999999. Device acceleration : 3.73288673915567\n",
      "Max |gpuValues-cpuValues| :  0.0014198483293996755\n",
      "\n",
      " --- Variant {'order': 2, 'multiprecision': True} ---\n",
      "Solver time (s). GPU : 0.018981456756591797, CPU : 0.065. Device acceleration : 3.424394704448966\n",
      "Max |gpuValues-cpuValues| :  0.0014198483293996755\n",
      "\n",
      " --- Variant {'order': 2, 'seedRadius': 2.0} ---\n",
      "Solver time (s). GPU : 0.017998695373535156, CPU : 0.066. Device acceleration : 3.6669324431727865\n",
      "Max |gpuValues-cpuValues| :  0.0025155697393134946\n",
      "\n",
      " --- Variant {'order': 2, 'seedRadius': 2.0, 'multiprecision': True} ---\n",
      "Solver time (s). GPU : 0.01549983024597168, CPU : 0.066. Device acceleration : 4.2581111504206985\n",
      "Max |gpuValues-cpuValues| :  0.0025155697393134946\n",
      "\n",
      " --- Variant {'order': 2, 'factoringRadius': 10.0, 'factoringPointChoice': 'Key'} ---\n",
      "Solver time (s). GPU : 0.01798558235168457, CPU : 0.066. Device acceleration : 3.669605949335207\n",
      "Max |gpuValues-cpuValues| :  0.0014996085138356818\n",
      "\n",
      " --- Variant {'order': 2, 'factoringRadius': 10.0, 'factoringPointChoice': 'Key', 'multiprecision': True} ---\n",
      "Solver time (s). GPU : 0.019498586654663086, CPU : 0.06899999999999999. Device acceleration : 3.5387180220828287\n",
      "Max |gpuValues-cpuValues| :  0.0014996085138356818\n"
     ]
    }
   ],
   "source": [
    "RunCompare(hfmInS,variants='ext',check=0.004)"
   ]
  },
  {
   "cell_type": "markdown",
   "metadata": {},
   "source": [
    "### 1.2 Smooth anisotropic metric"
   ]
  },
  {
   "cell_type": "code",
   "execution_count": 12,
   "metadata": {},
   "outputs": [],
   "source": [
    "n=4000 if large_instances else 1000\n",
    "hfmIn = Eikonal.dictIn({\n",
    "    'model':'Riemann2',\n",
    "    'seed':[0.,0.],\n",
    "    'exportValues':1,\n",
    "#    'bound_active_blocks':True,\n",
    "    'traits':{\n",
    "        'niter_i':16,'shape_i':(8,8), # Best\n",
    "    },\n",
    "})\n",
    "hfmIn.SetRect([[-np.pi,np.pi],[-np.pi,np.pi]],dimx=n+1,sampleBoundary=True)"
   ]
  },
  {
   "cell_type": "code",
   "execution_count": 13,
   "metadata": {},
   "outputs": [],
   "source": [
    "def height(x): return np.sin(x[0])*np.sin(x[1])\n",
    "def surface_metric(x,z,mu):\n",
    "    ndim,shape = x.ndim-1,x.shape[1:]\n",
    "    x_ad = ad.Dense.identity(constant=x,shape_free=(ndim,))\n",
    "    tensors = lp.outer_self( z(x_ad).gradient() ) + mu**-2 * fd.as_field(cp.eye(ndim),shape)\n",
    "    return Metrics.Riemann(tensors)"
   ]
  },
  {
   "cell_type": "code",
   "execution_count": 14,
   "metadata": {},
   "outputs": [
    {
     "name": "stdout",
     "output_type": "stream",
     "text": [
      "Casting output of function eye from float64 to float32\n"
     ]
    }
   ],
   "source": [
    "hfmIn['metric'] = surface_metric(hfmIn.Grid(),height,mu=anisotropy_bound)"
   ]
  },
  {
   "cell_type": "code",
   "execution_count": 15,
   "metadata": {},
   "outputs": [
    {
     "name": "stdout",
     "output_type": "stream",
     "text": [
      "Setting the kernel traits.\n",
      "Prepating the domain data (shape,metric,...)\n",
      "Preparing the problem rhs (cost, seeds,...)\n",
      "Preparing the GPU kernel\n",
      "Running the eikonal GPU kernel\n",
      "GPU kernel eikonal ran for 0.2395000457763672 seconds, and 254 iterations.\n",
      "Post-Processing\n",
      "--- gpu done, turning to cpu ---\n",
      "Field verbosity defaults to 1\n",
      "Field order defaults to 1\n",
      "Field seedRadius defaults to 0\n",
      "Fast marching solver completed in 1.429 s.\n",
      "Solver time (s). GPU : 0.2395000457763672, CPU : 2.503. Device acceleration : 10.450937459682878\n",
      "Max |gpuValues-cpuValues| :  5.266159390582281e-05\n"
     ]
    }
   ],
   "source": [
    "gpuOut,cpuOut = RunCompare(hfmIn,check=False)"
   ]
  },
  {
   "cell_type": "code",
   "execution_count": 17,
   "metadata": {},
   "outputs": [
    {
     "name": "stdout",
     "output_type": "stream",
     "text": [
      "Casting output of function eye from float64 to float32\n"
     ]
    }
   ],
   "source": [
    "n=200; hfmInS = hfmIn.copy() # Define a small instance for bit-consistency validation\n",
    "hfmInS.SetRect([[-np.pi,np.pi],[-np.pi,np.pi]],dimx=n+1,sampleBoundary=True)\n",
    "hfmInS.update({\n",
    "    'metric' : surface_metric(hfmInS.Grid(),height,mu=anisotropy_bound), \n",
    "    'verbosity':0,\n",
    "})"
   ]
  },
  {
   "cell_type": "code",
   "execution_count": 18,
   "metadata": {},
   "outputs": [
    {
     "name": "stdout",
     "output_type": "stream",
     "text": [
      "Solver time (s). GPU : 0.030503034591674805, CPU : 0.088. Device acceleration : 2.8849588632082477\n",
      "Max |gpuValues-cpuValues| :  7.824160913716405e-06\n",
      "\n",
      " --- Variant {'multiprecision': True} ---\n",
      "Solver time (s). GPU : 0.043500423431396484, CPU : 0.091. Device acceleration : 2.091933659991011\n",
      "Max |gpuValues-cpuValues| :  1.7039630373361092e-07\n",
      "\n",
      " --- Variant {'seedRadius': 2.0} ---\n",
      "Solver time (s). GPU : 0.03648114204406738, CPU : 0.091. Device acceleration : 2.494439452856947\n",
      "Max |gpuValues-cpuValues| :  7.856240023862426e-06\n",
      "\n",
      " --- Variant {'seedRadius': 2.0, 'multiprecision': True} ---\n",
      "Solver time (s). GPU : 0.04350090026855469, CPU : 0.089. Device acceleration : 2.0459346691805145\n",
      "Max |gpuValues-cpuValues| :  1.740857225041026e-07\n"
     ]
    }
   ],
   "source": [
    "RunCompare(hfmInS,variants='basic')"
   ]
  },
  {
   "cell_type": "markdown",
   "metadata": {},
   "source": [
    "Due to the different switching criteria of the second order scheme, we do not have bit consistency in that case. The results are nevertheless quite close. Note also that we do not deactivate the `decreasing` trait here, contrary to the isotropic case, because the scheme often does not converge without it.\n",
    "\n",
    "**Bottom line.** Second order accuracy for anisotropic metrics on the GPU is very experimental, and not much reliable, at this stage. Further investigation is needed on the matter."
   ]
  },
  {
   "cell_type": "code",
   "execution_count": 19,
   "metadata": {},
   "outputs": [
    {
     "name": "stdout",
     "output_type": "stream",
     "text": [
      "Solver time (s). GPU : 0.0299990177154541, CPU : 0.093. Device acceleration : 3.100101506060004\n",
      "Max |gpuValues-cpuValues| :  7.824160913716405e-06\n",
      "\n",
      " --- Variant {'multiprecision': True} ---\n",
      "Solver time (s). GPU : 0.04399871826171875, CPU : 0.091. Device acceleration : 2.068242066932547\n",
      "Max |gpuValues-cpuValues| :  1.7039630373361092e-07\n",
      "\n",
      " --- Variant {'seedRadius': 2.0} ---\n",
      "Solver time (s). GPU : 0.03699779510498047, CPU : 0.091. Device acceleration : 2.4596060317051167\n",
      "Max |gpuValues-cpuValues| :  7.856240023862426e-06\n",
      "\n",
      " --- Variant {'seedRadius': 2.0, 'multiprecision': True} ---\n",
      "Solver time (s). GPU : 0.04350018501281738, CPU : 0.088. Device acceleration : 2.0229799016733074\n",
      "Max |gpuValues-cpuValues| :  1.740857225041026e-07\n",
      "\n",
      " --- Variant {'factoringRadius': 10.0, 'factoringPointChoice': 'Key'} ---\n",
      "Solver time (s). GPU : 0.036977291107177734, CPU : 0.092. Device acceleration : 2.4880135143848245\n",
      "Max |gpuValues-cpuValues| :  0.0002934934470091993\n",
      "\n",
      " --- Variant {'factoringRadius': 10.0, 'factoringPointChoice': 'Key', 'multiprecision': True} ---\n",
      "Solver time (s). GPU : 0.04449462890625, CPU : 0.089. Device acceleration : 2.000241426611797\n",
      "Max |gpuValues-cpuValues| :  0.0002934934470091993\n",
      "\n",
      " --- Variant {'order': 2} ---\n",
      "Solver time (s). GPU : 0.04349827766418457, CPU : 0.11. Device acceleration : 2.5288357587218067\n",
      "Max |gpuValues-cpuValues| :  0.07964998445394911\n",
      "\n",
      " --- Variant {'order': 2, 'multiprecision': True} ---\n",
      "Solver time (s). GPU : 0.05749821662902832, CPU : 0.11399999999999999. Device acceleration : 1.9826701884601827\n",
      "Max |gpuValues-cpuValues| :  0.07953489427870108\n",
      "\n",
      " --- Variant {'order': 2, 'seedRadius': 2.0} ---\n",
      "Solver time (s). GPU : 0.0429990291595459, CPU : 0.113. Device acceleration : 2.627966310139672\n",
      "Max |gpuValues-cpuValues| :  0.07792998729784895\n",
      "\n",
      " --- Variant {'order': 2, 'seedRadius': 2.0, 'multiprecision': True} ---\n",
      "Solver time (s). GPU : 0.05499672889709473, CPU : 0.11000000000000001. Device acceleration : 2.0001189562714323\n",
      "Max |gpuValues-cpuValues| :  0.07841037362601022\n",
      "\n",
      " --- Variant {'order': 2, 'factoringRadius': 10.0, 'factoringPointChoice': 'Key'} ---\n",
      "Solver time (s). GPU : 0.04400372505187988, CPU : 0.11499999999999999. Device acceleration : 2.6134151112074333\n",
      "Max |gpuValues-cpuValues| :  0.08000503588666064\n",
      "\n",
      " --- Variant {'order': 2, 'factoringRadius': 10.0, 'factoringPointChoice': 'Key', 'multiprecision': True} ---\n",
      "Solver time (s). GPU : 0.04398036003112793, CPU : 0.11599999999999999. Device acceleration : 2.6375409368613356\n",
      "Max |gpuValues-cpuValues| :  0.07999381992090315\n"
     ]
    }
   ],
   "source": [
    "RunCompare(hfmInS,variants='ext',check=0.1)"
   ]
  },
  {
   "cell_type": "markdown",
   "metadata": {},
   "source": [
    "If one removes enforced monotonicity, obtaining the scheme convergence is harder, and requires setting some other parameters carefully and conservatively.\n",
    "\n",
    "<!---\n",
    "hfmInS.update({\n",
    "    'order2_threshold':0.03,\n",
    "    'verbosity':1,\n",
    "    'traits':{'decreasing_macro':0,'order2_threshold_weighted_macro':1},\n",
    "    'metric' : surface_metric(hfmInS.Grid(),height),\n",
    "    'multiprecision':False,\n",
    "    'tol':1e-6\n",
    "})\n",
    "--->"
   ]
  },
  {
   "cell_type": "code",
   "execution_count": 20,
   "metadata": {},
   "outputs": [],
   "source": [
    "hfmInS.update({\n",
    "    'tol':1e-6, # Tolerance for the convergence of the fixed point solver\n",
    "    'order2_threshold':0.03, # Use first order scheme if second order difference is too large\n",
    "    'traits':{'decreasing_macro':0}, # Do not enforce monotonicity\n",
    "})"
   ]
  },
  {
   "cell_type": "code",
   "execution_count": 21,
   "metadata": {},
   "outputs": [
    {
     "name": "stdout",
     "output_type": "stream",
     "text": [
      "Solver time (s). GPU : 0.036493539810180664, CPU : 0.094. Device acceleration : 2.575798360173782\n",
      "Max |gpuValues-cpuValues| :  1.1519648889790624e-05\n",
      "\n",
      " --- Variant {'multiprecision': True} ---\n",
      "Solver time (s). GPU : 0.040997982025146484, CPU : 0.088. Device acceleration : 2.1464471091778226\n",
      "Max |gpuValues-cpuValues| :  1.99715544513257e-06\n",
      "\n",
      " --- Variant {'seedRadius': 2.0} ---\n",
      "Solver time (s). GPU : 0.03650164604187012, CPU : 0.089. Device acceleration : 2.438246206702852\n",
      "Max |gpuValues-cpuValues| :  1.1492123355161254e-05\n",
      "\n",
      " --- Variant {'seedRadius': 2.0, 'multiprecision': True} ---\n",
      "Solver time (s). GPU : 0.033480167388916016, CPU : 0.088. Device acceleration : 2.628421745260849\n",
      "Max |gpuValues-cpuValues| :  1.9622250657658213e-06\n",
      "\n",
      " --- Variant {'factoringRadius': 10.0, 'factoringPointChoice': 'Key'} ---\n",
      "Solver time (s). GPU : 0.036997079849243164, CPU : 0.089. Device acceleration : 2.405595262184473\n",
      "Max |gpuValues-cpuValues| :  0.0002934934470091993\n",
      "\n",
      " --- Variant {'factoringRadius': 10.0, 'factoringPointChoice': 'Key', 'multiprecision': True} ---\n",
      "Solver time (s). GPU : 0.040996551513671875, CPU : 0.087. Device acceleration : 2.122129710616916\n",
      "Max |gpuValues-cpuValues| :  0.0002934934470091993\n",
      "\n",
      " --- Variant {'order': 2} ---\n",
      "Solver time (s). GPU : 0.041001319885253906, CPU : 0.111. Device acceleration : 2.707229921149955\n",
      "Max |gpuValues-cpuValues| :  0.13634278684117818\n",
      "\n",
      " --- Variant {'order': 2, 'multiprecision': True} ---\n",
      "Solver time (s). GPU : 0.03949594497680664, CPU : 0.11699999999999999. Device acceleration : 2.9623294256842407\n",
      "Max |gpuValues-cpuValues| :  0.13634135632970357\n",
      "\n",
      " --- Variant {'order': 2, 'seedRadius': 2.0} ---\n",
      "Solver time (s). GPU : 0.03349661827087402, CPU : 0.11000000000000001. Device acceleration : 3.283913591231005\n",
      "Max |gpuValues-cpuValues| :  0.13520754873612928\n",
      "\n",
      " --- Variant {'order': 2, 'seedRadius': 2.0, 'multiprecision': True} ---\n",
      "Solver time (s). GPU : 0.04048037528991699, CPU : 0.114. Device acceleration : 2.816179424808731\n",
      "Max |gpuValues-cpuValues| :  0.1352026611552577\n",
      "\n",
      " --- Variant {'order': 2, 'factoringRadius': 10.0, 'factoringPointChoice': 'Key'} ---\n",
      "Solver time (s). GPU : 0.04050016403198242, CPU : 0.11699999999999999. Device acceleration : 2.8888771884382174\n",
      "Max |gpuValues-cpuValues| :  0.13797125082943307\n",
      "\n",
      " --- Variant {'order': 2, 'factoringRadius': 10.0, 'factoringPointChoice': 'Key', 'multiprecision': True} ---\n",
      "Solver time (s). GPU : 0.04349708557128906, CPU : 0.11100000000000002. Device acceleration : 2.5518951107213335\n",
      "Max |gpuValues-cpuValues| :  0.13797059517834054\n"
     ]
    }
   ],
   "source": [
    "RunCompare(hfmInS,variants='ext',check=0.15)"
   ]
  },
  {
   "cell_type": "code",
   "execution_count": null,
   "metadata": {},
   "outputs": [],
   "source": [
    "# TODO : discontinuous metric"
   ]
  },
  {
   "cell_type": "markdown",
   "metadata": {},
   "source": [
    "## 2. Three dimensions"
   ]
  },
  {
   "cell_type": "markdown",
   "metadata": {},
   "source": [
    "### 2.1 Smooth anisotropic metric\n",
    "\n",
    "We generalize the two dimensional test case, although it does not much make geometrical sense anymore: we are computing geodesics in a three dimensional volume viewed as an hypersurface embedded in four dimensional Euclidean space."
   ]
  },
  {
   "cell_type": "code",
   "execution_count": 16,
   "metadata": {},
   "outputs": [],
   "source": [
    "n=200 if large_instances else 100\n",
    "hfmIn = Eikonal.dictIn({\n",
    "    'model':'Riemann3',\n",
    "    'seed':[0.,0.,0.],\n",
    "    'exportValues':1,\n",
    "#    'bound_active_blocks':True,\n",
    "})\n",
    "hfmIn.SetRect([[-np.pi,np.pi],[-np.pi,np.pi],[-np.pi,np.pi]],dimx=n+1,sampleBoundary=True)"
   ]
  },
  {
   "cell_type": "code",
   "execution_count": 17,
   "metadata": {},
   "outputs": [],
   "source": [
    "def height3(x): return np.sin(x[0])*np.sin(x[1])*np.sin(x[2])"
   ]
  },
  {
   "cell_type": "code",
   "execution_count": 18,
   "metadata": {},
   "outputs": [
    {
     "name": "stdout",
     "output_type": "stream",
     "text": [
      "Casting output of function eye from float64 to float32\n"
     ]
    }
   ],
   "source": [
    "hfmIn['metric'] = surface_metric(hfmIn.Grid(),height3,mu=anisotropy_bound)"
   ]
  },
  {
   "cell_type": "code",
   "execution_count": 19,
   "metadata": {},
   "outputs": [
    {
     "name": "stdout",
     "output_type": "stream",
     "text": [
      "Setting the kernel traits.\n",
      "Prepating the domain data (shape,metric,...)\n",
      "Preparing the problem rhs (cost, seeds,...)\n",
      "Preparing the GPU kernel\n",
      "Running the eikonal GPU kernel\n",
      "GPU kernel eikonal ran for 0.13748598098754883 seconds, and 60 iterations.\n",
      "Post-Processing\n",
      "--- gpu done, turning to cpu ---\n",
      "Field verbosity defaults to 1\n",
      "Field order defaults to 1\n",
      "Field seedRadius defaults to 0\n",
      "Fast marching solver completed in 6.013 s.\n",
      "Solver time (s). GPU : 0.13748598098754883, CPU : 9.193. Device acceleration : 66.8649991364032\n",
      "Max |gpuValues-cpuValues| :  7.222954335972531e-06\n"
     ]
    }
   ],
   "source": [
    "gpuOut,cpuOut = RunCompare(hfmIn,check=1e-4)"
   ]
  },
  {
   "cell_type": "code",
   "execution_count": 29,
   "metadata": {},
   "outputs": [
    {
     "name": "stdout",
     "output_type": "stream",
     "text": [
      "Casting output of function eye from float64 to float32\n"
     ]
    }
   ],
   "source": [
    "n=20; hfmInS = hfmIn.copy() # Define a small instance for bit-consistency validation\n",
    "hfmInS.SetRect([[-np.pi,np.pi],[-np.pi,np.pi],[-np.pi,np.pi]],dimx=n+1,sampleBoundary=True)\n",
    "hfmInS.update({\n",
    "    'metric' : surface_metric(hfmInS.Grid(),height,mu=anisotropy_bound), \n",
    "    'verbosity':0,\n",
    "})"
   ]
  },
  {
   "cell_type": "code",
   "execution_count": 30,
   "metadata": {},
   "outputs": [
    {
     "name": "stdout",
     "output_type": "stream",
     "text": [
      "Solver time (s). GPU : 0.008499622344970703, CPU : 0.038000000000000006. Device acceleration : 4.470786872370267\n",
      "Max |gpuValues-cpuValues| :  2.67317871505135e-07\n",
      "\n",
      " --- Variant {'multiprecision': True} ---\n",
      "Solver time (s). GPU : 0.008997201919555664, CPU : 0.038. Device acceleration : 4.223535310173039\n",
      "Max |gpuValues-cpuValues| :  4.1609422674060426e-07\n",
      "\n",
      " --- Variant {'seedRadius': 2.0} ---\n",
      "Solver time (s). GPU : 0.006497621536254883, CPU : 0.036000000000000004. Device acceleration : 5.540488900304554\n",
      "Max |gpuValues-cpuValues| :  2.0110513232474148e-07\n",
      "\n",
      " --- Variant {'seedRadius': 2.0, 'multiprecision': True} ---\n",
      "Solver time (s). GPU : 0.009000062942504883, CPU : 0.035. Device acceleration : 3.8888616917004426\n",
      "Max |gpuValues-cpuValues| :  4.477440634920171e-07\n"
     ]
    }
   ],
   "source": [
    "RunCompare(hfmInS,variants='basic')"
   ]
  },
  {
   "cell_type": "markdown",
   "metadata": {},
   "source": [
    "Due to the different switching criteria of the second order scheme, we do not have bit consistency in that case. The results are nevertheless quite close."
   ]
  },
  {
   "cell_type": "code",
   "execution_count": 31,
   "metadata": {},
   "outputs": [
    {
     "name": "stdout",
     "output_type": "stream",
     "text": [
      "Solver time (s). GPU : 0.009010076522827148, CPU : 0.038. Device acceleration : 4.217500251382604\n",
      "Max |gpuValues-cpuValues| :  2.67317871505135e-07\n",
      "\n",
      " --- Variant {'multiprecision': True} ---\n",
      "Solver time (s). GPU : 0.0089874267578125, CPU : 0.037000000000000005. Device acceleration : 4.116862478777589\n",
      "Max |gpuValues-cpuValues| :  4.1609422674060426e-07\n",
      "\n",
      " --- Variant {'seedRadius': 2.0} ---\n",
      "Solver time (s). GPU : 0.0069980621337890625, CPU : 0.037000000000000005. Device acceleration : 5.287177977650587\n",
      "Max |gpuValues-cpuValues| :  2.0110513232474148e-07\n",
      "\n",
      " --- Variant {'seedRadius': 2.0, 'multiprecision': True} ---\n",
      "Solver time (s). GPU : 0.00799870491027832, CPU : 0.037000000000000005. Device acceleration : 4.6257488449730255\n",
      "Max |gpuValues-cpuValues| :  4.477440634920171e-07\n",
      "\n",
      " --- Variant {'factoringRadius': 10.0, 'factoringPointChoice': 'Key'} ---\n",
      "Solver time (s). GPU : 0.007008075714111328, CPU : 0.045. Device acceleration : 6.421163502755665\n",
      "Max |gpuValues-cpuValues| :  0.01476599818996377\n",
      "\n",
      " --- Variant {'factoringRadius': 10.0, 'factoringPointChoice': 'Key', 'multiprecision': True} ---\n",
      "Solver time (s). GPU : 0.007977962493896484, CPU : 0.045. Device acceleration : 5.640537923614846\n",
      "Max |gpuValues-cpuValues| :  0.014766027992286213\n",
      "\n",
      " --- Variant {'order': 2} ---\n",
      "Solver time (s). GPU : 0.010503530502319336, CPU : 0.053000000000000005. Device acceleration : 5.045922415162865\n",
      "Max |gpuValues-cpuValues| :  0.07289490077301941\n",
      "\n",
      " --- Variant {'order': 2, 'multiprecision': True} ---\n",
      "Solver time (s). GPU : 0.011001110076904297, CPU : 0.05. Device acceleration : 4.544995882276451\n",
      "Max |gpuValues-cpuValues| :  0.07289496037766419\n",
      "\n",
      " --- Variant {'order': 2, 'seedRadius': 2.0} ---\n",
      "Solver time (s). GPU : 0.009499073028564453, CPU : 0.05. Device acceleration : 5.263671502434617\n",
      "Max |gpuValues-cpuValues| :  0.06854310791233531\n",
      "\n",
      " --- Variant {'order': 2, 'seedRadius': 2.0, 'multiprecision': True} ---\n",
      "Solver time (s). GPU : 0.009983301162719727, CPU : 0.051000000000000004. Device acceleration : 5.108530652210256\n",
      "Max |gpuValues-cpuValues| :  0.06854310791233531\n",
      "\n",
      " --- Variant {'order': 2, 'factoringRadius': 10.0, 'factoringPointChoice': 'Key'} ---\n",
      "Solver time (s). GPU : 0.00999903678894043, CPU : 0.053. Device acceleration : 5.300510551038413\n",
      "Max |gpuValues-cpuValues| :  0.03978457489889492\n",
      "\n",
      " --- Variant {'order': 2, 'factoringRadius': 10.0, 'factoringPointChoice': 'Key', 'multiprecision': True} ---\n",
      "Solver time (s). GPU : 0.011998414993286133, CPU : 0.053. Device acceleration : 4.417250114257327\n",
      "Max |gpuValues-cpuValues| :  0.040482753905471236\n"
     ]
    }
   ],
   "source": [
    "RunCompare(hfmInS,variants='ext',check=0.1)"
   ]
  },
  {
   "cell_type": "code",
   "execution_count": null,
   "metadata": {},
   "outputs": [],
   "source": []
  }
 ],
 "metadata": {
  "kernelspec": {
   "display_name": "Python 3",
   "language": "python",
   "name": "python3"
  },
  "language_info": {
   "codemirror_mode": {
    "name": "ipython",
    "version": 3
   },
   "file_extension": ".py",
   "mimetype": "text/x-python",
   "name": "python",
   "nbconvert_exporter": "python",
   "pygments_lexer": "ipython3",
   "version": "3.7.6"
  }
 },
 "nbformat": 4,
 "nbformat_minor": 4
}

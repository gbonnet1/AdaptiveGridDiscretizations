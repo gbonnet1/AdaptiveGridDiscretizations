{
 "cells": [
  {
   "cell_type": "markdown",
   "metadata": {},
   "source": [
    "# Adaptive PDE discretizations on cartesian grids \n",
    "## Volume : GPU accelerated methods\n",
    "## Part : High dimensional problems\n",
    "## Chapter : Minimal path for a rolling ball"
   ]
  },
  {
   "cell_type": "markdown",
   "metadata": {},
   "source": [
    "In this notebook, we present a numerical solution to the rolling ball problem: find the optimal way to roll a ball on a surface, so that it reaches a given position and orientation. The main properties of this problem are as follows:\n",
    "* *High dimensional.* The configuration space of the system is 5 dimensional: three dimensions for the orientation of the ball, and two dimensions for its position on the surface. Arguably, 5 dimensions is (slightly past) the threshold where discretizations on uniform grids loose their relevance.\n",
    "* *Strongly anisotropic* The problem is of sub-Riemannian type, and its anisotropy is fully generic, not aligned with the axes of the discretization grid.\n",
    "\n",
    "The rolling ball problem admits numerous variants. One may for instance roll a ball along a one dimensional line, or on a more complex surface such as another ball."
   ]
  },
  {
   "cell_type": "markdown",
   "metadata": {},
   "source": [
    "## 0. Importing the required libraries"
   ]
  },
  {
   "cell_type": "code",
   "execution_count": 1,
   "metadata": {},
   "outputs": [],
   "source": [
    "import sys; sys.path.insert(0,\"../..\")"
   ]
  },
  {
   "cell_type": "code",
   "execution_count": 2,
   "metadata": {},
   "outputs": [],
   "source": [
    "from agd import AutomaticDifferentiation as ad\n",
    "from agd import LinearParallel as lp\n",
    "from agd import Metrics\n",
    "from agd import FiniteDifferences as fd\n",
    "norm = ad.Optimization.norm"
   ]
  },
  {
   "cell_type": "code",
   "execution_count": 3,
   "metadata": {},
   "outputs": [],
   "source": [
    "import numpy as np; xp=np\n",
    "import scipy.linalg\n",
    "from scipy.integrate import odeint\n",
    "np.set_printoptions(edgeitems=30, linewidth=100000, \n",
    "    formatter=dict(float=lambda x: \"%5.3g\" % x))"
   ]
  },
  {
   "cell_type": "code",
   "execution_count": null,
   "metadata": {},
   "outputs": [],
   "source": []
  },
  {
   "cell_type": "markdown",
   "metadata": {},
   "source": [
    "## 1. Description of the models"
   ]
  },
  {
   "cell_type": "code",
   "execution_count": 4,
   "metadata": {},
   "outputs": [],
   "source": [
    "ball_state = np.array([1,2,3])/4 # Some arbitrary state\n",
    "line_state  = np.concatenate((np.zeros(1),ball_state)) # Some arbitrary line-ball state\n",
    "plane_state = np.concatenate((np.zeros(2),ball_state)) # Some arbitrary plane-ball state"
   ]
  },
  {
   "cell_type": "markdown",
   "metadata": {},
   "source": [
    "### 1.1 Conversions"
   ]
  },
  {
   "cell_type": "markdown",
   "metadata": {},
   "source": [
    "**Rotations and unit quaternions**"
   ]
  },
  {
   "cell_type": "code",
   "execution_count": 5,
   "metadata": {},
   "outputs": [],
   "source": [
    "def rotation_from_quaternion(q):\n",
    "    \"\"\"Produces the rotation associated with a unit quaternion.\"\"\"\n",
    "    qr,qi,qj,qk = q\n",
    "    identity = fd.as_field(xp.eye(3),qr.shape,depth=2)\n",
    "    return identity + 2*ad.array([\n",
    "        [-(qj**2+qk**2), qi*qj-qk*qr, qi*qk+qj*qr],\n",
    "        [qi*qj+qk*qr, -(qi**2+qk**2), qj*qk-qi*qr],\n",
    "        [qi*qk-qj*qr, qj*qk+qi*qr, -(qi**2+qj**2)]])\n",
    "def quaternion_from_rotation(r):\n",
    "    \"\"\"Produces the unit quaternion, with positive real part, associated with a rotation.\"\"\"\n",
    "    qr = np.sqrt(lp.trace(r)+1.)/2.\n",
    "    qi = (r[2,1]-r[1,2])/(4*qr)\n",
    "    qj = (r[0,2]-r[2,0])/(4*qr)\n",
    "    qk = (r[1,0]-r[0,1])/(4*qr)\n",
    "    return ad.array([qr,qi,qj,qk])"
   ]
  },
  {
   "cell_type": "markdown",
   "metadata": {},
   "source": [
    "**Euclidean space and quaternions**"
   ]
  },
  {
   "cell_type": "code",
   "execution_count": 89,
   "metadata": {},
   "outputs": [],
   "source": [
    "def quaternion_from_euclidean(e):\n",
    "    \"\"\"Produces a point in the unit sphere by projecting a point in the equator plane.\"\"\"\n",
    "    e2 = lp.dot_VV(e,e)\n",
    "    return ad.array([1.-e2,*(2*e)])/(1.+e2)\n",
    "def euclidean_from_quaternion(q):\n",
    "    \"\"\"Produces a point in the equator plane from a point in the unit sphere.\"\"\"\n",
    "    e2 = (1-q[0])/(1+q[0])\n",
    "    return q[1:]*((1+e2)/2.)"
   ]
  },
  {
   "cell_type": "code",
   "execution_count": 7,
   "metadata": {},
   "outputs": [],
   "source": [
    "def euclidean_from_rotation(r): return euclidean_from_quaternion(quaternion_from_rotation(r))\n",
    "def rotation_from_euclidean(e): return rotation_from_quaternion(quaternion_from_euclidean(e))"
   ]
  },
  {
   "cell_type": "code",
   "execution_count": 8,
   "metadata": {},
   "outputs": [],
   "source": [
    "def check(e):\n",
    "    q  = quaternion_from_euclidean(e)\n",
    "    r  = rotation_from_quaternion(q)\n",
    "    q_ = quaternion_from_rotation(r)\n",
    "    e_ = euclidean_from_quaternion(q_)\n",
    "    assert np.allclose( norm(q,axis=0), 1.)\n",
    "    assert np.allclose(lp.dot_AA(lp.transpose(r),r),np.eye(3))\n",
    "    if norm(e,axis=0)<1: \n",
    "        assert np.allclose(q,q_)\n",
    "        assert np.allclose(e,e_)"
   ]
  },
  {
   "cell_type": "code",
   "execution_count": 66,
   "metadata": {},
   "outputs": [],
   "source": [
    "check(ball_state)"
   ]
  },
  {
   "cell_type": "markdown",
   "metadata": {},
   "source": [
    "**Antisymmetric matrices and their exponentials**"
   ]
  },
  {
   "cell_type": "code",
   "execution_count": 10,
   "metadata": {},
   "outputs": [],
   "source": [
    "def antisym(a,b,c):\n",
    "    z=np.zeros_like(a)\n",
    "    return ad.array([[z, -c, b], [c, z, -a], [-b, a, z]])\n",
    "def exp_antisym(a,b,c):\n",
    "    \"\"\"Matrix exponential of antisym(a,b,c)\"\"\"\n",
    "    s = ad.asarray(a**2+b**2+c**2)\n",
    "    s[s==0]=1e-20 # Same trick as in numpy's sinc function ...\n",
    "    sq = np.sqrt(s)\n",
    "    co,si = np.cos(sq),np.sin(sq)\n",
    "    cosc,sinc = (1-co)/s,si/sq    \n",
    "    return ad.array([\n",
    "        [co+cosc*a**2, cosc*a*b-sinc*c, cosc*a*c+sinc*b],\n",
    "        [cosc*a*b+sinc*c, co+cosc*b**2, cosc*b*c-sinc*a],\n",
    "        [cosc*a*c-sinc*b, cosc*b*c+sinc*a, co+cosc*c**2]])"
   ]
  },
  {
   "cell_type": "code",
   "execution_count": 11,
   "metadata": {},
   "outputs": [],
   "source": [
    "assert np.allclose(exp_antisym(1,2,3),scipy.linalg.expm(antisym(1,2,3)))"
   ]
  },
  {
   "cell_type": "markdown",
   "metadata": {},
   "source": [
    "### 1.2 Action of a control on a state\n",
    "\n",
    "In this notebook, controls are antisymmetric matrices described by their coordinates in $R^3$. They act additively on the physical state, and multiplicatively (through their exponential) on the angular state. \n",
    "\n",
    "The action of a constant control during unit time is explicit, hence does not need to be numerically integrated. In order to recover the flow, one may simply apply an infinitesimal control during a unit time. The flow may also be obtained directly, see the end of this subsection."
   ]
  },
  {
   "cell_type": "code",
   "execution_count": 12,
   "metadata": {},
   "outputs": [],
   "source": [
    "def advance(state,control):\n",
    "    \"\"\"Move from a state to another by applying a control during a unit time\"\"\"\n",
    "    state,control = map(ad.asarray,(state,control))\n",
    "    state_physical = state[:-3]\n",
    "    state_physical = state_physical + 0.25*control[:len(state_physical)] # Additive action on the physical state\n",
    "    \n",
    "    state_angular = rotation_from_euclidean(state[-3:])\n",
    "    state_angular = lp.dot_AA(state_angular,exp_antisym(*control)) # Left invariant action\n",
    "    \n",
    "    return np.concatenate([state_physical,euclidean_from_rotation(state_angular)],axis=0)"
   ]
  },
  {
   "cell_type": "code",
   "execution_count": 91,
   "metadata": {},
   "outputs": [
    {
     "data": {
      "text/plain": [
       "(denseAD(array([-0.01,     0,     0]),\n",
       " array([[ 0.25],\n",
       "        [    0],\n",
       "        [    0]])),)"
      ]
     },
     "execution_count": 91,
     "metadata": {},
     "output_type": "execute_result"
    }
   ],
   "source": [
    "δ = ad.Dense.identity(constant=0.)\n",
    "advance([100,0,0],[δ,0,0]) # Issue : we are switching hemispheres...\n",
    "#rotation_from_euclidean(np.array([1,0,0]))"
   ]
  },
  {
   "cell_type": "markdown",
   "metadata": {},
   "source": [
    "Close to the origin, the three controls act independently on each coordinate of the euclidean parametrization of the sphere."
   ]
  },
  {
   "cell_type": "code",
   "execution_count": 13,
   "metadata": {},
   "outputs": [
    {
     "data": {
      "text/plain": [
       "denseAD(array([    0,     0,     0]),\n",
       "array([[ 0.25],\n",
       "       [    0],\n",
       "       [    0]]))"
      ]
     },
     "execution_count": 13,
     "metadata": {},
     "output_type": "execute_result"
    }
   ],
   "source": [
    "δ = ad.Dense.identity(constant=0.)\n",
    "advance([0,0,0],[δ,0,0])"
   ]
  },
  {
   "cell_type": "code",
   "execution_count": 14,
   "metadata": {},
   "outputs": [
    {
     "data": {
      "text/plain": [
       "denseAD(array([    0,     0,     0]),\n",
       "array([[    0],\n",
       "       [ 0.25],\n",
       "       [    0]]))"
      ]
     },
     "execution_count": 14,
     "metadata": {},
     "output_type": "execute_result"
    }
   ],
   "source": [
    "advance([0,0,0],[0,δ,0])"
   ]
  },
  {
   "cell_type": "code",
   "execution_count": 15,
   "metadata": {},
   "outputs": [
    {
     "data": {
      "text/plain": [
       "denseAD(array([    0,     0,     0]),\n",
       "array([[    0],\n",
       "       [    0],\n",
       "       [ 0.25]]))"
      ]
     },
     "execution_count": 15,
     "metadata": {},
     "output_type": "execute_result"
    }
   ],
   "source": [
    "advance([0,0,0],[0,0,δ])"
   ]
  },
  {
   "cell_type": "markdown",
   "metadata": {},
   "source": [
    "They also act on the plane or line parametrization, if present."
   ]
  },
  {
   "cell_type": "code",
   "execution_count": 16,
   "metadata": {},
   "outputs": [
    {
     "data": {
      "text/plain": [
       "denseAD(array([    0,     0,     0,     0,     0]),\n",
       "array([[ 0.25],\n",
       "       [    0],\n",
       "       [ 0.25],\n",
       "       [    0],\n",
       "       [    0]]))"
      ]
     },
     "execution_count": 16,
     "metadata": {},
     "output_type": "execute_result"
    }
   ],
   "source": [
    "advance([0,0,0,0,0],[δ,0,0])"
   ]
  },
  {
   "cell_type": "code",
   "execution_count": 17,
   "metadata": {},
   "outputs": [
    {
     "data": {
      "text/plain": [
       "denseAD(array([    0,     0,     0,     0,     0]),\n",
       "array([[    0],\n",
       "       [ 0.25],\n",
       "       [    0],\n",
       "       [ 0.25],\n",
       "       [    0]]))"
      ]
     },
     "execution_count": 17,
     "metadata": {},
     "output_type": "execute_result"
    }
   ],
   "source": [
    "advance([0,0,0,0,0],[0,δ,0])"
   ]
  },
  {
   "cell_type": "markdown",
   "metadata": {},
   "source": [
    "More complex motions, known as commutators, are needed to control the sphere and the plane independently, or to control the sphere using only two of the three available controls. \n",
    "\n",
    "Before turning to these more complex motions, we provide, as promised, the direct flow expression."
   ]
  },
  {
   "cell_type": "code",
   "execution_count": 18,
   "metadata": {},
   "outputs": [],
   "source": [
    "def flow(state,control):\n",
    "    \"\"\"Flow vector for a given state and control\"\"\"\n",
    "    state,control = map(ad.asarray,(state,control))\n",
    "    state_physical = state[:-3]\n",
    "    flow_physical = 0.25*control[:len(state_physical)] # Additive action on the physical state\n",
    "    \n",
    "    state_angular = rotation_from_euclidean(state[-3:])\n",
    "    flow_angular = lp.dot_AA(state_angular,antisym(*control)) # Left invariant action\n",
    "\n",
    "    ϵ = ad.Dense.identity(constant=0.)    \n",
    "    rec_ad = ad.is_ad(state_angular) or ad.is_ad(flow_angular) # Recursve AD requires a little bit of care\n",
    "    if rec_ad: state_angular,flow_angular = map(ad.disassociate,(state_angular,flow_angular))\n",
    "    flow_angular_eucl = euclidean_from_rotation(state_angular+ϵ*flow_angular).gradient(0) # Differentiate the reverse mapping\n",
    "    if rec_ad: state_angular,flow_angular = map(ad.associate,(state_angular,flow_angular))\n",
    "    \n",
    "    return np.concatenate([flow_physical,flow_angular_eucl],axis=0)"
   ]
  },
  {
   "cell_type": "code",
   "execution_count": 19,
   "metadata": {},
   "outputs": [],
   "source": [
    "assert np.allclose(advance(plane_state,δ*ad.array([1,2,3])).gradient(0),flow(plane_state,[1,2,3]))"
   ]
  },
  {
   "cell_type": "markdown",
   "metadata": {},
   "source": [
    "### 1.3 Commutators"
   ]
  },
  {
   "cell_type": "code",
   "execution_count": 20,
   "metadata": {},
   "outputs": [],
   "source": [
    "def commute(state,control1,control2):\n",
    "    state,control1,control2 = map(ad.asarray,(state,control1,control2))\n",
    "    state = advance(state, control1)\n",
    "    state = advance(state, control2)\n",
    "    state = advance(state,-control1)\n",
    "    state = advance(state,-control2)\n",
    "    return state "
   ]
  },
  {
   "cell_type": "markdown",
   "metadata": {},
   "source": [
    "On the sphere, the commutator of the first two controls is the third control. This allows to bring the sphere from any state to any other state using only two controls, albeit rather inefficiently since the motion along the third control generated by a commutator is of second order."
   ]
  },
  {
   "cell_type": "code",
   "execution_count": 21,
   "metadata": {},
   "outputs": [
    {
     "data": {
      "text/plain": [
       "denseAD2(array([    0,     0,     0]),\n",
       "array([[    0],\n",
       "       [    0],\n",
       "       [    0]]),\n",
       "array([[[    0]],\n",
       "\n",
       "       [[    0]],\n",
       "\n",
       "       [[  0.5]]]))"
      ]
     },
     "execution_count": 21,
     "metadata": {},
     "output_type": "execute_result"
    }
   ],
   "source": [
    "δ = ad.Dense2.identity(constant=0.)\n",
    "commute([0,0,0],[δ,0,0],[0,δ,0]) # Motion generated by a commutator of the first two controls"
   ]
  },
  {
   "cell_type": "code",
   "execution_count": 22,
   "metadata": {},
   "outputs": [
    {
     "data": {
      "text/plain": [
       "denseAD2(array([    0,     0,     0]),\n",
       "array([[    0],\n",
       "       [    0],\n",
       "       [    0]]),\n",
       "array([[[    0]],\n",
       "\n",
       "       [[    0]],\n",
       "\n",
       "       [[  0.5]]]))"
      ]
     },
     "execution_count": 22,
     "metadata": {},
     "output_type": "execute_result"
    }
   ],
   "source": [
    "advance([0,0,0],[0,0,δ**2]) # Same motion generated by the third control, at second order."
   ]
  },
  {
   "cell_type": "markdown",
   "metadata": {},
   "source": [
    "Likewise, on the sphere, the commutator of the second and third control is minus the first one."
   ]
  },
  {
   "cell_type": "code",
   "execution_count": 23,
   "metadata": {},
   "outputs": [
    {
     "data": {
      "text/plain": [
       "denseAD2(array([    0,     0,     0]),\n",
       "array([[    0],\n",
       "       [    0],\n",
       "       [    0]]),\n",
       "array([[[  0.5]],\n",
       "\n",
       "       [[    0]],\n",
       "\n",
       "       [[    0]]]))"
      ]
     },
     "execution_count": 23,
     "metadata": {},
     "output_type": "execute_result"
    }
   ],
   "source": [
    "commute([0,0,0],[0,δ,0],[0,0,δ]) # Motion generated by a commutator of the second and third controls"
   ]
  },
  {
   "cell_type": "markdown",
   "metadata": {},
   "source": [
    "However, on the plane, which is a vector space, all controls commute. This observation allows to control the motion of the sphere without changing its position on the plane."
   ]
  },
  {
   "cell_type": "code",
   "execution_count": 24,
   "metadata": {},
   "outputs": [
    {
     "data": {
      "text/plain": [
       "denseAD2(array([    0,     0,     0,     0,     0]),\n",
       "array([[    0],\n",
       "       [    0],\n",
       "       [    0],\n",
       "       [    0],\n",
       "       [    0]]),\n",
       "array([[[    0]],\n",
       "\n",
       "       [[    0]],\n",
       "\n",
       "       [[  0.5]],\n",
       "\n",
       "       [[    0]],\n",
       "\n",
       "       [[    0]]]))"
      ]
     },
     "execution_count": 24,
     "metadata": {},
     "output_type": "execute_result"
    }
   ],
   "source": [
    "commute([0,0,0,0,0],[0,δ,0],[0,0,δ]) # Motion generated by a commutator of the second and third controls.\n",
    "# Only the sphere is affected"
   ]
  },
  {
   "cell_type": "code",
   "execution_count": 25,
   "metadata": {},
   "outputs": [
    {
     "data": {
      "text/plain": [
       "denseAD2(array([    0,     0,     0,     0,     0]),\n",
       "array([[    0],\n",
       "       [    0],\n",
       "       [    0],\n",
       "       [    0],\n",
       "       [    0]]),\n",
       "array([[[  0.5]],\n",
       "\n",
       "       [[    0]],\n",
       "\n",
       "       [[  0.5]],\n",
       "\n",
       "       [[    0]],\n",
       "\n",
       "       [[    0]]]))"
      ]
     },
     "execution_count": 25,
     "metadata": {},
     "output_type": "execute_result"
    }
   ],
   "source": [
    "advance([0,0,0,0,0],[δ**2,0,0]) # Motion generated by the first control, at second order. \n",
    "# Both the sphere and plane are affected"
   ]
  },
  {
   "cell_type": "markdown",
   "metadata": {},
   "source": [
    "The rank of a sub-Riemannian model is the depth of the control commutators needed to generate the entire tangent space.\n",
    "A rank-0 model is amounts to Riemannian manifold. The numerical simulation, using PDE techniques, of models of rank larger than or equal to two is novel to the knowledge of the author."
   ]
  },
  {
   "cell_type": "markdown",
   "metadata": {},
   "source": [
    "### 1.3 Ball models"
   ]
  },
  {
   "cell_type": "markdown",
   "metadata": {},
   "source": [
    "We present the hamiltonians of the different models, in the form of the symmetric semi-definite matrix defining the dual metric, which makes sense since the models are sub-Riemannian. \n",
    "\n",
    "<!---\n",
    "A more classical presentation, involving the position and impulsion variables, is presented in next section.\n",
    "--->"
   ]
  },
  {
   "cell_type": "code",
   "execution_count": 26,
   "metadata": {},
   "outputs": [],
   "source": [
    "def make_hamiltonian(controls,advance=advance):\n",
    "    \"\"\"Produces the hamiltonian function associated to a sub-Riemannian model, \n",
    "    defined by its controls and the advance function\"\"\"\n",
    "    def hamiltonian(state):\n",
    "        \"\"\"The hamiltonian, a quadratic form on the co-tangent space\"\"\"\n",
    "        # Array formatting to apply to several states simultanously\n",
    "        state=ad.asarray(state); controls_ = fd.as_field(controls,state.shape[1:],depth=1) \n",
    "        \n",
    "        grad = advance(state,controls_).gradient()\n",
    "        return lp.dot_AA(lp.transpose(grad),grad)\n",
    "    return hamiltonian"
   ]
  },
  {
   "cell_type": "code",
   "execution_count": 27,
   "metadata": {},
   "outputs": [],
   "source": [
    "δ = 4*ad.Dense.identity(constant=[0.,0.,0.]) # Three independent symbolic perturbations"
   ]
  },
  {
   "cell_type": "markdown",
   "metadata": {},
   "source": [
    "The **Riemannian ball** is governed by the three controls, with the same strength on each axis, and its state space is the ball alone. It is thus a Riemannian model. At the origin, the Hamiltonian is the identity matrix."
   ]
  },
  {
   "cell_type": "code",
   "execution_count": 28,
   "metadata": {},
   "outputs": [
    {
     "data": {
      "text/plain": [
       "array([[    1,     0,     0],\n",
       "       [    0,     1,     0],\n",
       "       [    0,     0,     1]])"
      ]
     },
     "execution_count": 28,
     "metadata": {},
     "output_type": "execute_result"
    }
   ],
   "source": [
    "H_Riemann = make_hamiltonian(δ)\n",
    "H_Riemann([0,0,0])"
   ]
  },
  {
   "cell_type": "markdown",
   "metadata": {},
   "source": [
    "At any point in space, this hamiltonian is a positive definite matrix, whose inverse is the Riemannian metric. Because of our choice of coordinates, this metric is *conformal*, in other words proportional to the euclidean metric (up to machine precision)."
   ]
  },
  {
   "cell_type": "code",
   "execution_count": 29,
   "metadata": {},
   "outputs": [
    {
     "data": {
      "text/plain": [
       "array([[ 3.52, 5.79e-13, 8.6e-13],\n",
       "       [5.79e-13,  3.52, 1.73e-12],\n",
       "       [8.6e-13, 1.73e-12,  3.52]])"
      ]
     },
     "execution_count": 29,
     "metadata": {},
     "output_type": "execute_result"
    }
   ],
   "source": [
    "H_Riemann(ball_state)"
   ]
  },
  {
   "cell_type": "markdown",
   "metadata": {},
   "source": [
    "The **Reeds shepp ball** is governed only two of the three controls, missing the middle one, and is a sub-Riemannian model of rank one. This model can also be regarded as describing a wheelchair-like vehicle moving on a ball."
   ]
  },
  {
   "cell_type": "code",
   "execution_count": 30,
   "metadata": {},
   "outputs": [
    {
     "data": {
      "text/plain": [
       "array([[    1,     0,     0],\n",
       "       [    0,     0,     0],\n",
       "       [    0,     0,     1]])"
      ]
     },
     "execution_count": 30,
     "metadata": {},
     "output_type": "execute_result"
    }
   ],
   "source": [
    "H_ReedsShepp = make_hamiltonian([δ[0],0,δ[2]]) # The y-axis rotation control is lacking\n",
    "H_ReedsShepp([0,0,0])"
   ]
  },
  {
   "cell_type": "markdown",
   "metadata": {},
   "source": [
    "At any point in space, this hamiltonian is a positive semi-definite matrix, with two non-zero eigenvalues."
   ]
  },
  {
   "cell_type": "code",
   "execution_count": 31,
   "metadata": {},
   "outputs": [
    {
     "data": {
      "text/plain": [
       "(array([[ 1.95, 0.781,  1.56],\n",
       "        [0.781,  3.13, -0.781],\n",
       "        [ 1.56, -0.781,  1.95]]),\n",
       " array([2.64e-16,  3.52,  3.52]))"
      ]
     },
     "execution_count": 31,
     "metadata": {},
     "output_type": "execute_result"
    }
   ],
   "source": [
    "ham = H_ReedsShepp(ball_state)\n",
    "ham, np.linalg.eigvalsh(ham)"
   ]
  },
  {
   "cell_type": "markdown",
   "metadata": {},
   "source": [
    "The **torqueless ball** is governed by two of the three controls, missing the last one. On the ball alone, this model is identical to the Reeds-Shepp model. However the situation changes when put on a plane, as discussed below."
   ]
  },
  {
   "cell_type": "code",
   "execution_count": 32,
   "metadata": {},
   "outputs": [
    {
     "data": {
      "text/plain": [
       "array([[    1,     0,     0],\n",
       "       [    0,     1,     0],\n",
       "       [    0,     0,     0]])"
      ]
     },
     "execution_count": 32,
     "metadata": {},
     "output_type": "execute_result"
    }
   ],
   "source": [
    "H_Torqueless = make_hamiltonian([δ[0],δ[1],0])\n",
    "H_Torqueless([0,0,0])"
   ]
  },
  {
   "cell_type": "code",
   "execution_count": 33,
   "metadata": {},
   "outputs": [
    {
     "data": {
      "text/plain": [
       "(array([[ 1.62, -0.344, -1.72],\n",
       "        [-0.344,  3.45, -0.312],\n",
       "        [-1.72, -0.312,  1.95]]),\n",
       " array([-1.11e-16,  3.52,  3.52]))"
      ]
     },
     "execution_count": 33,
     "metadata": {},
     "output_type": "execute_result"
    }
   ],
   "source": [
    "ham = H_Torqueless(ball_state)\n",
    "ham, np.linalg.eigvalsh(ham)"
   ]
  },
  {
   "cell_type": "markdown",
   "metadata": {},
   "source": [
    "### 1.4 Ball with support\n",
    "\n",
    "The same *hamiltonian* functions can be reused, since the advance function handles the supports as well."
   ]
  },
  {
   "cell_type": "markdown",
   "metadata": {},
   "source": [
    "The **Riemannian ball on a plane** is a rank one sub-Riemannian model. The ball may be rolled along both the $x$-axis and $y$-axis, and its rotation around the $z$-axis is also controlled."
   ]
  },
  {
   "cell_type": "markdown",
   "metadata": {},
   "source": [
    "The hamiltonian is degenerate, as expected, with two vanishing eigenvalues due to the fact that motion in the plane is tied to the rotation of the ball."
   ]
  },
  {
   "cell_type": "code",
   "execution_count": 34,
   "metadata": {},
   "outputs": [
    {
     "data": {
      "text/plain": [
       "(array([[    1,     0,     1,     0,     0],\n",
       "        [    0,     1,     0,     1,     0],\n",
       "        [    1,     0,     1,     0,     0],\n",
       "        [    0,     1,     0,     1,     0],\n",
       "        [    0,     0,     0,     0,     1]]),\n",
       " array([    0,     0,     1,     2,     2]))"
      ]
     },
     "execution_count": 34,
     "metadata": {},
     "output_type": "execute_result"
    }
   ],
   "source": [
    "ham = H_Riemann(np.zeros(5))\n",
    "ham,np.linalg.eigvalsh(ham)"
   ]
  },
  {
   "cell_type": "markdown",
   "metadata": {},
   "source": [
    "The situation is the same at any point in space."
   ]
  },
  {
   "cell_type": "code",
   "execution_count": 35,
   "metadata": {},
   "outputs": [
    {
     "data": {
      "text/plain": [
       "(array([[    1,     0,  0.25,  1.75, -0.625],\n",
       "        [    0,     1, -1.25, 0.625,  1.25],\n",
       "        [ 0.25, -1.25,  3.52, 5.79e-13, 8.6e-13],\n",
       "        [ 1.75, 0.625, 5.79e-13,  3.52, 1.73e-12],\n",
       "        [-0.625,  1.25, 8.6e-13, 1.73e-12,  3.52]]),\n",
       " array([-8e-17, 7.45e-17,  3.52,  4.52,  4.52]))"
      ]
     },
     "execution_count": 35,
     "metadata": {},
     "output_type": "execute_result"
    }
   ],
   "source": [
    "ham = H_Riemann(plane_state)\n",
    "ham,np.linalg.eigvalsh(ham)"
   ]
  },
  {
   "cell_type": "markdown",
   "metadata": {},
   "source": [
    "The **Reeds-Shepp ball on a line** is a rank two sub-Riemannian model. The ball may only be rolled along the $x$-axis, and rotated around the $z$-axis.\n",
    "In order to generate a rotation around the $y$-axis, a commutator of these two motions is required. In order to generate a rotation around the $x$-axis, without any motion in the plane, a second order commutator is needed involving rotation around the $y$-axis and a rotation around the $z$-axis."
   ]
  },
  {
   "cell_type": "code",
   "execution_count": 36,
   "metadata": {},
   "outputs": [
    {
     "data": {
      "text/plain": [
       "(array([[    1,     1,     0,     0],\n",
       "        [    1,     1,     0,     0],\n",
       "        [    0,     0,     0,     0],\n",
       "        [    0,     0,     0,     1]]),\n",
       " array([    0,     0,     1,     2]))"
      ]
     },
     "execution_count": 36,
     "metadata": {},
     "output_type": "execute_result"
    }
   ],
   "source": [
    "ham = H_ReedsShepp(np.zeros(4))\n",
    "ham,np.linalg.eigvalsh(ham)"
   ]
  },
  {
   "cell_type": "code",
   "execution_count": 37,
   "metadata": {},
   "outputs": [
    {
     "data": {
      "text/plain": [
       "(array([[    1,  0.25,  1.75, -0.625],\n",
       "        [ 0.25,  1.95, 0.781,  1.56],\n",
       "        [ 1.75, 0.781,  3.13, -0.781],\n",
       "        [-0.625,  1.56, -0.781,  1.95]]),\n",
       " array([-3.37e-16, 4.61e-16,  3.52,  4.52]))"
      ]
     },
     "execution_count": 37,
     "metadata": {},
     "output_type": "execute_result"
    }
   ],
   "source": [
    "ham = H_ReedsShepp(line_state)\n",
    "ham,np.linalg.eigvalsh(ham)"
   ]
  },
  {
   "cell_type": "markdown",
   "metadata": {},
   "source": [
    "The **torqueless ball on a plane** is a rank two sub-Riemannian model. The ball may be rolled along the $x$-axis and the $y$-axis, but not rotated around the $z$-axis (think of a punctual control, without any torque). In order to generate a rotation around the $z$-axis, a commutator of the rolling motions along the $x$-axis and the $y$-axis is needed. In order to generate a pure rotation around the $x$-axis or the $y$-axis, one needs a commutator of the pure rotation around the $z$-axis, and of the rolling motion along the $x$ or the $y$ axis."
   ]
  },
  {
   "cell_type": "code",
   "execution_count": 38,
   "metadata": {},
   "outputs": [
    {
     "data": {
      "text/plain": [
       "(array([[    1,     0,     1,     0,     0],\n",
       "        [    0,     1,     0,     1,     0],\n",
       "        [    1,     0,     1,     0,     0],\n",
       "        [    0,     1,     0,     1,     0],\n",
       "        [    0,     0,     0,     0,     0]]),\n",
       " array([    0,     0,     0,     2,     2]))"
      ]
     },
     "execution_count": 38,
     "metadata": {},
     "output_type": "execute_result"
    }
   ],
   "source": [
    "ham = H_Torqueless(np.zeros(5))\n",
    "ham,np.linalg.eigvalsh(ham)"
   ]
  },
  {
   "cell_type": "code",
   "execution_count": 39,
   "metadata": {},
   "outputs": [
    {
     "data": {
      "text/plain": [
       "(array([[    1,     0,  0.25,  1.75, -0.625],\n",
       "        [    0,     1, -1.25, 0.625,  1.25],\n",
       "        [ 0.25, -1.25,  1.62, -0.344, -1.72],\n",
       "        [ 1.75, 0.625, -0.344,  3.45, -0.312],\n",
       "        [-0.625,  1.25, -1.72, -0.312,  1.95]]),\n",
       " array([-3.67e-16, 7.34e-17, 5.62e-16,  4.52,  4.52]))"
      ]
     },
     "execution_count": 39,
     "metadata": {},
     "output_type": "execute_result"
    }
   ],
   "source": [
    "ham = H_Torqueless(plane_state)\n",
    "ham,np.linalg.eigvalsh(ham)"
   ]
  },
  {
   "cell_type": "markdown",
   "metadata": {},
   "source": [
    "## 2. Geodesic shooting\n",
    "\n",
    "We compute, for checking their consistency, some geodesics of the considered models model. They correspond to the free motion of the corresponding physical system, without external force or obstacles."
   ]
  },
  {
   "cell_type": "code",
   "execution_count": 40,
   "metadata": {},
   "outputs": [],
   "source": [
    "# Some arbitrary initial impulsions\n",
    "ball_impulsion = np.array([4,5,6])/3\n",
    "plane_impulsion = np.concatenate([[2,3],ball_impulsion],axis=0)\n",
    "line_impulsion = np.concatenate([[3],ball_impulsion],axis=0)"
   ]
  },
  {
   "cell_type": "markdown",
   "metadata": {},
   "source": [
    "The `Metrics.Hamiltonian` class provides a few helper utilities, for differentiating hamiltonians."
   ]
  },
  {
   "cell_type": "code",
   "execution_count": 41,
   "metadata": {},
   "outputs": [],
   "source": [
    "def class_hamiltonian(H):\n",
    "    def H_(q,p): return 0.5*lp.dot_VAV(p,H(q),p) # Usual two variables hamiltonian\n",
    "    return Metrics.Hamiltonian(H_,disassociate_ad=True) # Disassociate because needed for recursive AD"
   ]
  },
  {
   "cell_type": "code",
   "execution_count": 42,
   "metadata": {},
   "outputs": [],
   "source": [
    "h_Riemann,h_ReedsShepp,h_Torqueless = map(class_hamiltonian,(H_Riemann,H_ReedsShepp,H_Torqueless))"
   ]
  },
  {
   "cell_type": "code",
   "execution_count": 51,
   "metadata": {},
   "outputs": [
    {
     "data": {
      "text/plain": [
       "(array([ 4.69,  5.86,  7.03]), array([-8.02,   -16, -24.1]))"
      ]
     },
     "execution_count": 51,
     "metadata": {},
     "output_type": "execute_result"
    }
   ],
   "source": [
    "h_Riemann.flow(ball_state,ball_impulsion) # The symplectic flow DpH,-DqH"
   ]
  },
  {
   "cell_type": "code",
   "execution_count": 52,
   "metadata": {},
   "outputs": [
    {
     "name": "stderr",
     "output_type": "stream",
     "text": [
      "/Users/mirebeau/opt/miniconda3/envs/agd-hfm_dev/lib/python3.7/site-packages/scipy/integrate/odepack.py:248: ODEintWarning: Excess work done on this call (perhaps wrong Dfun type). Run with full_output = 1 to get quantitative information.\n",
      "  warnings.warn(warning_msg, ODEintWarning)\n"
     ]
    }
   ],
   "source": [
    "Tint = np.linspace(0,2.*np.pi)\n",
    "ball_ode = odeint(h_Riemann.flow_cat,np.concatenate((ball_state,ball_impulsion)),Tint)"
   ]
  },
  {
   "cell_type": "code",
   "execution_count": 82,
   "metadata": {},
   "outputs": [
    {
     "data": {
      "text/plain": [
       "denseAD(array([  nan,   nan,   nan]),\n",
       "array([[  nan],\n",
       "       [  nan],\n",
       "       [  nan]]))"
      ]
     },
     "execution_count": 82,
     "metadata": {},
     "output_type": "execute_result"
    }
   ],
   "source": [
    "δ = ad.Dense.identity(constant=0.)\n",
    "advance([1.,0.,0.],[δ,0.,0.])"
   ]
  },
  {
   "cell_type": "code",
   "execution_count": 55,
   "metadata": {},
   "outputs": [
    {
     "data": {
      "text/plain": [
       "array([ 5.12,  6.28,   7.4, -59.3,  -114,  -168])"
      ]
     },
     "execution_count": 55,
     "metadata": {},
     "output_type": "execute_result"
    }
   ],
   "source": [
    "h_Riemann.flow_cat(np.array([ 0.28, 0.538, 0.795,  1.28,  1.57,  1.85]))"
   ]
  },
  {
   "cell_type": "code",
   "execution_count": 71,
   "metadata": {},
   "outputs": [
    {
     "data": {
      "text/plain": [
       "array([[    1, 2.65e-18, -1.73e-18],\n",
       "       [2.65e-18,     1,     0],\n",
       "       [-1.73e-18,     0,     1]])"
      ]
     },
     "execution_count": 71,
     "metadata": {},
     "output_type": "execute_result"
    }
   ],
   "source": [
    "H_Riemann(100*np.array([ 0.28, 0.538, 0.795]))"
   ]
  },
  {
   "cell_type": "code",
   "execution_count": 74,
   "metadata": {},
   "outputs": [
    {
     "data": {
      "text/plain": [
       "array([[0.999, 0.0319, -0.0213],\n",
       "       [-0.0317, 0.999, 0.0115],\n",
       "       [0.0217, -0.0109,     1]])"
      ]
     },
     "execution_count": 74,
     "metadata": {},
     "output_type": "execute_result"
    }
   ],
   "source": [
    "rotation_from_euclidean(100*np.array([ 0.28, 0.538, 0.795]))"
   ]
  },
  {
   "cell_type": "code",
   "execution_count": 53,
   "metadata": {},
   "outputs": [
    {
     "data": {
      "text/plain": [
       "array([[ 0.25,   0.5,  0.75,  1.33,  1.67,     2],\n",
       "       [ 0.28, 0.538, 0.795,  1.28,  1.57,  1.85],\n",
       "       [1.22e-114, 2.21e+232, 2.9e-144, 4.26e+257, 3.17e+180, 7.74e+228],\n",
       "       [4.19e+228, 5.81e+180, 9.77e+199, 2.45e+198, 9.08e+223, 7.37e-260],\n",
       "       [1.44e+214, 2.66e+233, 2.15e-259, 1.01e+261, 7.5e+270, 1e-144],\n",
       "       [3.01e+161, 3.32e+257, 6.62e+265, 1.28e-152, 8.76e+252, 3.45e-85],\n",
       "       [3.88e-265, 2e+161, 1.95e-153, 8.73e+183, 3.88e-265, 4.7e+180],\n",
       "       [1.58e-52, 6.69e+151, 3.28e-85, 6.79e+199, 2.16e+233, 7.5e+270],\n",
       "       [2.09e+241, 5.74e+257, 4.36e-114, 1.67e+243, 2.42e+198, 4.97e+180],\n",
       "       [1.23e+237, 4.06e-265, 4.96e+180, 3.81e+180, 3.88e-265, 1.82e-152],\n",
       "       [9.8e-86, 5.72e+228, 4.06e-265, 4.07e-265, 1.07e+224, 4.24e+40],\n",
       "       [4.04e-265, 2.65e+180,     0,     0,     0,     0],\n",
       "       [    0,     0,     0,     0,     0,     0],\n",
       "       [    0,     0,     0,     0,     0,     0],\n",
       "       [    0,     0,     0,     0,     0,     0],\n",
       "       [    0,     0,     0,     0,     0,     0],\n",
       "       [    0,     0,     0,     0,     0,     0],\n",
       "       [    0,     0,     0,     0,     0,     0],\n",
       "       [    0,     0,     0,     0,     0,     0],\n",
       "       [    0,     0,     0,     0,     0,     0],\n",
       "       [    0,     0,     0,     0,     0,     0],\n",
       "       [    0,     0,     0, 9.44e-322,     0, 9.44e-322],\n",
       "       [    0,     0,     0,     0,     0,     0],\n",
       "       [    0,     0,     0,     0,     0,     0],\n",
       "       [    0,     0,     0,     0,     0,     0],\n",
       "       [    0,     0,     0,     0,     0,     0],\n",
       "       [    0,     0,     0,     0,     0,     0],\n",
       "       [    0,     0,     0,     0,     0,     0],\n",
       "       [    0,     0,     0,     0,     0,     0],\n",
       "       [    0,     0,     0,     0,     0,     0],\n",
       "       [    0,     0,     0,     0,     0,     0],\n",
       "       [    0,     0,     0,     0,     0,     0],\n",
       "       [    0,     0,     0,     0,     0,     0],\n",
       "       [    0,     0,     0,     0,     0,     0],\n",
       "       [    0,     0,     0,     0,     0,     0],\n",
       "       [    0,     0,     0,     0,     0,     0],\n",
       "       [    0,     0,     0,     0,     0,     0],\n",
       "       [    0,     0,     0,     0,     0,     0],\n",
       "       [    0,     0,     0,     0,     0,     0],\n",
       "       [    0,     0,     0,     0,     0,     0],\n",
       "       [    0,     0,     0,     0,     0,     0],\n",
       "       [    0,     0,     0,     0,     0,     0],\n",
       "       [    0,     0,     0,     0,     0,     0],\n",
       "       [    0,     0,     0,     0,     0,     0],\n",
       "       [    0,     0,     0,     0,     0,     0],\n",
       "       [    0,     0,     0,     0,     0,     0],\n",
       "       [    0,     0,     0,     0,     0,     0],\n",
       "       [    0,     0,     0,     0,     0,     0],\n",
       "       [    0,     0,     0,     0,     0,     0],\n",
       "       [    0,     0,     0,     0,     0,     0]])"
      ]
     },
     "execution_count": 53,
     "metadata": {},
     "output_type": "execute_result"
    }
   ],
   "source": []
  },
  {
   "cell_type": "code",
   "execution_count": 44,
   "metadata": {},
   "outputs": [
    {
     "name": "stdout",
     "output_type": "stream",
     "text": [
      "(3, 1)\n"
     ]
    },
    {
     "data": {
      "text/plain": [
       "(3, 3, 1)"
      ]
     },
     "execution_count": 44,
     "metadata": {},
     "output_type": "execute_result"
    }
   ],
   "source": [
    "print(ad.disassociate(ball_impulsion).shape)\n",
    "H_Riemann(ad.disassociate(ball_state)).shape"
   ]
  },
  {
   "cell_type": "code",
   "execution_count": 45,
   "metadata": {},
   "outputs": [
    {
     "data": {
      "text/plain": [
       "(3, 3, 1)"
      ]
     },
     "execution_count": 45,
     "metadata": {},
     "output_type": "execute_result"
    }
   ],
   "source": [
    "rotation_from_euclidean(ad.disassociate(ball_state)).shape"
   ]
  },
  {
   "cell_type": "code",
   "execution_count": 46,
   "metadata": {},
   "outputs": [
    {
     "data": {
      "text/plain": [
       "(3, 1)"
      ]
     },
     "execution_count": 46,
     "metadata": {},
     "output_type": "execute_result"
    }
   ],
   "source": [
    "ad.disassociate(ball_state).shape"
   ]
  },
  {
   "cell_type": "code",
   "execution_count": 47,
   "metadata": {},
   "outputs": [
    {
     "data": {
      "text/plain": [
       "(array([ 4.69,  5.86,  7.03]), array([-8.02,   -16, -24.1]))"
      ]
     },
     "execution_count": 47,
     "metadata": {},
     "output_type": "execute_result"
    }
   ],
   "source": []
  },
  {
   "cell_type": "code",
   "execution_count": 48,
   "metadata": {},
   "outputs": [
    {
     "name": "stdout",
     "output_type": "stream",
     "text": [
      "Help on class Hamiltonian in module agd.Metrics.hamiltonian:\n",
      "\n",
      "class Hamiltonian(builtins.object)\n",
      " |  Hamiltonian(H, shape_free=None, vdim=-1, disassociate_ad=False, **kwargs)\n",
      " |  \n",
      " |  Methods defined here:\n",
      " |  \n",
      " |  DpH(self, q, p)\n",
      " |      Differentiates the Hamiltonian, w.r.t. impulsion.\n",
      " |  \n",
      " |  DqH(self, q, p)\n",
      " |      Differentiates the Hamiltonian, w.r.t. position.\n",
      " |  \n",
      " |  H(self, q, p)\n",
      " |      Evaluates the Hamiltonian, for a given position and impulsion.\n",
      " |  \n",
      " |  __init__(self, H, shape_free=None, vdim=-1, disassociate_ad=False, **kwargs)\n",
      " |      Inputs:\n",
      " |      - H : the hamiltonian, which may be either:\n",
      " |              * a metric\n",
      " |              * a callable function of two arguments (q,p)\n",
      " |              * a pair of callable functions, of two arguments (q,p) for a separable hamiltonian.\n",
      " |                      (in that case, may also be scalars or matrices, for quadratic hamiltonians)\n",
      " |      - shape_free (optional) : the shape of the position and impulsion\n",
      " |      - vdim (optional): equivalent to shape_free = (vdim,)\n",
      " |      - disassociate_ad: hide the AD information when calling H.\n",
      " |      - **kwargs : if not empty, use dual metric interpolated with these arguments\n",
      " |  \n",
      " |  flow(self, q, p)\n",
      " |      Symplectic gradient of the Hamiltonian.\n",
      " |  \n",
      " |  flow_cat(self, qp, t=None)\n",
      " |      Symplectic gradient of the hamiltonian, intended for odeint. \n",
      " |      Input : \n",
      " |              - qp : position q, impulsion p, concatenated and flattened.\n",
      " |              - t : ignored parameter (compatibility with scipy.integrate.odeint)\n",
      " |      Output : \n",
      " |              - symplectic gradient, concatenated and flattened.\n",
      " |  \n",
      " |  incomplete_schemes(self, solver=None)\n",
      " |      Incomplete schemes, updating only position or impulsion. \n",
      " |      Inputs : \n",
      " |              - solver (optional). Numerical solver used for the implicit steps.\n",
      " |              Defaults to a basic fixed point solver: \"fixedpoint\" in the same package.\n",
      " |  \n",
      " |  integrate(self, q, p, scheme, niter, T=1, path=False)\n",
      " |      Solves Hamilton's equations by running the scheme niter times.\n",
      " |      Inputs : \n",
      " |              - q,p : Initial position and impulsion.\n",
      " |              - scheme : ODE integration scheme. (string or callable)\n",
      " |              - niter : number of steps\n",
      " |              - T : total time\n",
      " |              - path : wether to return the intermediate steps\n",
      " |      Output : \n",
      " |              - q,p if path is False. \n",
      " |              Otherwise [q0,...,qn],[p0,...,pn],[t0,..tn], with n=niter, tn=T.\n",
      " |  \n",
      " |  nonsymplectic_schemes(self)\n",
      " |      Standard ODE integration schemes\n",
      " |  \n",
      " |  separable_quadratic_set_sparse_matrices(self)\n",
      " |      If the hamiltonian is separable and quadratic, replace the callable functions\n",
      " |      with sparse matrices, for faster evaluation.\n",
      " |  \n",
      " |  symplectic_schemes(self, **kwargs)\n",
      " |      Symplectic schemes, alternating updates of position and impulsion.\n",
      " |      The first updated variable is indicated with a suffix.\n",
      " |      \n",
      " |      In the non-separable cases, some of the updates are implicit, otherwise\n",
      " |      they are explicit.\n",
      " |      Inputs : \n",
      " |              - kwargs. Passed to self.incomplete_schemes\n",
      " |  \n",
      " |  ----------------------------------------------------------------------\n",
      " |  Data descriptors defined here:\n",
      " |  \n",
      " |  __dict__\n",
      " |      dictionary for instance variables (if defined)\n",
      " |  \n",
      " |  __weakref__\n",
      " |      list of weak references to the object (if defined)\n",
      " |  \n",
      " |  is_metric\n",
      " |  \n",
      " |  is_separable\n",
      " |  \n",
      " |  vdim\n",
      " |      Dimension of space of positions. \n",
      " |      (Also equals the dimension of the space of impulsions)\n",
      " |      Returns none for a Hamiltonian acting on scalars.\n",
      "\n"
     ]
    }
   ],
   "source": [
    "help(Metrics.Hamiltonian)"
   ]
  },
  {
   "cell_type": "code",
   "execution_count": null,
   "metadata": {},
   "outputs": [],
   "source": []
  },
  {
   "cell_type": "code",
   "execution_count": 49,
   "metadata": {},
   "outputs": [
    {
     "data": {
      "text/plain": [
       "array([[    1,     0,  0.25,  1.75, -0.625],\n",
       "       [    0,     1, -1.25, 0.625,  1.25],\n",
       "       [ 0.25, -1.25,  1.62, -0.344, -1.72],\n",
       "       [ 1.75, 0.625, -0.344,  3.45, -0.312],\n",
       "       [-0.625,  1.25, -1.72, -0.312,  1.95]])"
      ]
     },
     "execution_count": 49,
     "metadata": {},
     "output_type": "execute_result"
    }
   ],
   "source": [
    "ham"
   ]
  }
 ],
 "metadata": {
  "kernelspec": {
   "display_name": "Python 3",
   "language": "python",
   "name": "python3"
  },
  "language_info": {
   "codemirror_mode": {
    "name": "ipython",
    "version": 3
   },
   "file_extension": ".py",
   "mimetype": "text/x-python",
   "name": "python",
   "nbconvert_exporter": "python",
   "pygments_lexer": "ipython3",
   "version": "3.7.6"
  }
 },
 "nbformat": 4,
 "nbformat_minor": 4
}

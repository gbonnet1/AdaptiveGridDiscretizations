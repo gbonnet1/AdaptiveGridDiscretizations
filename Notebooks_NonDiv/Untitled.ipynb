{
 "cells": [
  {
   "cell_type": "code",
   "execution_count": 20,
   "metadata": {},
   "outputs": [],
   "source": [
    "import os.path\n",
    "\n",
    "def check_link(a):\n",
    "    if 'www' in a or os.path.isfile(a): \n",
    "        return True\n",
    "    print(f\"Found invalid link {a}\")\n",
    "    return False\n",
    "    \n",
    "def check_links(s):\n",
    "    for a in s.split(\"](\")[1:]:\n",
    "        check_link(a.split(\")\")[0])"
   ]
  },
  {
   "cell_type": "code",
   "execution_count": 22,
   "metadata": {},
   "outputs": [],
   "source": [
    "check_links(\"bla [bla](BoatRouting_Time.ipynb)\")"
   ]
  },
  {
   "cell_type": "code",
   "execution_count": null,
   "metadata": {},
   "outputs": [],
   "source": []
  }
 ],
 "metadata": {
  "kernelspec": {
   "display_name": "Python 3",
   "language": "python",
   "name": "python3"
  },
  "language_info": {
   "codemirror_mode": {
    "name": "ipython",
    "version": 3
   },
   "file_extension": ".py",
   "mimetype": "text/x-python",
   "name": "python",
   "nbconvert_exporter": "python",
   "pygments_lexer": "ipython3",
   "version": "3.7.6"
  }
 },
 "nbformat": 4,
 "nbformat_minor": 4
}

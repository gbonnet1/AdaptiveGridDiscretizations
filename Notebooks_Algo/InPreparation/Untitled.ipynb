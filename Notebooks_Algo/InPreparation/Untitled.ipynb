{
 "cells": [
  {
   "cell_type": "code",
   "execution_count": 7,
   "metadata": {},
   "outputs": [],
   "source": [
    "def code_line(s):\n",
    "    s=s.replace(\"[[\",\"ORDER_SWAP(\")\n",
    "    s=s.replace(\"],[\",\");ORDER_SWAP(\")\n",
    "    s=s.replace(\"]]\",\");\")\n",
    "    return s\n",
    "\n",
    "def code_network(s):\n",
    "    s = s.split(\"\\n\")\n",
    "    n = int(s[0])\n",
    "    s = (f\"template<typename T> void sort{n}(const T values[{n}],int order[{n}])\" \"{\\n\"+\n",
    "         \"\\n\".join(code_line(l) for l in s[1:])+\n",
    "         \"};\\n\")\n",
    "    return s\n",
    "def code_networks(s):\n",
    "    s = s.split('--- ')[1:]\n",
    "    return \"\\n\".join(code_network(l) for l in s)"
   ]
  },
  {
   "cell_type": "code",
   "execution_count": 8,
   "metadata": {},
   "outputs": [],
   "source": [
    "s=\"\"\"\n",
    "--- 2\n",
    "[[0,1]]\n",
    "--- 3\n",
    "[[1,2]]\n",
    "[[0,2]]\n",
    "[[0,1]]\n",
    "--- 4\n",
    "[[0,1],[2,3]]\n",
    "[[0,2],[1,3]]\n",
    "[[1,2]]\n",
    "--- 5\n",
    "[[0,1],[3,4]]\n",
    "[[2,4]]\n",
    "[[2,3],[1,4]]\n",
    "[[0,3]]\n",
    "[[0,2],[1,3]]\n",
    "[[1,2]]\n",
    "--- 6\n",
    "[[1,2],[4,5]]\n",
    "[[0,2],[3,5]]\n",
    "[[0,1],[3,4],[2,5]]\n",
    "[[0,3],[1,4]]\n",
    "[[2,4],[1,3]]\n",
    "[[2,3]]\n",
    "--- 7\n",
    "[[1,2],[3,4],[5,6]]\n",
    "[[0,2],[3,5],[4,6]]\n",
    "[[0,1],[4,5],[2,6]]\n",
    "[[0,4],[1,5]]\n",
    "[[0,3],[2,5]]\n",
    "[[1,3],[2,4]]\n",
    "[[2,3]]\n",
    "--- 8\n",
    "[[0,1],[2,3],[4,5],[6,7]]\n",
    "[[0,2],[1,3],[4,6],[5,7]]\n",
    "[[1,2],[5,6],[0,4],[3,7]]\n",
    "[[1,5],[2,6]]\n",
    "[[1,4],[3,6]]\n",
    "[[2,4],[3,5]]\n",
    "[[3,4]]\n",
    "--- 9\n",
    "[[0,1],[3,4],[6,7]]\n",
    "[[1,2],[4,5],[7,8]]\n",
    "[[0,1],[3,4],[6,7],[2,5]]\n",
    "[[0,3],[1,4],[5,8]]\n",
    "[[3,6],[4,7],[2,5]]\n",
    "[[0,3],[1,4],[5,7],[2,6]]\n",
    "[[1,3],[4,6]]\n",
    "[[2,4],[5,6]]\n",
    "[[2,3]]\n",
    "--- 10\n",
    "[[4,9],[3,8],[2,7],[1,6],[0,5]]\n",
    "[[1,4],[6,9],[0,3],[5,8]]\n",
    "[[0,2],[3,6],[7,9]]\n",
    "[[0,1],[2,4],[5,7],[8,9]]\n",
    "[[1,2],[4,6],[7,8],[3,5]]\n",
    "[[2,5],[6,8],[1,3],[4,7]]\n",
    "[[2,3],[6,7]]\n",
    "[[3,4],[5,6]]\n",
    "[[4,5]]\n",
    "--- 11\n",
    "[[0,1],[2,3],[4,5],[6,7],[8,9]]\n",
    "[[1,3],[5,7],[0,2],[4,6],[8,10]]\n",
    "[[1,2],[5,6],[9,10],[0,4],[3,7]]\n",
    "[[1,5],[6,10],[4,8]]\n",
    "[[5,9],[2,6],[0,4],[3,8]]\n",
    "[[1,5],[6,10],[2,3],[8,9]]\n",
    "[[1,4],[7,10],[3,5],[6,8]]\n",
    "[[2,4],[7,9],[5,6]]\n",
    "[[3,4],[7,8]]\n",
    "--- 12\n",
    "[[0,1],[2,3],[4,5],[6,7],[8,9],[10,11]]\n",
    "[[1,3],[5,7],[9,11],[0,2],[4,6],[8,10]]\n",
    "[[1,2],[5,6],[9,10],[0,4],[7,11]]\n",
    "[[1,5],[6,10],[3,7],[4,8]]\n",
    "[[5,9],[2,6],[0,4],[7,11],[3,8]]\n",
    "[[1,5],[6,10],[2,3],[8,9]]\n",
    "[[1,4],[7,10],[3,5],[6,8]]\n",
    "[[2,4],[7,9],[5,6]]\n",
    "[[3,4],[7,8]]\n",
    "--- 13\n",
    "[[1,7],[9,11],[3,4],[5,8],[0,12],[2,6]]\n",
    "[[0,1],[2,3],[4,6],[8,11],[7,12],[5,9]]\n",
    "[[0,2],[3,7],[10,11],[1,4],[6,12]]\n",
    "[[7,8],[11,12],[4,9],[6,10]]\n",
    "[[3,4],[5,6],[8,9],[10,11],[1,7]]\n",
    "[[2,6],[9,11],[1,3],[4,7],[8,10],[0,5]]\n",
    "[[2,5],[6,8],[9,10]]\n",
    "[[1,2],[3,5],[7,8],[4,6]]\n",
    "[[2,3],[4,5],[6,7],[8,9]]\n",
    "[[3,4],[5,6]]\n",
    "--- 14\n",
    "[[0,1],[2,3],[4,5],[6,7],[8,9],[10,11],[12,13]]\n",
    "[[0,2],[4,6],[8,10],[1,3],[5,7],[9,11]]\n",
    "[[0,4],[8,12],[1,5],[9,13],[2,6],[3,7]]\n",
    "[[0,8],[1,9],[2,10],[3,11],[4,12],[5,13]]\n",
    "[[5,10],[6,9],[3,12],[7,11],[1,2],[4,8]]\n",
    "[[1,4],[7,13],[2,8],[5,6],[9,10]]\n",
    "[[2,4],[11,13],[3,8],[7,12]]\n",
    "[[6,8],[10,12],[3,5],[7,9]]\n",
    "[[3,4],[5,6],[7,8],[9,10],[11,12]]\n",
    "[[6,7],[8,9]]\n",
    "--- 15\n",
    "[[0,1],[2,3],[4,5],[6,7],[8,9],[10,11],[12,13]]\n",
    "[[0,2],[4,6],[8,10],[12,14],[1,3],[5,7],[9,11]]\n",
    "[[0,4],[8,12],[1,5],[9,13],[2,6],[10,14],[3,7]]\n",
    "[[0,8],[1,9],[2,10],[3,11],[4,12],[5,13],[6,14]]\n",
    "[[5,10],[6,9],[3,12],[13,14],[7,11],[1,2],[4,8]]\n",
    "[[1,4],[7,13],[2,8],[11,14],[5,6],[9,10]]\n",
    "[[2,4],[11,13],[3,8],[7,12]]\n",
    "[[6,8],[10,12],[3,5],[7,9]]\n",
    "[[3,4],[5,6],[7,8],[9,10],[11,12]]\n",
    "[[6,7],[8,9]]\n",
    "--- 16\n",
    "[[0,1],[2,3],[4,5],[6,7],[8,9],[10,11],[12,13],[14,15]]\n",
    "[[0,2],[4,6],[8,10],[12,14],[1,3],[5,7],[9,11],[13,15]]\n",
    "[[0,4],[8,12],[1,5],[9,13],[2,6],[10,14],[3,7],[11,15]]\n",
    "[[0,8],[1,9],[2,10],[3,11],[4,12],[5,13],[6,14],[7,15]]\n",
    "[[5,10],[6,9],[3,12],[13,14],[7,11],[1,2],[4,8]]\n",
    "[[1,4],[7,13],[2,8],[11,14],[5,6],[9,10]]\n",
    "[[2,4],[11,13],[3,8],[7,12]]\n",
    "[[6,8],[10,12],[3,5],[7,9]]\n",
    "[[3,4],[5,6],[7,8],[9,10],[11,12]]\n",
    "[[6,7],[8,9]]\n",
    "\"\"\""
   ]
  },
  {
   "cell_type": "code",
   "execution_count": 9,
   "metadata": {},
   "outputs": [
    {
     "name": "stdout",
     "output_type": "stream",
     "text": [
      "template<typename T> void sort2(const T values[2],int order[2]){\n",
      "ORDER_SWAP(0,1);\n",
      "};\n",
      "\n",
      "template<typename T> void sort3(const T values[3],int order[3]){\n",
      "ORDER_SWAP(1,2);\n",
      "ORDER_SWAP(0,2);\n",
      "ORDER_SWAP(0,1);\n",
      "};\n",
      "\n",
      "template<typename T> void sort4(const T values[4],int order[4]){\n",
      "ORDER_SWAP(0,1);ORDER_SWAP(2,3);\n",
      "ORDER_SWAP(0,2);ORDER_SWAP(1,3);\n",
      "ORDER_SWAP(1,2);\n",
      "};\n",
      "\n",
      "template<typename T> void sort5(const T values[5],int order[5]){\n",
      "ORDER_SWAP(0,1);ORDER_SWAP(3,4);\n",
      "ORDER_SWAP(2,4);\n",
      "ORDER_SWAP(2,3);ORDER_SWAP(1,4);\n",
      "ORDER_SWAP(0,3);\n",
      "ORDER_SWAP(0,2);ORDER_SWAP(1,3);\n",
      "ORDER_SWAP(1,2);\n",
      "};\n",
      "\n",
      "template<typename T> void sort6(const T values[6],int order[6]){\n",
      "ORDER_SWAP(1,2);ORDER_SWAP(4,5);\n",
      "ORDER_SWAP(0,2);ORDER_SWAP(3,5);\n",
      "ORDER_SWAP(0,1);ORDER_SWAP(3,4);ORDER_SWAP(2,5);\n",
      "ORDER_SWAP(0,3);ORDER_SWAP(1,4);\n",
      "ORDER_SWAP(2,4);ORDER_SWAP(1,3);\n",
      "ORDER_SWAP(2,3);\n",
      "};\n",
      "\n",
      "template<typename T> void sort7(const T values[7],int order[7]){\n",
      "ORDER_SWAP(1,2);ORDER_SWAP(3,4);ORDER_SWAP(5,6);\n",
      "ORDER_SWAP(0,2);ORDER_SWAP(3,5);ORDER_SWAP(4,6);\n",
      "ORDER_SWAP(0,1);ORDER_SWAP(4,5);ORDER_SWAP(2,6);\n",
      "ORDER_SWAP(0,4);ORDER_SWAP(1,5);\n",
      "ORDER_SWAP(0,3);ORDER_SWAP(2,5);\n",
      "ORDER_SWAP(1,3);ORDER_SWAP(2,4);\n",
      "ORDER_SWAP(2,3);\n",
      "};\n",
      "\n",
      "template<typename T> void sort8(const T values[8],int order[8]){\n",
      "ORDER_SWAP(0,1);ORDER_SWAP(2,3);ORDER_SWAP(4,5);ORDER_SWAP(6,7);\n",
      "ORDER_SWAP(0,2);ORDER_SWAP(1,3);ORDER_SWAP(4,6);ORDER_SWAP(5,7);\n",
      "ORDER_SWAP(1,2);ORDER_SWAP(5,6);ORDER_SWAP(0,4);ORDER_SWAP(3,7);\n",
      "ORDER_SWAP(1,5);ORDER_SWAP(2,6);\n",
      "ORDER_SWAP(1,4);ORDER_SWAP(3,6);\n",
      "ORDER_SWAP(2,4);ORDER_SWAP(3,5);\n",
      "ORDER_SWAP(3,4);\n",
      "};\n",
      "\n",
      "template<typename T> void sort9(const T values[9],int order[9]){\n",
      "ORDER_SWAP(0,1);ORDER_SWAP(3,4);ORDER_SWAP(6,7);\n",
      "ORDER_SWAP(1,2);ORDER_SWAP(4,5);ORDER_SWAP(7,8);\n",
      "ORDER_SWAP(0,1);ORDER_SWAP(3,4);ORDER_SWAP(6,7);ORDER_SWAP(2,5);\n",
      "ORDER_SWAP(0,3);ORDER_SWAP(1,4);ORDER_SWAP(5,8);\n",
      "ORDER_SWAP(3,6);ORDER_SWAP(4,7);ORDER_SWAP(2,5);\n",
      "ORDER_SWAP(0,3);ORDER_SWAP(1,4);ORDER_SWAP(5,7);ORDER_SWAP(2,6);\n",
      "ORDER_SWAP(1,3);ORDER_SWAP(4,6);\n",
      "ORDER_SWAP(2,4);ORDER_SWAP(5,6);\n",
      "ORDER_SWAP(2,3);\n",
      "};\n",
      "\n",
      "template<typename T> void sort10(const T values[10],int order[10]){\n",
      "ORDER_SWAP(4,9);ORDER_SWAP(3,8);ORDER_SWAP(2,7);ORDER_SWAP(1,6);ORDER_SWAP(0,5);\n",
      "ORDER_SWAP(1,4);ORDER_SWAP(6,9);ORDER_SWAP(0,3);ORDER_SWAP(5,8);\n",
      "ORDER_SWAP(0,2);ORDER_SWAP(3,6);ORDER_SWAP(7,9);\n",
      "ORDER_SWAP(0,1);ORDER_SWAP(2,4);ORDER_SWAP(5,7);ORDER_SWAP(8,9);\n",
      "ORDER_SWAP(1,2);ORDER_SWAP(4,6);ORDER_SWAP(7,8);ORDER_SWAP(3,5);\n",
      "ORDER_SWAP(2,5);ORDER_SWAP(6,8);ORDER_SWAP(1,3);ORDER_SWAP(4,7);\n",
      "ORDER_SWAP(2,3);ORDER_SWAP(6,7);\n",
      "ORDER_SWAP(3,4);ORDER_SWAP(5,6);\n",
      "ORDER_SWAP(4,5);\n",
      "};\n",
      "\n",
      "template<typename T> void sort11(const T values[11],int order[11]){\n",
      "ORDER_SWAP(0,1);ORDER_SWAP(2,3);ORDER_SWAP(4,5);ORDER_SWAP(6,7);ORDER_SWAP(8,9);\n",
      "ORDER_SWAP(1,3);ORDER_SWAP(5,7);ORDER_SWAP(0,2);ORDER_SWAP(4,6);ORDER_SWAP(8,10);\n",
      "ORDER_SWAP(1,2);ORDER_SWAP(5,6);ORDER_SWAP(9,10);ORDER_SWAP(0,4);ORDER_SWAP(3,7);\n",
      "ORDER_SWAP(1,5);ORDER_SWAP(6,10);ORDER_SWAP(4,8);\n",
      "ORDER_SWAP(5,9);ORDER_SWAP(2,6);ORDER_SWAP(0,4);ORDER_SWAP(3,8);\n",
      "ORDER_SWAP(1,5);ORDER_SWAP(6,10);ORDER_SWAP(2,3);ORDER_SWAP(8,9);\n",
      "ORDER_SWAP(1,4);ORDER_SWAP(7,10);ORDER_SWAP(3,5);ORDER_SWAP(6,8);\n",
      "ORDER_SWAP(2,4);ORDER_SWAP(7,9);ORDER_SWAP(5,6);\n",
      "ORDER_SWAP(3,4);ORDER_SWAP(7,8);\n",
      "};\n",
      "\n",
      "template<typename T> void sort12(const T values[12],int order[12]){\n",
      "ORDER_SWAP(0,1);ORDER_SWAP(2,3);ORDER_SWAP(4,5);ORDER_SWAP(6,7);ORDER_SWAP(8,9);ORDER_SWAP(10,11);\n",
      "ORDER_SWAP(1,3);ORDER_SWAP(5,7);ORDER_SWAP(9,11);ORDER_SWAP(0,2);ORDER_SWAP(4,6);ORDER_SWAP(8,10);\n",
      "ORDER_SWAP(1,2);ORDER_SWAP(5,6);ORDER_SWAP(9,10);ORDER_SWAP(0,4);ORDER_SWAP(7,11);\n",
      "ORDER_SWAP(1,5);ORDER_SWAP(6,10);ORDER_SWAP(3,7);ORDER_SWAP(4,8);\n",
      "ORDER_SWAP(5,9);ORDER_SWAP(2,6);ORDER_SWAP(0,4);ORDER_SWAP(7,11);ORDER_SWAP(3,8);\n",
      "ORDER_SWAP(1,5);ORDER_SWAP(6,10);ORDER_SWAP(2,3);ORDER_SWAP(8,9);\n",
      "ORDER_SWAP(1,4);ORDER_SWAP(7,10);ORDER_SWAP(3,5);ORDER_SWAP(6,8);\n",
      "ORDER_SWAP(2,4);ORDER_SWAP(7,9);ORDER_SWAP(5,6);\n",
      "ORDER_SWAP(3,4);ORDER_SWAP(7,8);\n",
      "};\n",
      "\n",
      "template<typename T> void sort13(const T values[13],int order[13]){\n",
      "ORDER_SWAP(1,7);ORDER_SWAP(9,11);ORDER_SWAP(3,4);ORDER_SWAP(5,8);ORDER_SWAP(0,12);ORDER_SWAP(2,6);\n",
      "ORDER_SWAP(0,1);ORDER_SWAP(2,3);ORDER_SWAP(4,6);ORDER_SWAP(8,11);ORDER_SWAP(7,12);ORDER_SWAP(5,9);\n",
      "ORDER_SWAP(0,2);ORDER_SWAP(3,7);ORDER_SWAP(10,11);ORDER_SWAP(1,4);ORDER_SWAP(6,12);\n",
      "ORDER_SWAP(7,8);ORDER_SWAP(11,12);ORDER_SWAP(4,9);ORDER_SWAP(6,10);\n",
      "ORDER_SWAP(3,4);ORDER_SWAP(5,6);ORDER_SWAP(8,9);ORDER_SWAP(10,11);ORDER_SWAP(1,7);\n",
      "ORDER_SWAP(2,6);ORDER_SWAP(9,11);ORDER_SWAP(1,3);ORDER_SWAP(4,7);ORDER_SWAP(8,10);ORDER_SWAP(0,5);\n",
      "ORDER_SWAP(2,5);ORDER_SWAP(6,8);ORDER_SWAP(9,10);\n",
      "ORDER_SWAP(1,2);ORDER_SWAP(3,5);ORDER_SWAP(7,8);ORDER_SWAP(4,6);\n",
      "ORDER_SWAP(2,3);ORDER_SWAP(4,5);ORDER_SWAP(6,7);ORDER_SWAP(8,9);\n",
      "ORDER_SWAP(3,4);ORDER_SWAP(5,6);\n",
      "};\n",
      "\n",
      "template<typename T> void sort14(const T values[14],int order[14]){\n",
      "ORDER_SWAP(0,1);ORDER_SWAP(2,3);ORDER_SWAP(4,5);ORDER_SWAP(6,7);ORDER_SWAP(8,9);ORDER_SWAP(10,11);ORDER_SWAP(12,13);\n",
      "ORDER_SWAP(0,2);ORDER_SWAP(4,6);ORDER_SWAP(8,10);ORDER_SWAP(1,3);ORDER_SWAP(5,7);ORDER_SWAP(9,11);\n",
      "ORDER_SWAP(0,4);ORDER_SWAP(8,12);ORDER_SWAP(1,5);ORDER_SWAP(9,13);ORDER_SWAP(2,6);ORDER_SWAP(3,7);\n",
      "ORDER_SWAP(0,8);ORDER_SWAP(1,9);ORDER_SWAP(2,10);ORDER_SWAP(3,11);ORDER_SWAP(4,12);ORDER_SWAP(5,13);\n",
      "ORDER_SWAP(5,10);ORDER_SWAP(6,9);ORDER_SWAP(3,12);ORDER_SWAP(7,11);ORDER_SWAP(1,2);ORDER_SWAP(4,8);\n",
      "ORDER_SWAP(1,4);ORDER_SWAP(7,13);ORDER_SWAP(2,8);ORDER_SWAP(5,6);ORDER_SWAP(9,10);\n",
      "ORDER_SWAP(2,4);ORDER_SWAP(11,13);ORDER_SWAP(3,8);ORDER_SWAP(7,12);\n",
      "ORDER_SWAP(6,8);ORDER_SWAP(10,12);ORDER_SWAP(3,5);ORDER_SWAP(7,9);\n",
      "ORDER_SWAP(3,4);ORDER_SWAP(5,6);ORDER_SWAP(7,8);ORDER_SWAP(9,10);ORDER_SWAP(11,12);\n",
      "ORDER_SWAP(6,7);ORDER_SWAP(8,9);\n",
      "};\n",
      "\n",
      "template<typename T> void sort15(const T values[15],int order[15]){\n",
      "ORDER_SWAP(0,1);ORDER_SWAP(2,3);ORDER_SWAP(4,5);ORDER_SWAP(6,7);ORDER_SWAP(8,9);ORDER_SWAP(10,11);ORDER_SWAP(12,13);\n",
      "ORDER_SWAP(0,2);ORDER_SWAP(4,6);ORDER_SWAP(8,10);ORDER_SWAP(12,14);ORDER_SWAP(1,3);ORDER_SWAP(5,7);ORDER_SWAP(9,11);\n",
      "ORDER_SWAP(0,4);ORDER_SWAP(8,12);ORDER_SWAP(1,5);ORDER_SWAP(9,13);ORDER_SWAP(2,6);ORDER_SWAP(10,14);ORDER_SWAP(3,7);\n",
      "ORDER_SWAP(0,8);ORDER_SWAP(1,9);ORDER_SWAP(2,10);ORDER_SWAP(3,11);ORDER_SWAP(4,12);ORDER_SWAP(5,13);ORDER_SWAP(6,14);\n",
      "ORDER_SWAP(5,10);ORDER_SWAP(6,9);ORDER_SWAP(3,12);ORDER_SWAP(13,14);ORDER_SWAP(7,11);ORDER_SWAP(1,2);ORDER_SWAP(4,8);\n",
      "ORDER_SWAP(1,4);ORDER_SWAP(7,13);ORDER_SWAP(2,8);ORDER_SWAP(11,14);ORDER_SWAP(5,6);ORDER_SWAP(9,10);\n",
      "ORDER_SWAP(2,4);ORDER_SWAP(11,13);ORDER_SWAP(3,8);ORDER_SWAP(7,12);\n",
      "ORDER_SWAP(6,8);ORDER_SWAP(10,12);ORDER_SWAP(3,5);ORDER_SWAP(7,9);\n",
      "ORDER_SWAP(3,4);ORDER_SWAP(5,6);ORDER_SWAP(7,8);ORDER_SWAP(9,10);ORDER_SWAP(11,12);\n",
      "ORDER_SWAP(6,7);ORDER_SWAP(8,9);\n",
      "};\n",
      "\n",
      "template<typename T> void sort16(const T values[16],int order[16]){\n",
      "ORDER_SWAP(0,1);ORDER_SWAP(2,3);ORDER_SWAP(4,5);ORDER_SWAP(6,7);ORDER_SWAP(8,9);ORDER_SWAP(10,11);ORDER_SWAP(12,13);ORDER_SWAP(14,15);\n",
      "ORDER_SWAP(0,2);ORDER_SWAP(4,6);ORDER_SWAP(8,10);ORDER_SWAP(12,14);ORDER_SWAP(1,3);ORDER_SWAP(5,7);ORDER_SWAP(9,11);ORDER_SWAP(13,15);\n",
      "ORDER_SWAP(0,4);ORDER_SWAP(8,12);ORDER_SWAP(1,5);ORDER_SWAP(9,13);ORDER_SWAP(2,6);ORDER_SWAP(10,14);ORDER_SWAP(3,7);ORDER_SWAP(11,15);\n",
      "ORDER_SWAP(0,8);ORDER_SWAP(1,9);ORDER_SWAP(2,10);ORDER_SWAP(3,11);ORDER_SWAP(4,12);ORDER_SWAP(5,13);ORDER_SWAP(6,14);ORDER_SWAP(7,15);\n",
      "ORDER_SWAP(5,10);ORDER_SWAP(6,9);ORDER_SWAP(3,12);ORDER_SWAP(13,14);ORDER_SWAP(7,11);ORDER_SWAP(1,2);ORDER_SWAP(4,8);\n",
      "ORDER_SWAP(1,4);ORDER_SWAP(7,13);ORDER_SWAP(2,8);ORDER_SWAP(11,14);ORDER_SWAP(5,6);ORDER_SWAP(9,10);\n",
      "ORDER_SWAP(2,4);ORDER_SWAP(11,13);ORDER_SWAP(3,8);ORDER_SWAP(7,12);\n",
      "ORDER_SWAP(6,8);ORDER_SWAP(10,12);ORDER_SWAP(3,5);ORDER_SWAP(7,9);\n",
      "ORDER_SWAP(3,4);ORDER_SWAP(5,6);ORDER_SWAP(7,8);ORDER_SWAP(9,10);ORDER_SWAP(11,12);\n",
      "ORDER_SWAP(6,7);ORDER_SWAP(8,9);\n",
      "};\n",
      "\n"
     ]
    }
   ],
   "source": [
    "print(code_networks(s))"
   ]
  },
  {
   "cell_type": "code",
   "execution_count": 3,
   "metadata": {},
   "outputs": [],
   "source": [
    "import sys; sys.path.insert(0,\"../..\")\n",
    "from agd.Metrics.hamiltonian import QuadraticHamiltonian\n",
    "\n"
   ]
  },
  {
   "cell_type": "code",
   "execution_count": 4,
   "metadata": {},
   "outputs": [
    {
     "data": {
      "text/plain": [
       "<function agd.Metrics.hamiltonian.QuadraticHamiltonian(HamiltonianBase)>"
      ]
     },
     "execution_count": 4,
     "metadata": {},
     "output_type": "execute_result"
    }
   ],
   "source": [
    "QuadraticHamiltonian"
   ]
  },
  {
   "cell_type": "code",
   "execution_count": 1,
   "metadata": {},
   "outputs": [],
   "source": [
    "try: import cupy as cp\n",
    "except ModuleNotFoundError: cp=None\n",
    "    \n",
    "\n",
    "import numpy as np\n",
    "from agd import AutomaticDifferentiation as ad"
   ]
  },
  {
   "cell_type": "code",
   "execution_count": 2,
   "metadata": {},
   "outputs": [],
   "source": [
    "x = ad.Sparse.identity(constant=np.array(1.))"
   ]
  },
  {
   "cell_type": "code",
   "execution_count": 3,
   "metadata": {},
   "outputs": [
    {
     "data": {
      "text/plain": [
       "spAD(array(1.), array([1.]), array([0]))"
      ]
     },
     "execution_count": 3,
     "metadata": {},
     "output_type": "execute_result"
    }
   ],
   "source": [
    "x"
   ]
  },
  {
   "cell_type": "code",
   "execution_count": 10,
   "metadata": {},
   "outputs": [
    {
     "data": {
      "text/plain": [
       "array([[1.]])"
      ]
     },
     "execution_count": 10,
     "metadata": {},
     "output_type": "execute_result"
    }
   ],
   "source": [
    "\n",
    "ad.cupy_support.ones_like(np.array(1.),shape=(1,1))"
   ]
  },
  {
   "cell_type": "code",
   "execution_count": 8,
   "metadata": {},
   "outputs": [],
   "source": [
    "ad.cupy_generic.cp"
   ]
  },
  {
   "cell_type": "code",
   "execution_count": 9,
   "metadata": {},
   "outputs": [],
   "source": [
    "def mycontainer():\n",
    "    print(\"False\"); yield False\n",
    "    print(\"True\"); yield True\n",
    "    print(\"True, again\"); yield True"
   ]
  },
  {
   "cell_type": "code",
   "execution_count": 11,
   "metadata": {},
   "outputs": [
    {
     "name": "stdout",
     "output_type": "stream",
     "text": [
      "False\n",
      "True\n",
      "True, again\n"
     ]
    },
    {
     "data": {
      "text/plain": [
       "[False, True, True]"
      ]
     },
     "execution_count": 11,
     "metadata": {},
     "output_type": "execute_result"
    }
   ],
   "source": [
    "list(mycontainer())"
   ]
  },
  {
   "cell_type": "code",
   "execution_count": 12,
   "metadata": {},
   "outputs": [
    {
     "name": "stdout",
     "output_type": "stream",
     "text": [
      "False\n",
      "True\n"
     ]
    },
    {
     "data": {
      "text/plain": [
       "True"
      ]
     },
     "execution_count": 12,
     "metadata": {},
     "output_type": "execute_result"
    }
   ],
   "source": [
    "any(mycontainer())"
   ]
  },
  {
   "cell_type": "code",
   "execution_count": 4,
   "metadata": {},
   "outputs": [],
   "source": [
    "a = np.array(1.)"
   ]
  },
  {
   "cell_type": "code",
   "execution_count": 7,
   "metadata": {},
   "outputs": [
    {
     "data": {
      "text/plain": [
       "False"
      ]
     },
     "execution_count": 7,
     "metadata": {},
     "output_type": "execute_result"
    }
   ],
   "source": [
    "a.astype(a.dtype) is a"
   ]
  },
  {
   "cell_type": "code",
   "execution_count": 6,
   "metadata": {},
   "outputs": [
    {
     "data": {
      "text/plain": [
       "dtype('float64')"
      ]
     },
     "execution_count": 6,
     "metadata": {},
     "output_type": "execute_result"
    }
   ],
   "source": [
    "a.dtype"
   ]
  },
  {
   "cell_type": "code",
   "execution_count": 9,
   "metadata": {},
   "outputs": [
    {
     "ename": "TypeError",
     "evalue": "arange: scalar arguments expected instead of a tuple.",
     "output_type": "error",
     "traceback": [
      "\u001b[0;31m---------------------------------------------------------------------------\u001b[0m",
      "\u001b[0;31mTypeError\u001b[0m                                 Traceback (most recent call last)",
      "\u001b[0;32m<ipython-input-9-12db59cdd921>\u001b[0m in \u001b[0;36m<module>\u001b[0;34m\u001b[0m\n\u001b[0;32m----> 1\u001b[0;31m \u001b[0mnp\u001b[0m\u001b[0;34m.\u001b[0m\u001b[0marange\u001b[0m\u001b[0;34m(\u001b[0m\u001b[0;34m(\u001b[0m\u001b[0;36m2\u001b[0m\u001b[0;34m,\u001b[0m\u001b[0;36m2\u001b[0m\u001b[0;34m)\u001b[0m\u001b[0;34m)\u001b[0m\u001b[0;34m\u001b[0m\u001b[0;34m\u001b[0m\u001b[0m\n\u001b[0m",
      "\u001b[0;31mTypeError\u001b[0m: arange: scalar arguments expected instead of a tuple."
     ]
    }
   ],
   "source": [
    "np.arange((2,2))"
   ]
  },
  {
   "cell_type": "code",
   "execution_count": 10,
   "metadata": {},
   "outputs": [
    {
     "data": {
      "text/plain": [
       "array([0, 1, 2, 3, 4])"
      ]
     },
     "execution_count": 10,
     "metadata": {},
     "output_type": "execute_result"
    }
   ],
   "source": [
    "np.mgrid[0:5]"
   ]
  },
  {
   "cell_type": "code",
   "execution_count": 11,
   "metadata": {},
   "outputs": [
    {
     "ename": "AttributeError",
     "evalue": "'int' object has no attribute 'step'",
     "output_type": "error",
     "traceback": [
      "\u001b[0;31m---------------------------------------------------------------------------\u001b[0m",
      "\u001b[0;31mAttributeError\u001b[0m                            Traceback (most recent call last)",
      "\u001b[0;32m<ipython-input-11-754892b28b48>\u001b[0m in \u001b[0;36m<module>\u001b[0;34m\u001b[0m\n\u001b[0;32m----> 1\u001b[0;31m \u001b[0mnp\u001b[0m\u001b[0;34m.\u001b[0m\u001b[0mmgrid\u001b[0m\u001b[0;34m[\u001b[0m\u001b[0mrange\u001b[0m\u001b[0;34m(\u001b[0m\u001b[0;36m5\u001b[0m\u001b[0;34m)\u001b[0m\u001b[0;34m]\u001b[0m\u001b[0;34m\u001b[0m\u001b[0;34m\u001b[0m\u001b[0m\n\u001b[0m",
      "\u001b[0;32m~/opt/miniconda3/envs/agd-hfm_dev/lib/python3.8/site-packages/numpy/lib/index_tricks.py\u001b[0m in \u001b[0;36m__getitem__\u001b[0;34m(self, key)\u001b[0m\n\u001b[1;32m    151\u001b[0m             \u001b[0mtyp\u001b[0m \u001b[0;34m=\u001b[0m \u001b[0mint\u001b[0m\u001b[0;34m\u001b[0m\u001b[0;34m\u001b[0m\u001b[0m\n\u001b[1;32m    152\u001b[0m             \u001b[0;32mfor\u001b[0m \u001b[0mk\u001b[0m \u001b[0;32min\u001b[0m \u001b[0mrange\u001b[0m\u001b[0;34m(\u001b[0m\u001b[0mlen\u001b[0m\u001b[0;34m(\u001b[0m\u001b[0mkey\u001b[0m\u001b[0;34m)\u001b[0m\u001b[0;34m)\u001b[0m\u001b[0;34m:\u001b[0m\u001b[0;34m\u001b[0m\u001b[0;34m\u001b[0m\u001b[0m\n\u001b[0;32m--> 153\u001b[0;31m                 \u001b[0mstep\u001b[0m \u001b[0;34m=\u001b[0m \u001b[0mkey\u001b[0m\u001b[0;34m[\u001b[0m\u001b[0mk\u001b[0m\u001b[0;34m]\u001b[0m\u001b[0;34m.\u001b[0m\u001b[0mstep\u001b[0m\u001b[0;34m\u001b[0m\u001b[0;34m\u001b[0m\u001b[0m\n\u001b[0m\u001b[1;32m    154\u001b[0m                 \u001b[0mstart\u001b[0m \u001b[0;34m=\u001b[0m \u001b[0mkey\u001b[0m\u001b[0;34m[\u001b[0m\u001b[0mk\u001b[0m\u001b[0;34m]\u001b[0m\u001b[0;34m.\u001b[0m\u001b[0mstart\u001b[0m\u001b[0;34m\u001b[0m\u001b[0;34m\u001b[0m\u001b[0m\n\u001b[1;32m    155\u001b[0m                 \u001b[0;32mif\u001b[0m \u001b[0mstart\u001b[0m \u001b[0;32mis\u001b[0m \u001b[0;32mNone\u001b[0m\u001b[0;34m:\u001b[0m\u001b[0;34m\u001b[0m\u001b[0;34m\u001b[0m\u001b[0m\n",
      "\u001b[0;31mAttributeError\u001b[0m: 'int' object has no attribute 'step'"
     ]
    }
   ],
   "source": [
    "np.mgrid[range(5)]"
   ]
  },
  {
   "cell_type": "code",
   "execution_count": 12,
   "metadata": {},
   "outputs": [
    {
     "data": {
      "text/plain": [
       "range(0, 5)"
      ]
     },
     "execution_count": 12,
     "metadata": {},
     "output_type": "execute_result"
    }
   ],
   "source": [
    "range(5)"
   ]
  },
  {
   "cell_type": "code",
   "execution_count": 14,
   "metadata": {},
   "outputs": [
    {
     "ename": "TypeError",
     "evalue": "module, class, method, function, traceback, frame, or code object was expected, got MGridClass",
     "output_type": "error",
     "traceback": [
      "\u001b[0;31m---------------------------------------------------------------------------\u001b[0m",
      "\u001b[0;31mTypeError\u001b[0m                                 Traceback (most recent call last)",
      "\u001b[0;32m<ipython-input-14-abf031d9277a>\u001b[0m in \u001b[0;36m<module>\u001b[0;34m\u001b[0m\n\u001b[1;32m      1\u001b[0m \u001b[0;32mimport\u001b[0m \u001b[0minspect\u001b[0m\u001b[0;34m\u001b[0m\u001b[0;34m\u001b[0m\u001b[0m\n\u001b[0;32m----> 2\u001b[0;31m \u001b[0minspect\u001b[0m\u001b[0;34m.\u001b[0m\u001b[0mgetsource\u001b[0m\u001b[0;34m(\u001b[0m\u001b[0mnp\u001b[0m\u001b[0;34m.\u001b[0m\u001b[0mmgrid\u001b[0m\u001b[0;34m)\u001b[0m\u001b[0;34m\u001b[0m\u001b[0;34m\u001b[0m\u001b[0m\n\u001b[0m",
      "\u001b[0;32m~/opt/miniconda3/envs/agd-hfm_dev/lib/python3.8/inspect.py\u001b[0m in \u001b[0;36mgetsource\u001b[0;34m(object)\u001b[0m\n\u001b[1;32m    983\u001b[0m     \u001b[0;32mor\u001b[0m \u001b[0mcode\u001b[0m \u001b[0mobject\u001b[0m\u001b[0;34m.\u001b[0m  \u001b[0mThe\u001b[0m \u001b[0msource\u001b[0m \u001b[0mcode\u001b[0m \u001b[0;32mis\u001b[0m \u001b[0mreturned\u001b[0m \u001b[0;32mas\u001b[0m \u001b[0ma\u001b[0m \u001b[0msingle\u001b[0m \u001b[0mstring\u001b[0m\u001b[0;34m.\u001b[0m  \u001b[0mAn\u001b[0m\u001b[0;34m\u001b[0m\u001b[0;34m\u001b[0m\u001b[0m\n\u001b[1;32m    984\u001b[0m     OSError is raised if the source code cannot be retrieved.\"\"\"\n\u001b[0;32m--> 985\u001b[0;31m     \u001b[0mlines\u001b[0m\u001b[0;34m,\u001b[0m \u001b[0mlnum\u001b[0m \u001b[0;34m=\u001b[0m \u001b[0mgetsourcelines\u001b[0m\u001b[0;34m(\u001b[0m\u001b[0mobject\u001b[0m\u001b[0;34m)\u001b[0m\u001b[0;34m\u001b[0m\u001b[0;34m\u001b[0m\u001b[0m\n\u001b[0m\u001b[1;32m    986\u001b[0m     \u001b[0;32mreturn\u001b[0m \u001b[0;34m''\u001b[0m\u001b[0;34m.\u001b[0m\u001b[0mjoin\u001b[0m\u001b[0;34m(\u001b[0m\u001b[0mlines\u001b[0m\u001b[0;34m)\u001b[0m\u001b[0;34m\u001b[0m\u001b[0;34m\u001b[0m\u001b[0m\n\u001b[1;32m    987\u001b[0m \u001b[0;34m\u001b[0m\u001b[0m\n",
      "\u001b[0;32m~/opt/miniconda3/envs/agd-hfm_dev/lib/python3.8/inspect.py\u001b[0m in \u001b[0;36mgetsourcelines\u001b[0;34m(object)\u001b[0m\n\u001b[1;32m    965\u001b[0m     raised if the source code cannot be retrieved.\"\"\"\n\u001b[1;32m    966\u001b[0m     \u001b[0mobject\u001b[0m \u001b[0;34m=\u001b[0m \u001b[0munwrap\u001b[0m\u001b[0;34m(\u001b[0m\u001b[0mobject\u001b[0m\u001b[0;34m)\u001b[0m\u001b[0;34m\u001b[0m\u001b[0;34m\u001b[0m\u001b[0m\n\u001b[0;32m--> 967\u001b[0;31m     \u001b[0mlines\u001b[0m\u001b[0;34m,\u001b[0m \u001b[0mlnum\u001b[0m \u001b[0;34m=\u001b[0m \u001b[0mfindsource\u001b[0m\u001b[0;34m(\u001b[0m\u001b[0mobject\u001b[0m\u001b[0;34m)\u001b[0m\u001b[0;34m\u001b[0m\u001b[0;34m\u001b[0m\u001b[0m\n\u001b[0m\u001b[1;32m    968\u001b[0m \u001b[0;34m\u001b[0m\u001b[0m\n\u001b[1;32m    969\u001b[0m     \u001b[0;32mif\u001b[0m \u001b[0mistraceback\u001b[0m\u001b[0;34m(\u001b[0m\u001b[0mobject\u001b[0m\u001b[0;34m)\u001b[0m\u001b[0;34m:\u001b[0m\u001b[0;34m\u001b[0m\u001b[0;34m\u001b[0m\u001b[0m\n",
      "\u001b[0;32m~/opt/miniconda3/envs/agd-hfm_dev/lib/python3.8/inspect.py\u001b[0m in \u001b[0;36mfindsource\u001b[0;34m(object)\u001b[0m\n\u001b[1;32m    778\u001b[0m     is raised if the source code cannot be retrieved.\"\"\"\n\u001b[1;32m    779\u001b[0m \u001b[0;34m\u001b[0m\u001b[0m\n\u001b[0;32m--> 780\u001b[0;31m     \u001b[0mfile\u001b[0m \u001b[0;34m=\u001b[0m \u001b[0mgetsourcefile\u001b[0m\u001b[0;34m(\u001b[0m\u001b[0mobject\u001b[0m\u001b[0;34m)\u001b[0m\u001b[0;34m\u001b[0m\u001b[0;34m\u001b[0m\u001b[0m\n\u001b[0m\u001b[1;32m    781\u001b[0m     \u001b[0;32mif\u001b[0m \u001b[0mfile\u001b[0m\u001b[0;34m:\u001b[0m\u001b[0;34m\u001b[0m\u001b[0;34m\u001b[0m\u001b[0m\n\u001b[1;32m    782\u001b[0m         \u001b[0;31m# Invalidate cache if needed.\u001b[0m\u001b[0;34m\u001b[0m\u001b[0;34m\u001b[0m\u001b[0;34m\u001b[0m\u001b[0m\n",
      "\u001b[0;32m~/opt/miniconda3/envs/agd-hfm_dev/lib/python3.8/inspect.py\u001b[0m in \u001b[0;36mgetsourcefile\u001b[0;34m(object)\u001b[0m\n\u001b[1;32m    694\u001b[0m     \u001b[0mReturn\u001b[0m \u001b[0;32mNone\u001b[0m \u001b[0;32mif\u001b[0m \u001b[0mno\u001b[0m \u001b[0mway\u001b[0m \u001b[0mcan\u001b[0m \u001b[0mbe\u001b[0m \u001b[0midentified\u001b[0m \u001b[0mto\u001b[0m \u001b[0mget\u001b[0m \u001b[0mthe\u001b[0m \u001b[0msource\u001b[0m\u001b[0;34m.\u001b[0m\u001b[0;34m\u001b[0m\u001b[0;34m\u001b[0m\u001b[0m\n\u001b[1;32m    695\u001b[0m     \"\"\"\n\u001b[0;32m--> 696\u001b[0;31m     \u001b[0mfilename\u001b[0m \u001b[0;34m=\u001b[0m \u001b[0mgetfile\u001b[0m\u001b[0;34m(\u001b[0m\u001b[0mobject\u001b[0m\u001b[0;34m)\u001b[0m\u001b[0;34m\u001b[0m\u001b[0;34m\u001b[0m\u001b[0m\n\u001b[0m\u001b[1;32m    697\u001b[0m     \u001b[0mall_bytecode_suffixes\u001b[0m \u001b[0;34m=\u001b[0m \u001b[0mimportlib\u001b[0m\u001b[0;34m.\u001b[0m\u001b[0mmachinery\u001b[0m\u001b[0;34m.\u001b[0m\u001b[0mDEBUG_BYTECODE_SUFFIXES\u001b[0m\u001b[0;34m[\u001b[0m\u001b[0;34m:\u001b[0m\u001b[0;34m]\u001b[0m\u001b[0;34m\u001b[0m\u001b[0;34m\u001b[0m\u001b[0m\n\u001b[1;32m    698\u001b[0m     \u001b[0mall_bytecode_suffixes\u001b[0m \u001b[0;34m+=\u001b[0m \u001b[0mimportlib\u001b[0m\u001b[0;34m.\u001b[0m\u001b[0mmachinery\u001b[0m\u001b[0;34m.\u001b[0m\u001b[0mOPTIMIZED_BYTECODE_SUFFIXES\u001b[0m\u001b[0;34m[\u001b[0m\u001b[0;34m:\u001b[0m\u001b[0;34m]\u001b[0m\u001b[0;34m\u001b[0m\u001b[0;34m\u001b[0m\u001b[0m\n",
      "\u001b[0;32m~/opt/miniconda3/envs/agd-hfm_dev/lib/python3.8/inspect.py\u001b[0m in \u001b[0;36mgetfile\u001b[0;34m(object)\u001b[0m\n\u001b[1;32m    674\u001b[0m     \u001b[0;32mif\u001b[0m \u001b[0miscode\u001b[0m\u001b[0;34m(\u001b[0m\u001b[0mobject\u001b[0m\u001b[0;34m)\u001b[0m\u001b[0;34m:\u001b[0m\u001b[0;34m\u001b[0m\u001b[0;34m\u001b[0m\u001b[0m\n\u001b[1;32m    675\u001b[0m         \u001b[0;32mreturn\u001b[0m \u001b[0mobject\u001b[0m\u001b[0;34m.\u001b[0m\u001b[0mco_filename\u001b[0m\u001b[0;34m\u001b[0m\u001b[0;34m\u001b[0m\u001b[0m\n\u001b[0;32m--> 676\u001b[0;31m     raise TypeError('module, class, method, function, traceback, frame, or '\n\u001b[0m\u001b[1;32m    677\u001b[0m                     'code object was expected, got {}'.format(\n\u001b[1;32m    678\u001b[0m                     type(object).__name__))\n",
      "\u001b[0;31mTypeError\u001b[0m: module, class, method, function, traceback, frame, or code object was expected, got MGridClass"
     ]
    }
   ],
   "source": [
    "import inspect\n",
    "inspect.getsource(np.mgrid)"
   ]
  },
  {
   "cell_type": "code",
   "execution_count": 15,
   "metadata": {},
   "outputs": [
    {
     "name": "stdout",
     "output_type": "stream",
     "text": [
      "Help on MGridClass in module numpy.lib.index_tricks object:\n",
      "\n",
      "class MGridClass(nd_grid)\n",
      " |  `nd_grid` instance which returns a dense multi-dimensional \"meshgrid\".\n",
      " |  \n",
      " |  An instance of `numpy.lib.index_tricks.nd_grid` which returns an dense\n",
      " |  (or fleshed out) mesh-grid when indexed, so that each returned argument\n",
      " |  has the same shape.  The dimensions and number of the output arrays are\n",
      " |  equal to the number of indexing dimensions.  If the step length is not a\n",
      " |  complex number, then the stop is not inclusive.\n",
      " |  \n",
      " |  However, if the step length is a **complex number** (e.g. 5j), then\n",
      " |  the integer part of its magnitude is interpreted as specifying the\n",
      " |  number of points to create between the start and stop values, where\n",
      " |  the stop value **is inclusive**.\n",
      " |  \n",
      " |  Returns\n",
      " |  ----------\n",
      " |  mesh-grid `ndarrays` all of the same dimensions\n",
      " |  \n",
      " |  See Also\n",
      " |  --------\n",
      " |  numpy.lib.index_tricks.nd_grid : class of `ogrid` and `mgrid` objects\n",
      " |  ogrid : like mgrid but returns open (not fleshed out) mesh grids\n",
      " |  r_ : array concatenator\n",
      " |  \n",
      " |  Examples\n",
      " |  --------\n",
      " |  >>> np.mgrid[0:5,0:5]\n",
      " |  array([[[0, 0, 0, 0, 0],\n",
      " |          [1, 1, 1, 1, 1],\n",
      " |          [2, 2, 2, 2, 2],\n",
      " |          [3, 3, 3, 3, 3],\n",
      " |          [4, 4, 4, 4, 4]],\n",
      " |         [[0, 1, 2, 3, 4],\n",
      " |          [0, 1, 2, 3, 4],\n",
      " |          [0, 1, 2, 3, 4],\n",
      " |          [0, 1, 2, 3, 4],\n",
      " |          [0, 1, 2, 3, 4]]])\n",
      " |  >>> np.mgrid[-1:1:5j]\n",
      " |  array([-1. , -0.5,  0. ,  0.5,  1. ])\n",
      " |  \n",
      " |  Method resolution order:\n",
      " |      MGridClass\n",
      " |      nd_grid\n",
      " |      builtins.object\n",
      " |  \n",
      " |  Methods defined here:\n",
      " |  \n",
      " |  __init__(self)\n",
      " |      Initialize self.  See help(type(self)) for accurate signature.\n",
      " |  \n",
      " |  ----------------------------------------------------------------------\n",
      " |  Methods inherited from nd_grid:\n",
      " |  \n",
      " |  __getitem__(self, key)\n",
      " |  \n",
      " |  ----------------------------------------------------------------------\n",
      " |  Data descriptors inherited from nd_grid:\n",
      " |  \n",
      " |  __dict__\n",
      " |      dictionary for instance variables (if defined)\n",
      " |  \n",
      " |  __weakref__\n",
      " |      list of weak references to the object (if defined)\n",
      "\n"
     ]
    }
   ],
   "source": [
    "help(np.mgrid)"
   ]
  },
  {
   "cell_type": "code",
   "execution_count": 23,
   "metadata": {},
   "outputs": [
    {
     "data": {
      "text/plain": [
       "dtype('int64')"
      ]
     },
     "execution_count": 23,
     "metadata": {},
     "output_type": "execute_result"
    }
   ],
   "source": [
    "np.mgrid.__getitem__((range(5),range(5))).dtype"
   ]
  },
  {
   "cell_type": "code",
   "execution_count": 27,
   "metadata": {},
   "outputs": [
    {
     "data": {
      "text/plain": [
       "array([0, 1, 2, 3, 4])"
      ]
     },
     "execution_count": 27,
     "metadata": {},
     "output_type": "execute_result"
    }
   ],
   "source": [
    "np.mgrid[0:5:1]"
   ]
  },
  {
   "cell_type": "code",
   "execution_count": 31,
   "metadata": {},
   "outputs": [
    {
     "ename": "TypeError",
     "evalue": "data type not understood",
     "output_type": "error",
     "traceback": [
      "\u001b[0;31m---------------------------------------------------------------------------\u001b[0m",
      "\u001b[0;31mTypeError\u001b[0m                                 Traceback (most recent call last)",
      "\u001b[0;32m<ipython-input-31-6ad1267cf61c>\u001b[0m in \u001b[0;36m<module>\u001b[0;34m\u001b[0m\n\u001b[0;32m----> 1\u001b[0;31m \u001b[0mnp\u001b[0m\u001b[0;34m.\u001b[0m\u001b[0marray\u001b[0m\u001b[0;34m(\u001b[0m\u001b[0;34m*\u001b[0m\u001b[0mnp\u001b[0m\u001b[0;34m.\u001b[0m\u001b[0mbroadcast\u001b[0m\u001b[0;34m(\u001b[0m\u001b[0mnp\u001b[0m\u001b[0;34m.\u001b[0m\u001b[0mix_\u001b[0m\u001b[0;34m(\u001b[0m\u001b[0mnp\u001b[0m\u001b[0;34m.\u001b[0m\u001b[0marange\u001b[0m\u001b[0;34m(\u001b[0m\u001b[0;36m2\u001b[0m\u001b[0;34m)\u001b[0m\u001b[0;34m,\u001b[0m\u001b[0mnp\u001b[0m\u001b[0;34m.\u001b[0m\u001b[0marange\u001b[0m\u001b[0;34m(\u001b[0m\u001b[0;36m3\u001b[0m\u001b[0;34m)\u001b[0m\u001b[0;34m)\u001b[0m\u001b[0;34m)\u001b[0m\u001b[0;34m)\u001b[0m\u001b[0;34m\u001b[0m\u001b[0;34m\u001b[0m\u001b[0m\n\u001b[0m",
      "\u001b[0;31mTypeError\u001b[0m: data type not understood"
     ]
    }
   ],
   "source": [
    "np.array(*np.broadcast(np.ix_(np.arange(2),np.arange(3)))"
   ]
  },
  {
   "cell_type": "code",
   "execution_count": 37,
   "metadata": {},
   "outputs": [
    {
     "data": {
      "text/plain": [
       "(2, 50, 50)"
      ]
     },
     "execution_count": 37,
     "metadata": {},
     "output_type": "execute_result"
    }
   ],
   "source": [
    "np.array(np.meshgrid(np.linspace(0,1),np.linspace(0,2),copy=False )).shape"
   ]
  },
  {
   "cell_type": "code",
   "execution_count": null,
   "metadata": {},
   "outputs": [],
   "source": []
  }
 ],
 "metadata": {
  "kernelspec": {
   "display_name": "Python 3",
   "language": "python",
   "name": "python3"
  },
  "language_info": {
   "codemirror_mode": {
    "name": "ipython",
    "version": 3
   },
   "file_extension": ".py",
   "mimetype": "text/x-python",
   "name": "python",
   "nbconvert_exporter": "python",
   "pygments_lexer": "ipython3",
   "version": "3.7.6"
  }
 },
 "nbformat": 4,
 "nbformat_minor": 4
}

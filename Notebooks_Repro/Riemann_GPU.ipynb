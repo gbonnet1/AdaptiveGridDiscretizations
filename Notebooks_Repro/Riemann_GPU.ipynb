{
 "cells": [
  {
   "cell_type": "markdown",
   "metadata": {},
   "source": [
    "# Adaptive PDE discretizations on cartesian grids \n",
    "## Volume : Reproducible research\n",
    "## Part : Eikonal CPU/GPU solvers comparison\n",
    "## Chapter : Riemannian metrics"
   ]
  },
  {
   "cell_type": "markdown",
   "metadata": {},
   "source": [
    "In this notebook, we solve Riemannian eikonal equations on the CPU and the GPU, and check that they produce consistent results.\n",
    "\n",
    "**GPU performance** GPUs are massively parallel machines, which efficiently exploit cache locality. Hence they are at their advantage with :\n",
    "* Large problem instances, which are embarassingly parallel\n",
    "* Moderate anisotropy, so that the numerical scheme stncils are not too wide"
   ]
  },
  {
   "cell_type": "markdown",
   "metadata": {},
   "source": [
    "[**Summary**](Summary.ipynb) of volume Reproducible research, this series of notebooks.\n",
    "\n",
    "[**Main summary**](../Summary.ipynb) of the Adaptive Grid Discretizations \n",
    "\tbook of notebooks, including the other volumes.\n",
    "\n",
    "# Table of contents\n",
    "  * [1. Two dimensions](#1.-Two-dimensions)\n",
    "    * [1.1 Isotropic metric](#1.1-Isotropic-metric)\n",
    "    * [1.2 Smooth anisotropic metric](#1.2-Smooth-anisotropic-metric)\n",
    "  * [2. Three dimensions](#2.-Three-dimensions)\n",
    "    * [2.1 Smooth anisotropic metric](#2.1-Smooth-anisotropic-metric)\n",
    "\n",
    "\n",
    "\n",
    "**Acknowledgement.** The experiments presented in these notebooks are part of ongoing research, \n",
    "some of it with PhD student Guillaume Bonnet, in co-direction with Frederic Bonnans.\n",
    "\n",
    "Copyright Jean-Marie Mirebeau, University Paris-Sud, CNRS, University Paris-Saclay"
   ]
  },
  {
   "cell_type": "markdown",
   "metadata": {},
   "source": [
    "## 0. Importing the required libraries"
   ]
  },
  {
   "cell_type": "code",
   "execution_count": 1,
   "metadata": {},
   "outputs": [],
   "source": [
    "import sys; sys.path.insert(0,\"..\")\n",
    "#from Miscellaneous import TocTools; print(TocTools.displayTOC('Riemann_GPU','Repro'))"
   ]
  },
  {
   "cell_type": "code",
   "execution_count": 2,
   "metadata": {},
   "outputs": [],
   "source": [
    "from agd import AutomaticDifferentiation as ad\n",
    "if ad.cupy_generic.cp is None: raise ad.DeliberateNotebookError('Cupy module required')\n",
    "from agd import Eikonal\n",
    "from agd import Metrics\n",
    "from agd import FiniteDifferences as fd\n",
    "from agd import LinearParallel as lp\n",
    "import agd.AutomaticDifferentiation.cupy_generic as cugen\n",
    "\n",
    "from agd.ExportedCode.Notebooks_Repro.Isotropic_GPU import RunCompare\n",
    "Eikonal.dictIn.default_mode = 'gpu'"
   ]
  },
  {
   "cell_type": "code",
   "execution_count": 3,
   "metadata": {},
   "outputs": [],
   "source": [
    "import cupy as cp\n",
    "import numpy as np\n",
    "import itertools\n",
    "from matplotlib import pyplot as plt\n",
    "np.set_printoptions(edgeitems=30, linewidth=100000, formatter=dict(float=lambda x: \"%5.3g\" % x))"
   ]
  },
  {
   "cell_type": "code",
   "execution_count": 4,
   "metadata": {},
   "outputs": [],
   "source": [
    "def ReloadPackages():\n",
    "    from Miscellaneous.rreload import rreload\n",
    "    global Eikonal,ad,cugen,RunGPU,RunSmart,Metrics\n",
    "    Eikonal,ad,cugen,Metrics = rreload([Eikonal,ad,cugen,Metrics],\"../..\")    \n",
    "    Eikonal.dictIn.default_mode = 'gpu'"
   ]
  },
  {
   "cell_type": "code",
   "execution_count": 5,
   "metadata": {},
   "outputs": [],
   "source": [
    "cp = ad.functional.decorate_module_functions(cp,cugen.set_output_dtype32) # Use float32 and int32 types in place of float64 and int64\n",
    "plt = ad.functional.decorate_module_functions(plt,cugen.cupy_get_args)"
   ]
  },
  {
   "cell_type": "markdown",
   "metadata": {},
   "source": [
    "### 0.1 Additional configuration"
   ]
  },
  {
   "cell_type": "code",
   "execution_count": 6,
   "metadata": {},
   "outputs": [],
   "source": [
    "large_instances = False # True favors the GPU code (CPU times may become a big long.)\n",
    "strong_anisotropy = True # True favors the CPU code \n",
    "anisotropy_bound = 10. if strong_anisotropy else 4. # Ratio between the fastest and the smallest velocity at any given point"
   ]
  },
  {
   "cell_type": "code",
   "execution_count": 7,
   "metadata": {},
   "outputs": [],
   "source": [
    "def surface_metric(x,z,mu):\n",
    "    ndim,shape = x.ndim-1,x.shape[1:]\n",
    "    x_ad = ad.Dense.identity(constant=x,shape_free=(ndim,))\n",
    "    tensors = lp.outer_self( z(x_ad).gradient() ) + mu**-2 * fd.as_field(cp.eye(ndim),shape)\n",
    "    return Metrics.Riemann(tensors)"
   ]
  },
  {
   "cell_type": "markdown",
   "metadata": {},
   "source": [
    "## 1. Two dimensions"
   ]
  },
  {
   "cell_type": "markdown",
   "metadata": {},
   "source": [
    "### 1.1 Isotropic metric"
   ]
  },
  {
   "cell_type": "code",
   "execution_count": 8,
   "metadata": {},
   "outputs": [],
   "source": [
    "n=4000 if large_instances else 1000\n",
    "hfmIn = Eikonal.dictIn({\n",
    "    'model':'Riemann2',\n",
    "    'metric':Metrics.Riemann.from_cast(Metrics.Isotropic(cp.array(1.),vdim=2)),\n",
    "    'seed':[0.5,0.5],\n",
    "    'exportValues':1,\n",
    "#    'bound_active_blocks':True,\n",
    "    'traits':{\n",
    "        'niter_i':24,'shape_i':(12,12), # Best\n",
    "    }\n",
    "})\n",
    "hfmIn.SetRect([[0,1],[0,1]],dimx=n+1,sampleBoundary=True)"
   ]
  },
  {
   "cell_type": "code",
   "execution_count": 9,
   "metadata": {},
   "outputs": [
    {
     "name": "stdout",
     "output_type": "stream",
     "text": [
      "Setting the kernel traits.\n",
      "Preparing the domain data (shape,metric,...)\n",
      "Preparing the problem rhs (cost, seeds,...)\n",
      "Preparing the GPU kernel\n",
      "Running the eikonal GPU kernel\n",
      "GPU kernel eikonal ran for 0.15498590469360352 seconds, and 115 iterations.\n",
      "Post-Processing\n",
      "--- gpu done, turning to cpu ---\n",
      "Field verbosity defaults to 1\n",
      "Field order defaults to 1\n",
      "Field seedRadius defaults to 0\n",
      "Fast marching solver completed in 0.834 s.\n",
      "Solver time (s). GPU : 0.15498590469360352, CPU : 1.505. Device acceleration : 9.71056047306548\n",
      "Max |gpuValues-cpuValues| :  2.91457399725914e-06\n"
     ]
    }
   ],
   "source": [
    "_,cpuOut = RunCompare(hfmIn,check=1e-5)"
   ]
  },
  {
   "cell_type": "code",
   "execution_count": 10,
   "metadata": {},
   "outputs": [],
   "source": [
    "n=200; hfmInS = hfmIn.copy() # Define a small instance for bit-consistency validation\n",
    "hfmInS.SetRect([[0,1],[0,1]],dimx=n+1,sampleBoundary=True)\n",
    "X = hfmInS.Grid()\n",
    "cost = np.prod(np.sin(2*np.pi*X),axis=0)+1.1\n",
    "hfmInS.update({\n",
    "    'metric': Metrics.Riemann.from_cast(Metrics.Isotropic(cost,vdim=2)), # Isotropic but non-constant metric\n",
    "    'verbosity':0,\n",
    "})"
   ]
  },
  {
   "cell_type": "code",
   "execution_count": 11,
   "metadata": {},
   "outputs": [
    {
     "name": "stdout",
     "output_type": "stream",
     "text": [
      "Solver time (s). GPU : 0.02801513671875, CPU : 0.051000000000000004. Device acceleration : 1.8204444444444445\n",
      "Max |gpuValues-cpuValues| :  1.2986592052843804e-06\n",
      "\n",
      " --- Variant {'multiprecision': True} ---\n",
      "Solver time (s). GPU : 0.023499488830566406, CPU : 0.052. Device acceleration : 2.212814090337243\n",
      "Max |gpuValues-cpuValues| :  4.2754584872461976e-08\n",
      "\n",
      " --- Variant {'seedRadius': 2.0} ---\n",
      "Solver time (s). GPU : 0.021994590759277344, CPU : 0.051000000000000004. Device acceleration : 2.318751940337337\n",
      "Max |gpuValues-cpuValues| :  1.2510731657311425e-06\n",
      "\n",
      " --- Variant {'seedRadius': 2.0, 'multiprecision': True} ---\n",
      "Solver time (s). GPU : 0.025506019592285156, CPU : 0.051000000000000004. Device acceleration : 1.9995279865395403\n",
      "Max |gpuValues-cpuValues| :  5.180311657415615e-08\n"
     ]
    }
   ],
   "source": [
    "RunCompare(hfmInS,variants='basic')"
   ]
  },
  {
   "cell_type": "code",
   "execution_count": 12,
   "metadata": {},
   "outputs": [
    {
     "name": "stdout",
     "output_type": "stream",
     "text": [
      "Solver time (s). GPU : 0.02651524543762207, CPU : 0.051000000000000004. Device acceleration : 1.923421758247687\n",
      "Max |gpuValues-cpuValues| :  1.2986592052843804e-06\n",
      "\n",
      " --- Variant {'multiprecision': True} ---\n",
      "Solver time (s). GPU : 0.0254974365234375, CPU : 0.051000000000000004. Device acceleration : 2.000201077199282\n",
      "Max |gpuValues-cpuValues| :  4.2754584872461976e-08\n",
      "\n",
      " --- Variant {'seedRadius': 2.0} ---\n",
      "Solver time (s). GPU : 0.02199411392211914, CPU : 0.052. Device acceleration : 2.364268921409214\n",
      "Max |gpuValues-cpuValues| :  1.2510731657311425e-06\n",
      "\n",
      " --- Variant {'seedRadius': 2.0, 'multiprecision': True} ---\n",
      "Solver time (s). GPU : 0.022500991821289062, CPU : 0.05. Device acceleration : 2.2221242688819194\n",
      "Max |gpuValues-cpuValues| :  5.180311657415615e-08\n",
      "\n",
      " --- Variant {'factoringRadius': 10.0, 'factoringPointChoice': 'Key'} ---\n",
      "Solver time (s). GPU : 0.027513980865478516, CPU : 0.054. Device acceleration : 1.9626385677891198\n",
      "Max |gpuValues-cpuValues| :  0.0009697289038162471\n",
      "\n",
      " --- Variant {'factoringRadius': 10.0, 'factoringPointChoice': 'Key', 'multiprecision': True} ---\n",
      "Solver time (s). GPU : 0.027539730072021484, CPU : 0.053. Device acceleration : 1.9244923556402043\n",
      "Max |gpuValues-cpuValues| :  0.0009697289038162471\n"
     ]
    }
   ],
   "source": [
    "RunCompare(hfmInS,variants='ext',check=0.004)"
   ]
  },
  {
   "cell_type": "markdown",
   "metadata": {},
   "source": [
    "### 1.2 Smooth anisotropic metric"
   ]
  },
  {
   "cell_type": "code",
   "execution_count": 13,
   "metadata": {},
   "outputs": [],
   "source": [
    "n=3000 if large_instances else 1000\n",
    "hfmIn = Eikonal.dictIn({\n",
    "    'model':'Riemann2',\n",
    "    'seed':[0.,0.],\n",
    "    'exportValues':1,\n",
    "#    'traits':{'niter_i':8,'shape_i':(8,8),},'fim_front_width':4, \n",
    "})\n",
    "hfmIn.SetRect([[-np.pi,np.pi],[-np.pi,np.pi]],dimx=n+1,sampleBoundary=True)"
   ]
  },
  {
   "cell_type": "code",
   "execution_count": 14,
   "metadata": {},
   "outputs": [],
   "source": [
    "def height(x): \n",
    "    r = fd.as_field(lp.rotation(cp.asarray(np.pi)/3),x.shape[1:])\n",
    "    y = 2*lp.dot_AV(r,x)\n",
    "    return np.sin(y[0])*np.sin(y[1]) "
   ]
  },
  {
   "cell_type": "code",
   "execution_count": 15,
   "metadata": {},
   "outputs": [],
   "source": [
    "hfmIn['metric'] = surface_metric(hfmIn.Grid(),height,mu=anisotropy_bound)"
   ]
  },
  {
   "cell_type": "code",
   "execution_count": 16,
   "metadata": {},
   "outputs": [
    {
     "name": "stdout",
     "output_type": "stream",
     "text": [
      "Setting the kernel traits.\n",
      "Preparing the domain data (shape,metric,...)\n",
      "Preparing the problem rhs (cost, seeds,...)\n",
      "Preparing the GPU kernel\n",
      "Running the eikonal GPU kernel\n",
      "GPU kernel eikonal ran for 0.3034980297088623 seconds, and 374 iterations.\n",
      "Post-Processing\n",
      "--- gpu done, turning to cpu ---\n",
      "Field verbosity defaults to 1\n",
      "Field order defaults to 1\n",
      "Field seedRadius defaults to 0\n",
      "Fast marching solver completed in 1.8 s.\n",
      "Solver time (s). GPU : 0.3034980297088623, CPU : 2.9859999999999998. Device acceleration : 9.838614118399356\n",
      "Max |gpuValues-cpuValues| :  2.410463604829438e-05\n"
     ]
    }
   ],
   "source": [
    "gpuOut,cpuOut = RunCompare(hfmIn,check=False)"
   ]
  },
  {
   "cell_type": "code",
   "execution_count": 18,
   "metadata": {},
   "outputs": [
    {
     "data": {
      "image/png": "[encoded data removed]",
      "text/plain": [
       "<Figure size 432x288 with 1 Axes>"
      ]
     },
     "metadata": {
      "needs_background": "light"
     },
     "output_type": "display_data"
    }
   ],
   "source": [
    "plt.contourf(*hfmIn.Grid(),gpuOut['values']) \n",
    "plt.axis('equal');"
   ]
  },
  {
   "cell_type": "code",
   "execution_count": 19,
   "metadata": {},
   "outputs": [],
   "source": [
    "n=200; hfmInS = hfmIn.copy() # Define a small instance for bit-consistency validation\n",
    "hfmInS.SetRect([[-np.pi,np.pi],[-np.pi,np.pi]],dimx=n+1,sampleBoundary=True)\n",
    "hfmInS.update({\n",
    "    'metric' : surface_metric(hfmInS.Grid(),height,mu=anisotropy_bound), \n",
    "    'verbosity':0,\n",
    "})"
   ]
  },
  {
   "cell_type": "code",
   "execution_count": 20,
   "metadata": {},
   "outputs": [
    {
     "name": "stdout",
     "output_type": "stream",
     "text": [
      "Solver time (s). GPU : 0.049498558044433594, CPU : 0.10400000000000001. Device acceleration : 2.101071306090207\n",
      "Max |gpuValues-cpuValues| :  1.2892357243998731e-06\n",
      "\n",
      " --- Variant {'multiprecision': True} ---\n",
      "Solver time (s). GPU : 0.04999995231628418, CPU : 0.10400000000000001. Device acceleration : 2.08000198364447\n",
      "Max |gpuValues-cpuValues| :  3.1663243316160106e-07\n",
      "\n",
      " --- Variant {'seedRadius': 2.0} ---\n",
      "Solver time (s). GPU : 0.04552483558654785, CPU : 0.10400000000000001. Device acceleration : 2.284467338762471\n",
      "Max |gpuValues-cpuValues| :  0.0005127490260626571\n",
      "\n",
      " --- Variant {'seedRadius': 2.0, 'multiprecision': True} ---\n",
      "Solver time (s). GPU : 0.04750227928161621, CPU : 0.10400000000000001. Device acceleration : 2.189368627628125\n",
      "Max |gpuValues-cpuValues| :  0.0005127490260626571\n"
     ]
    }
   ],
   "source": [
    "RunCompare(hfmInS,variants='basic',check=0.0008)"
   ]
  },
  {
   "cell_type": "markdown",
   "metadata": {},
   "source": [
    "Source factorization is implemented differently, and not applied on the same domain (square vs disk), between the CPU and GPU implementations. Hence the results differ somewhat more : there is no bit-consistency.\n",
    "\n",
    "<!---\n",
    "Due to the different switching criteria of the second order scheme, we do not have bit consistency in that case. The results are nevertheless quite close. Note also that we do not deactivate the `decreasing` trait here, contrary to the isotropic case, because the scheme often does not converge without it.\n",
    "\n",
    "**Bottom line.** Second order accuracy for anisotropic metrics on the GPU is very experimental, and not much reliable, at this stage. Further investigation is needed on the matter.\n",
    "--->"
   ]
  },
  {
   "cell_type": "code",
   "execution_count": 23,
   "metadata": {},
   "outputs": [
    {
     "name": "stdout",
     "output_type": "stream",
     "text": [
      "Solver time (s). GPU : 0.051514625549316406, CPU : 0.10400000000000001. Device acceleration : 2.0188441416591076\n",
      "Max |gpuValues-cpuValues| :  1.2892357243998731e-06\n",
      "\n",
      " --- Variant {'multiprecision': True} ---\n",
      "Solver time (s). GPU : 0.05049276351928711, CPU : 0.10200000000000001. Device acceleration : 2.0200914525313767\n",
      "Max |gpuValues-cpuValues| :  3.1663243316160106e-07\n",
      "\n",
      " --- Variant {'seedRadius': 2.0} ---\n",
      "Solver time (s). GPU : 0.04647946357727051, CPU : 0.10300000000000001. Device acceleration : 2.21603245977153\n",
      "Max |gpuValues-cpuValues| :  0.0005127490260626571\n",
      "\n",
      " --- Variant {'seedRadius': 2.0, 'multiprecision': True} ---\n",
      "Solver time (s). GPU : 0.055989742279052734, CPU : 0.11. Device acceleration : 1.9646455854674285\n",
      "Max |gpuValues-cpuValues| :  0.0005127490260626571\n",
      "\n",
      " --- Variant {'factoringRadius': 10.0, 'factoringPointChoice': 'Key'} ---\n",
      "Solver time (s). GPU : 0.04634428024291992, CPU : 0.106. Device acceleration : 2.287229393668138\n",
      "Max |gpuValues-cpuValues| :  0.0055698686678367915\n",
      "\n",
      " --- Variant {'factoringRadius': 10.0, 'factoringPointChoice': 'Key', 'multiprecision': True} ---\n",
      "Solver time (s). GPU : 0.04749417304992676, CPU : 0.106. Device acceleration : 2.231852734620115\n",
      "Max |gpuValues-cpuValues| :  0.0055698612172561945\n"
     ]
    }
   ],
   "source": [
    "RunCompare(hfmInS,variants='ext',check=0.008)"
   ]
  },
  {
   "cell_type": "markdown",
   "metadata": {},
   "source": [
    "Second order accuracy for anisotropic metrics on the GPU is only experimental, and not reliable, at this stage. Further investigation is needed on the matter.\n",
    "Even obtaining the scheme convergence is hard, and requires setting some other parameters carefully and conservatively.\n",
    "\n",
    "<!---\n",
    "hfmInS.update({\n",
    "    'order2_threshold':0.03,\n",
    "    'verbosity':1,\n",
    "    'traits':{'decreasing_macro':0,'order2_threshold_weighted_macro':1},\n",
    "    'metric' : surface_metric(hfmInS.Grid(),height),\n",
    "    'multiprecision':False,\n",
    "    'tol':1e-6\n",
    "})\n",
    "--->"
   ]
  },
  {
   "cell_type": "code",
   "execution_count": 26,
   "metadata": {},
   "outputs": [],
   "source": [
    "hfmInS.update({\n",
    "    'tol':1e-6, # Tolerance for the convergence of the fixed point solver\n",
    "    'order2_threshold':0.03, # Use first order scheme if second order difference is too large\n",
    "    'traits':{'decreasing_macro':0}, # Do not enforce monotonicity\n",
    "})"
   ]
  },
  {
   "cell_type": "code",
   "execution_count": 27,
   "metadata": {},
   "outputs": [
    {
     "name": "stdout",
     "output_type": "stream",
     "text": [
      "Solver time (s). GPU : 0.04399824142456055, CPU : 0.10200000000000001. Device acceleration : 2.318274474103456\n",
      "Max |gpuValues-cpuValues| :  1.1700264348490919e-06\n",
      "\n",
      " --- Variant {'multiprecision': True} ---\n",
      "Solver time (s). GPU : 0.04400992393493652, CPU : 0.10200000000000001. Device acceleration : 2.317659084137363\n",
      "Max |gpuValues-cpuValues| :  1.1130146319038303e-06\n",
      "\n",
      " --- Variant {'seedRadius': 2.0} ---\n",
      "Solver time (s). GPU : 0.04700446128845215, CPU : 0.10500000000000001. Device acceleration : 2.233830515696091\n",
      "Max |gpuValues-cpuValues| :  0.0005127490260626571\n",
      "\n",
      " --- Variant {'seedRadius': 2.0, 'multiprecision': True} ---\n",
      "Solver time (s). GPU : 0.05251669883728027, CPU : 0.10400000000000001. Device acceleration : 1.9803224936555426\n",
      "Max |gpuValues-cpuValues| :  0.0005127490260626571\n",
      "\n",
      " --- Variant {'factoringRadius': 10.0, 'factoringPointChoice': 'Key'} ---\n",
      "Solver time (s). GPU : 0.056015968322753906, CPU : 0.109. Device acceleration : 1.9458737082247988\n",
      "Max |gpuValues-cpuValues| :  0.0055698686678367915\n",
      "\n",
      " --- Variant {'factoringRadius': 10.0, 'factoringPointChoice': 'Key', 'multiprecision': True} ---\n",
      "Solver time (s). GPU : 0.04752612113952637, CPU : 0.105. Device acceleration : 2.2093113740913717\n",
      "Max |gpuValues-cpuValues| :  0.0055698612172561945\n",
      "\n",
      " --- Variant {'order': 2} ---\n",
      "Solver time (s). GPU : 0.04803204536437988, CPU : 0.128. Device acceleration : 2.6648875564004944\n",
      "Max |gpuValues-cpuValues| :  0.24392782544124125\n",
      "\n",
      " --- Variant {'order': 2, 'multiprecision': True} ---\n",
      "Solver time (s). GPU : 0.0644989013671875, CPU : 0.129. Device acceleration : 2.0000340667139818\n",
      "Max |gpuValues-cpuValues| :  0.24392788504588603\n",
      "\n",
      " --- Variant {'order': 2, 'seedRadius': 2.0} ---\n",
      "Solver time (s). GPU : 0.052022695541381836, CPU : 0.131. Device acceleration : 2.518131723793418\n",
      "Max |gpuValues-cpuValues| :  0.27600696964788096\n",
      "\n",
      " --- Variant {'order': 2, 'seedRadius': 2.0, 'multiprecision': True} ---\n",
      "Solver time (s). GPU : 0.05299735069274902, CPU : 0.128. Device acceleration : 2.4152150688074427\n",
      "Max |gpuValues-cpuValues| :  0.27600702925252574\n",
      "\n",
      " --- Variant {'order': 2, 'factoringRadius': 10.0, 'factoringPointChoice': 'Key'} ---\n",
      "Solver time (s). GPU : 0.051015377044677734, CPU : 0.127. Device acceleration : 2.48944548403077\n",
      "Max |gpuValues-cpuValues| :  0.2528735779861756\n",
      "\n",
      " --- Variant {'order': 2, 'factoringRadius': 10.0, 'factoringPointChoice': 'Key', 'multiprecision': True} ---\n",
      "Solver time (s). GPU : 0.05199909210205078, CPU : 0.13. Device acceleration : 2.5000436497019716\n",
      "Max |gpuValues-cpuValues| :  0.2528735183815308\n"
     ]
    }
   ],
   "source": [
    "RunCompare(hfmInS,variants='ext2',check=0.3)"
   ]
  },
  {
   "cell_type": "code",
   "execution_count": 28,
   "metadata": {},
   "outputs": [],
   "source": [
    "# TODO : discontinuous metric"
   ]
  },
  {
   "cell_type": "markdown",
   "metadata": {},
   "source": [
    "## 2. Three dimensions"
   ]
  },
  {
   "cell_type": "markdown",
   "metadata": {},
   "source": [
    "### 2.1 Smooth anisotropic metric\n",
    "\n",
    "We generalize the two dimensional test case, although it does not much make geometrical sense anymore: we are computing geodesics in a three dimensional volume viewed as an hypersurface embedded in four dimensional Euclidean space."
   ]
  },
  {
   "cell_type": "code",
   "execution_count": 29,
   "metadata": {},
   "outputs": [],
   "source": [
    "n=200 if large_instances else 100\n",
    "hfmIn = Eikonal.dictIn({\n",
    "    'model':'Riemann3',\n",
    "    'seed':[0.,0.,0.],\n",
    "    'exportValues':1,\n",
    "#    'traits':{'niter_i':4},'fim_front_width':6,\n",
    "})\n",
    "hfmIn.SetRect([[-np.pi,np.pi],[-np.pi,np.pi],[-np.pi,np.pi]],dimx=n+1,sampleBoundary=True)"
   ]
  },
  {
   "cell_type": "code",
   "execution_count": 42,
   "metadata": {},
   "outputs": [],
   "source": [
    "def height3(x): \n",
    "    r = fd.as_field(lp.rotation(cp.asarray(np.pi)/3,cp.asarray((1.,2,3))),x.shape[1:])\n",
    "    y = 2*lp.dot_AV(r,x)\n",
    "#    y=x\n",
    "    return np.sin(y[0])*np.sin(y[1])*np.sin(y[2])"
   ]
  },
  {
   "cell_type": "code",
   "execution_count": 31,
   "metadata": {},
   "outputs": [],
   "source": [
    "hfmIn['metric'] = surface_metric(hfmIn.Grid(),height3,mu=anisotropy_bound)"
   ]
  },
  {
   "cell_type": "code",
   "execution_count": 32,
   "metadata": {},
   "outputs": [
    {
     "name": "stdout",
     "output_type": "stream",
     "text": [
      "Setting the kernel traits.\n",
      "Preparing the domain data (shape,metric,...)\n",
      "Preparing the problem rhs (cost, seeds,...)\n",
      "Preparing the GPU kernel\n",
      "Running the eikonal GPU kernel\n",
      "GPU kernel eikonal ran for 0.1405198574066162 seconds, and 92 iterations.\n",
      "Post-Processing\n",
      "--- gpu done, turning to cpu ---\n",
      "Field verbosity defaults to 1\n",
      "Field order defaults to 1\n",
      "Field seedRadius defaults to 0\n",
      "Fast marching solver completed in 6.513 s.\n",
      "Solver time (s). GPU : 0.1405198574066162, CPU : 10.201. Device acceleration : 72.59472211448244\n",
      "Max |gpuValues-cpuValues| :  1.8024920708792358e-06\n"
     ]
    }
   ],
   "source": [
    "gpuOut,cpuOut = RunCompare(hfmIn,check=1e-4)"
   ]
  },
  {
   "cell_type": "code",
   "execution_count": 43,
   "metadata": {},
   "outputs": [],
   "source": [
    "n=50; hfmInS = hfmIn.copy() # Define a small instance for bit-consistency validation\n",
    "hfmInS.SetRect([[-np.pi,np.pi],[-np.pi,np.pi],[-np.pi,np.pi]],dimx=n+1,sampleBoundary=True)\n",
    "hfmInS.update({\n",
    "    'metric' : surface_metric(hfmInS.Grid(),height3,mu=anisotropy_bound), \n",
    "    'verbosity':0,\n",
    "})"
   ]
  },
  {
   "cell_type": "code",
   "execution_count": 46,
   "metadata": {},
   "outputs": [
    {
     "name": "stdout",
     "output_type": "stream",
     "text": [
      "Solver time (s). GPU : 0.0440218448638916, CPU : 1.11. Device acceleration : 25.21475425284742\n",
      "Max |gpuValues-cpuValues| :  4.720023937143658e-06\n",
      "\n",
      " --- Variant {'multiprecision': True} ---\n",
      "Solver time (s). GPU : 0.05402207374572754, CPU : 1.094. Device acceleration : 20.25098120352186\n",
      "Max |gpuValues-cpuValues| :  4.6604192923682675e-06\n",
      "\n",
      " --- Variant {'seedRadius': 2.0} ---\n",
      "Solver time (s). GPU : 0.05250191688537598, CPU : 1.106. Device acceleration : 21.065897506459773\n",
      "Max |gpuValues-cpuValues| :  0.004857792650190311\n",
      "\n",
      " --- Variant {'seedRadius': 2.0, 'multiprecision': True} ---\n",
      "Solver time (s). GPU : 0.04799365997314453, CPU : 1.097. Device acceleration : 22.857185732737207\n",
      "Max |gpuValues-cpuValues| :  0.0048577889249000125\n",
      "\n",
      " --- Variant {'factoringRadius': 10.0, 'factoringPointChoice': 'Key'} ---\n",
      "Solver time (s). GPU : 0.05249333381652832, CPU : 1.131. Device acceleration : 21.545592892861524\n",
      "Max |gpuValues-cpuValues| :  0.01243768179866405\n",
      "\n",
      " --- Variant {'factoringRadius': 10.0, 'factoringPointChoice': 'Key', 'multiprecision': True} ---\n",
      "Solver time (s). GPU : 0.05299639701843262, CPU : 1.141. Device acceleration : 21.529765497136534\n",
      "Max |gpuValues-cpuValues| :  0.01243768179866405\n"
     ]
    }
   ],
   "source": [
    "RunCompare(hfmInS,variants='ext',check=0.02)"
   ]
  },
  {
   "cell_type": "markdown",
   "metadata": {},
   "source": [
    "Again, the GPU implementation of the second order scheme is purely experimental at this stage, and should not be relied upon.\n",
    "\n",
    "<!---\n",
    "Due to the different switching criteria of the second order scheme, we do not have bit consistency in that case. The results are nevertheless quite close.\n",
    "--->"
   ]
  },
  {
   "cell_type": "code",
   "execution_count": 47,
   "metadata": {},
   "outputs": [
    {
     "name": "stdout",
     "output_type": "stream",
     "text": [
      "Solver time (s). GPU : 0.04551982879638672, CPU : 1.105. Device acceleration : 24.275135237057675\n",
      "Max |gpuValues-cpuValues| :  4.720023937143658e-06\n",
      "\n",
      " --- Variant {'multiprecision': True} ---\n",
      "Solver time (s). GPU : 0.05752134323120117, CPU : 1.087. Device acceleration : 18.897333388598287\n",
      "Max |gpuValues-cpuValues| :  4.6604192923682675e-06\n",
      "\n",
      " --- Variant {'seedRadius': 2.0} ---\n",
      "Solver time (s). GPU : 0.04700517654418945, CPU : 1.105. Device acceleration : 23.50804913925155\n",
      "Max |gpuValues-cpuValues| :  0.004857792650190311\n",
      "\n",
      " --- Variant {'seedRadius': 2.0, 'multiprecision': True} ---\n",
      "Solver time (s). GPU : 0.057999372482299805, CPU : 1.113. Device acceleration : 19.18986279273391\n",
      "Max |gpuValues-cpuValues| :  0.0048577889249000125\n",
      "\n",
      " --- Variant {'factoringRadius': 10.0, 'factoringPointChoice': 'Key'} ---\n",
      "Solver time (s). GPU : 0.052519798278808594, CPU : 1.133. Device acceleration : 21.572817054348025\n",
      "Max |gpuValues-cpuValues| :  0.01243768179866405\n",
      "\n",
      " --- Variant {'factoringRadius': 10.0, 'factoringPointChoice': 'Key', 'multiprecision': True} ---\n",
      "Solver time (s). GPU : 0.05750679969787598, CPU : 1.137. Device acceleration : 19.771574943719138\n",
      "Max |gpuValues-cpuValues| :  0.01243768179866405\n",
      "\n",
      " --- Variant {'order': 2} ---\n",
      "Solver time (s). GPU : 0.05602240562438965, CPU : 1.414. Device acceleration : 25.23990150441536\n",
      "Max |gpuValues-cpuValues| :  0.05407766544044179\n",
      "\n",
      " --- Variant {'order': 2, 'multiprecision': True} ---\n",
      "Solver time (s). GPU : 0.06600093841552734, CPU : 1.4. Device acceleration : 21.211819613622897\n",
      "Max |gpuValues-cpuValues| :  0.05408505641639394\n",
      "\n",
      " --- Variant {'order': 2, 'seedRadius': 2.0} ---\n",
      "Solver time (s). GPU : 0.0639791488647461, CPU : 1.405. Device acceleration : 21.960279636889414\n",
      "Max |gpuValues-cpuValues| :  0.05440582758388246\n",
      "\n",
      " --- Variant {'order': 2, 'seedRadius': 2.0, 'multiprecision': True} ---\n",
      "Solver time (s). GPU : 0.06451082229614258, CPU : 1.405. Device acceleration : 21.77929144276327\n",
      "Max |gpuValues-cpuValues| :  0.054684032263371596\n",
      "\n",
      " --- Variant {'order': 2, 'factoringRadius': 10.0, 'factoringPointChoice': 'Key'} ---\n",
      "Solver time (s). GPU : 0.060529232025146484, CPU : 1.406. Device acceleration : 23.228446041011825\n",
      "Max |gpuValues-cpuValues| :  0.04539168850524811\n",
      "\n",
      " --- Variant {'order': 2, 'factoringRadius': 10.0, 'factoringPointChoice': 'Key', 'multiprecision': True} ---\n",
      "Solver time (s). GPU : 0.06949973106384277, CPU : 1.419. Device acceleration : 20.41734519370298\n",
      "Max |gpuValues-cpuValues| :  0.04527125732047943\n"
     ]
    }
   ],
   "source": [
    "RunCompare(hfmInS,variants='ext2',check=0.1)"
   ]
  },
  {
   "cell_type": "code",
   "execution_count": null,
   "metadata": {},
   "outputs": [],
   "source": []
  }
 ],
 "metadata": {
  "kernelspec": {
   "display_name": "Python 3",
   "language": "python",
   "name": "python3"
  },
  "language_info": {
   "codemirror_mode": {
    "name": "ipython",
    "version": 3
   },
   "file_extension": ".py",
   "mimetype": "text/x-python",
   "name": "python",
   "nbconvert_exporter": "python",
   "pygments_lexer": "ipython3",
   "version": "3.7.6"
  }
 },
 "nbformat": 4,
 "nbformat_minor": 4
}

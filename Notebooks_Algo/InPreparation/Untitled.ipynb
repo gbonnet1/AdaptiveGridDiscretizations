{
 "cells": [
  {
   "cell_type": "markdown",
   "metadata": {},
   "source": [
    "Check help."
   ]
  },
  {
   "cell_type": "code",
   "execution_count": 1,
   "metadata": {},
   "outputs": [],
   "source": [
    "import sys; sys.path.insert(0,\"../..\")\n",
    "from agd import AutomaticDifferentiation as ad\n",
    "import numpy as np\n",
    "import cupy as cp"
   ]
  },
  {
   "cell_type": "code",
   "execution_count": 2,
   "metadata": {},
   "outputs": [],
   "source": [
    "a = ad.Sparse.identity(constant=cp.zeros((2,2)))"
   ]
  },
  {
   "cell_type": "code",
   "execution_count": 3,
   "metadata": {},
   "outputs": [
    {
     "name": "stdout",
     "output_type": "stream",
     "text": [
      "hou\n"
     ]
    },
    {
     "data": {
      "text/plain": [
       "spAD(array([[0., 0.],\n",
       "       [0., 0.]]), array([], shape=(2, 2, 0), dtype=float64), array([], shape=(2, 2, 0), dtype=int64))"
      ]
     },
     "execution_count": 3,
     "metadata": {},
     "output_type": "execute_result"
    }
   ],
   "source": [
    "np.zeros_like(a)"
   ]
  },
  {
   "cell_type": "code",
   "execution_count": 4,
   "metadata": {},
   "outputs": [
    {
     "data": {
      "text/plain": [
       "spAD(array([[0., 0.],\n",
       "       [0., 0.]]), array([], shape=(2, 2, 0), dtype=float64), array([], shape=(2, 2, 0), dtype=int64))"
      ]
     },
     "execution_count": 4,
     "metadata": {},
     "output_type": "execute_result"
    }
   ],
   "source": [
    "np.full_like(a,0)"
   ]
  },
  {
   "cell_type": "code",
   "execution_count": 2,
   "metadata": {},
   "outputs": [],
   "source": [
    "import numpy as np"
   ]
  },
  {
   "cell_type": "code",
   "execution_count": 13,
   "metadata": {},
   "outputs": [
    {
     "data": {
      "text/plain": [
       "(array([[1, 2, 2],\n",
       "        [0, 0, 1]]),\n",
       " array([0, 1, 2]))"
      ]
     },
     "execution_count": 13,
     "metadata": {},
     "output_type": "execute_result"
    }
   ],
   "source": [
    "a = np.array([[1,2,2],[0,0,1]])\n",
    "np.unique(a,axis=-1,return_inverse=True)"
   ]
  },
  {
   "cell_type": "code",
   "execution_count": 6,
   "metadata": {},
   "outputs": [
    {
     "data": {
      "text/plain": [
       "array([0, 1, 2])"
      ]
     },
     "execution_count": 6,
     "metadata": {},
     "output_type": "execute_result"
    }
   ],
   "source": [
    "np.unique(a)"
   ]
  },
  {
   "cell_type": "code",
   "execution_count": 9,
   "metadata": {},
   "outputs": [
    {
     "data": {
      "text/plain": [
       "array([1, 2])"
      ]
     },
     "execution_count": 9,
     "metadata": {},
     "output_type": "execute_result"
    }
   ],
   "source": [
    "a[0]"
   ]
  },
  {
   "cell_type": "markdown",
   "metadata": {},
   "source": [
    "## 0. Importing the required libraries"
   ]
  },
  {
   "cell_type": "code",
   "execution_count": 1,
   "metadata": {},
   "outputs": [
    {
     "ename": "ModuleNotFoundError",
     "evalue": "No module named 'agd'",
     "output_type": "error",
     "traceback": [
      "\u001b[0;31m---------------------------------------------------------------------------\u001b[0m",
      "\u001b[0;31mModuleNotFoundError\u001b[0m                       Traceback (most recent call last)",
      "\u001b[0;32m<ipython-input-1-ba7f51d53cec>\u001b[0m in \u001b[0;36m<module>\u001b[0;34m\u001b[0m\n\u001b[0;32m----> 1\u001b[0;31m \u001b[0;32mimport\u001b[0m \u001b[0magd\u001b[0m\u001b[0;34m\u001b[0m\u001b[0;34m\u001b[0m\u001b[0m\n\u001b[0m",
      "\u001b[0;31mModuleNotFoundError\u001b[0m: No module named 'agd'"
     ]
    }
   ],
   "source": [
    "import agd"
   ]
  },
  {
   "cell_type": "code",
   "execution_count": 2,
   "metadata": {},
   "outputs": [
    {
     "data": {
      "text/plain": [
       "(None, '/Users/mirebeau/Library/Caches/Python-Eggs')"
      ]
     },
     "execution_count": 2,
     "metadata": {},
     "output_type": "execute_result"
    }
   ],
   "source": [
    "import os\n",
    "from pkg_resources.extern import appdirs\n",
    "\n",
    "os.environ.get('PYTHON_EGG_CACHE'), appdirs.user_cache_dir(appname='Python-Eggs')"
   ]
  },
  {
   "cell_type": "code",
   "execution_count": 8,
   "metadata": {},
   "outputs": [],
   "source": [
    "os.environ.get('PYTHON_EGG_DIR')"
   ]
  },
  {
   "cell_type": "code",
   "execution_count": 7,
   "metadata": {},
   "outputs": [
    {
     "name": "stdout",
     "output_type": "stream",
     "text": [
      "Help on package agd.Eikonal in agd:\n",
      "\n",
      "NAME\n",
      "    agd.Eikonal\n",
      "\n",
      "DESCRIPTION\n",
      "    # Copyright 2020 Jean-Marie Mirebeau, University Paris-Sud, CNRS, University Paris-Saclay\n",
      "    # Distributed WITHOUT ANY WARRANTY. Licensed under the Apache License, Version 2.0, see http://www.apache.org/licenses/LICENSE-2.0\n",
      "\n",
      "PACKAGE CONTENTS\n",
      "    DictIn\n",
      "    FileIO\n",
      "    HFM_CUDA (package)\n",
      "    LibraryCall\n",
      "    run_detail\n",
      "\n",
      "FUNCTIONS\n",
      "    VoronoiDecomposition(arr, mode=None, *args, **kwargs)\n",
      "        Calls the FileVDQ library to decompose the provided quadratic form(s),\n",
      "        as based on Voronoi's first reduction of quadratic forms.\n",
      "        - mode : 'cpu' or 'gpu'. Defaults to VoronoiDecomposition.default_mode\n",
      "        - args,kwargs : passed to gpu decomposition method\n",
      "\n",
      "FILE\n",
      "    /Users/mirebeau/opt/miniconda3/envs/agd-hfm/lib/python3.7/site-packages/agd-0.1.12-py3.7.egg/agd/Eikonal/__init__.py\n",
      "\n",
      "\n"
     ]
    }
   ],
   "source": [
    "from agd import Eikonal\n",
    "help(Eikonal)"
   ]
  },
  {
   "cell_type": "code",
   "execution_count": 3,
   "metadata": {},
   "outputs": [],
   "source": [
    "import sys; sys.path.insert(0,\"../..\")"
   ]
  },
  {
   "cell_type": "code",
   "execution_count": 2,
   "metadata": {},
   "outputs": [],
   "source": [
    "import agd\n",
    "from agd import Metrics\n",
    "from agd import LinearParallel as lp\n",
    "from agd import FiniteDifferences as fd\n",
    "from agd.Metrics import Seismic\n",
    "from agd import Domain\n",
    "from agd import Eikonal\n",
    "from agd import AutomaticDifferentiation as ad"
   ]
  },
  {
   "cell_type": "code",
   "execution_count": 4,
   "metadata": {},
   "outputs": [
    {
     "name": "stdout",
     "output_type": "stream",
     "text": [
      "Help on package agd:\n",
      "\n",
      "NAME\n",
      "    agd - Adaptive Grid Discretizations (agd) package.\n",
      "\n",
      "DESCRIPTION\n",
      "    This package is intented as a toolbox for discretizing and solving partial differential\n",
      "    equations (PDEs), especially in the following contexts : \n",
      "    - A Cartesian grid is used for the domain discretization.\n",
      "    - The PDE embeds geometric information, possibly strongly anisotropic.\n",
      "    - One puts a strong emphasis on preserving the structure of the PDE \n",
      "     (monotony, causality, degenerate ellipticity, ...) at the discrete level.\n",
      "    - Generic CPU/GPU programming.\n",
      "    \n",
      "    This package comes with an extensive suite of notebooks, which serve simultaneously the\n",
      "    purposes of documentation, mathematical description, and testing. Please see \n",
      "    https://github.com/Mirebeau/AdaptiveGridDiscretizations\n",
      "    \n",
      "    The package is architectures around the following main components:\n",
      "    - AutomaticDifferentiation : automatically compute gradients, hessians, jacobians, in \n",
      "     dense or sparse format, using operator and function overloading.\n",
      "    \n",
      "    - Eikonal : a ready to use solver of (generalized, anisotropic) eikonal equations, which\n",
      "     characterize minimal distances w.r.t. Riemannian or other metrics.\n",
      "    \n",
      "    - Metrics : helper classes for classical and less classical objects \n",
      "     (Riemannian metrics, Hooke elasticity tensors, etc) used to encode geometric information.\n",
      "    \n",
      "    - FiniteDifferences, Domain, Interpolation : helper classes for handling function values\n",
      "     stored in arrays and designing numerical schemes.\n",
      "    \n",
      "    - LinearParallel : basic linear algebra operations, following an axes ordering convention\n",
      "    somewhat opposite to numpy's (geometry first)\n",
      "    \n",
      "    - Selling : a decomposition method for symmetric positive definite matrices, which is a \n",
      "     central tool in the design of anisotropic PDE discretizations.\n",
      "\n",
      "PACKAGE CONTENTS\n",
      "    AutomaticDifferentiation (package)\n",
      "    Domain\n",
      "    Eikonal (package)\n",
      "    ExportedCode (package)\n",
      "    FiniteDifferences\n",
      "    Interpolation\n",
      "    LinearPDE\n",
      "    LinearParallel\n",
      "    Metrics (package)\n",
      "    Plotting\n",
      "    Selling\n",
      "\n",
      "FILE\n",
      "    /Users/mirebeau/Dropbox/Programmes/Github/AdaptiveGridDiscretizations/agd/__init__.py\n",
      "\n",
      "\n"
     ]
    }
   ],
   "source": [
    "help(agd)"
   ]
  },
  {
   "cell_type": "code",
   "execution_count": 6,
   "metadata": {},
   "outputs": [
    {
     "name": "stdout",
     "output_type": "stream",
     "text": [
      "Help on package agd.Metrics in agd:\n",
      "\n",
      "NAME\n",
      "    agd.Metrics\n",
      "\n",
      "DESCRIPTION\n",
      "    # Copyright 2020 Jean-Marie Mirebeau, University Paris-Sud, CNRS, University Paris-Saclay\n",
      "    # Distributed WITHOUT ANY WARRANTY. Licensed under the Apache License, Version 2.0, see http://www.apache.org/licenses/LICENSE-2.0\n",
      "\n",
      "PACKAGE CONTENTS\n",
      "    Seismic (package)\n",
      "    asym_quad\n",
      "    base\n",
      "    diagonal\n",
      "    hamiltonian\n",
      "    hamiltonian_base\n",
      "    isotropic\n",
      "    misc\n",
      "    rander\n",
      "    riemann\n",
      "\n",
      "FILE\n",
      "    /Users/mirebeau/Dropbox/Programmes/Github/AdaptiveGridDiscretizations/agd/Metrics/__init__.py\n",
      "\n",
      "\n"
     ]
    }
   ],
   "source": [
    "help(Metrics)"
   ]
  },
  {
   "cell_type": "code",
   "execution_count": 5,
   "metadata": {},
   "outputs": [
    {
     "name": "stdout",
     "output_type": "stream",
     "text": [
      "Help on package agd.AutomaticDifferentiation in agd:\n",
      "\n",
      "NAME\n",
      "    agd.AutomaticDifferentiation\n",
      "\n",
      "DESCRIPTION\n",
      "    # Copyright 2020 Jean-Marie Mirebeau, University Paris-Sud, CNRS, University Paris-Saclay\n",
      "    # Distributed WITHOUT ANY WARRANTY. Licensed under the Apache License, Version 2.0, see http://www.apache.org/licenses/LICENSE-2.0\n",
      "\n",
      "PACKAGE CONTENTS\n",
      "    AD_CUDA (package)\n",
      "    Base\n",
      "    Dense\n",
      "    Dense2\n",
      "    Optimization\n",
      "    Reverse\n",
      "    Reverse2\n",
      "    Sparse\n",
      "    Sparse2\n",
      "    ad_generic\n",
      "    ad_specific\n",
      "    cupy_generic\n",
      "    cupy_support\n",
      "    functional\n",
      "    misc\n",
      "\n",
      "FILE\n",
      "    /Users/mirebeau/Dropbox/Programmes/Github/AdaptiveGridDiscretizations/agd/AutomaticDifferentiation/__init__.py\n",
      "\n",
      "\n"
     ]
    }
   ],
   "source": [
    "help(ad)"
   ]
  },
  {
   "cell_type": "code",
   "execution_count": 3,
   "metadata": {},
   "outputs": [
    {
     "name": "stdout",
     "output_type": "stream",
     "text": [
      "Help on function RunSmart in module agd.Eikonal.run_detail:\n",
      "\n",
      "RunSmart(hfmIn, co_output=None, cache=None, returns='out')\n",
      "    Calls the HFM library, with pre-processing and post-processing of data.\n",
      "    \n",
      "    Main input : \n",
      "    - hfmIn, a dictionary like structure, containing the eikonal solver data.\n",
      "    \n",
      "    The C++ library embeds some help information, which can be accessed using the \n",
      "    following key:value pairs in hfmIn.\n",
      "    * 'verbosity' : set to 1 or 2 to display information on run, including the defaulted keys.\n",
      "     set to 0 to silence the run.\n",
      "    * 'keyHelp' : set as a string of keys separated by spaces, to print help on these.\n",
      "     example 'keyHelp':\"seeds tips\"\n",
      "    \n",
      "    Optional input:\n",
      "    - co_output (optional) : used for reverse automatic differentiation.\n",
      "    - cache (optional) : store some intermediate results to bypass computations at a later stage. \n",
      "    - returns (optional) : early aborts the run (debug purposes). ('in_raw','out_raw','out')\n",
      "\n"
     ]
    }
   ],
   "source": [
    "Eikonal.dictIn().RunHelp()"
   ]
  },
  {
   "cell_type": "code",
   "execution_count": null,
   "metadata": {},
   "outputs": [],
   "source": [
    "import numpy as np\n",
    "from matplotlib import pyplot as plt"
   ]
  },
  {
   "cell_type": "code",
   "execution_count": 4,
   "metadata": {},
   "outputs": [
    {
     "data": {
      "application/javascript": [
       "IPython.OutputArea.auto_scroll_threshold = 9999;\n"
      ],
      "text/plain": [
       "<IPython.core.display.Javascript object>"
      ]
     },
     "metadata": {},
     "output_type": "display_data"
    }
   ],
   "source": [
    "%%javascript\n",
    "IPython.OutputArea.auto_scroll_threshold = 9999;"
   ]
  },
  {
   "cell_type": "code",
   "execution_count": 30,
   "metadata": {},
   "outputs": [
    {
     "name": "stdout",
     "output_type": "stream",
     "text": [
      "Help on class dictIn in module agd.Eikonal.DictIn:\n",
      "\n",
      "class dictIn(collections.abc.MutableMapping)\n",
      " |  dictIn(store=None)\n",
      " |  \n",
      " |  A dictionary like structure used as input of the Eikonal solvers.\n",
      " |  \n",
      " |  \n",
      " |  \n",
      " |  - cpu : Run algorithm on host, store data on host\n",
      " |  - cpu_transfer : Run algorithm on host, store data on device\n",
      " |  - cpu_raw : Raw call to the HFM CPU library (debug purposes)\n",
      " |  - gpu : Run algorithm on device, store data on device\n",
      " |  - gpu_transfer : Run algorithm on device, store data on host\n",
      " |  \n",
      " |  Method resolution order:\n",
      " |      dictIn\n",
      " |      collections.abc.MutableMapping\n",
      " |      collections.abc.Mapping\n",
      " |      collections.abc.Collection\n",
      " |      collections.abc.Sized\n",
      " |      collections.abc.Iterable\n",
      " |      collections.abc.Container\n",
      " |      builtins.object\n",
      " |  \n",
      " |  Methods defined here:\n",
      " |  \n",
      " |  Axes(self, dims=None)\n",
      " |      The discretization points used along each coordinate axis.\n",
      " |  \n",
      " |  Grid(self, dims=None)\n",
      " |      Returns a grid of coordinates, containing all the discretization points of the domain.\n",
      " |      Similar to np.meshgrid(*self.Axes(),indexing='ij')\n",
      " |      Inputs : \n",
      " |      - dims(optional) : use a different sampling of the domain\n",
      " |  \n",
      " |  GridNeighbors(self, point, gridRadius)\n",
      " |      Returns the neighbors around a point on the grid. \n",
      " |      Geometry last convention\n",
      " |      Inputs: \n",
      " |      - point (array): geometry last\n",
      " |      - gridRadius (scalar): given in pixels\n",
      " |  \n",
      " |  IndexFromPoint(self, point)\n",
      " |      Returns the index that yields the position closest to a point, and the error.\n",
      " |  \n",
      " |  OrientedPoints(self, pointU)\n",
      " |      Appends all possible orientations to the point coordinates.\n",
      " |  \n",
      " |  PointFromIndex(self, index, to=False)\n",
      " |      Turns an index into a point.\n",
      " |      Optional argument to: if true, inverse transformation, turning a point into a continuous index\n",
      " |  \n",
      " |  Run(self, join=None, **kwargs)\n",
      " |      Calls the HFM library, prints log and returns output.\n",
      " |      Inputs : \n",
      " |      - join (optional) : join the dictionary with these additional entries before running.\n",
      " |      - **kwargs (optional) : passed to the run_detail.RunSmart or HFM_CUDA.RunGPU methods.\n",
      " |  \n",
      " |  SetRect(self, sides, sampleBoundary=False, gridScale=None, gridScales=None, dimx=None, dims=None)\n",
      " |      Defines a box domain, for the HFM library.\n",
      " |      Inputs:\n",
      " |      - sides, e.g. ((a,b),(c,d),(e,f)) for the domain [a,b]x[c,d]x[e,f]\n",
      " |      - sampleBoundary : switch between sampling at the pixel centers, and sampling including the boundary\n",
      " |      - gridScale, gridScales : side h>0 of each pixel (alt : axis dependent)\n",
      " |      - dimx, dims : number of points along the first axis (alt : along all axes)\n",
      " |  \n",
      " |  SetUniformTips(self, dims)\n",
      " |      Place regularly spaced tip points all over the domain, \n",
      " |      from which to backtrack minimal geodesics.\n",
      " |      Inputs : \n",
      " |      - dims : number of tips to use along each dimension.\n",
      " |  \n",
      " |  VectorFromOffset(self, offset, to=False)\n",
      " |      Turns a finite difference offset into a vector, by multiplying by the gridscale.\n",
      " |      Inputs : \n",
      " |      - offset : the offset to convert.\n",
      " |      - to (optional) : if True, produces an offset from a vector (reverse operation).\n",
      " |  \n",
      " |  __copy__(self)\n",
      " |  \n",
      " |  __deepcopy__(self)\n",
      " |  \n",
      " |  __delitem__(self, key)\n",
      " |  \n",
      " |  __getitem__(self, key)\n",
      " |  \n",
      " |  __init__(self, store=None)\n",
      " |      Initialize self.  See help(type(self)) for accurate signature.\n",
      " |  \n",
      " |  __iter__(self)\n",
      " |  \n",
      " |  __len__(self)\n",
      " |  \n",
      " |  __repr__(self)\n",
      " |      Return repr(self).\n",
      " |  \n",
      " |  __setitem__(self, key, value)\n",
      " |  \n",
      " |  copy(self)\n",
      " |      Returns a shallow copy of the structure.\n",
      " |  \n",
      " |  keys(self)\n",
      " |      The keys of this dictionary structure.\n",
      " |  \n",
      " |  ----------------------------------------------------------------------\n",
      " |  Data descriptors defined here:\n",
      " |  \n",
      " |  SE\n",
      " |      Wether the model is based on the Special Euclidean group.\n",
      " |      True for curvature penalized models.\n",
      " |  \n",
      " |  __dict__\n",
      " |      dictionary for instance variables (if defined)\n",
      " |  \n",
      " |  __weakref__\n",
      " |      list of weak references to the object (if defined)\n",
      " |  \n",
      " |  corners\n",
      " |      Returns the extreme points grid[:,0,...,0] and grid[:,-1,...,-1] of the \n",
      " |      discretization grid.\n",
      " |  \n",
      " |  float_t\n",
      " |      The floating point type of the data arrays. Typically np.float64 in 'cpu' mode, \n",
      " |      and np.float32 in 'gpu' mode.\n",
      " |  \n",
      " |  gridScales\n",
      " |      The discretization grid scale along each axis.\n",
      " |  \n",
      " |  mode\n",
      " |      The running mode of the eikonal solver, see the Run method.\n",
      " |      The input data must be provided using a compatible array module: \n",
      " |      numpy in 'cpu' mode, cupy in 'gpu' mode.\n",
      " |  \n",
      " |  nTheta\n",
      " |      Number of points for discretizing the interval [0,2 pi], in the angular space \n",
      " |      discretization, for the SE models (a.k.a. curvature penalized models).\n",
      " |  \n",
      " |  shape\n",
      " |      The shape of the discretization grid.\n",
      " |  \n",
      " |  size\n",
      " |      The number of points in the discretization grid.\n",
      " |  \n",
      " |  vdim\n",
      " |      The dimension of the ambient vector space.\n",
      " |  \n",
      " |  ----------------------------------------------------------------------\n",
      " |  Data and other attributes defined here:\n",
      " |  \n",
      " |  __abstractmethods__ = frozenset()\n",
      " |  \n",
      " |  default_mode = 'cpu'\n",
      " |  \n",
      " |  ----------------------------------------------------------------------\n",
      " |  Methods inherited from collections.abc.MutableMapping:\n",
      " |  \n",
      " |  clear(self)\n",
      " |      D.clear() -> None.  Remove all items from D.\n",
      " |  \n",
      " |  pop(self, key, default=<object object at 0x10d86c130>)\n",
      " |      D.pop(k[,d]) -> v, remove specified key and return the corresponding value.\n",
      " |      If key is not found, d is returned if given, otherwise KeyError is raised.\n",
      " |  \n",
      " |  popitem(self)\n",
      " |      D.popitem() -> (k, v), remove and return some (key, value) pair\n",
      " |      as a 2-tuple; but raise KeyError if D is empty.\n",
      " |  \n",
      " |  setdefault(self, key, default=None)\n",
      " |      D.setdefault(k[,d]) -> D.get(k,d), also set D[k]=d if k not in D\n",
      " |  \n",
      " |  update(*args, **kwds)\n",
      " |      D.update([E, ]**F) -> None.  Update D from mapping/iterable E and F.\n",
      " |      If E present and has a .keys() method, does:     for k in E: D[k] = E[k]\n",
      " |      If E present and lacks .keys() method, does:     for (k, v) in E: D[k] = v\n",
      " |      In either case, this is followed by: for k, v in F.items(): D[k] = v\n",
      " |  \n",
      " |  ----------------------------------------------------------------------\n",
      " |  Methods inherited from collections.abc.Mapping:\n",
      " |  \n",
      " |  __contains__(self, key)\n",
      " |  \n",
      " |  __eq__(self, other)\n",
      " |      Return self==value.\n",
      " |  \n",
      " |  get(self, key, default=None)\n",
      " |      D.get(k[,d]) -> D[k] if k in D, else d.  d defaults to None.\n",
      " |  \n",
      " |  items(self)\n",
      " |      D.items() -> a set-like object providing a view on D's items\n",
      " |  \n",
      " |  values(self)\n",
      " |      D.values() -> an object providing a view on D's values\n",
      " |  \n",
      " |  ----------------------------------------------------------------------\n",
      " |  Data and other attributes inherited from collections.abc.Mapping:\n",
      " |  \n",
      " |  __hash__ = None\n",
      " |  \n",
      " |  __reversed__ = None\n",
      " |  \n",
      " |  ----------------------------------------------------------------------\n",
      " |  Class methods inherited from collections.abc.Collection:\n",
      " |  \n",
      " |  __subclasshook__(C) from abc.ABCMeta\n",
      " |      Abstract classes can override this to customize issubclass().\n",
      " |      \n",
      " |      This is invoked early on by abc.ABCMeta.__subclasscheck__().\n",
      " |      It should return True, False or NotImplemented.  If it returns\n",
      " |      NotImplemented, the normal algorithm is used.  Otherwise, it\n",
      " |      overrides the normal algorithm (and the outcome is cached).\n",
      "\n"
     ]
    }
   ],
   "source": [
    "help(Eikonal.dictIn)"
   ]
  },
  {
   "cell_type": "code",
   "execution_count": 28,
   "metadata": {},
   "outputs": [
    {
     "name": "stdout",
     "output_type": "stream",
     "text": [
      "Help on class Dirichlet in module agd.Domain:\n",
      "\n",
      "class Dirichlet(builtins.object)\n",
      " |  Dirichlet(domain, value, grid, interior_radius=None, interior=None, grid_values=0.0)\n",
      " |  \n",
      " |  Implements Dirichlet boundary conditions.\n",
      " |  When computing finite differences, values queried outside the domain interior\n",
      " |  are replaced with values obtained on the boundary along the given direction.\n",
      " |  \n",
      " |  Methods defined here:\n",
      " |  \n",
      " |  Diff2(self, u, offsets)\n",
      " |      Second order finite differences.\n",
      " |      Second order accurate in the interior, \n",
      " |      but only first order accurate at the boundary.\n",
      " |  \n",
      " |  DiffCentered(self, u, offsets)\n",
      " |      First order finite differences, \n",
      " |      computed using the second order accurate centered scheme.\n",
      " |      Falls back to upwind finite differences close to the boundary.\n",
      " |  \n",
      " |  DiffUpwind(self, u, offsets, reth=False)\n",
      " |      Returns first order finite differences, uses boundary values when needed.\n",
      " |  \n",
      " |  __init__(self, domain, value, grid, interior_radius=None, interior=None, grid_values=0.0)\n",
      " |      Domain, boundary conditions.\n",
      " |      Inputs:\n",
      " |      - domain: geometrical description of the domain \n",
      " |      - value: a scalar or map yielding the value of the boundary conditions\n",
      " |      - grid: the cartesian grid. Ex: np.array(np.meshgrid(aX,aY,indexing='ij')) for suitable aX,aY\n",
      " |      \n",
      " |      - interior (optional): the points regarded as interior to the domain. \n",
      " |      - interior_radius (optional): sets\n",
      " |              interior = domain.contains_ball(interior_radius)\n",
      " |      \n",
      " |      - grid_values (defaults to 0.): placeholder values to be used on the grid.\n",
      " |              Either an array of values, or a function\n",
      " |  \n",
      " |  as_field(self, arr, **kwargs)\n",
      " |  \n",
      " |  ----------------------------------------------------------------------\n",
      " |  Data descriptors defined here:\n",
      " |  \n",
      " |  Mock\n",
      " |      Returns mock Dirichlet boundary conditions obtained by evaluating \n",
      " |      the boundary condition outside the interior.\n",
      " |  \n",
      " |  __dict__\n",
      " |      dictionary for instance variables (if defined)\n",
      " |  \n",
      " |  __weakref__\n",
      " |      list of weak references to the object (if defined)\n",
      " |  \n",
      " |  not_interior\n",
      " |  \n",
      " |  shape\n",
      " |  \n",
      " |  vdim\n",
      "\n"
     ]
    }
   ],
   "source": [
    "help(Domain.Dirichlet)"
   ]
  },
  {
   "cell_type": "markdown",
   "metadata": {},
   "source": [
    "## 1. See help"
   ]
  },
  {
   "cell_type": "code",
   "execution_count": 5,
   "metadata": {},
   "outputs": [
    {
     "data": {
      "text/plain": [
       "'Riemann'"
      ]
     },
     "execution_count": 5,
     "metadata": {},
     "output_type": "execute_result"
    }
   ],
   "source": [
    "type(Metrics.Riemann(np.eye(2))).__name__"
   ]
  },
  {
   "cell_type": "code",
   "execution_count": 23,
   "metadata": {},
   "outputs": [],
   "source": [
    "m = Metrics.Riemann(np.eye(2),)"
   ]
  },
  {
   "cell_type": "code",
   "execution_count": 25,
   "metadata": {},
   "outputs": [
    {
     "name": "stdout",
     "output_type": "stream",
     "text": [
      "2\n",
      "2\n"
     ]
    }
   ],
   "source": [
    "def f(x): print(x)\n",
    "f(2)\n",
    "f(2,)"
   ]
  },
  {
   "cell_type": "code",
   "execution_count": 24,
   "metadata": {},
   "outputs": [
    {
     "data": {
      "text/plain": [
       "array([[1., 0.],\n",
       "       [0., 1.]])"
      ]
     },
     "execution_count": 24,
     "metadata": {},
     "output_type": "execute_result"
    }
   ],
   "source": [
    "m.m"
   ]
  },
  {
   "cell_type": "code",
   "execution_count": 9,
   "metadata": {},
   "outputs": [
    {
     "name": "stdout",
     "output_type": "stream",
     "text": [
      "Riemann(array([[1., 0.],\n",
      "       [0., 1.]]),)\n"
     ]
    }
   ],
   "source": [
    "print(str(m))"
   ]
  },
  {
   "cell_type": "code",
   "execution_count": 12,
   "metadata": {},
   "outputs": [
    {
     "name": "stdout",
     "output_type": "stream",
     "text": [
      "Riemann(array([[1., 0.],\n",
      "       [0., 1.]]),)\n"
     ]
    }
   ],
   "source": [
    "print(repr(m))"
   ]
  },
  {
   "cell_type": "code",
   "execution_count": 6,
   "metadata": {},
   "outputs": [
    {
     "name": "stdout",
     "output_type": "stream",
     "text": [
      "[[1. 0.]\n",
      " [0. 1.]]\n"
     ]
    }
   ],
   "source": [
    "for x in m: print(x)"
   ]
  },
  {
   "cell_type": "code",
   "execution_count": 22,
   "metadata": {},
   "outputs": [
    {
     "data": {
      "text/plain": [
       "'None'"
      ]
     },
     "execution_count": 22,
     "metadata": {},
     "output_type": "execute_result"
    }
   ],
   "source": [
    "repr(None)"
   ]
  },
  {
   "cell_type": "code",
   "execution_count": 21,
   "metadata": {},
   "outputs": [
    {
     "name": "stdout",
     "output_type": "stream",
     "text": [
      "Help on class TTI in module agd.Metrics.Seismic.tti:\n",
      "\n",
      "class TTI(agd.Metrics.Seismic.implicit_base.ImplicitBase)\n",
      " |  TTI(linear, quadratic, vdim=None, *args, **kwargs)\n",
      " |  \n",
      " |  A family of reduced models, known as Tilted Transversally Anisotropic,\n",
      " |  and arising in seismic tomography.\n",
      " |  \n",
      " |  The *dual* unit ball is defined by an equation of the form\n",
      " |  l(X^2+Y^2,Z^2) + q(X^2+Y^2,Z^2) = 1,\n",
      " |  where l is linear and q is quadratic, where X,Y,Z are the coefficients of the input \n",
      " |  vector, usually altered by a linear transformation.\n",
      " |  In two dimensions, ignore the Y^2 term.\n",
      " |  \n",
      " |  The primal norm is obtained implicitly, by solving an optimization problem.\n",
      " |  \n",
      " |  Members fields and __init__ arguments : \n",
      " |  - linear : an array of shape (2,n1,...,nk) encoding the linear part l\n",
      " |  - quadratic : an array of shape (2,2,n1,...,nk) encoding the quadratic part q\n",
      " |  - vdim (optional) : the ambient space dimension\n",
      " |  - *args,**kwargs (optional) : passed to implicit_base\n",
      " |  \n",
      " |  Method resolution order:\n",
      " |      TTI\n",
      " |      agd.Metrics.Seismic.implicit_base.ImplicitBase\n",
      " |      agd.Metrics.base.Base\n",
      " |      builtins.object\n",
      " |  \n",
      " |  Methods defined here:\n",
      " |  \n",
      " |  Riemann_approx(self)\n",
      " |  \n",
      " |  __init__(self, linear, quadratic, vdim=None, *args, **kwargs)\n",
      " |      Initialize self.  See help(type(self)) for accurate signature.\n",
      " |  \n",
      " |  __iter__(self)\n",
      " |      Iterate over the member fields.\n",
      " |  \n",
      " |  cost_bound(self)\n",
      " |      Upper bound on norm(u), for any unit vector u.\n",
      " |  \n",
      " |  extract_xz(self)\n",
      " |  \n",
      " |  flatten(self, transposed_transformation=False)\n",
      " |      Flattens and concatenate the member fields into a single array.\n",
      " |  \n",
      " |  model_HFM(self)\n",
      " |      The name of the 'model' for parameter, as input to the HFM library.\n",
      " |  \n",
      " |  ----------------------------------------------------------------------\n",
      " |  Class methods defined here:\n",
      " |  \n",
      " |  expand(arr) from builtins.type\n",
      " |      Inverse of the flatten member function. \n",
      " |      Turns a suitable array into a metric.\n",
      " |  \n",
      " |  from_Thomsen(tem, vdim=3) from builtins.type\n",
      " |  \n",
      " |  from_cast(metric) from builtins.type\n",
      " |      Produces a metric by casting another metric of a compatible type.\n",
      " |  \n",
      " |  from_hexagonal(c11, _, c13, c33, c44, vdim=3) from builtins.type\n",
      " |  \n",
      " |  ----------------------------------------------------------------------\n",
      " |  Data descriptors defined here:\n",
      " |  \n",
      " |  shape\n",
      " |      Dimensions of the underlying domain.\n",
      " |      Expected to be the empty tuple, or a tuple of length vdim.\n",
      " |  \n",
      " |  vdim\n",
      " |      Ambient vector space dimension\n",
      " |  \n",
      " |  ----------------------------------------------------------------------\n",
      " |  Data and other attributes defined here:\n",
      " |  \n",
      " |  mica = (TTI(array([190.2,  67.1]), array([[-2171.6  , -4...\n",
      " |         [-4...\n",
      " |  \n",
      " |  stishovite = (TTI(array([ 705, 1028]), array([[-114156. , -104...\n",
      " |      ...\n",
      " |  \n",
      " |  ----------------------------------------------------------------------\n",
      " |  Methods inherited from agd.Metrics.Seismic.implicit_base.ImplicitBase:\n",
      " |  \n",
      " |  flatten_transform(self, topographic=None)\n",
      " |  \n",
      " |  gradient(self, v)\n",
      " |      Gradient of the norm defined by the metric.\n",
      " |  \n",
      " |  inv_transform(self, a)\n",
      " |      Affine transformation of the norm. \n",
      " |      The new unit ball is the inverse image of the previous one.\n",
      " |  \n",
      " |  is_topographic(self, a=None)\n",
      " |  \n",
      " |  norm(self, v)\n",
      " |      Norm defiend by the metric. \n",
      " |      Expected to be 1-homogeneous w.r.t. v\n",
      " |  \n",
      " |  ----------------------------------------------------------------------\n",
      " |  Methods inherited from agd.Metrics.base.Base:\n",
      " |  \n",
      " |  __repr__(self)\n",
      " |      Return repr(self).\n",
      " |  \n",
      " |  __str__(self)\n",
      " |      Return str(self).\n",
      " |  \n",
      " |  angle(self, u, v)\n",
      " |      Generalized unoriented angle defined by the metric,\n",
      " |      see the cos and cos_asym member functions.\n",
      " |  \n",
      " |  anisotropy(self)\n",
      " |      Sharp upper bound on norm(u)/norm(v), \n",
      " |      for any unit vectors u and v.\n",
      " |  \n",
      " |  anisotropy_bound(self)\n",
      " |      Upper bound on norm(u)/norm(v), \n",
      " |      for any unit vectors u and v.\n",
      " |  \n",
      " |  at(self, x)\n",
      " |      Interpolates the metric to a given position, on a grid given beforehand.\n",
      " |      Inputs : \n",
      " |              - x. Place where interpolation is needed.\n",
      " |  \n",
      " |  cos(self, u, v)\n",
      " |      Generalized cosine defined by the metric, defined as \n",
      " |      min(cos_asym(u,v),cos_asym(v,u)).\n",
      " |  \n",
      " |  cos_asym(self, u, v)\n",
      " |      Generalized cosine defined by the metric, defined as \n",
      " |      <grad F(u), v> / F(v)\n",
      " |  \n",
      " |  disassociate(self)\n",
      " |      Hide the automatic differentiation (AD) information of the member fields.\n",
      " |      See AutomaticDifferentiation.disassociate\n",
      " |  \n",
      " |  dual(self)\n",
      " |      Dual norm, mathematically defined by \n",
      " |      N^*(x) = max{ <x,y> ; N(y)<=1 }\n",
      " |  \n",
      " |  gradient2(self, v)\n",
      " |      Gradient of the half squared norm.\n",
      " |  \n",
      " |  is_definite(self)\n",
      " |      Wether norm(u)=0 implies u=0.\n",
      " |  \n",
      " |  norm2(self, v)\n",
      " |      Half squared norm.\n",
      " |  \n",
      " |  rotate(self, r)\n",
      " |      Rotation of the norm, by a given rotation matrix.\n",
      " |      The new unit ball is the direct image of the previous one.\n",
      " |  \n",
      " |  rotate_by(self, *args, **kwargs)\n",
      " |      Rotation of the norm, based on rotation parameters : angle (and axis in 3D).\n",
      " |  \n",
      " |  set_interpolation(self, grid, **kwargs)\n",
      " |      Sets interpolation_data, required to specialize the norm \n",
      " |      at a given position.\n",
      " |      Inputs:\n",
      " |              - grid (optional). Coordinate system (required on first call). \n",
      " |              - kwargs. Passed to UniformGridInterpolation (includes order)\n",
      " |  \n",
      " |  to_HFM(self)\n",
      " |      Formats a metric for the HFM library. \n",
      " |      This may include flattening some symmetric matrices, \n",
      " |      concatenating with vector fields, and moving the first axis last.\n",
      " |  \n",
      " |  transform(self, a)\n",
      " |      Affine transformation of the norm.\n",
      " |      The new unit ball is the direct image of the previous one.\n",
      " |  \n",
      " |  with_cost(self, cost)\n",
      " |      Produces a norm N' obeying N'(x) = N(cost*x)\n",
      " |  \n",
      " |  with_costs(self, costs)\n",
      " |      Produces a norm N' obeying N'(x) = N(costs * x)\n",
      " |      where the multiplication is elementwise.\n",
      " |  \n",
      " |  with_speed(self, speed)\n",
      " |      Produces a norm N' obeying N'(x) = N(x/speed)\n",
      " |  \n",
      " |  with_speeds(self, speeds)\n",
      " |      Produces a norm N' obeying N'(x) = N(x/speeds) \n",
      " |      where the division is elementwise.\n",
      " |  \n",
      " |  ----------------------------------------------------------------------\n",
      " |  Class methods inherited from agd.Metrics.base.Base:\n",
      " |  \n",
      " |  from_HFM(arr) from builtins.type\n",
      " |      Inverse of the to_HFM member function.\n",
      " |      Turns a suitable array into a metric.\n",
      " |  \n",
      " |  from_generator(gen) from builtins.type\n",
      " |      Produce a metric from a suitable generator expression.\n",
      " |  \n",
      " |  ----------------------------------------------------------------------\n",
      " |  Data descriptors inherited from agd.Metrics.base.Base:\n",
      " |  \n",
      " |  __dict__\n",
      " |      dictionary for instance variables (if defined)\n",
      " |  \n",
      " |  __weakref__\n",
      " |      list of weak references to the object (if defined)\n",
      " |  \n",
      " |  array_float_caster\n",
      " |      Returns a caster function, which can be used to turn lists, etc, into\n",
      " |      arrays with the suitable floating point type, from the suitable library \n",
      " |      (numpy or cupy), depending on the member fields.\n",
      "\n"
     ]
    }
   ],
   "source": [
    "help(Seismic.TTI)"
   ]
  },
  {
   "cell_type": "code",
   "execution_count": null,
   "metadata": {},
   "outputs": [],
   "source": []
  },
  {
   "cell_type": "code",
   "execution_count": null,
   "metadata": {},
   "outputs": [],
   "source": []
  }
 ],
 "metadata": {
  "kernelspec": {
   "display_name": "Python 3",
   "language": "python",
   "name": "python3"
  },
  "language_info": {
   "codemirror_mode": {
    "name": "ipython",
    "version": 3
   },
   "file_extension": ".py",
   "mimetype": "text/x-python",
   "name": "python",
   "nbconvert_exporter": "python",
   "pygments_lexer": "ipython3",
   "version": "3.7.6"
  }
 },
 "nbformat": 4,
 "nbformat_minor": 4
}

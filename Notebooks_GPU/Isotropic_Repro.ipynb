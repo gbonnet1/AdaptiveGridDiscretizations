{
 "cells": [
  {
   "cell_type": "markdown",
   "metadata": {},
   "source": [
    "# Adaptive PDE discretizations on cartesian grids \n",
    "## Volume : GPU accelerated methods\n",
    "## Part : Eikonal equations, acceleration and reproducibility\n",
    "## Chapter : Isotropic metrics"
   ]
  },
  {
   "cell_type": "markdown",
   "metadata": {},
   "source": [
    "In this notebook, we solve isotropic eikonal equations on the CPU and the GPU, and check that they produce consistent results.\n",
    "\n",
    "We obtain substantial accelerations on sufficiently large instances, a few million points, by a factor up to $100$. Note that smaller test cases yield less acceleration, due to the difficulty to extract parallelism.\n",
    "\n",
    "**bit-consistency.** By design, the CPU and GPU codes produce the same values, up to machine precision, which is approximately $10^{-8}$ for floating point types, in a variety on situations. \n",
    "This is due to the fact that the two implementations, although widely different, solve the same discretized problem. We try to ensure this behavior and check it as much as possible, as it is a strong indicator of the validity of the implementations. We refer to it as bit-consistency, aknowledging that it is a bit abusive, since the algorithm outputs, while extremely close, are still far from a bit-for-bit match.\n",
    "\n",
    "**GPU/CPU speedup.**  General purpose graphical processors are massively parallel machines, which greatly outperform CPUs on embarassingly parallel tasks. The acceleration due to GPUs is therefore most impressive on large test cases."
   ]
  },
  {
   "cell_type": "code",
   "execution_count": 1,
   "metadata": {},
   "outputs": [],
   "source": [
    "large_instances = False # Set to True to show off GPU acceleration (CPU times may become a big long.)"
   ]
  },
  {
   "cell_type": "markdown",
   "metadata": {},
   "source": [
    "[**Summary**](Summary.ipynb) of volume GPU accelerated methods, this series of notebooks.\n",
    "\n",
    "[**Main summary**](../Summary.ipynb) of the Adaptive Grid Discretizations \n",
    "\tbook of notebooks, including the other volumes.\n",
    "\n",
    "# Table of contents\n",
    "  * [1. Three dimensions](#1.-Three-dimensions)\n",
    "  * [2. Two dimensions](#2.-Two-dimensions)\n",
    "  * [3. GPU specific options](#3.-GPU-specific-options)\n",
    "    * [3.1 Multiprecision and convergence tolerance](#3.1-Multiprecision-and-convergence-tolerance)\n",
    "    * [3.2 Block shape and inner iterations](#3.2-Block-shape-and-inner-iterations)\n",
    "    * [3.3 Periodicity](#3.3-Periodicity)\n",
    "    * [3.4 Help and parameter defaults](#3.4-Help-and-parameter-defaults)\n",
    "\n",
    "\n",
    "\n",
    "**Acknowledgement.** The experiments presented in these notebooks are part of ongoing research.\n",
    "The author would like to acknowledge fruitful informal discussions with L. Gayraud on the \n",
    "topic of GPU coding and optimization.\n",
    "\n",
    "Copyright Jean-Marie Mirebeau, University Paris-Sud, CNRS, University Paris-Saclay"
   ]
  },
  {
   "cell_type": "markdown",
   "metadata": {},
   "source": [
    "## 0. Importing the required libraries"
   ]
  },
  {
   "cell_type": "code",
   "execution_count": 2,
   "metadata": {},
   "outputs": [],
   "source": [
    "import sys; sys.path.insert(0,\"..\")\n",
    "#from Miscellaneous import TocTools; print(TocTools.displayTOC('Isotropic_Repro','GPU'))"
   ]
  },
  {
   "cell_type": "code",
   "execution_count": 3,
   "metadata": {
    "tags": [
     "ExportCode"
    ]
   },
   "outputs": [],
   "source": [
    "import cupy as cp\n",
    "import numpy as np\n",
    "import itertools\n",
    "from matplotlib import pyplot as plt\n",
    "np.set_printoptions(edgeitems=30, linewidth=100000, formatter=dict(float=lambda x: \"%5.3g\" % x))"
   ]
  },
  {
   "cell_type": "code",
   "execution_count": 4,
   "metadata": {
    "tags": [
     "ExportCode"
    ]
   },
   "outputs": [],
   "source": [
    "from agd import Eikonal\n",
    "from agd import AutomaticDifferentiation as ad\n",
    "from agd import Metrics\n",
    "import agd.AutomaticDifferentiation.cupy_generic as cugen\n",
    "norm_infinity = ad.Optimization.norm_infinity\n",
    "Eikonal.dictIn.default_mode = 'gpu'"
   ]
  },
  {
   "cell_type": "code",
   "execution_count": 29,
   "metadata": {},
   "outputs": [],
   "source": [
    "def ReloadPackages():\n",
    "    from Miscellaneous.rreload import rreload\n",
    "    global Eikonal,ad,cugen\n",
    "    Eikonal,ad,cugen = rreload([Eikonal,ad,cugen],\"..\")\n",
    "    Eikonal.dictIn.default_mode = 'gpu'"
   ]
  },
  {
   "cell_type": "markdown",
   "metadata": {},
   "source": [
    "### 0.1 Decorations for gpu usage\n",
    "\n",
    "Dealing with GPU data induces minor inconveniences:\n",
    "- GPU arrays are not implicitly convertible to CPU arrays, and this is a good thing since memory transfers from GPU memory to CPU memory, and conversely, are not cheap. The `get` method must be applied to a cupy array to retrieve a numpy array.\n",
    "- GPU computing is much more efficient with 32 bit data types, integer and floating point, than with their 64bit counterparts. However a number of numpy and cupy basic functions default to 64bit output, which will be inconsistent with the rest of computations.\n",
    "\n",
    "We provide decorators to perform these memory transfers and data type conversions automatically. They are only applied to specific modules and functions, below, to avoid excessive implicit operations. "
   ]
  },
  {
   "cell_type": "code",
   "execution_count": 6,
   "metadata": {
    "tags": [
     "ExportCode"
    ]
   },
   "outputs": [],
   "source": [
    "cp = ad.functional.decorate_module_functions(cp,cugen.set_output_dtype32) # Use float32 and int32 types in place of float64 and int64\n",
    "plt = ad.functional.decorate_module_functions(plt,cugen.cupy_get_args)"
   ]
  },
  {
   "cell_type": "code",
   "execution_count": 7,
   "metadata": {},
   "outputs": [
    {
     "data": {
      "image/png": "[encoded data removed]",
      "text/plain": [
       "<Figure size 432x288 with 1 Axes>"
      ]
     },
     "metadata": {
      "needs_background": "light"
     },
     "output_type": "display_data"
    }
   ],
   "source": [
    "X = cp.linspace(0,np.pi) # 64 bit output is converted to 32 bit by decorator\n",
    "plt.plot(X,np.sin(X));   # GPU array is transfered to CPU memory."
   ]
  },
  {
   "cell_type": "markdown",
   "metadata": {},
   "source": [
    "Note that, by default, these decorators do not apply to the system module, but only to a shallow copy."
   ]
  },
  {
   "cell_type": "code",
   "execution_count": 8,
   "metadata": {},
   "outputs": [
    {
     "data": {
      "text/plain": [
       "dtype('float64')"
      ]
     },
     "execution_count": 8,
     "metadata": {},
     "output_type": "execute_result"
    }
   ],
   "source": [
    "sys.modules['cupy'].linspace(0,np.pi).dtype"
   ]
  },
  {
   "cell_type": "markdown",
   "metadata": {},
   "source": [
    "### 0.2 Comparing CPU and GPU results"
   ]
  },
  {
   "cell_type": "code",
   "execution_count": 9,
   "metadata": {
    "tags": [
     "ExportCode"
    ]
   },
   "outputs": [],
   "source": [
    "variants_basic = (\n",
    "    [{},{\"seedRadius\":2.}], # Spread seed information ?\n",
    "    [{},{'multiprecision':True}] # Reduce floating point roundoff errors\n",
    ")\n",
    "\n",
    "variants_ext = (\n",
    "    [{},{'order':2}], # second order scheme ?\n",
    "    [{},{\"seedRadius\":2.},{\"factoringRadius\":10.,'factoringPointChoice':'Key'}], # source factorization ?\n",
    "    [{},{'multiprecision':True}] # Reduce floating point roundoff errors\n",
    ")"
   ]
  },
  {
   "cell_type": "code",
   "execution_count": 10,
   "metadata": {
    "tags": [
     "ExportCode"
    ]
   },
   "outputs": [],
   "source": [
    "def RunCompare(gpuIn,check=True,check_ratio=0,variants=None,**kwargs):\n",
    "    # Dispatch the common variants if requested\n",
    "    if isinstance(variants,str): variants = {'basic':variants_basic,'ext':variants_ext}[variants]\n",
    "    if variants:\n",
    "        for variant in variants[0]:\n",
    "            RunCompare(gpuIn,check=check,check_ratio=check_ratio,variants=variants[1:],**kwargs,**variant)\n",
    "        return\n",
    "\n",
    "    if kwargs: print(\"\\n\",f\"--- Variant {kwargs} ---\")\n",
    "\n",
    "    # Run the CPU and GPU solvers\n",
    "    gpuIn = gpuIn.copy(); gpuIn.update(kwargs)\n",
    "    gpuOut = gpuIn.Run()\n",
    "    if gpuIn.get('verbosity',1):  print(f\"--- gpu done, turning to cpu ---\")\n",
    "    cpuOut = gpuIn.Run(join={'mode':'cpu_transfer'})\n",
    "    \n",
    "    # Print performance info\n",
    "    fmTime = cpuOut['FMCPUTime']; stencilTime = cpuOut['StencilCPUTime']; \n",
    "    cpuTime = fmTime+stencilTime; gpuTime = gpuOut['solverGPUTime'];\n",
    "    print(f\"Solver time (s). GPU : {gpuTime}, CPU : {cpuTime}. Device acceleration : {cpuTime/gpuTime}\")\n",
    "    \n",
    "    # Check consistency \n",
    "    cpuVals = cpuOut['values'].copy(); gpuVals = gpuOut['values'].get()\n",
    "    # Inf is a legitimate value in the presence of e.g. obstacles\n",
    "    commonInfs = np.logical_and(np.isinf(cpuVals),np.isinf(gpuVals)) \n",
    "    cpuVals[commonInfs]=0; gpuVals[commonInfs]=0\n",
    "    print(\"Max |gpuValues-cpuValues| : \", norm_infinity(gpuVals-cpuVals))\n",
    "    \n",
    "    if check is True: assert np.allclose(gpuVals,cpuVals,atol=1e-5,rtol=1e-4)\n",
    "    elif check is False: pass\n",
    "    else: assert np.sum(np.abs(gpuVals-cpuVals)>check)<=check_ratio*gpuVals.size\n",
    "\n",
    "    return gpuOut,cpuOut"
   ]
  },
  {
   "cell_type": "markdown",
   "metadata": {},
   "source": [
    "## 1. Three dimensions"
   ]
  },
  {
   "cell_type": "markdown",
   "metadata": {},
   "source": [
    "GPU acceleration shines particularly well in three dimensions, where we get accelerations by a factor $100$ on large instances."
   ]
  },
  {
   "cell_type": "code",
   "execution_count": 30,
   "metadata": {},
   "outputs": [],
   "source": [
    "ReloadPackages()"
   ]
  },
  {
   "cell_type": "code",
   "execution_count": 31,
   "metadata": {},
   "outputs": [],
   "source": [
    "n = 200 if large_instances else 100\n",
    "hfmIn = Eikonal.dictIn({\n",
    "    'model':'Isotropic3',\n",
    "    'seed':[0.,0.5,1.],\n",
    "    'exportValues':1,\n",
    "    'cost':1.,\n",
    "})\n",
    "hfmIn.SetRect([[0,1],[0,1],[0,1]],dimx=n+1,sampleBoundary=True)"
   ]
  },
  {
   "cell_type": "code",
   "execution_count": 12,
   "metadata": {},
   "outputs": [
    {
     "name": "stdout",
     "output_type": "stream",
     "text": [
      "Setting the kernel traits.\n",
      "Prepating the domain data (shape,metric,...)\n",
      "Preparing the problem rhs (cost, seeds,...)\n",
      "Preparing the GPU kernel\n",
      "Running the eikonal GPU kernel\n",
      "GPU kernel eikonal ran for 0.05199599266052246 seconds, and 65 iterations.\n",
      "Post-Processing\n",
      "--- gpu done, turning to cpu ---\n",
      "Field verbosity defaults to 1\n",
      "Field order defaults to 1\n",
      "Field seedRadius defaults to 0\n",
      "Fast marching solver completed in 1.124 s.\n",
      "Solver time (s). GPU : 0.05199599266052246, CPU : 1.1340000000000001. Device acceleration : 21.809373030029302\n",
      "Max |gpuValues-cpuValues| :  6.332993507385254e-07\n"
     ]
    }
   ],
   "source": [
    "RunCompare(hfmIn);"
   ]
  },
  {
   "cell_type": "markdown",
   "metadata": {},
   "source": [
    "We check bit-consistency for a few variants of the scheme."
   ]
  },
  {
   "cell_type": "code",
   "execution_count": 32,
   "metadata": {},
   "outputs": [],
   "source": [
    "n=50; hfmInS = hfmIn.copy() # Define the a smaller instance\n",
    "hfmInS.SetRect([[0,1],[0,1],[0,1]],dimx=n+1,sampleBoundary=True)\n",
    "X = hfmInS.Grid()\n",
    "hfmInS.update({\n",
    "    'seed':[0,0,0],\n",
    "    'cost': np.prod(np.sin(2*np.pi*X),axis=0) + 1.1, # Non-constant cost\n",
    "    'verbosity':0,\n",
    "})"
   ]
  },
  {
   "cell_type": "code",
   "execution_count": 33,
   "metadata": {},
   "outputs": [
    {
     "name": "stdout",
     "output_type": "stream",
     "text": [
      "Solver time (s). GPU : 0.016496896743774414, CPU : 0.11900000000000001. Device acceleration : 7.213477895162806\n",
      "Max |gpuValues-cpuValues| :  6.903636284860681e-07\n",
      "\n",
      " --- Variant {'multiprecision': True} ---\n",
      "Solver time (s). GPU : 0.021500587463378906, CPU : 0.116. Device acceleration : 5.395201419383455\n",
      "Max |gpuValues-cpuValues| :  1.5621205884386313e-07\n",
      "\n",
      " --- Variant {'seedRadius': 2.0} ---\n",
      "Solver time (s). GPU : 0.01650691032409668, CPU : 0.111. Device acceleration : 6.724456474326569\n",
      "Max |gpuValues-cpuValues| :  7.111670792259162e-07\n",
      "\n",
      " --- Variant {'seedRadius': 2.0, 'multiprecision': True} ---\n",
      "Solver time (s). GPU : 0.02097630500793457, CPU : 0.115. Device acceleration : 5.482376422182062\n",
      "Max |gpuValues-cpuValues| :  1.1188518178606444e-07\n"
     ]
    }
   ],
   "source": [
    "RunCompare(hfmInS,variants='basic');"
   ]
  },
  {
   "cell_type": "markdown",
   "metadata": {},
   "source": [
    "The second order scheme implementation, and the source factorization, have some slight differences between the GPU and CPU implementation, hence *one cannot expect bit-consistency in general*. "
   ]
  },
  {
   "cell_type": "code",
   "execution_count": 34,
   "metadata": {},
   "outputs": [
    {
     "name": "stdout",
     "output_type": "stream",
     "text": [
      "Solver time (s). GPU : 0.016480207443237305, CPU : 0.112. Device acceleration : 6.796030959304429\n",
      "Max |gpuValues-cpuValues| :  6.903636284860681e-07\n",
      "\n",
      " --- Variant {'multiprecision': True} ---\n",
      "Solver time (s). GPU : 0.021502256393432617, CPU : 0.114. Device acceleration : 5.301769168505439\n",
      "Max |gpuValues-cpuValues| :  1.5621205884386313e-07\n",
      "\n",
      " --- Variant {'seedRadius': 2.0} ---\n",
      "Solver time (s). GPU : 0.016505002975463867, CPU : 0.114. Device acceleration : 6.906996634261199\n",
      "Max |gpuValues-cpuValues| :  7.111670792259162e-07\n",
      "\n",
      " --- Variant {'seedRadius': 2.0, 'multiprecision': True} ---\n",
      "Solver time (s). GPU : 0.018479108810424805, CPU : 0.11. Device acceleration : 5.9526680170823285\n",
      "Max |gpuValues-cpuValues| :  1.1188518178606444e-07\n",
      "\n",
      " --- Variant {'factoringRadius': 10.0, 'factoringPointChoice': 'Key'} ---\n",
      "Solver time (s). GPU : 0.01849675178527832, CPU : 0.11800000000000001. Device acceleration : 6.379498485453913\n",
      "Max |gpuValues-cpuValues| :  0.0016292832261056156\n",
      "\n",
      " --- Variant {'factoringRadius': 10.0, 'factoringPointChoice': 'Key', 'multiprecision': True} ---\n",
      "Solver time (s). GPU : 0.017499685287475586, CPU : 0.11800000000000001. Device acceleration : 6.742978405700351\n",
      "Max |gpuValues-cpuValues| :  0.0016292832261056156\n",
      "\n",
      " --- Variant {'order': 2} ---\n",
      "Solver time (s). GPU : 0.027501821517944336, CPU : 0.169. Device acceleration : 6.14504751584295\n",
      "Max |gpuValues-cpuValues| :  0.007898599629571068\n",
      "\n",
      " --- Variant {'order': 2, 'multiprecision': True} ---\n",
      "Solver time (s). GPU : 0.024998903274536133, CPU : 0.165. Device acceleration : 6.600289548224658\n",
      "Max |gpuValues-cpuValues| :  0.007898480420281517\n",
      "\n",
      " --- Variant {'order': 2, 'seedRadius': 2.0} ---\n",
      "Solver time (s). GPU : 0.02299666404724121, CPU : 0.17200000000000001. Device acceleration : 7.479345684516097\n",
      "Max |gpuValues-cpuValues| :  0.011129540428334112\n",
      "\n",
      " --- Variant {'order': 2, 'seedRadius': 2.0, 'multiprecision': True} ---\n",
      "Solver time (s). GPU : 0.022477149963378906, CPU : 0.175. Device acceleration : 7.785684585684585\n",
      "Max |gpuValues-cpuValues| :  0.011129540428334112\n",
      "\n",
      " --- Variant {'order': 2, 'factoringRadius': 10.0, 'factoringPointChoice': 'Key'} ---\n",
      "Solver time (s). GPU : 0.020475149154663086, CPU : 0.173. Device acceleration : 8.449266898776184\n",
      "Max |gpuValues-cpuValues| :  0.006708100137535977\n",
      "\n",
      " --- Variant {'order': 2, 'factoringRadius': 10.0, 'factoringPointChoice': 'Key', 'multiprecision': True} ---\n",
      "Solver time (s). GPU : 0.0279998779296875, CPU : 0.17. Device acceleration : 6.071455040871935\n",
      "Max |gpuValues-cpuValues| :  0.006708100137535977\n"
     ]
    }
   ],
   "source": [
    "RunCompare(hfmInS,variants='ext',check=0.02);"
   ]
  },
  {
   "cell_type": "markdown",
   "metadata": {},
   "source": [
    "## 2. Two dimensions\n",
    "\n",
    "In two dimensions, it is usually more difficult to extract parallism than in three dimensions.\n",
    "Indeed, the front propagated in the computations is expected to have approximately\n",
    "$$\n",
    "    N^{\\frac{d-1} d}\n",
    "$$\n",
    "points in dimension $d$, where $N$ denotes the total number of points in the domain. \n",
    "The front in a two dimensional computation thus has $N^{\\frac 1 2}$ points which is much fewer than $N^{\\frac 2 3}$ in three dimensions, when $N$ is large. In addition the number of points $N$ is also often fewer in two dimensional problems."
   ]
  },
  {
   "cell_type": "code",
   "execution_count": null,
   "metadata": {},
   "outputs": [],
   "source": [
    "n=4000 if large_instances else 1000\n",
    "hfmIn = Eikonal.dictIn({\n",
    "    'model':'Isotropic2',\n",
    "    'seed':[0.,0.5],\n",
    "    'exportValues':1,\n",
    "    'cost':1.,\n",
    "})\n",
    "hfmIn.SetRect([[0,1],[0,1]],dimx=n+1,sampleBoundary=True)"
   ]
  },
  {
   "cell_type": "code",
   "execution_count": null,
   "metadata": {},
   "outputs": [],
   "source": [
    "sum(e in {1,2,3} for e in [1,4,2])"
   ]
  },
  {
   "cell_type": "code",
   "execution_count": null,
   "metadata": {},
   "outputs": [],
   "source": [
    "gpuOut,cpuOut = RunCompare(hfmIn,check=1e-4)"
   ]
  },
  {
   "cell_type": "markdown",
   "metadata": {},
   "source": [
    "Another annoyance is that the numerical error, close to $10^{-4}$ in the large instance, is not as good as could be expected, around $10^{-7}$ for single precision floating point types. \n",
    "A quick fix, explained in more detail below and which does have a computational cost, is to run the computation using multiprecision."
   ]
  },
  {
   "cell_type": "code",
   "execution_count": null,
   "metadata": {},
   "outputs": [],
   "source": [
    "gpuOut = hfmIn.Run(join={'multiprecision':True}) # join with another dict\n",
    "print(\"Max |gpuValues-cpuValues| : \", norm_infinity(gpuOut['values'].get()-cpuOut['values']))"
   ]
  },
  {
   "cell_type": "code",
   "execution_count": null,
   "metadata": {},
   "outputs": [],
   "source": [
    "n=50; hfmInS = hfmIn.copy() # Define a small instance for bit-consistency validation\n",
    "hfmInS.SetRect([[0,1],[0,1]],dimx=n+1,sampleBoundary=True)\n",
    "X = hfmInS.Grid()\n",
    "hfmInS.update({\n",
    "    'cost':np.prod(np.sin(2*np.pi*X),axis=0) +1.1, # Non-constant cost\n",
    "    'verbosity':0,\n",
    "})"
   ]
  },
  {
   "cell_type": "code",
   "execution_count": null,
   "metadata": {},
   "outputs": [],
   "source": [
    "RunCompare(hfmInS,variants='basic')"
   ]
  },
  {
   "cell_type": "markdown",
   "metadata": {},
   "source": [
    "Again, bit consistency is not expected with the second order scheme.\n",
    "\n",
    "<!---\n",
    ", but not excluded either.\n",
    "Note that the second order scheme is non-monotone, hence the solution values need not decrease as the iterations proceed. \n",
    "In order to be consistent with the CPU implementation, and validate this test, we set the trait `decreasing_macro` to $0$.\n",
    "--->"
   ]
  },
  {
   "cell_type": "code",
   "execution_count": null,
   "metadata": {},
   "outputs": [],
   "source": [
    "RunCompare(hfmInS,variants='ext',check=0.02)"
   ]
  },
  {
   "cell_type": "markdown",
   "metadata": {},
   "source": [
    "## 3. GPU specific options\n",
    "\n",
    "The RunGPU method of the HFM has a number of parameters, usually set to reasonnable defaults. We discuss a few of them below."
   ]
  },
  {
   "cell_type": "markdown",
   "metadata": {},
   "source": [
    "### 3.1 Multiprecision and convergence tolerance\n",
    "\n",
    "**Multiprecision.** In this mode, the solution values are represented as pairs \n",
    "$$\n",
    "    u(x) = u_q(x) \\delta + u_r(x),\n",
    "$$\n",
    "where $u_q(x) \\in Z$ is an integer, $\\delta>0$ is a fixed scale, and $u_r(x) \\in [-\\delta/2,\\delta/2[$.\n",
    "\n",
    "The parameter $\\delta$ is set automatically as the largest power of two (usually a negative power) bounded by $h/10$, where $h$ is the grid scale. The choice of a power of two avoids roundoff errors.\n",
    "\n",
    "<!---\n",
    "Eventually, the result is converted to floating point format. A slightly better accuracy can be obtained by using a double type in this last step.\n",
    "gpuOut = RunGPU({**hfmIn,'values_float64':True})\n",
    "print(\"Max |gpuValues-cpuValues| : \", norm_infinity(gpuOut['values'].get()-cpuOut['values']))\n",
    "--->\n",
    "\n",
    "**Convergence tolerance.** This parameter sets the tolerance for the convergence of the fixed point solver.\n",
    "When setting the convergence tolerance, it is important to keep in mind the *resolution* of the chosen floating point type."
   ]
  },
  {
   "cell_type": "code",
   "execution_count": null,
   "metadata": {},
   "outputs": [],
   "source": [
    "np.finfo(np.float32)"
   ]
  },
  {
   "cell_type": "code",
   "execution_count": null,
   "metadata": {},
   "outputs": [],
   "source": [
    "np.finfo(np.float64)"
   ]
  },
  {
   "cell_type": "markdown",
   "metadata": {},
   "source": [
    "A typical value for tolerance, in *multi-precision* mode is \n",
    "$$\n",
    "    tol=res*h*M,\n",
    "$$\n",
    "where $h$ is the grid scale, $res$ is the resolution of the floating point type, and $M$ is the magnitude of cost function in the case of an isotropic metric, or a related quantity in the anisotropic case.\n",
    "\n",
    "Without multiprecision, the above tolerance value should be multiplied by the grid scale.\n",
    "\n",
    "Caveats:\n",
    "- Choosing an excessively small tolerance, may increase the number of iterations of the solver (especially in multi-precision mode according to our experiments). In fact, the solver may not converge at all.\n",
    "- Choosing a excessively large tolerance may reduce accuracy."
   ]
  },
  {
   "cell_type": "markdown",
   "metadata": {},
   "source": [
    "### 3.2 Block shape and inner iterations"
   ]
  },
  {
   "cell_type": "markdown",
   "metadata": {},
   "source": [
    "The GPU implementation of the fast marching method works by grouping together blocks of grid points, which are updated simultaneously a prescribed number of times. The shape of these blocks ` shape_i`  and number of iterations `niter_i` can be modified, which may affect performance. They are collected in the `traits` input parameter, together with a number of compile time constants and typedefs for the GPU kernel."
   ]
  },
  {
   "cell_type": "code",
   "execution_count": null,
   "metadata": {},
   "outputs": [],
   "source": [
    "gpuOut['keys']['default']['traits']"
   ]
  },
  {
   "cell_type": "markdown",
   "metadata": {},
   "source": [
    "### 3.3 Periodicity\n",
    "\n",
    "Standard periodic boundary conditions may be applied to one or several some axes."
   ]
  },
  {
   "cell_type": "code",
   "execution_count": null,
   "metadata": {},
   "outputs": [],
   "source": [
    "n=48\n",
    "hfmIn = Eikonal.dictIn({\n",
    "    'model':'Isotropic2',\n",
    "    'seed':[0.2,0.4],\n",
    "    'exportValues':1,\n",
    "    'cost':1.,\n",
    "    'verbosity':1,\n",
    "    'periodic':(False,True) # Periodic along second axis\n",
    "})\n",
    "hfmIn.SetRect([[0,1],[0,1]],dimx=n+1,sampleBoundary=False)"
   ]
  },
  {
   "cell_type": "code",
   "execution_count": null,
   "metadata": {},
   "outputs": [],
   "source": [
    "gpuOut = hfmIn.Run()"
   ]
  },
  {
   "cell_type": "code",
   "execution_count": null,
   "metadata": {},
   "outputs": [],
   "source": [
    "X = hfmIn.Grid()\n",
    "plt.title('Periodic solution'); plt.axis('equal')\n",
    "plt.contour(*X,gpuOut['values']); "
   ]
  },
  {
   "cell_type": "markdown",
   "metadata": {},
   "source": [
    "### 3.4 Help and parameter defaults"
   ]
  },
  {
   "cell_type": "markdown",
   "metadata": {},
   "source": [
    "The HFM algorithm sets a number of parameters to (hopefull relevant) default values. \n",
    "Setting a verbosity equal or larger than two will display some of the associated values."
   ]
  },
  {
   "cell_type": "code",
   "execution_count": null,
   "metadata": {},
   "outputs": [],
   "source": [
    "n=200\n",
    "hfmIn = Eikonal.dictIn({\n",
    "    'model':'Isotropic2',\n",
    "    'seed':[0.,0.5],\n",
    "    'exportValues':1,\n",
    "    'cost':1.,\n",
    "    'verbosity':2\n",
    "})\n",
    "hfmIn.SetRect([[0,1],[0,1]],dimx=n+1,sampleBoundary=True)"
   ]
  },
  {
   "cell_type": "code",
   "execution_count": null,
   "metadata": {
    "scrolled": false
   },
   "outputs": [],
   "source": [
    "gpuOut = hfmIn.Run()"
   ]
  },
  {
   "cell_type": "markdown",
   "metadata": {},
   "source": [
    "The default values of the keys and values are provided in the output."
   ]
  },
  {
   "cell_type": "code",
   "execution_count": null,
   "metadata": {},
   "outputs": [],
   "source": [
    "gpuOut['keys']['default']"
   ]
  },
  {
   "cell_type": "markdown",
   "metadata": {},
   "source": [
    "A succint help on the role of each key can be displayed."
   ]
  },
  {
   "cell_type": "code",
   "execution_count": null,
   "metadata": {},
   "outputs": [],
   "source": [
    "gpuOut['keys']['help']"
   ]
  },
  {
   "cell_type": "code",
   "execution_count": null,
   "metadata": {},
   "outputs": [],
   "source": []
  }
 ],
 "metadata": {
  "celltoolbar": "Format de la Cellule Texte Brut",
  "kernelspec": {
   "display_name": "Python 3",
   "language": "python",
   "name": "python3"
  },
  "language_info": {
   "codemirror_mode": {
    "name": "ipython",
    "version": 3
   },
   "file_extension": ".py",
   "mimetype": "text/x-python",
   "name": "python",
   "nbconvert_exporter": "python",
   "pygments_lexer": "ipython3",
   "version": "3.7.6"
  }
 },
 "nbformat": 4,
 "nbformat_minor": 4
}

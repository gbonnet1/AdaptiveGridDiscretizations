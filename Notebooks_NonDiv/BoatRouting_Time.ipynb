{
 "cells": [
  {
   "cell_type": "markdown",
   "metadata": {},
   "source": [
    "# Adaptive PDE discretizations on cartesian grids\n",
    "## Volume : Non-divergence form PDEs\n",
    "## Part : Time dependent optimal control\n",
    "## Chapter : Boat routing, with a quadratic cost\n",
    "\n",
    "\n",
    "In this notebook, we compute the optimal route for a boat under the following assumptions:\n",
    "- The objective is to minimize the fuel consumption, for a prescribed the travel time, or window of travel times.\n",
    "- The boat fuel consumption is locally a quadratic function of its relative velocity, w.r.t. water.\n",
    "- The boat total velocity is the sum of the relative velocity w.r.t water and of a drift due to water currents.\n",
    "\n",
    "**Discussion of the assumptions**\n",
    "\n",
    "The assumptions chosen above lead to a specific numerical implementation, which should be compared with the other notebooks on the [static variant](../Notebooks_FMM/BoatRouting) of the problem, and on the [generic variant](../Notebooks_FMM/BoatRouting) involving a tabulated cost function.\n",
    "- *Time dependency.* The problem considered here is time dependent. However, if time dependency is not a prerequisite for the application, then a much simpler and faster alternative numerical method can be considered, described in the [static problem notebook](../Notebooks_FMM/BoatRouting).\n",
    "- *Quadratic cost.* The boat velocity model can be complexified. In fact, the method described below can handle any convex cost, approximated in a suitable manner. However, determining this cost (which depends on the physical properties of the boat), and approximating it (fitting a convex set with an intersection of ellipsoids), may raise difficulties in itself. An fully generic approach, but more costly, is presented in the [generic cost notebook](BoatRoutingGeneric_Time.ipynb).\n",
    "\n",
    "**Time and space complexity**\n",
    "\n",
    "The numerical approach presented below (time dependent problem) is orders of magnitude slover than the fast marching method discussed in [the static problem notebook](../Notebooks_FMM/BoatRouting.ipynb), and uses orders of magnitude more memory. However, the time dependent method should not be immediately dismissed on this account, since there are unexploited optimization opportunities.\n",
    "- *Time complexity.* The time dependent method is embarassingly parallel, may easily take advantage of GPU computing power, possibly more efficiently than what is done here. \n",
    "- *Space complexity.* Bactracking the minimal paths requires to visit the PDE solution in reverse time. Currently, we keep a complete history of the computations, which has a substantial memory cost. A more reasonable implementation may use keypoints in time, as illustrated in possibly in a recursive manner, and recompute some parts of the solution on the fly as needed."
   ]
  },
  {
   "cell_type": "markdown",
   "metadata": {},
   "source": [
    "[**Summary**](Summary.ipynb) of volume Non-Divergence form PDEs, this series of notebooks.\n",
    "\n",
    "[**Main summary**](../Summary.ipynb) of the Adaptive Grid Discretizations \n",
    "\tbook of notebooks, including the other volumes.\n",
    "\n",
    "# Table of contents\n",
    "  * [1. The model and numerical scheme](#1.-The-model-and-numerical-scheme)\n",
    "    * [1.1 Stability](#1.1-Stability)\n",
    "    * [1.2 Optimized implementation](#1.2-Optimized-implementation)\n",
    "  * [2. Constant medium in space and time](#2.-Constant-medium-in-space-and-time)\n",
    "    * [2.1 Formal checks](#2.1-Formal-checks)\n",
    "    * [2.2 Comparison with an exact solution](#2.2-Comparison-with-an-exact-solution)\n",
    "  * [3. Varying medium in space, constant in time](#3.-Varying-medium-in-space,-constant-in-time)\n",
    "    * [3.1 Calling the eikonal solver](#3.1-Calling-the-eikonal-solver)\n",
    "    * [3.2 Time dependent solver](#3.2-Time-dependent-solver)\n",
    "    * [3.3 Comparison of the results](#3.3-Comparison-of-the-results)\n",
    "  * [4. Extracting the optimal paths](#4.-Extracting-the-optimal-paths)\n",
    "    * [4.1 Numerical computation of the geodesic flow](#4.1-Numerical-computation-of-the-geodesic-flow)\n",
    "    * [4.2 Backtracking the minimal paths](#4.2-Backtracking-the-minimal-paths)\n",
    "  * [5. Varying medium in space and time](#5.-Varying-medium-in-space-and-time)\n",
    "\n",
    "\n",
    "\n",
    "**Acknowledgement.** The experiments presented in these notebooks are part of ongoing research, \n",
    "some of it with PhD student Guillaume Bonnet, in co-direction with Frederic Bonnans.\n",
    "\n",
    "Copyright Jean-Marie Mirebeau, University Paris-Sud, CNRS, University Paris-Saclay"
   ]
  },
  {
   "cell_type": "markdown",
   "metadata": {},
   "source": [
    "## 0. Importing the required libraries"
   ]
  },
  {
   "cell_type": "code",
   "execution_count": 1,
   "metadata": {
    "tags": [
     "cupy_update"
    ]
   },
   "outputs": [],
   "source": [
    "import sys; sys.path.insert(0,\"..\") # Allow import of agd from parent directory (useless if conda package installed)\n",
    "#from Miscellaneous import TocTools; print(TocTools.displayTOC('BoatRouting_Time','NonDiv'))"
   ]
  },
  {
   "cell_type": "code",
   "execution_count": 2,
   "metadata": {},
   "outputs": [],
   "source": [
    "from agd import LinearParallel as lp\n",
    "from agd import FiniteDifferences as fd\n",
    "from agd import Selling\n",
    "from agd import AutomaticDifferentiation as ad\n",
    "from agd import Eikonal\n",
    "from agd.Interpolation import UniformGridInterpolation as interp\n",
    "from agd.ODE.backtrack import odeint_array\n",
    "from agd.Plotting import savefig,quiver; #savefig.dirName = 'Images/BoatRouting'\n",
    "\n",
    "from agd.ExportedCode.Notebooks_FMM import BoatRouting"
   ]
  },
  {
   "cell_type": "code",
   "execution_count": 3,
   "metadata": {},
   "outputs": [],
   "source": [
    "import numpy as np; xp=np; allclose=np.allclose\n",
    "import matplotlib.pyplot as plt"
   ]
  },
  {
   "cell_type": "markdown",
   "metadata": {},
   "source": [
    "Utility functions"
   ]
  },
  {
   "cell_type": "code",
   "execution_count": 4,
   "metadata": {},
   "outputs": [],
   "source": [
    "norm_infinity = ad.Optimization.norm_infinity \n",
    "def norm(x): return ad.Optimization.norm(x,axis=0) # L2 norm on first axis\n",
    "from agd.ExportedCode.Notebooks_NonDiv.LinearMonotoneSchemes2D import streamplot_ij"
   ]
  },
  {
   "cell_type": "code",
   "execution_count": 5,
   "metadata": {},
   "outputs": [],
   "source": [
    "# Equivalently, with Python >= 3.8, from itertools import accumulate\n",
    "from agd.ExportedCode.Notebooks_NonDiv.Time1D_NonDiv import accumulate "
   ]
  },
  {
   "cell_type": "code",
   "execution_count": 6,
   "metadata": {},
   "outputs": [],
   "source": [
    "def ReloadPackages():\n",
    "    from Miscellaneous.rreload import rreload\n",
    "    global lp,fd,Selling,ad,odeint_array\n",
    "    lp,fd,Selling,ad,odeint_array = rreload([lp,fd,Selling,ad,odeint_array],\"../..\")"
   ]
  },
  {
   "cell_type": "markdown",
   "metadata": {},
   "source": [
    "### 0.1 Additional configuration\n",
    "\n",
    "Uncomment the following line to use the GPU eikonal solver.\n",
    "\n",
    "<!---\n",
    "#Eikonal.dictIn.default_mode = 'gpu_transfer' # Alternatively\n",
    "--->"
   ]
  },
  {
   "cell_type": "code",
   "execution_count": 7,
   "metadata": {
    "tags": [
     "EikonalGPU_config"
    ]
   },
   "outputs": [
    {
     "name": "stdout",
     "output_type": "stream",
     "text": [
      "Replacing numpy with cupy, set to output 32bit ints and floats by default.\n",
      "Using cp.asarray(*,dtype=np.float32) as the default caster in ad.array.\n",
      "Returning a copy of module matplotlib.pyplot whose functions accept cupy arrays as input.\n",
      "Setting dictIn.default_mode = 'gpu' in module agd.Eikonal .\n",
      "Returning a copy of function quiver which accepts cupy arrays as input.\n",
      "Setting float32 compatible default values atol=rtol=1e-5 in np.allclose\n"
     ]
    }
   ],
   "source": [
    "#xp,plt,Eikonal,quiver,allclose = map(ad.cupy_friendly,(xp,plt,Eikonal,quiver,allclose))"
   ]
  },
  {
   "cell_type": "markdown",
   "metadata": {},
   "source": [
    "Minimal path backtracking is an inherently sequential operation, so we'll do it on the CPU in any case."
   ]
  },
  {
   "cell_type": "code",
   "execution_count": 8,
   "metadata": {},
   "outputs": [],
   "source": [
    "odeint_array = ad.cupy_generic.cupy_get_args(odeint_array,iterables=(list,))"
   ]
  },
  {
   "cell_type": "markdown",
   "metadata": {},
   "source": [
    "## 1. The model and numerical scheme\n",
    "\n",
    "Our objective is to compute the total fuel consumption $C(x,t)$, needed to reach a point $x$ at time $t$, from initial conditions (discussed below). This cost obeys the Hamilton-Jacobi-Bellman PDE\n",
    "$$\n",
    "    \\partial_t C(t,x) + \\sup_v \\Big( <\\nabla_x C(t,x),v> - c(t,x,v)\\Big) = 0,\n",
    "$$\n",
    "where $c(t,x,v)$ is the instantaneous fuel consumption of a boat moving at velocity $v$, around the point $x$ and at time $t$. As announced, the time independent case $c=c(x,v)$ is best handled by a different set of methods, and is discussed in [another notebook](../Notebooks_FMM/BoatRouting).\n",
    "\n",
    "**Discussion on the cost function.**\n",
    "For simplicity, we consider a quadratic cost, in the form\n",
    "$$\n",
    "    c(t,x,v) = \\mu(t,x) + \\frac 1 2 \\|v-\\omega(t,x)\\|_{M(t,x)}^2,\n",
    "$$\n",
    "where the parameters have the following interpretation:\n",
    "- $\\mu(t,x)$ is the fuel consumption at rest (or any other penalization of time).\n",
    "- $\\omega(t,x)$ is the drift velocity.\n",
    "- $M(t,x)$ is a positive definite tensor describing the domain geometry.\n",
    "\n",
    "The numerical scheme proposed below can in principle be generalized to costs of the form \n",
    "$$\n",
    "    c(t,x,v) = \\sup_{\\lambda\\in \\Lambda} a_\\lambda(t,x) + <b_\\lambda(t,x),v> + \\|v\\|^2_{c_\\lambda(t,x)},\n",
    "$$\n",
    "where $a_\\lambda$, $b_\\lambda$, and $c_\\lambda$ are arbitrary scalar, vector, and symmetric positive matrix. Any cost (with at least quadratic growth at infinity) can be approximated in this form.\n",
    "\n",
    "**Elimination of the supremum in the PDE.**\n",
    "Using the explicit expression of the cost function, we can simplify the HJB equation obeyed by the cost function.\n",
    "In the case of the quadratic cost, we obtain \n",
    "$$\n",
    "    \\partial_t C(t,x) + < \\nabla_x C(t,x),\\omega(t,x)> + \\frac 1 2 \\|\\nabla_x C(t,x)\\|_{M(x)^{-1}}^2 - \\mu(t,x) = 0\n",
    "$$\n",
    "The following expression will be more convenient:\n",
    "$$\n",
    "    \\partial_t C(t,x) + \\frac 1 2 \\|\\nabla_x C(t,x) + \\eta(t,x)\\|_{D(t,x)}^2 = \\nu(t,x),\n",
    "$$\n",
    "where $D(t,x) = M(t,x)^{-1}$, $\\eta(t,x) = M(t,x)\\omega(t,x)$ and $\\nu(t,x) = \\mu(t,x) + \\frac 1 2 \\|\\omega(t,x)\\|_{M(t,x)}^2.$\n",
    "\n",
    "In the case of the general cost, one can also eliminate the sup in the PDE, by interverting a sup and an inf, under suitable assumptions.\n",
    "\n",
    "**Numerical scheme.**\n",
    "We use an explicit scheme, which is monotone under a CFL condition. The key difficulty lies in the discretization of the quadratic first order term, which we do as follows\n",
    "$$\n",
    "    \\|\\nabla C(t,x)+\\eta(t,x)\\|^2_{D(x)} = \\sum_{1 \\leq i \\leq n} \\lambda_i(t,x) \n",
    "    \\max\\Big(0, \\frac{C(t,x)-C(t,x-he_i)}h + <\\eta(t,x),e_i>, \\frac{C(t,x)-C(t,x+he_i)} h - <\\eta(t,x),e_i>\\Big)^2 + O(h).\n",
    "$$\n",
    "We denoted by $(\\lambda_i,e_i)_{i=1}^n$ a decomposition of the tensors\n",
    "$$\n",
    "    D(t,x) = \\sum_{1 \\leq i \\leq n} \\lambda_i(t,x) e_i e_i^T,\n",
    "$$\n",
    "where $\\lambda_i \\geq 0$ and $e_i \\in Z^d$. In practice, we use Selling's decomposition, so that $n=d (d+1)/2$, and more specifically $d=2$ and $n=3$.\n",
    "\n",
    "**Boundary conditions.**\n",
    "We assign an infinite cost to all points outside the domain, a.k.a outflow boundary conditions. In other words, the boat trajectories are constrained to remain within the domain."
   ]
  },
  {
   "cell_type": "code",
   "execution_count": 9,
   "metadata": {},
   "outputs": [],
   "source": [
    "def scheme_params(model_params):\n",
    "    μ,ω,M = fd.common_field(model_params, depths=(0,1,2))    \n",
    "    D = lp.inverse(M)\n",
    "    η = lp.dot_AV(M,ω)\n",
    "    ν = μ + 0.5*lp.dot_VAV(ω,M,ω)\n",
    "    \n",
    "    λ,e = Selling.Decomposition(D)\n",
    "    return (ν,η,D,λ,e)\n",
    "\n",
    "def Scheme0(C,dx,params):\n",
    "    \"\"\"The linear part of the scheme\"\"\"\n",
    "    C,_,η,_,_,e = fd.common_field((C,)+params, depths=(0,0,1,2,1,2))\n",
    "    η = np.expand_dims(η,axis=1)\n",
    "\n",
    "    dCm = -fd.DiffUpwind(C,-e,dx,padding=np.inf) + lp.dot_VV(η,e)\n",
    "    dCp = -fd.DiffUpwind(C, e,dx,padding=np.inf) - lp.dot_VV(η,e)\n",
    "    return dCm,dCp\n",
    "\n",
    "def Scheme(C,dt,params,scheme0=None,dx=None,walls=False):\n",
    "    \"\"\"One time step of the scheme, based on the linear part.\"\"\"\n",
    "    dCm,dCp = Scheme0(C,dx,params) if scheme0 is None else scheme0(C)\n",
    "    C,β,_,_,λ,_ = fd.common_field((C,)+params, depths=(0,0,1,2,1,2))\n",
    "\n",
    "    dCNorm = (λ * np.maximum(0.,np.maximum(dCp,dCm))**2).sum(axis=0)\n",
    "    return np.where(xp.asarray(walls),np.inf, C + dt*(β - 0.5*dCNorm))"
   ]
  },
  {
   "cell_type": "markdown",
   "metadata": {},
   "source": [
    "### 1.1 Stability\n",
    "\n",
    "**CFL stability condition**\n",
    "The numerical scheme is monotone provided the time step obeys $K_0\\delta t < \\delta x$, where $K_0$ depends on the Lipschitz constant of the solution, w.r.t the position $x$, and on the parameters $\\omega$ and $M$. The constant $K_0$ is not hard to derive theoretically, see the function below.\n",
    "\n",
    "**Initialization.** \n",
    "From the modeling standpoint, the fuel consumption would ideally be initialized at $0$ at the seed point, and $+\\infty$ anywhere else. Unfortunately, the considered numerical scheme cannot handle such initial conditions, and will immediately produce NaNs.\n",
    "\n",
    "Instead, we propose an initialization in the following form, assuming the seed point is the origin,\n",
    "$$\n",
    "    C(0,x) = K\\|x\\|.\n",
    "$$\n",
    "If the constant $K$ is chosen large enough, then all optimal paths of interest end up at the origin, and the corresponding fuel consumption is identical to the one corresponding to the ideal initialization.\n",
    "This approach is referred to as *exact penalization*. The adequate value of $K$ is usually found by trial and error. Theoretical bounds exist, but they are typically too pessimistic to be usable in practice.\n",
    "\n",
    "**Stability of the Lipschitz constant**\n",
    "If the initial condition is $K$-Lipschitz, and $K\\geq K_1$ where $K_1$ depends on the parameters $\\omega$ and $M$, then continuous solution remains $K$-Lipschitz at all times. Likewise for the numerical solution provided the time step obeys the CFL condition. \n",
    "Theoretical bounds exist for the constant $K_1$, in terms of the Lipschitz constants of $\\omega$ and $M$. However, they are exponential w.r.t time and typically too pessimistic to be usable in practice. Again, a trial and error approach is preferred."
   ]
  },
  {
   "cell_type": "code",
   "execution_count": 10,
   "metadata": {},
   "outputs": [],
   "source": [
    "def CFL(K,dx,params):\n",
    "    \"\"\"Returns the largest time step dt for which the scheme is monotone.\n",
    "    - K : Lipschitz constant of the solution w.r.t the space variable.\"\"\"\n",
    "    _,η,_,λ,e = params\n",
    "    K_0 = (K+norm(η))*(λ*norm(e)).sum(axis=0)\n",
    "    return dx/np.max(K_0)"
   ]
  },
  {
   "cell_type": "markdown",
   "metadata": {},
   "source": [
    "### 1.2 Optimized implementation\n",
    "\n",
    "We can accelerate the computations by precomputing and saving the sparse linear structure of the linear part of the scheme."
   ]
  },
  {
   "cell_type": "code",
   "execution_count": 11,
   "metadata": {},
   "outputs": [],
   "source": [
    "def MakeScheme0(C_initial,dx,params):\n",
    "    \"\"\"Precompute and save the linear part of the scheme\"\"\"\n",
    "    C_ad = ad.Sparse.identity(constant = np.zeros_like(C_initial))\n",
    "    dCm_func,dCp_func = (e.as_func() for e in Scheme0(C_ad,dx,params))\n",
    "    return lambda C : (dCm_func(C.reshape(-1)),dCp_func(C.reshape(-1)))"
   ]
  },
  {
   "cell_type": "markdown",
   "metadata": {},
   "source": [
    "## 2. Constant medium in space and time\n",
    "\n",
    "We validate the numerical scheme by considering a constant medium, in space and time, for which we know the exact solution."
   ]
  },
  {
   "cell_type": "code",
   "execution_count": 12,
   "metadata": {},
   "outputs": [],
   "source": [
    "# Parameters : unit weight for time, unit horizontal drift, euclidean geometry\n",
    "model_params = (1.,xp.array((1.,0.)),xp.eye(2))\n",
    "params = scheme_params(model_params) \n",
    "\n",
    "# Coordinate system\n",
    "aX,dx = xp.linspace(-1,1,retstep=True)\n",
    "X = np.meshgrid(aX,aX,indexing='ij')\n",
    "\n",
    "# Initial condition\n",
    "K_Lip = 3.\n",
    "C_initial = K_Lip * ad.Optimization.norm(X,axis=0)\n",
    "dt = CFL(K_Lip,dx,params)"
   ]
  },
  {
   "cell_type": "markdown",
   "metadata": {},
   "source": [
    "### 2.1 Formal checks"
   ]
  },
  {
   "cell_type": "markdown",
   "metadata": {},
   "source": [
    "Let us perform some basic checks on the scheme. First, it must preserve positivity."
   ]
  },
  {
   "cell_type": "code",
   "execution_count": 13,
   "metadata": {},
   "outputs": [
    {
     "name": "stdout",
     "output_type": "stream",
     "text": [
      "Smallest and largest value after one step : 0.09168653433420221, 4.235969548918751\n"
     ]
    }
   ],
   "source": [
    "C1 = Scheme(C_initial,dt,params,dx=dx)\n",
    "print(f\"Smallest and largest value after one step : {np.min(C1)}, {np.max(C1)}\")\n",
    "assert np.min(C1)>=0 and np.isfinite(np.max(C1))"
   ]
  },
  {
   "cell_type": "markdown",
   "metadata": {},
   "source": [
    "Second, it is a monotone scheme."
   ]
  },
  {
   "cell_type": "code",
   "execution_count": 14,
   "metadata": {},
   "outputs": [
    {
     "name": "stdout",
     "output_type": "stream",
     "text": [
      "Smallest and largest jacobian coefficient after one step : -0.0, 1.0\n"
     ]
    }
   ],
   "source": [
    "C_initial_ad = ad.Sparse.identity(constant=C_initial)\n",
    "C1_ad = Scheme(C_initial_ad,dt,params,dx=dx)\n",
    "C1_ad.simplify_ad()\n",
    "\n",
    "print(f\"Smallest and largest jacobian coefficient after one step : {np.min(C1_ad.coef)}, {np.max(C1_ad.coef)}\")\n",
    "assert np.min(C1_ad.coef)>=0 and np.isfinite(np.max(C1_ad.coef))"
   ]
  },
  {
   "cell_type": "markdown",
   "metadata": {},
   "source": [
    "Monotony is invalidated if we choose an excessively large time step, not obeying the CFL condition. (Which is not sharp btw.)"
   ]
  },
  {
   "cell_type": "code",
   "execution_count": 15,
   "metadata": {},
   "outputs": [
    {
     "name": "stdout",
     "output_type": "stream",
     "text": [
      "Smallest and largest jacobian coefficient after one step : -0.2996101379394531, 1.0\n"
     ]
    }
   ],
   "source": [
    "C_initial_ad = ad.Sparse.identity(constant=C_initial)\n",
    "C1_ad = Scheme(C_initial_ad,2*dt,params,dx=dx)\n",
    "C1_ad.simplify_ad()\n",
    "print(f\"Smallest and largest jacobian coefficient after one step : {np.min(C1_ad.coef)}, {np.max(C1_ad.coef)}\")"
   ]
  },
  {
   "cell_type": "markdown",
   "metadata": {},
   "source": [
    "Saving the structure of the linear part of the scheme is a simple and efficient way to reduce computation time, altough it is not a game changer in this particular application. "
   ]
  },
  {
   "cell_type": "code",
   "execution_count": 16,
   "metadata": {},
   "outputs": [],
   "source": [
    "scheme0 = MakeScheme0(C_initial,dx,params)\n",
    "for a,b in zip(scheme0(C_initial),Scheme0(C_initial,dx,params)): assert allclose(a,b)"
   ]
  },
  {
   "cell_type": "code",
   "execution_count": 17,
   "metadata": {},
   "outputs": [
    {
     "name": "stdout",
     "output_type": "stream",
     "text": [
      "1.43 ms ± 126 µs per loop (mean ± std. dev. of 7 runs, 20 loops each)\n"
     ]
    }
   ],
   "source": [
    "%%timeit -n 20\n",
    "Scheme(C_initial,dt,params,scheme0); pass"
   ]
  },
  {
   "cell_type": "code",
   "execution_count": 18,
   "metadata": {},
   "outputs": [
    {
     "name": "stdout",
     "output_type": "stream",
     "text": [
      "9.58 ms ± 446 µs per loop (mean ± std. dev. of 7 runs, 20 loops each)\n"
     ]
    }
   ],
   "source": [
    "%%timeit -n 20\n",
    "Scheme(C_initial,dt,params,dx=dx); pass"
   ]
  },
  {
   "cell_type": "markdown",
   "metadata": {},
   "source": [
    "### 2.2 Comparison with an exact solution\n",
    "\n",
    "A formal analysis, led in [another notebook](../Notebooks_FMM/BoatRouting), yields the optimal route in a constant medium in space and time"
   ]
  },
  {
   "cell_type": "code",
   "execution_count": 19,
   "metadata": {},
   "outputs": [],
   "source": [
    "route = BoatRouting.route_min(X,model_params)"
   ]
  },
  {
   "cell_type": "markdown",
   "metadata": {},
   "source": [
    "In particular, we know the time of the longest optimal path."
   ]
  },
  {
   "cell_type": "code",
   "execution_count": 20,
   "metadata": {},
   "outputs": [],
   "source": [
    "t_max = np.max(route['time'])\n",
    "t_max,dt = map(float,(t_max,dt)) # Needed for GPU version\n",
    "t_range = xp.arange(0,t_max+dt,dt)"
   ]
  },
  {
   "cell_type": "code",
   "execution_count": 21,
   "metadata": {},
   "outputs": [
    {
     "name": "stdout",
     "output_type": "stream",
     "text": [
      "Wall time: 307 ms\n"
     ]
    }
   ],
   "source": [
    "%%time\n",
    "C_solution = ad.array(list(accumulate(\n",
    "    t_range[1:],\n",
    "    initial=C_initial, \n",
    "    func=lambda C_t,t: Scheme(C_t,dt,params,scheme0)\n",
    ")))"
   ]
  },
  {
   "cell_type": "code",
   "execution_count": 22,
   "metadata": {},
   "outputs": [],
   "source": [
    "assert allclose(C_solution[0],C_initial) and allclose(C_solution[1],C1)"
   ]
  },
  {
   "cell_type": "code",
   "execution_count": 23,
   "metadata": {},
   "outputs": [
    {
     "data": {
      "image/png": "[encoded data removed]",
      "text/plain": [
       "<Figure size 432x288 with 2 Axes>"
      ]
     },
     "metadata": {
      "needs_background": "light"
     },
     "output_type": "display_data"
    }
   ],
   "source": [
    "C_opt = np.min(C_solution,axis=0); \n",
    "plt.title(\"Minimal fuel consumption\"); plt.axis('equal')\n",
    "plt.contourf(*X,C_opt); plt.colorbar();"
   ]
  },
  {
   "cell_type": "code",
   "execution_count": 24,
   "metadata": {},
   "outputs": [
    {
     "data": {
      "image/png": "[encoded data removed]",
      "text/plain": [
       "<Figure size 432x288 with 2 Axes>"
      ]
     },
     "metadata": {
      "needs_background": "light"
     },
     "output_type": "display_data"
    }
   ],
   "source": [
    "t_opt = t_range[np.argmin(C_solution,axis=0)]\n",
    "plt.title(\"Arrival time for the minimal fuel consumption\"); plt.axis('equal')\n",
    "plt.contourf(*X,t_opt); plt.colorbar();"
   ]
  },
  {
   "cell_type": "markdown",
   "metadata": {},
   "source": [
    "The numerical solution agrees with the exact solution, up to discretization error. Note that the scheme is only first order in space and time."
   ]
  },
  {
   "cell_type": "code",
   "execution_count": 25,
   "metadata": {},
   "outputs": [
    {
     "name": "stdout",
     "output_type": "stream",
     "text": [
      "Error on the optimal cost: 0.20104717891932533, and on the arrival time for the optimal cost: 0.07942051\n"
     ]
    }
   ],
   "source": [
    "C_error = norm_infinity(C_opt-route['cost'])\n",
    "t_error = norm_infinity(t_opt-route['time'])\n",
    "print(f\"Error on the optimal cost: {C_error}, and on the arrival time for the optimal cost: {t_error}\")"
   ]
  },
  {
   "cell_type": "code",
   "execution_count": 26,
   "metadata": {},
   "outputs": [],
   "source": [
    "assert C_error<0.25 and t_error<0.1"
   ]
  },
  {
   "cell_type": "markdown",
   "metadata": {},
   "source": [
    "## 3. Varying medium in space, constant in time\n",
    "\n",
    "We choose a constant medium in time, varying in space, so as to be able to compare our results with the static approach based on the fast marching algorithm. This test case was first introduced in the notebook on the [static variant](../Notebooks_FMM/BoatRouting.ipynb) of the problem, and is also presented in the notebook on the variant involving a [generic cost function](../Notebooks_FMM/BoatRouting.ipynb)."
   ]
  },
  {
   "cell_type": "markdown",
   "metadata": {},
   "source": [
    "### 3.1 Calling the eikonal solver\n",
    "\n",
    "We compute a reference solution based on the fast marching algorithm. The HFM library must be installed for this step to execute."
   ]
  },
  {
   "cell_type": "code",
   "execution_count": 27,
   "metadata": {},
   "outputs": [],
   "source": [
    "hfmIn = Eikonal.dictIn({\n",
    "    'verbosity':0,\n",
    "    'model':'Rander2', # Riemannian + drift, what is needed here\n",
    "    'exportValues':1,\n",
    "    'exportGeodesicFlow':1,\n",
    "    'seeds':[[-1.7,0.6]], # Where to start the front propagation\n",
    "})\n",
    "hfmIn.SetRect([[-2,2],[-1,1]],dimx=200) # Rectangular domain\n",
    "X = hfmIn.Grid() # Coordinate system\n",
    "hfmIn.update({\n",
    "    'tips':hfmIn.Grid(dims=(6,3)).reshape(2,-1).T, # Points from which to backtrack geodesics\n",
    "    'walls':X[1]-np.abs(X[0])>=0, # Obstacles in the domain\n",
    "})"
   ]
  },
  {
   "cell_type": "code",
   "execution_count": 28,
   "metadata": {},
   "outputs": [],
   "source": [
    "Embed_ω = BoatRouting.Currents(*X)\n",
    "Embed_M = BoatRouting.IntrinsicMetric(BoatRouting.Spherical,*X)\n",
    "model_params = (1.,Embed_ω,Embed_M)\n",
    "params = scheme_params(model_params)"
   ]
  },
  {
   "cell_type": "code",
   "execution_count": 29,
   "metadata": {},
   "outputs": [
    {
     "name": "stdout",
     "output_type": "stream",
     "text": [
      "Warning : gpu eikonal solver does not support caching\n",
      "Warning : gpu eikonal solver does not support caching\n"
     ]
    }
   ],
   "source": [
    "arrival_time,hfmOut = BoatRouting.ArrivalTime(hfmIn,model_params)"
   ]
  },
  {
   "cell_type": "markdown",
   "metadata": {},
   "source": [
    "### 3.2 Time dependent solver"
   ]
  },
  {
   "cell_type": "code",
   "execution_count": 30,
   "metadata": {},
   "outputs": [],
   "source": [
    "K_Lip = 3.\n",
    "C_initial = K_Lip * norm(X- fd.as_field(hfmIn['seed'],hfmIn.shape))\n",
    "C_initial[hfmIn['walls']] = np.inf\n",
    "dx = hfmIn['gridScale']\n",
    "dt = CFL(K_Lip,dx,params)\n",
    "\n",
    "t_max = np.nanmax(arrival_time) # Cheating a bit: the latest arrival time is already known\n",
    "dx,t_max,dt = map(float,(dx,t_max,dt)) # needed for GPU version\n",
    "t_range = xp.arange(0,t_max+dt,dt)\n",
    "\n",
    "scheme0 = MakeScheme0(C_initial,dx,params)"
   ]
  },
  {
   "cell_type": "markdown",
   "metadata": {},
   "source": [
    "The solution of the time dependent PDE is more compute intensive that the static one. In addition, it uses a lot of memory; see the notebook on the [generic cost variant](BoatRoutingGeneric_Time.ipynb) for an optimization in this regard."
   ]
  },
  {
   "cell_type": "code",
   "execution_count": 31,
   "metadata": {},
   "outputs": [
    {
     "name": "stdout",
     "output_type": "stream",
     "text": [
      "Wall time: 3.67 s\n"
     ]
    }
   ],
   "source": [
    "%%time\n",
    "C_solution = ad.array(list(accumulate(\n",
    "    t_range[1:],\n",
    "    initial=C_initial, \n",
    "    func=lambda C_t,t: Scheme(C_t,dt,params,scheme0,walls=hfmIn['walls'])\n",
    ")))"
   ]
  },
  {
   "cell_type": "markdown",
   "metadata": {},
   "source": [
    "### 3.3 Comparison of the results\n",
    "\n",
    "The arrival times computed by both methods match fairly well in the average. The largest difference arises where close to the cut-locus. This is not surprising, since the arrival time is discontinuous along a line in this region."
   ]
  },
  {
   "cell_type": "code",
   "execution_count": 32,
   "metadata": {},
   "outputs": [],
   "source": [
    "C_opt = np.min(C_solution,axis=0)\n",
    "t_opt = t_range[np.argmin(C_solution,axis=0)]"
   ]
  },
  {
   "cell_type": "code",
   "execution_count": 33,
   "metadata": {},
   "outputs": [
    {
     "name": "stdout",
     "output_type": "stream",
     "text": [
      "Average absolute difference of the arrival times 0.005607142\n"
     ]
    }
   ],
   "source": [
    "t_diff_avg = np.nanmean(np.abs(t_opt - arrival_time))\n",
    "print(f\"Average absolute difference of the arrival times {t_diff_avg}\")"
   ]
  },
  {
   "cell_type": "code",
   "execution_count": 34,
   "metadata": {},
   "outputs": [],
   "source": [
    "assert t_diff_avg < 0.03"
   ]
  },
  {
   "cell_type": "code",
   "execution_count": 35,
   "metadata": {},
   "outputs": [
    {
     "data": {
      "image/png": "[encoded data removed]",
      "text/plain": [
       "<Figure size 1152x288 with 4 Axes>"
      ]
     },
     "metadata": {
      "needs_background": "light"
     },
     "output_type": "display_data"
    }
   ],
   "source": [
    "plt.figure(figsize=[16,4])\n",
    "\n",
    "plt.subplot(1,2,1); plt.axis('equal')\n",
    "plt.title(\"Optimal arrival times computed by the time dependent method\")\n",
    "plt.contourf(*X,t_opt); plt.colorbar()\n",
    "\n",
    "plt.subplot(1,2,2); plt.axis('equal')\n",
    "plt.title(\"Difference of the computed optimal arrival times\")\n",
    "plt.contourf(*X,t_opt-arrival_time); plt.colorbar();"
   ]
  },
  {
   "cell_type": "markdown",
   "metadata": {},
   "source": [
    "The computed costs agree well, except along the eastern boundary of the excluded region (observation relevant only to the CPU eikonal solver). The difficulty lies in the fact that some minimal paths go tangentially along this eastern boundary.\n",
    "\n",
    "**Note : on CPU/GPU eikonal solvers.**\n",
    "The CPU and GPU eikonal solvers are based on distinct numerical schemes. The scheme used in the GPU case is more similar in nature to the time dependent discretization considered here.\n",
    "\n",
    "<!---\n",
    "The reason, I expect, is that the strong current in the east induces very strong anisotropy in the problem. As a result, the fast-marching method uses rather wide stencils, which decrease its accuracy in this region. (We use FM-ASR, fast-marching using adaptive stencil refinement.) \n",
    "The GPU eikonal solver is based on a different numerical scheme, which may agree better here. (TODO: check)\n",
    "--->"
   ]
  },
  {
   "cell_type": "code",
   "execution_count": 36,
   "metadata": {},
   "outputs": [],
   "source": [
    "walls = hfmIn['walls']\n",
    "C_opt[walls] = np.nan; hfmOut['values'][walls] = np.nan\n",
    "C_diff_avg = np.nanmean(np.abs(C_opt - hfmOut['values']))"
   ]
  },
  {
   "cell_type": "code",
   "execution_count": 37,
   "metadata": {},
   "outputs": [
    {
     "name": "stdout",
     "output_type": "stream",
     "text": [
      "Average difference of cost 0.06426687267812004\n"
     ]
    }
   ],
   "source": [
    "print(f\"Average difference of cost {C_diff_avg}\")"
   ]
  },
  {
   "cell_type": "code",
   "execution_count": 38,
   "metadata": {},
   "outputs": [
    {
     "data": {
      "image/png": "[encoded data removed]",
      "text/plain": [
       "<Figure size 1152x288 with 4 Axes>"
      ]
     },
     "metadata": {
      "needs_background": "light"
     },
     "output_type": "display_data"
    }
   ],
   "source": [
    "plt.figure(figsize=[16,4])\n",
    "\n",
    "plt.subplot(1,2,1); plt.axis('equal')\n",
    "plt.title(\"Minimal costs computed by the time dependent method\")\n",
    "plt.contourf(*X,C_opt); plt.colorbar()\n",
    "\n",
    "plt.subplot(1,2,2); plt.axis('equal')\n",
    "plt.title(\"Difference of the computed minimal costs\")\n",
    "plt.contourf(*X,C_opt-hfmOut['values']); plt.colorbar();"
   ]
  },
  {
   "cell_type": "markdown",
   "metadata": {},
   "source": [
    "## 4. Extracting the optimal paths\n",
    "\n",
    "The velocity $v$ of the boat, along the optimal trajectory at a time $t$ and position $x$, is characterized by the equation\n",
    "$$\n",
    "    \\nabla_x C(t,x) = \\nabla_v c(t,x,v).\n",
    "$$\n",
    "Specializing to the quadratic cost, we obtain \n",
    "$$\n",
    "    \\nabla_x C(t,x) = M(t,x) (v - \\omega(t,x)),\n",
    "$$\n",
    "equivalently, with $D = M^{-1}$ and $\\eta = M \\omega$,\n",
    "$$\n",
    "    v = D(t,x) (\\nabla_x C(t,x) + \\eta(t,x) ).\n",
    "$$\n",
    "We refer to $v=V(t,x)$ as the geodesic flow, although the `geodesic` term only makes sense in the static case, and extract it numerically using the above formula, and a basic first order approximation of the gradient.\n",
    "Once it is known, the optimal trajectories can be backtracked by solving the ODE \n",
    "$$\n",
    "    x'(t) = V(t,x(t)),\n",
    "$$\n",
    "in reverse time, with a prescribed terminal condition $x(t_F) = x_F$."
   ]
  },
  {
   "cell_type": "markdown",
   "metadata": {},
   "source": [
    "### 4.1 Numerical computation of the geodesic flow\n",
    "\n",
    "The finite scheme used to implement HJB equation can be reused, in large part, to compute the flow of the trajectories.\n",
    "More precisely, under suitable smoothness assumptions, one has\n",
    "$$\n",
    "    D(t,x) (\\nabla_x C(t,x) + \\eta(t,x) ) = \\sum_{1 \\leq i \\leq n} \\lambda_i(t,x) \n",
    "    \\max\\Big(0, \\frac{C(t,x)-C(t,x-he_i)}h + <\\eta(t,x),e_i>, \\frac{C(t,x)-C(t,x+he_i)} h - <\\eta(t,x),e_i>\\Big) s_i e_i + O(h).\n",
    "$$\n",
    "where $s_i \\in \\{0,1,-1\\}$ respectively depending the active value in the maximum. This formula immediately follows from the decomposition $D(t,x) = \\sum_{1 \\leq i \\leq n} \\lambda_i(t,x) e_i e_i^T$ of the tensor field $D$. (Note that, if the $i$-th maximum is zero, then the value of $s_i$ may in fact be arbitrary.)\n",
    "\n",
    "\n",
    "<!---\n",
    "The next function is used broadcast the arrays $D$ and $\\eta$ as time and space dependent data. The following one interpolates these fields as well as the cost values, differentiates the cost, and evaluates the flow.\n",
    "\n",
    "**Numerical scheme.**\n",
    "We use an explicit scheme, which is monotone under a CFL condition. The key difficulty lies in the discretization of the quadratic first order term, which we do as follows\n",
    "$$\n",
    "    \\|\\nabla C(t,x)+\\eta(t,x)\\|^2_{D(x)} = \\sum_{1 \\leq i \\leq n} \\lambda_i(t,x) \n",
    "    \\max\\Big(0, \\frac{C(t,x)-C(t,x-he_i)}h + <\\eta(t,x),e_i>, \\frac{C(t,x)-C(t,x+he_i)} h - <\\eta(t,x),e_i>\\Big)^2 + O(h).\n",
    "$$\n",
    "We denoted by $(\\lambda_i,e_i)_{i=1}^n$ a decomposition of the tensors\n",
    "$$\n",
    "    D(t,x) = \\sum_{1 \\leq i \\leq n} \\lambda_i(t,x) e_i e_i^T,\n",
    "$$\n",
    "where $\\lambda_i \\geq 0$ and $e_i \\in Z^d$. In practice, we use Selling's decomposition, so that $n=d (d+1)/2$, and more specifically $d=2$ and $n=3$.\n",
    "--->\n",
    "\n",
    "<!--- Earlier implementation\n",
    "def as_fieldT(array,st,sx,depth):\n",
    "    \"\"\"\n",
    "    Broadcast an array, if needed, as a time dependent field.\n",
    "    st : number of time steps, sx : shape w.r.t x\n",
    "    \"\"\"\n",
    "    s = array.shape[depth:]\n",
    "    vdim = len(sx)\n",
    "    if   len(s)==0:    s = (1,)*(vdim+1)\n",
    "    elif len(s)==1:    s = s+(1,)*vdim\n",
    "    elif len(s)==vdim: s = (1,)+s\n",
    "    r = array.shape[:depth]\n",
    "    return np.broadcast_to(np.reshape(array,r+s),r+(st,)+sx)\n",
    "\n",
    "def flow(T,X,C,η,D):\n",
    "    \"\"\"\n",
    "    Return a callable providing the velocity of the minimal path at each time and position.\n",
    "    η and D expected to be time and space dependent, broadcasted otherwise.\n",
    "    \"\"\"\n",
    "    grid = {'shape':(len(T),)+X.shape[1:], # We do not generate the full grid, to save memory\n",
    "            'origin':(T[0],)+tuple(X[:,0,0]),\n",
    "            'scale':(T[1]-T[0],) + tuple(X[:,1,1]-X[:,0,0]),}\n",
    "    η = as_fieldT(η,len(T),X.shape[1:],depth=1)\n",
    "    D = as_fieldT(D,len(T),X.shape[1:],depth=2)    \n",
    "    C,η,D = (Interpolation.UniformGridInterpolation(grid,e) for e in (C,η,D))\n",
    "    def call(t,x): \n",
    "        t=np.expand_dims(t,axis=0) # for concatenation\n",
    "        tx = np.concatenate((t,x),axis=0)\n",
    "        η_ = η(tx); D_ = D(tx)\n",
    "        x_ad = ad.Dense.identity(constant=x, shape_free=(len(x),))\n",
    "        tx_ad = np.concatenate((t,x_ad),axis=0) # Differentiate value w.r.t x only\n",
    "        C_grad_x = C(tx_ad).gradient()\n",
    "        return lp.dot_AV(D_,C_grad_x + η_)\n",
    "    return call\n",
    "\n",
    "_,η,D,_,_ = params\n",
    "flow_time = flow(t_range,X,C_solution,η,D)\n",
    "flow_opt_time = flow_time(t_opt,X)\n",
    "--->\n",
    "\n"
   ]
  },
  {
   "cell_type": "code",
   "execution_count": 39,
   "metadata": {},
   "outputs": [],
   "source": [
    "def SchemeFlow(C,params,scheme0):\n",
    "    dCm,dCp = scheme0(C)\n",
    "    C,_,_,_,λ,e = fd.common_field((C,)+params, depths=(0,0,1,2,1,2))\n",
    "    \n",
    "    s = dCm >= dCp; s = 2*s-1 \n",
    "    return (λ * np.maximum(0.,np.maximum(dCp,dCm)) * s * e).sum(axis=1)"
   ]
  },
  {
   "cell_type": "markdown",
   "metadata": {},
   "source": [
    "The whole, time-independent flow."
   ]
  },
  {
   "cell_type": "code",
   "execution_count": 40,
   "metadata": {},
   "outputs": [
    {
     "name": "stdout",
     "output_type": "stream",
     "text": [
      "Wall time: 3.07 s\n"
     ]
    }
   ],
   "source": [
    "%%time\n",
    "C_flow = ad.array([SchemeFlow(C,params,scheme0) for C in C_solution])\n",
    "C_flow[:,:,walls] = 0."
   ]
  },
  {
   "cell_type": "markdown",
   "metadata": {},
   "source": [
    "The flow at the optimal arrival time."
   ]
  },
  {
   "cell_type": "code",
   "execution_count": 41,
   "metadata": {},
   "outputs": [],
   "source": [
    "iter_opt = np.argmin(C_solution,axis=0)\n",
    "C_flow_opt = np.squeeze(np.take_along_axis(C_flow,np.broadcast_to(iter_opt,(1,2,*iter_opt.shape) ),axis=0),axis=0)"
   ]
  },
  {
   "cell_type": "markdown",
   "metadata": {},
   "source": [
    "Comparison with the flow computed by the static solver, appropriately scaled."
   ]
  },
  {
   "cell_type": "code",
   "execution_count": 42,
   "metadata": {},
   "outputs": [],
   "source": [
    "route = BoatRouting.route_min(hfmOut['flow'],model_params)\n",
    "C_flow_static = hfmOut['flow']/route['time']"
   ]
  },
  {
   "cell_type": "markdown",
   "metadata": {},
   "source": [
    "The flow computed by the time dependent PDE, and by the static PDE, agree well once the latter is appropriately rescaled. The largest differences are seen at the seed, at the cut-locus (where the flow is discontinuous), and along the right side of the obstacle."
   ]
  },
  {
   "cell_type": "code",
   "execution_count": 43,
   "metadata": {},
   "outputs": [
    {
     "name": "stdout",
     "output_type": "stream",
     "text": [
      "Average norm of difference between the flow at optimal time, and the static flow: 0.022281476207236774\n"
     ]
    }
   ],
   "source": [
    "flow_diff_norm = norm(C_flow_opt-C_flow_static)\n",
    "print(f\"Average norm of difference between the flow at optimal time, and the static flow: {np.nanmean(flow_diff_norm)}\")\n",
    "assert np.nanmean(flow_diff_norm)<0.2"
   ]
  },
  {
   "cell_type": "code",
   "execution_count": 44,
   "metadata": {},
   "outputs": [
    {
     "data": {
      "image/png": "[encoded data removed]",
      "text/plain": [
       "<Figure size 1152x288 with 2 Axes>"
      ]
     },
     "metadata": {
      "needs_background": "light"
     },
     "output_type": "display_data"
    }
   ],
   "source": [
    "plt.figure(figsize=[16,4])\n",
    "\n",
    "plt.subplot(1,2,1); plt.axis('equal')\n",
    "plt.title(\"Time dependent flow, at optimal time\")\n",
    "quiver(*X,*C_flow_opt,subsampling=(10,10))\n",
    "\n",
    "plt.subplot(1,2,2); plt.axis('equal')\n",
    "plt.title(\"Norm of difference between the static and time-optimal flow\")\n",
    "plt.contourf(*X,flow_diff_norm);"
   ]
  },
  {
   "cell_type": "markdown",
   "metadata": {},
   "source": [
    "### 4.2 Backtracking the minimal paths\n",
    "\n",
    "In order to integrate this flow, we need an ODE solver. We use here a two-lines implementation of the Euler midpoint scheme. For practical applications, a faster and more robust ODE solver is definitely needed. (The C++ implementation of the HFM library does not suffer from these flaws.)\n",
    "\n",
    "**Note on computation time.** Currently the geodesic backtracking is quite slow. This is purely an implementation problem, since the actual amount of computation happening is quite small - at least a hundred times smaller in terms of floating point operations than for the computation of the PDE solution. We hope to fix this performance issue at some point.\n",
    "\n",
    "<!--- Former implementation.\n",
    "**Note on the tip of the obstacle.** The backtracked geodesics, from the time dependent PDE, stop when they go past the tip of the obstacle. The solution is indeed non-differentiable at this point, which makes backtracking difficult. Again, a fix is needed.\n",
    "\n",
    "def Euler_midpoint(t,x,V,dt):\n",
    "    \"\"\"One step of the Euler midpoint scheme\"\"\"\n",
    "    tm = t+dt/2.; xm=x+V(t,x)*dt/2. # Midpoint time and position\n",
    "    return x+V(tm,xm)*dt\n",
    "\n",
    "def odesolve(T,x,V,step):\n",
    "    return np.array(list(accumulate(\n",
    "        np.asarray([T[1:],np.diff(T)]).T,\n",
    "        initial=x,\n",
    "        func=lambda x,t_dt : step(t_dt[0],x,V,t_dt[1])\n",
    "    ))).T\n",
    "\n",
    "geodesics = []\n",
    "for x in hfmIn['tips']:\n",
    "    xi,_ = hfmIn.IndexFromPoint(x)\n",
    "    ti = np.argmin(C_solution.__getitem__((slice(None),*xi)))\n",
    "    T = t_range[:ti+1][::-1]\n",
    "    geodesics.append(odesolve(T,x,flow_time,Euler_midpoint))\n",
    "--->\n",
    "\n",
    "<!--- Profiling code.\n",
    "ReloadPackages()\n",
    "\n",
    "x = hfmIn['tips'][0]\n",
    "xi,_ = hfmIn.IndexFromPoint(x)\n",
    "ti = np.argmin(C_solution[tuple(xi)])\n",
    "T = t_range[:ti+1][::-1]\n",
    "\n",
    "import cProfile\n",
    "cProfile.run(\"odesolve(T,x,flow_time,Euler_midpoint)\",'profile_stats')\n",
    "\n",
    "import pstats\n",
    "p = pstats.Stats('profile_stats')\n",
    "p.sort_stats('time').print_stats(20)\n",
    "--->\n",
    "\n"
   ]
  },
  {
   "cell_type": "code",
   "execution_count": 45,
   "metadata": {},
   "outputs": [
    {
     "name": "stdout",
     "output_type": "stream",
     "text": [
      "Wall time: 2.08 s\n"
     ]
    }
   ],
   "source": [
    "%%time\n",
    "y0 = hfmIn['tips'].T\n",
    "best_step = np.argmin(interp(X,C_solution)(y0),axis=0) # Step of the simulation minimizing cost\n",
    "t_delay = len(t_range) - best_step-1 # Account for reversed time\n",
    "geodesics = odeint_array(C_flow[::-1],y0,t_range[::-1],X, t_delay=t_delay, t_substeps=1)"
   ]
  },
  {
   "cell_type": "code",
   "execution_count": 47,
   "metadata": {},
   "outputs": [
    {
     "data": {
      "image/png": "[encoded data removed]",
      "text/plain": [
       "<Figure size 432x288 with 1 Axes>"
      ]
     },
     "metadata": {
      "needs_background": "light"
     },
     "output_type": "display_data"
    }
   ],
   "source": [
    "plt.title(\"Optimal paths, for the optimal arrival time\"); plt.axis('equal')\n",
    "plt.contourf(*X,walls,cmap='Greys')\n",
    "for geo,delay in zip(geodesics.T,t_delay): plt.plot(*geo[:,int(delay):]) # Drop the first points according to delay"
   ]
  },
  {
   "cell_type": "markdown",
   "metadata": {},
   "source": [
    "The minimal paths associated to the time dependent equation, for the optimal stopping time in terms of cost, are also the minimal paths for the static eikonal equation. Numerically, we do observe such a coincidence, up to discretization error."
   ]
  },
  {
   "cell_type": "code",
   "execution_count": 48,
   "metadata": {},
   "outputs": [
    {
     "data": {
      "image/png": "[encoded data removed]",
      "text/plain": [
       "<Figure size 432x288 with 1 Axes>"
      ]
     },
     "metadata": {
      "needs_background": "light"
     },
     "output_type": "display_data"
    }
   ],
   "source": [
    "plt.title(\"Optimal paths, for the static problem\"); plt.axis('equal')\n",
    "plt.contourf(*X,walls,cmap='Greys')\n",
    "for geo in hfmOut['geodesics']: plt.plot(*geo)"
   ]
  },
  {
   "cell_type": "markdown",
   "metadata": {},
   "source": [
    "## 5. Varying medium in space and time\n",
    "\n",
    "The discretization of the time dependent method, presented above, applies with almost no modification to a time dependent vector field $\\omega(t,x)$, and geometry $D(t,x)$. For the time being, we refer to the notebook with on the problem variant with a [generic cost function](BoatRoutingGeneric_Time.ipynb) where such an example is presented."
   ]
  },
  {
   "cell_type": "code",
   "execution_count": null,
   "metadata": {},
   "outputs": [],
   "source": []
  }
 ],
 "metadata": {
  "celltoolbar": "Format de la Cellule Texte Brut",
  "kernelspec": {
   "display_name": "Python 3",
   "language": "python",
   "name": "python3"
  },
  "language_info": {
   "codemirror_mode": {
    "name": "ipython",
    "version": 3
   },
   "file_extension": ".py",
   "mimetype": "text/x-python",
   "name": "python",
   "nbconvert_exporter": "python",
   "pygments_lexer": "ipython3",
   "version": "3.7.6"
  }
 },
 "nbformat": 4,
 "nbformat_minor": 4
}

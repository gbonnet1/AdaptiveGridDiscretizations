{
 "cells": [
  {
   "cell_type": "markdown",
   "metadata": {},
   "source": [
    "***Installing the AdaptiveGridDiscretizations (AGD) library.*** This notebook requires that the AGD library is available on your computer. You may install it using *Anaconda*, using *Pip*, or rely on a *local copy on your computer*. For that purpose, you may uncomment one of the lines in the following cell."
   ]
  },
  {
   "cell_type": "code",
   "execution_count": 1,
   "metadata": {},
   "outputs": [],
   "source": [
    "#!conda install agd -c agd-lbr      # Install the AGD library via Anaconda\n",
    "#!pip install agd                   # Install the AGD library via pip (required on Google Colab)\n",
    "import sys; sys.path.insert(0,\"..\") # Use a copy of the AGD library stored in the parent directory"
   ]
  },
  {
   "cell_type": "markdown",
   "metadata": {},
   "source": [
    "***Installing the HamiltonFastMarching (HFM) library.*** In order to use the *CPU* eikonal solver, `eikonal_mode=\"cpu\"`, the HFM library needs to be available on your computer. For that purpose, you may uncomment one of the lines in the following cell. Nothing needs to be done for the *GPU* eikonal solver, `eikonal_mode=\"gpu\"`, which is included in the AGD library, or to use a local copy."
   ]
  },
  {
   "cell_type": "code",
   "execution_count": 2,
   "metadata": {},
   "outputs": [],
   "source": [
    "## DO NOTHING if eikonal_mode=\"gpu\"\n",
    "## DO NOTHING if the HFM library is compiled from source on your computer\n",
    "#!conda install hfm -c agd-lbr # Install the HFM library via Anaconda"
   ]
  },
  {
   "cell_type": "code",
   "execution_count": null,
   "metadata": {},
   "outputs": [],
   "source": []
  }
 ],
 "metadata": {
  "kernelspec": {
   "display_name": "Python 3",
   "language": "python",
   "name": "python3"
  },
  "language_info": {
   "codemirror_mode": {
    "name": "ipython",
    "version": 3
   },
   "file_extension": ".py",
   "mimetype": "text/x-python",
   "name": "python",
   "nbconvert_exporter": "python",
   "pygments_lexer": "ipython3",
   "version": "3.8.1"
  }
 },
 "nbformat": 4,
 "nbformat_minor": 4
}

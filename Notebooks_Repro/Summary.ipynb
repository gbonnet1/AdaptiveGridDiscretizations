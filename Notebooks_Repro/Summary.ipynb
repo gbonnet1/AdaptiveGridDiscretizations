{
 "cells": [
  {
   "cell_type": "markdown",
   "metadata": {},
   "source": [
    "# Adaptive grid discretizations\n",
    "## A set of tools for discretizing anisotropic PDEs on cartesian grids\n",
    "# Volume : Reproducible research"
   ]
  },
  {
   "cell_type": "markdown",
   "metadata": {},
   "source": [
    "The notebooks presented in this volume have two main goals:\n",
    "* Validating the convergence rates of numerical methods, by e.g. comparison with analytical solutions at several discretizatins. Reproducing the corresponding data and figures found in some publications. These results are provided in the spirit of reproducible research, and they may be regarded as companion material for the corresponding papers.\n",
    "* Validating numerical solvers by comparison with alternative approaches. In particular, comparing the GPU eikonal solver with the CPU eikonal solver, in terms of accuracy and computation time. For sufficiently large instance sizes, and depending on the particular application, accelerations by a factor $20 \\times$ to $200 \\times$ can be obtained on suitable GPUs, which may open up new applications involving e.g. realtime interaction. \n",
    "\n",
    "The notebooks presented in this volume should not be considered as standalone material. We refer to the the other volumes for notebooks which are:\n",
    "* Pedagogical and mathematically introduced. Here the mathematical notions are to be found in the companion paper. \n",
    "* Has reasonable computation times, intended for interactivity and tampering with the parameters. \n",
    "\n",
    "**System requirements.** \n",
    "The *cupy* package is required for the GPU enabled notebooks, as well as a cuda capable GPU."
   ]
  },
  {
   "cell_type": "markdown",
   "metadata": {},
   "source": [
    "**Github repository** to run and modify the examples on your computer.\n",
    "[AdaptiveGridDiscretizations](https://github.com/Mirebeau/AdaptiveGridDiscretizations)\n",
    "\n",
    "\n",
    "# Table of contents\n",
    "[**Main summary**](../Summary.ipynb), including the other volumes of this work. \n",
    "### A. Monotone and second order consistent discretization of the Pucci and Monge-Ampere operators\n",
    "\n",
    " * I. [Implementation and accuracy analysis](PucciMongeAmpere.ipynb)\n",
    "  1. Synthetic solutions and domain\n",
    "  2. Problem data\n",
    "  3. Pucci equation\n",
    "  4. Monge-Ampere"
   ]
  },
  {
   "cell_type": "code",
   "execution_count": 3,
   "metadata": {},
   "outputs": [],
   "source": [
    "#import sys; sys.path.append(\"..\") # Allow imports from parent directory\n",
    "#from Miscellaneous import TocTools; print(TocTools.displayTOCs('Repro'))"
   ]
  }
 ],
 "metadata": {
  "kernelspec": {
   "display_name": "Python 3",
   "language": "python",
   "name": "python3"
  },
  "language_info": {
   "codemirror_mode": {
    "name": "ipython",
    "version": 3
   },
   "file_extension": ".py",
   "mimetype": "text/x-python",
   "name": "python",
   "nbconvert_exporter": "python",
   "pygments_lexer": "ipython3",
   "version": "3.7.6"
  }
 },
 "nbformat": 4,
 "nbformat_minor": 2
}

{
 "cells": [
  {
   "cell_type": "markdown",
   "metadata": {},
   "source": [
    "# Adaptive PDE discretizations on cartesian grids \n",
    "## Volume : GPU accelerated methods\n",
    "## Part : High dimensional problems\n",
    "## Chapter : Minimal paths for a rolling ball"
   ]
  },
  {
   "cell_type": "markdown",
   "metadata": {},
   "source": [
    "In this notebook, we solve the eikonal equation for a family of optimal control models involving balls, whose analytical models are described in a [previous notebook](RollingBall_Models.ipynb). Let us recall that \n",
    "* The state of a ball is determined by three rotation parameters.\n",
    "* The ball may be placed on line, or on a plane, thus adding one or two parameters to the state space.\n",
    "\n",
    "We are thus solving sub-Riemannian models in dimension three to five. Depending on the case, they have sub-Riemannian rank (zero,) one or two."
   ]
  },
  {
   "cell_type": "markdown",
   "metadata": {},
   "source": [
    "## 0. Importing the required libraries"
   ]
  },
  {
   "cell_type": "code",
   "execution_count": 1,
   "metadata": {},
   "outputs": [],
   "source": [
    "import sys; sys.path.insert(0,\"../..\")\n",
    "#from Miscellaneous import TocTools; print(TocTools.displayTOC('Trailers','GPU'))"
   ]
  },
  {
   "cell_type": "code",
   "execution_count": 2,
   "metadata": {
    "tags": [
     "ExportCode"
    ]
   },
   "outputs": [],
   "source": [
    "from agd import Eikonal\n",
    "from agd import AutomaticDifferentiation as ad\n",
    "from agd import Metrics\n",
    "from agd import LinearParallel as lp\n",
    "from agd.Interpolation import map_coordinates"
   ]
  },
  {
   "cell_type": "code",
   "execution_count": 3,
   "metadata": {},
   "outputs": [],
   "source": [
    "from agd.ExportedCode.Notebooks_Algo import RollingBall_Models"
   ]
  },
  {
   "cell_type": "code",
   "execution_count": 4,
   "metadata": {},
   "outputs": [],
   "source": [
    "import numpy as np; xp=np; allclose = np.allclose\n",
    "from matplotlib import pyplot as plt\n",
    "np.set_printoptions(edgeitems=30, linewidth=100000, formatter=dict(float=lambda x: \"%5.3g\" % x))"
   ]
  },
  {
   "cell_type": "code",
   "execution_count": 5,
   "metadata": {},
   "outputs": [],
   "source": [
    "def ReloadPackages():\n",
    "    from Miscellaneous.rreload import rreload\n",
    "    global Eikonal,ad,cugen,allclose\n",
    "    Eikonal,ad,cugen,allclose = rreload([Eikonal,ad,cugen,allclose],\"..\")\n",
    "    Eikonal.dictIn.default_mode = 'gpu'"
   ]
  },
  {
   "cell_type": "markdown",
   "metadata": {},
   "source": [
    "### 0.1 Additional configuration\n",
    "\n",
    "The experiments presented in this notebook require the GPU accelerated solver. \n",
    "(Adapting them for the cpu solver would not be too difficult, although computation times would be longer.)"
   ]
  },
  {
   "cell_type": "code",
   "execution_count": 6,
   "metadata": {},
   "outputs": [],
   "source": [
    "if ad.cupy_generic.cp is None: raise ad.DeliberateNotebookError(\"cupy module not found\")"
   ]
  },
  {
   "cell_type": "code",
   "execution_count": 7,
   "metadata": {},
   "outputs": [
    {
     "name": "stdout",
     "output_type": "stream",
     "text": [
      "Replacing numpy with cupy, set to output 32bit ints and floats by default.\n",
      "Using cp.asarray(*,dtype=np.float32) as the default caster in ad.array.\n",
      "Setting dictIn.default_mode = 'gpu' in module agd.Eikonal .\n",
      "Returning a copy of module matplotlib.pyplot whose functions accept cupy arrays as input.\n",
      "Setting float32 compatible default values atol=rtol=1e-5 in np.allclose\n"
     ]
    }
   ],
   "source": [
    "xp,Eikonal,plt,allclose = [ad.cupy_friendly(e) for e in (xp,Eikonal,plt,allclose)]"
   ]
  },
  {
   "cell_type": "markdown",
   "metadata": {},
   "source": [
    "## 1. Ball models\n",
    "\n",
    "We consider three dimensional Riemannian and sub-Riemannian models, corresponding to a ball whose rotation can be controlled over three axes, or only two of them. "
   ]
  },
  {
   "cell_type": "markdown",
   "metadata": {},
   "source": [
    "### 1.1 Two dimensional projective sphere\n",
    "\n",
    "As a starter, we compute geodesics on the projective plane. In other words the two dimensional sphere whose north and south hemispheres are identified and glued around the equator. \n",
    "\n",
    "**Motivation.** The state of a two dimensional ball is described by a three dimensional rotation, which can be parametrized by the three dimensional projective space, via the quaternionic unit projective sphere."
   ]
  },
  {
   "cell_type": "markdown",
   "metadata": {},
   "source": [
    "**Parametrization of the projective plane.**\n",
    "We parametrize the unit sphere (minus the south pole) from the equator plane, using a standard stereographic projection $R^d \\to S^d \\setminus \\{(-1,0,\\ldots,0)\\}$\n",
    "$$\n",
    "    e \\mapsto \\frac {(1-\\|e\\|^2,2 e)}{1+\\|e\\|^2}\n",
    "$$\n",
    "Thsi is also the approach developed in the rolling balls notebook."
   ]
  },
  {
   "cell_type": "code",
   "execution_count": 8,
   "metadata": {},
   "outputs": [],
   "source": [
    "plane_to_sphere = RollingBall_Models.quaternion_from_euclidean\n",
    "sphere_to_plane = RollingBall_Models.euclidean_from_quaternion"
   ]
  },
  {
   "cell_type": "markdown",
   "metadata": {},
   "source": [
    "The projective plane is obtained by identifying opposite points of the unit sphere. Using our coordinate chart, this amounts to the following glue map."
   ]
  },
  {
   "cell_type": "code",
   "execution_count": 9,
   "metadata": {},
   "outputs": [],
   "source": [
    "def glue(x): \n",
    "    \"\"\"\n",
    "    Glue map for the projective plane, as parameterized from the equator.\n",
    "    (Maps a point to the other point with which it identifies.)\n",
    "    \"\"\"    \n",
    "    return sphere_to_plane( - plane_to_sphere(x))"
   ]
  },
  {
   "cell_type": "code",
   "execution_count": 10,
   "metadata": {},
   "outputs": [
    {
     "name": "stdout",
     "output_type": "stream",
     "text": [
      "Parametrization point (1, 1) identifies with [ -0.5  -0.5]\n",
      "Parametrization point (1, 0) identifies with [   -1    -0]\n",
      "Parametrization point (0, 0) identifies with [  nan   nan]\n"
     ]
    }
   ],
   "source": [
    "for x in [(1,1),(1,0),(0,0)]:\n",
    "    print(f\"Parametrization point {x} identifies with {glue(x)}\")"
   ]
  },
  {
   "cell_type": "markdown",
   "metadata": {},
   "source": [
    "We pull back the metric of the unit ball onto the equator plane."
   ]
  },
  {
   "cell_type": "code",
   "execution_count": 11,
   "metadata": {},
   "outputs": [],
   "source": [
    "def metric(x):\n",
    "    \"\"\"\n",
    "    Pulls back the Euclidean metric on the sphere onto the plane.\n",
    "    \"\"\"\n",
    "    x_ad = ad.Dense.identity(constant=x,shape_free=(len(x),))\n",
    "    Jac = np.moveaxis(plane_to_sphere(x_ad).gradient(),0,1)\n",
    "    return lp.dot_AA(lp.transpose(Jac),Jac)"
   ]
  },
  {
   "cell_type": "code",
   "execution_count": 12,
   "metadata": {},
   "outputs": [
    {
     "data": {
      "text/plain": [
       "array([[0.672,     0],\n",
       "       [    0, 0.672]], dtype=float32)"
      ]
     },
     "execution_count": 12,
     "metadata": {},
     "output_type": "execute_result"
    }
   ],
   "source": [
    "metric([1.2,0])"
   ]
  },
  {
   "cell_type": "markdown",
   "metadata": {},
   "source": [
    "It turns out that this metric is isotropic, a well known property of the stereographic projection. We may thus content ouserlves with a cost function:\n",
    "$$\n",
    "    m(x) = c(x)^2 \\mathrm{Id}.\n",
    "$$\n",
    "The exact value of the conformal cost $c$ associated with the stereographic projection is known explicitly, namely\n",
    "$$\n",
    "    c(x) = \\frac 2 {\\sqrt{1+\\|x\\|^2}},\n",
    "$$\n",
    "but for this computation is not even needed.\n",
    "\n",
    "<!---, and thus it is left as an exercise for the interested reader.--->"
   ]
  },
  {
   "cell_type": "code",
   "execution_count": 13,
   "metadata": {},
   "outputs": [],
   "source": [
    "def cost(x):\n",
    "    \"\"\"\n",
    "    Cost function associated with the conformal metric of the stereographic projection.\n",
    "    \"\"\"\n",
    "    return np.sqrt(metric(x)[0,0]) # Alternatively, use the explicit expression 2/sqrt(1+ |x|^2)"
   ]
  },
  {
   "cell_type": "markdown",
   "metadata": {},
   "source": [
    "We are now prepared to run the fast marching method."
   ]
  },
  {
   "cell_type": "code",
   "execution_count": 14,
   "metadata": {},
   "outputs": [],
   "source": [
    "hfmIn = Eikonal.dictIn({\n",
    "    'model':'Isotropic2',\n",
    "    'seed':[0.5,0.7],\n",
    "    'exportValues':True,\n",
    "    'factoringRadius':10,\n",
    "})\n",
    "r=1.1\n",
    "hfmIn.SetRect([[-r,r],[-r,r]],dimx=101)\n",
    "X = hfmIn.Grid()\n",
    "\n",
    "hfmIn['cost']=cost(X)\n",
    "hfmIn.SetUniformTips((4,4))"
   ]
  },
  {
   "cell_type": "code",
   "execution_count": 15,
   "metadata": {},
   "outputs": [
    {
     "ename": "NameError",
     "evalue": "name '_Chart' is not defined",
     "output_type": "error",
     "traceback": [
      "\u001b[1;31m---------------------------------------------------------------------------\u001b[0m",
      "\u001b[1;31mNameError\u001b[0m                                 Traceback (most recent call last)",
      "\u001b[1;32m<ipython-input-15-9fb6e9fb9246>\u001b[0m in \u001b[0;36m<module>\u001b[1;34m\u001b[0m\n\u001b[1;32m----> 1\u001b[1;33m \u001b[0mhfmOut\u001b[0m \u001b[1;33m=\u001b[0m \u001b[0mhfmIn\u001b[0m\u001b[1;33m.\u001b[0m\u001b[0mRun\u001b[0m\u001b[1;33m(\u001b[0m\u001b[1;33m)\u001b[0m\u001b[1;33m\u001b[0m\u001b[1;33m\u001b[0m\u001b[0m\n\u001b[0m",
      "\u001b[1;32m~\\Documents\\GitHub\\AdaptiveGridDiscretizations\\agd\\Eikonal\\DictIn.py\u001b[0m in \u001b[0;36mRun\u001b[1;34m(self, join, **kwargs)\u001b[0m\n\u001b[0;32m    260\u001b[0m                         \u001b[1;32mreturn\u001b[0m \u001b[0mto_dictOut\u001b[0m\u001b[1;33m(\u001b[0m\u001b[0mrun_detail\u001b[0m\u001b[1;33m.\u001b[0m\u001b[0mRunSmart\u001b[0m\u001b[1;33m(\u001b[0m\u001b[0mcpuIn\u001b[0m\u001b[1;33m,\u001b[0m\u001b[1;33m**\u001b[0m\u001b[0mkwargs\u001b[0m\u001b[1;33m)\u001b[0m\u001b[1;33m)\u001b[0m\u001b[1;33m\u001b[0m\u001b[1;33m\u001b[0m\u001b[0m\n\u001b[0;32m    261\u001b[0m \u001b[1;33m\u001b[0m\u001b[0m\n\u001b[1;32m--> 262\u001b[1;33m                 \u001b[1;32mfrom\u001b[0m \u001b[1;33m.\u001b[0m \u001b[1;32mimport\u001b[0m \u001b[0mHFM_CUDA\u001b[0m\u001b[1;33m\u001b[0m\u001b[1;33m\u001b[0m\u001b[0m\n\u001b[0m\u001b[0;32m    263\u001b[0m                 \u001b[1;32mif\u001b[0m   \u001b[0mself\u001b[0m\u001b[1;33m.\u001b[0m\u001b[0mmode\u001b[0m\u001b[1;33m==\u001b[0m\u001b[1;34m'gpu'\u001b[0m\u001b[1;33m:\u001b[0m \u001b[1;32mreturn\u001b[0m \u001b[0mto_dictOut\u001b[0m\u001b[1;33m(\u001b[0m\u001b[0mHFM_CUDA\u001b[0m\u001b[1;33m.\u001b[0m\u001b[0mRunGPU\u001b[0m\u001b[1;33m(\u001b[0m\u001b[0mself\u001b[0m\u001b[1;33m,\u001b[0m\u001b[1;33m**\u001b[0m\u001b[0mkwargs\u001b[0m\u001b[1;33m)\u001b[0m\u001b[1;33m)\u001b[0m\u001b[1;33m\u001b[0m\u001b[1;33m\u001b[0m\u001b[0m\n\u001b[0;32m    264\u001b[0m                 \u001b[1;32melif\u001b[0m \u001b[0mself\u001b[0m\u001b[1;33m.\u001b[0m\u001b[0mmode\u001b[0m\u001b[1;33m==\u001b[0m\u001b[1;34m'gpu_transfer'\u001b[0m\u001b[1;33m:\u001b[0m\u001b[1;33m\u001b[0m\u001b[1;33m\u001b[0m\u001b[0m\n",
      "\u001b[1;32m~\\Documents\\GitHub\\AdaptiveGridDiscretizations\\agd\\Eikonal\\HFM_CUDA\\__init__.py\u001b[0m in \u001b[0;36m<module>\u001b[1;34m\u001b[0m\n\u001b[0;32m      8\u001b[0m \"\"\"\n\u001b[0;32m      9\u001b[0m \u001b[1;33m\u001b[0m\u001b[0m\n\u001b[1;32m---> 10\u001b[1;33m \u001b[1;32mfrom\u001b[0m \u001b[1;33m.\u001b[0m \u001b[1;32mimport\u001b[0m \u001b[0m_Interface\u001b[0m\u001b[1;33m\u001b[0m\u001b[1;33m\u001b[0m\u001b[0m\n\u001b[0m\u001b[0;32m     11\u001b[0m \u001b[1;33m\u001b[0m\u001b[0m\n\u001b[0;32m     12\u001b[0m \u001b[1;32mdef\u001b[0m \u001b[0mRunGPU\u001b[0m\u001b[1;33m(\u001b[0m\u001b[0mhfmIn\u001b[0m\u001b[1;33m,\u001b[0m\u001b[1;33m*\u001b[0m\u001b[0margs\u001b[0m\u001b[1;33m,\u001b[0m\u001b[0mcache\u001b[0m\u001b[1;33m=\u001b[0m\u001b[1;32mNone\u001b[0m\u001b[1;33m,\u001b[0m\u001b[1;33m**\u001b[0m\u001b[0mkwargs\u001b[0m\u001b[1;33m)\u001b[0m\u001b[1;33m:\u001b[0m\u001b[1;33m\u001b[0m\u001b[1;33m\u001b[0m\u001b[0m\n",
      "\u001b[1;32m~\\Documents\\GitHub\\AdaptiveGridDiscretizations\\agd\\Eikonal\\HFM_CUDA\\_Interface.py\u001b[0m in \u001b[0;36m<module>\u001b[1;34m\u001b[0m\n\u001b[0;32m     19\u001b[0m \u001b[1;32mfrom\u001b[0m \u001b[1;33m...\u001b[0m \u001b[1;32mimport\u001b[0m \u001b[0mLinearParallel\u001b[0m \u001b[1;32mas\u001b[0m \u001b[0mlp\u001b[0m\u001b[1;33m\u001b[0m\u001b[1;33m\u001b[0m\u001b[0m\n\u001b[0;32m     20\u001b[0m \u001b[1;33m\u001b[0m\u001b[0m\n\u001b[1;32m---> 21\u001b[1;33m \u001b[1;32mclass\u001b[0m \u001b[0mInterface\u001b[0m\u001b[1;33m(\u001b[0m\u001b[0mobject\u001b[0m\u001b[1;33m)\u001b[0m\u001b[1;33m:\u001b[0m\u001b[1;33m\u001b[0m\u001b[1;33m\u001b[0m\u001b[0m\n\u001b[0m\u001b[0;32m     22\u001b[0m \t\"\"\"\n\u001b[0;32m     23\u001b[0m         \u001b[0mThis\u001b[0m \u001b[1;32mclass\u001b[0m \u001b[0mcarries\u001b[0m \u001b[0mout\u001b[0m \u001b[0mthe\u001b[0m \u001b[0mRunGPU\u001b[0m \u001b[0mfunction\u001b[0m \u001b[0mwork\u001b[0m\u001b[1;33m.\u001b[0m\u001b[1;33m\u001b[0m\u001b[1;33m\u001b[0m\u001b[0m\n",
      "\u001b[1;32m~\\Documents\\GitHub\\AdaptiveGridDiscretizations\\agd\\Eikonal\\HFM_CUDA\\_Interface.py\u001b[0m in \u001b[0;36mInterface\u001b[1;34m()\u001b[0m\n\u001b[0;32m    129\u001b[0m         \u001b[0mSetKernel\u001b[0m \u001b[1;33m=\u001b[0m \u001b[0m_Kernel\u001b[0m\u001b[1;33m.\u001b[0m\u001b[0mSetKernel\u001b[0m\u001b[1;33m\u001b[0m\u001b[1;33m\u001b[0m\u001b[0m\n\u001b[0;32m    130\u001b[0m         \u001b[0mSolve\u001b[0m \u001b[1;33m=\u001b[0m \u001b[0m_solvers\u001b[0m\u001b[1;33m.\u001b[0m\u001b[0mSolve\u001b[0m\u001b[1;33m\u001b[0m\u001b[1;33m\u001b[0m\u001b[0m\n\u001b[1;32m--> 131\u001b[1;33m         \u001b[0mChartInter\u001b[0m \u001b[1;33m=\u001b[0m \u001b[0m_Chart\u001b[0m\u001b[1;33m.\u001b[0m\u001b[0mChartIter\u001b[0m\u001b[1;33m\u001b[0m\u001b[1;33m\u001b[0m\u001b[0m\n\u001b[0m\u001b[0;32m    132\u001b[0m         \u001b[0mPostProcess\u001b[0m \u001b[1;33m=\u001b[0m \u001b[0m_PostProcess\u001b[0m\u001b[1;33m.\u001b[0m\u001b[0mPostProcess\u001b[0m\u001b[1;33m\u001b[0m\u001b[1;33m\u001b[0m\u001b[0m\n\u001b[0;32m    133\u001b[0m         \u001b[0mSolveAD\u001b[0m \u001b[1;33m=\u001b[0m \u001b[0m_PostProcess\u001b[0m\u001b[1;33m.\u001b[0m\u001b[0mSolveAD\u001b[0m\u001b[1;33m\u001b[0m\u001b[1;33m\u001b[0m\u001b[0m\n",
      "\u001b[1;31mNameError\u001b[0m: name '_Chart' is not defined"
     ]
    }
   ],
   "source": [
    "hfmOut = hfmIn.Run()"
   ]
  },
  {
   "cell_type": "markdown",
   "metadata": {},
   "source": [
    "So far, we havent applied the glue boundary condition. Hence the values and the glued values have no reason to match."
   ]
  },
  {
   "cell_type": "code",
   "execution_count": 16,
   "metadata": {},
   "outputs": [
    {
     "name": "stderr",
     "output_type": "stream",
     "text": [
      "C:\\Users\\Shadow\\Miniconda3\\envs\\agd-hfm_cuda\\lib\\site-packages\\cupyx\\scipy\\ndimage\\interpolation.py:27: UserWarning: In the current feature the default order of map_coordinates is 1. It is different from scipy.ndimage and can change in the future.\n",
      "  'the future.'.format(func_name))\n"
     ]
    },
    {
     "data": {
      "image/png": "[encoded data removed]",
      "text/plain": [
       "<Figure size 1152x504 with 2 Axes>"
      ]
     },
     "metadata": {
      "needs_background": "light"
     },
     "output_type": "display_data"
    }
   ],
   "source": [
    "values = hfmOut['values']\n",
    "glued_values = map_coordinates(values,glue(X),grid=X,cval=np.inf)\n",
    "\n",
    "plt.figure(figsize=(16,7))\n",
    "plt.subplot(1,2,1)\n",
    "plt.title('Values of the solution')\n",
    "plt.contourf(*X,values) \n",
    "plt.axis('equal')\n",
    "\n",
    "plt.subplot(1,2,2)\n",
    "plt.title('Glued values')\n",
    "plt.contourf(*X,glued_values) \n",
    "plt.axis('equal');"
   ]
  },
  {
   "cell_type": "markdown",
   "metadata": {},
   "source": [
    "The following function runs the fast marching method `niter`  times, applying the glue boundary conditions each time. After enough iterations, only two in our case, the solution obeying the precribed boundary conditions is obtained."
   ]
  },
  {
   "cell_type": "code",
   "execution_count": 17,
   "metadata": {},
   "outputs": [],
   "source": [
    "def run_with_glue(hfmIn, glue, niter):\n",
    "    hfmOut = hfmIn.Run() # Initial run\n",
    "\n",
    "    hfmIn = hfmIn.copy() \n",
    "    for key in ['factoringRadius','seed']: hfmIn.pop(key)\n",
    "    X = hfmIn.Grid()\n",
    "    glueX = glue(X)\n",
    "    \n",
    "    for i in range(niter-1):\n",
    "        values = hfmOut['values']\n",
    "        glued_values = map_coordinates(values,glueX,grid=X,cval=np.inf)\n",
    "        hfmIn.update({\n",
    "            'values':np.minimum(values,glued_values), # Initial guess \n",
    "            'trigger':glued_values < values, # Where to start the front\n",
    "        })\n",
    "        if not np.any(hfmIn['trigger']): break\n",
    "        elif hfmIn.get('verbosity',1): print(\"---- Next glue iter ----\")\n",
    "        hfmOut = hfmIn.Run()\n",
    "    return hfmIn,hfmOut"
   ]
  },
  {
   "cell_type": "code",
   "execution_count": 18,
   "metadata": {},
   "outputs": [
    {
     "name": "stdout",
     "output_type": "stream",
     "text": [
      "Setting the kernel traits.\n",
      "Preparing the domain data (shape,metric,...)\n",
      "Preparing the problem rhs (cost, seeds,...)\n",
      "Preparing the GPU kernel\n",
      "Running the eikonal GPU kernel\n",
      "GPU kernel eikonal ran for 0.006475925445556641 seconds, and 10 iterations.\n",
      "Post-Processing\n",
      "---- Next glue iter ----\n",
      "Setting the kernel traits.\n",
      "Preparing the domain data (shape,metric,...)\n",
      "Preparing the problem rhs (cost, seeds,...)\n",
      "Preparing the GPU kernel\n",
      "Running the eikonal GPU kernel\n",
      "GPU kernel eikonal ran for 0.011986970901489258 seconds, and 5 iterations.\n",
      "Post-Processing\n"
     ]
    }
   ],
   "source": [
    "hfmIn_glued,hfmOut = run_with_glue(hfmIn,glue,2)"
   ]
  },
  {
   "cell_type": "code",
   "execution_count": 19,
   "metadata": {},
   "outputs": [
    {
     "data": {
      "image/png": "[encoded data removed]",
      "text/plain": [
       "<Figure size 1152x504 with 2 Axes>"
      ]
     },
     "metadata": {
      "needs_background": "light"
     },
     "output_type": "display_data"
    }
   ],
   "source": [
    "values = hfmOut['values']\n",
    "glued_values = map_coordinates(values,glue(X),grid=X,cval=np.inf)\n",
    "\n",
    "plt.figure(figsize=(16,7))\n",
    "plt.subplot(1,2,1)\n",
    "plt.title('Values of the solution')\n",
    "plt.contourf(*X,values) \n",
    "plt.axis('equal')\n",
    "\n",
    "plt.subplot(1,2,2)\n",
    "plt.title('Glued values')\n",
    "plt.contourf(*X,glued_values) \n",
    "plt.axis('equal');"
   ]
  },
  {
   "cell_type": "markdown",
   "metadata": {},
   "source": [
    "However, we now face an issue regarding the geodesics, which need to be glued as well."
   ]
  },
  {
   "cell_type": "code",
   "execution_count": 20,
   "metadata": {},
   "outputs": [
    {
     "name": "stdout",
     "output_type": "stream",
     "text": [
      "Setting the kernel traits.\n",
      "Preparing the domain data (shape,metric,...)\n",
      "Preparing the problem rhs (cost, seeds,...)\n",
      "Preparing the GPU kernel\n",
      "Running the eikonal GPU kernel\n",
      "GPU kernel eikonal ran for 0.003999471664428711 seconds, and 5 iterations.\n",
      "Post-Processing\n"
     ]
    }
   ],
   "source": [
    "hfmIn_glued.SetUniformTips((4,4))\n",
    "hfmOut = hfmIn_glued.Run()"
   ]
  },
  {
   "cell_type": "markdown",
   "metadata": {},
   "source": [
    "The geodesics should jump according to the gluing map when they leave the reference domain. This is especially important when a geodesic reaches the boundary, in which case it gets erroneous information.\n",
    "\n",
    "* Issue : one geodesic stops early because of the past-seed criterion, because it uses an incorrect seed info. (Trigger instead of actual seed.)"
   ]
  },
  {
   "cell_type": "code",
   "execution_count": 21,
   "metadata": {},
   "outputs": [
    {
     "data": {
      "image/png": "[encoded data removed]",
      "text/plain": [
       "<Figure size 432x288 with 1 Axes>"
      ]
     },
     "metadata": {
      "needs_background": "light"
     },
     "output_type": "display_data"
    }
   ],
   "source": [
    "plt.axis('equal')\n",
    "circle1=plt.Circle((0,0),1.)\n",
    "plt.gcf().gca().add_artist(circle1)\n",
    "for geo in hfmOut['geodesics']: plt.plot(*geo)"
   ]
  },
  {
   "cell_type": "code",
   "execution_count": 31,
   "metadata": {},
   "outputs": [
    {
     "data": {
      "image/png": "[encoded data removed]",
      "text/plain": [
       "<Figure size 432x288 with 1 Axes>"
      ]
     },
     "metadata": {
      "needs_background": "light"
     },
     "output_type": "display_data"
    }
   ],
   "source": [
    "plt.axis('equal')\n",
    "circle1=plt.Circle((0,0),1.,edgecolor='red',color=None)\n",
    "plt.gcf().gca().add_artist(circle1)\n",
    "for geo in hfmOut['geodesics'][2:3]: plt.plot(*geo)"
   ]
  },
  {
   "cell_type": "code",
   "execution_count": 32,
   "metadata": {},
   "outputs": [
    {
     "data": {
      "text/plain": [
       "array([[-0.825, -0.828, -0.83, -0.833, -0.835, -0.838, -0.84, -0.843, -0.845, -0.847, -0.85, -0.852, -0.854, -0.857, -0.859, -0.861, -0.863, -0.865, -0.868, -0.87, -0.872, -0.874, -0.876, -0.878, -0.88, -0.882, -0.884, -0.886, -0.888, -0.889, -0.891, -0.893, -0.895, -0.897, -0.898,  -0.9, -0.902, -0.903, -0.905, -0.907, -0.908, -0.91, -0.911, -0.913, -0.914, -0.915, -0.917, -0.918, -0.92, -0.921, -0.922, -0.923, -0.925, -0.926, -0.927, -0.928, -0.929, -0.93, -0.931, -0.932, -0.933, -0.934, -0.935, -0.936, -0.937, -0.938, -0.939, -0.94, -0.94, -0.941, -0.942, -0.942],\n",
       "       [0.275,  0.27, 0.265, 0.261, 0.256, 0.251, 0.246, 0.241, 0.236, 0.231, 0.226, 0.222, 0.217, 0.212, 0.207, 0.202, 0.197, 0.192, 0.187, 0.182, 0.177, 0.172, 0.167, 0.162, 0.157, 0.151, 0.146, 0.141, 0.136, 0.131, 0.126, 0.121, 0.116,  0.11, 0.105,   0.1, 0.0949, 0.0897, 0.0845, 0.0793, 0.0741, 0.0689, 0.0636, 0.0584, 0.0531, 0.0479, 0.0426, 0.0373, 0.032, 0.0268, 0.0215, 0.0162, 0.0109, 0.00555, 0.000228, -0.0051, -0.0104, -0.0158, -0.0211, -0.0265, -0.0318, -0.0372, -0.0425, -0.0479, -0.0533, -0.0587, -0.064, -0.0694, -0.0748, -0.0802, -0.0856, -0.091]], dtype=float32)"
      ]
     },
     "execution_count": 32,
     "metadata": {},
     "output_type": "execute_result"
    }
   ],
   "source": [
    "hfmOut['geodesics'][2]"
   ]
  },
  {
   "cell_type": "code",
   "execution_count": 22,
   "metadata": {},
   "outputs": [
    {
     "data": {
      "text/plain": [
       "['Stationnary',\n",
       " 'Stationnary',\n",
       " 'PastSeed',\n",
       " 'Stationnary',\n",
       " 'Stationnary',\n",
       " 'Stationnary',\n",
       " 'Stationnary',\n",
       " 'Stationnary',\n",
       " 'Stationnary',\n",
       " 'Stationnary',\n",
       " 'Stationnary',\n",
       " 'Stationnary',\n",
       " 'Stationnary',\n",
       " 'Stationnary',\n",
       " 'Stationnary',\n",
       " 'Stationnary']"
      ]
     },
     "execution_count": 22,
     "metadata": {},
     "output_type": "execute_result"
    }
   ],
   "source": [
    "hfmOut['geodesic_stopping_criteria']"
   ]
  },
  {
   "cell_type": "code",
   "execution_count": 75,
   "metadata": {},
   "outputs": [],
   "source": [
    "def geodesics_with_glue(hfmIn,glue,niter):\n",
    "    hfmIn = hfmIn.copy()\n",
    "    hfmIn['retself']=True\n",
    "    hfmOut,interface = hfmIn.Run()\n",
    "    \n",
    "    hfmOut['keys']['help'].clear()\n",
    "    interface.hfmIn.SetUniformTips((2,10))\n",
    "    interface.GetGeodesics()\n",
    "    return interface.hfmOut"
   ]
  },
  {
   "cell_type": "code",
   "execution_count": 76,
   "metadata": {},
   "outputs": [
    {
     "name": "stdout",
     "output_type": "stream",
     "text": [
      "Setting the kernel traits.\n",
      "Preparing the domain data (shape,metric,...)\n",
      "Preparing the problem rhs (cost, seeds,...)\n",
      "Preparing the GPU kernel\n",
      "Running the eikonal GPU kernel\n",
      "GPU kernel eikonal ran for 0.0035009384155273438 seconds, and 5 iterations.\n",
      "Post-Processing\n"
     ]
    }
   ],
   "source": [
    "hfmOut = geodesics_with_glue(hfmIn_glued,glue,2)"
   ]
  },
  {
   "cell_type": "code",
   "execution_count": 77,
   "metadata": {},
   "outputs": [
    {
     "data": {
      "image/png": "[encoded data removed]",
      "text/plain": [
       "<Figure size 432x288 with 1 Axes>"
      ]
     },
     "metadata": {
      "needs_background": "light"
     },
     "output_type": "display_data"
    }
   ],
   "source": [
    "plt.axis('equal')\n",
    "circle1=plt.Circle((0,0),1.)\n",
    "plt.gcf().gca().add_artist(circle1)\n",
    "for geo in hfmOut['geodesics']: plt.plot(*geo)"
   ]
  },
  {
   "cell_type": "code",
   "execution_count": 54,
   "metadata": {},
   "outputs": [
    {
     "data": {
      "text/plain": [
       "['Stationnary',\n",
       " 'Stationnary',\n",
       " 'PastSeed',\n",
       " 'Stationnary',\n",
       " 'Stationnary',\n",
       " 'Stationnary',\n",
       " 'Stationnary',\n",
       " 'Stationnary',\n",
       " 'Stationnary',\n",
       " 'Stationnary',\n",
       " 'Stationnary',\n",
       " 'Stationnary',\n",
       " 'Stationnary',\n",
       " 'Stationnary',\n",
       " 'Stationnary',\n",
       " 'Stationnary']"
      ]
     },
     "execution_count": 54,
     "metadata": {},
     "output_type": "execute_result"
    }
   ],
   "source": [
    "hfmOut['geodesic_stopping_criteria'] # All rubbish"
   ]
  },
  {
   "cell_type": "code",
   "execution_count": 53,
   "metadata": {},
   "outputs": [
    {
     "data": {
      "text/plain": [
       "dict_keys(['keys', 'geodesics', 'geodesic_stopping_criteria', 'values', 'stats', 'solverGPUTime'])"
      ]
     },
     "execution_count": 53,
     "metadata": {},
     "output_type": "execute_result"
    }
   ],
   "source": [
    "hfmOut.keys()"
   ]
  },
  {
   "cell_type": "markdown",
   "metadata": {},
   "source": [
    "### 1.2 The Riemannian ball"
   ]
  },
  {
   "cell_type": "code",
   "execution_count": null,
   "metadata": {},
   "outputs": [],
   "source": []
  }
 ],
 "metadata": {
  "kernelspec": {
   "display_name": "Python 3",
   "language": "python",
   "name": "python3"
  },
  "language_info": {
   "codemirror_mode": {
    "name": "ipython",
    "version": 3
   },
   "file_extension": ".py",
   "mimetype": "text/x-python",
   "name": "python",
   "nbconvert_exporter": "python",
   "pygments_lexer": "ipython3",
   "version": "3.7.6"
  }
 },
 "nbformat": 4,
 "nbformat_minor": 4
}

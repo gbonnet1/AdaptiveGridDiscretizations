{
 "cells": [
  {
   "cell_type": "markdown",
   "metadata": {},
   "source": [
    "# Adaptive PDE discretizations on cartesian grids \n",
    "## Volume : Reproducible research\n",
    "## Part : Eikonal CPU/GPU solvers comparison\n",
    "## Chapter : Curvature penalized models"
   ]
  },
  {
   "cell_type": "markdown",
   "metadata": {},
   "source": [
    "In this notebook, we run some TTI models (Tilted Transversely Anisotropic), a kind of Finslerian manifold appearing in seismology, on the CPU and GPU, and check that they produce consistent results."
   ]
  },
  {
   "cell_type": "markdown",
   "metadata": {},
   "source": [
    "[**Summary**](Summary.ipynb) of volume Reproducible research, this series of notebooks.\n",
    "\n",
    "[**Main summary**](../Summary.ipynb) of the Adaptive Grid Discretizations \n",
    "\tbook of notebooks, including the other volumes.\n",
    "\n",
    "# Table of contents\n",
    "  * [1. Two dimensions](#1.-Two-dimensions)\n",
    "    * [1.1 Defining a seismic norm, and calling the gpu code](#1.1-Defining-a-seismic-norm,-and-calling-the-gpu-code)\n",
    "    * [1.2 The Riemannian approximation](#1.2-The-Riemannian-approximation)\n",
    "    * [1.3 Comparison with the CPU code](#1.3-Comparison-with-the-CPU-code)\n",
    "  * [2. Three dimensions](#2.-Three-dimensions)\n",
    "\n",
    "\n",
    "\n",
    "**Acknowledgement.** The experiments presented in these notebooks are part of ongoing research, \n",
    "some of it with PhD student Guillaume Bonnet, in co-direction with Frederic Bonnans.\n",
    "\n",
    "Copyright Jean-Marie Mirebeau, University Paris-Sud, CNRS, University Paris-Saclay\n"
   ]
  },
  {
   "cell_type": "markdown",
   "metadata": {},
   "source": [
    "## 0. Importing the required libraries"
   ]
  },
  {
   "cell_type": "code",
   "execution_count": 1,
   "metadata": {},
   "outputs": [],
   "source": [
    "import sys; sys.path.insert(0,\"..\")\n",
    "#from Miscellaneous import TocTools; print(TocTools.displayTOC('Seismic_GPU','Repro'))"
   ]
  },
  {
   "cell_type": "code",
   "execution_count": 2,
   "metadata": {},
   "outputs": [],
   "source": [
    "from agd import AutomaticDifferentiation as ad\n",
    "if ad.cupy_generic.cp is None: raise ad.DeliberateNotebookError('Cupy module required')\n",
    "from agd import Eikonal\n",
    "from agd import Metrics\n",
    "from agd import FiniteDifferences as fd\n",
    "from agd import LinearParallel as lp\n",
    "from agd.Metrics.Seismic import TTI\n",
    "import agd.AutomaticDifferentiation.cupy_generic as cugen\n",
    "\n",
    "norm_infinity = ad.Optimization.norm_infinity\n",
    "from agd.ExportedCode.Notebooks_Repro.Isotropic_GPU import RunCompare"
   ]
  },
  {
   "cell_type": "code",
   "execution_count": 3,
   "metadata": {},
   "outputs": [],
   "source": [
    "import cupy as cp\n",
    "import numpy as np\n",
    "import itertools\n",
    "from matplotlib import pyplot as plt\n",
    "np.set_printoptions(edgeitems=30, linewidth=100000, formatter=dict(float=lambda x: \"%5.3g\" % x))"
   ]
  },
  {
   "cell_type": "code",
   "execution_count": 4,
   "metadata": {},
   "outputs": [],
   "source": [
    "def ReloadPackages():\n",
    "    from Miscellaneous.rreload import rreload\n",
    "    global Eikonal,ad,cugen,Metrics,TTI\n",
    "    Eikonal,ad,cugen,Metrics,TTI = rreload([Eikonal,ad,cugen,Metrics,TTI],\"../..\")    \n",
    "    Eikonal.dictIn.default_mode = 'gpu'"
   ]
  },
  {
   "cell_type": "code",
   "execution_count": 5,
   "metadata": {},
   "outputs": [],
   "source": [
    "cp = ad.functional.decorate_module_functions(cp,cugen.set_output_dtype32) # Use float32 and int32 types in place of float64 and int64\n",
    "plt = ad.functional.decorate_module_functions(plt,cugen.cupy_get_args)\n",
    "Eikonal.dictIn.default_mode = 'gpu'"
   ]
  },
  {
   "cell_type": "markdown",
   "metadata": {},
   "source": [
    "## 0.1 Additional configuration"
   ]
  },
  {
   "cell_type": "code",
   "execution_count": 110,
   "metadata": {},
   "outputs": [],
   "source": [
    "large_instances=False # True favors the GPU code. CPU times may get a bit long"
   ]
  },
  {
   "cell_type": "markdown",
   "metadata": {},
   "source": [
    "## 1. Two dimensions"
   ]
  },
  {
   "cell_type": "markdown",
   "metadata": {},
   "source": [
    "### 1.1 Defining a seismic norm, and calling the gpu code"
   ]
  },
  {
   "cell_type": "code",
   "execution_count": 69,
   "metadata": {},
   "outputs": [],
   "source": [
    "n=1000\n",
    "hfmIn = Eikonal.dictIn({\n",
    "    'model':'TTI2',\n",
    "    'arrayOrdering':'RowMajor',\n",
    "    'exportValues':1,\n",
    "    'seed':[0.,0.],\n",
    "    'factoringRadius':20,\n",
    "    'count_updates':True,\n",
    "#    'traits':{'niter_i':10},'fim_front_width':6, # Optional. Improves GPU time a bit. (40%)\n",
    "    \n",
    "})\n",
    "\n",
    "hfmIn.SetRect(sides=[[-1,1],[-1,1]],dimx=n+1,sampleBoundary=True) # Define the domain\n",
    "X = hfmIn.Grid() # Horizontal and vertical axis\n",
    "\n",
    "lin = cp.array([1.,2.])\n",
    "#quad = xp.zeros((2,2))\n",
    "quad = -cp.array([[0.,0.2],[0.2,0.]])\n",
    "#quad = xp.array([[0.5,0.1],[0.1,-0.2]])\n",
    "metric = TTI(lin,quad,vdim=2).rotate_by(cp.array(0.5)) #Linear and quadratic part\n",
    "hfmIn['metric'] = metric"
   ]
  },
  {
   "cell_type": "code",
   "execution_count": 71,
   "metadata": {},
   "outputs": [
    {
     "name": "stdout",
     "output_type": "stream",
     "text": [
      "Setting the kernel traits.\n",
      "Preparing the domain data (shape,metric,...)\n",
      "Preparing the problem rhs (cost, seeds,...)\n",
      "Preparing the GPU kernel\n",
      "#define Scalar_macro\n",
      "typedef float Scalar;\n",
      "#define Int_macro\n",
      "typedef int Int;\n",
      "#define OffsetT_macro\n",
      "typedef int OffsetT;\n",
      "#define pruning_macro false\n",
      "#define shape_i_macro\n",
      "const int shape_i[2] = {8,8};\n",
      "#define niter_i_macro\n",
      "const int niter_i=10;\n",
      "#define nmix_macro 7\n",
      "#define multiprecision_macro false\n",
      "#define factor_macro true\n",
      "#define ndim_macro 2\n",
      "#define fim_macro true\n",
      "#define geom_indep_macro 2\n",
      "#define import_scheme_macro false\n",
      "#define local_i_macro true\n",
      "#define periodic_macro false\n",
      "#define isotropic_macro false\n",
      "#define walls_macro false\n",
      "const int size_i = 64;\n",
      "const int log2_size_i = 6;\n",
      "#include \"TTI_.h\"\n",
      "// Date cuda code last modified : 1602748496.237121\n",
      "\n",
      "Running the eikonal GPU kernel\n",
      "GPU kernel eikonal ran for 0.41249608993530273 seconds, and 209 iterations.\n",
      "Post-Processing\n"
     ]
    }
   ],
   "source": [
    "hfmOut = hfmIn.Run()"
   ]
  },
  {
   "cell_type": "code",
   "execution_count": 15,
   "metadata": {},
   "outputs": [
    {
     "data": {
      "image/png": "[encoded data removed]",
      "text/plain": [
       "<Figure size 432x288 with 1 Axes>"
      ]
     },
     "metadata": {
      "needs_background": "light"
     },
     "output_type": "display_data"
    }
   ],
   "source": [
    "plt.axis('equal')\n",
    "plt.contour(*X,hfmOut['values']);"
   ]
  },
  {
   "cell_type": "markdown",
   "metadata": {},
   "source": [
    "We are here defining a constant norm over the domain, hence the exact solution can be computed directly for reference."
   ]
  },
  {
   "cell_type": "code",
   "execution_count": 9,
   "metadata": {},
   "outputs": [
    {
     "data": {
      "image/png": "[encoded data removed]",
      "text/plain": [
       "<Figure size 432x288 with 1 Axes>"
      ]
     },
     "metadata": {
      "needs_background": "light"
     },
     "output_type": "display_data"
    }
   ],
   "source": [
    "plt.axis('equal')\n",
    "plt.contour(*X,metric.norm(X));"
   ]
  },
  {
   "cell_type": "markdown",
   "metadata": {},
   "source": [
    "### 1.2 The Riemannian approximation"
   ]
  },
  {
   "cell_type": "code",
   "execution_count": 14,
   "metadata": {},
   "outputs": [
    {
     "name": "stdout",
     "output_type": "stream",
     "text": [
      "Setting the kernel traits.\n",
      "Preparing the domain data (shape,metric,...)\n",
      "Preparing the problem rhs (cost, seeds,...)\n",
      "Preparing the GPU kernel\n",
      "Running the eikonal GPU kernel\n",
      "GPU kernel eikonal ran for 0.13997101783752441 seconds, and 149 iterations.\n",
      "Post-Processing\n"
     ]
    }
   ],
   "source": [
    "riemIn = hfmIn.copy()\n",
    "riemIn['model'] = 'Riemann2'\n",
    "riemIn['metric'] = metric.Riemann_approx() # Metrics.Riemann.from_diagonal(1/lin).rotate_by(cp.array(0.5))\n",
    "riemOut = riemIn.Run()"
   ]
  },
  {
   "cell_type": "markdown",
   "metadata": {},
   "source": [
    "The CPU time for the TTI model is, on large instances, typically 30 times the one of the Riemannian model. This exceeds the expected scaling of $10 \\times$ due to the fact that the TTI norm is expressed as an extremum of 10 riemannian norms. (Some investigation is needed.)"
   ]
  },
  {
   "cell_type": "markdown",
   "metadata": {},
   "source": [
    "The number of block updates is similar."
   ]
  },
  {
   "cell_type": "code",
   "execution_count": 15,
   "metadata": {},
   "outputs": [
    {
     "data": {
      "text/plain": [
       "(array( 13.9), array(   17))"
      ]
     },
     "execution_count": 15,
     "metadata": {},
     "output_type": "execute_result"
    }
   ],
   "source": [
    "np.mean(hfmOut['stats']['eikonal']['nupdate_o']),np.mean(riemOut['stats']['eikonal']['nupdate_o'])"
   ]
  },
  {
   "cell_type": "markdown",
   "metadata": {},
   "source": [
    "The Riemannian approximation is not very far, yet the distinct shape of the level sets is clearly visible."
   ]
  },
  {
   "cell_type": "code",
   "execution_count": 16,
   "metadata": {},
   "outputs": [
    {
     "data": {
      "text/plain": [
       "<matplotlib.contour.QuadContourSet at 0x215042a5048>"
      ]
     },
     "execution_count": 16,
     "metadata": {},
     "output_type": "execute_result"
    },
    {
     "data": {
      "image/png": "[encoded data removed]",
      "text/plain": [
       "<Figure size 432x288 with 1 Axes>"
      ]
     },
     "metadata": {
      "needs_background": "light"
     },
     "output_type": "display_data"
    }
   ],
   "source": [
    "plt.axis('equal')\n",
    "plt.contour(*X,riemOut['values'])"
   ]
  },
  {
   "cell_type": "markdown",
   "metadata": {},
   "source": [
    "### 1.3 Comparison with the CPU code\n",
    "\n",
    "The CPU code implements the operator in a different manner, using a Newton method rather than an exhaustive search to find the optimal ellipse. It agrees quite well with the GPU code, at second order w.r.t. the number of ellipses used."
   ]
  },
  {
   "cell_type": "code",
   "execution_count": 13,
   "metadata": {},
   "outputs": [
    {
     "name": "stdout",
     "output_type": "stream",
     "text": [
      "Setting the kernel traits.\n",
      "Preparing the domain data (shape,metric,...)\n",
      "Preparing the problem rhs (cost, seeds,...)\n",
      "Preparing the GPU kernel\n",
      "Running the eikonal GPU kernel\n",
      "GPU kernel eikonal ran for 0.6184728145599365 seconds, and 139 iterations.\n",
      "Post-Processing\n",
      "--- gpu done, turning to cpu ---\n",
      "Field verbosity defaults to 1\n",
      "Field order defaults to 1\n",
      "Field seedRadius defaults to 2\n",
      "Fast marching solver completed in 14.283 s.\n",
      "***** Warning ! *****\n",
      "Unused fields from user: count_updates \n",
      "********************\n",
      "Solver time (s). GPU : 0.6184728145599365, CPU : 15.482999999999999. Device acceleration : 25.034245055729176\n",
      "Max |gpuValues-cpuValues| :  0.0008317169852170014\n"
     ]
    }
   ],
   "source": [
    "gpuOut,cpuOut = RunCompare(hfmIn,check=1e-3)"
   ]
  },
  {
   "cell_type": "markdown",
   "metadata": {},
   "source": [
    "The number of ellipses used in the envelope of the TTI norm is defined as the following trait.\n",
    "The GPU code can be accelerated by reducing it, at the possible expense of accuracy."
   ]
  },
  {
   "cell_type": "code",
   "execution_count": 14,
   "metadata": {},
   "outputs": [
    {
     "data": {
      "text/plain": [
       "7"
      ]
     },
     "execution_count": 14,
     "metadata": {},
     "output_type": "execute_result"
    }
   ],
   "source": [
    "gpuOut['keys']['default']['traits']['nmix_macro']"
   ]
  },
  {
   "cell_type": "code",
   "execution_count": 15,
   "metadata": {},
   "outputs": [],
   "source": [
    "hfmIn5 = hfmIn.copy(); hfmIn5['traits'] = hfmIn5.get('traits',{}).copy()\n",
    "hfmIn5['traits']['nmix_macro'] = 5 # Use 5 ellipses for the envelope"
   ]
  },
  {
   "cell_type": "code",
   "execution_count": 16,
   "metadata": {},
   "outputs": [
    {
     "name": "stdout",
     "output_type": "stream",
     "text": [
      "Setting the kernel traits.\n",
      "Preparing the domain data (shape,metric,...)\n",
      "Preparing the problem rhs (cost, seeds,...)\n",
      "Preparing the GPU kernel\n",
      "Running the eikonal GPU kernel\n",
      "GPU kernel eikonal ran for 0.42447614669799805 seconds, and 139 iterations.\n",
      "Post-Processing\n"
     ]
    },
    {
     "data": {
      "text/plain": [
       "0.00167503114087042"
      ]
     },
     "execution_count": 16,
     "metadata": {},
     "output_type": "execute_result"
    }
   ],
   "source": [
    "gpuOut5 = hfmIn5.Run()\n",
    "np.max(np.abs(gpuOut5['values'].get() - cpuOut['values']))"
   ]
  },
  {
   "cell_type": "markdown",
   "metadata": {},
   "source": [
    "## 2. Three dimensions"
   ]
  },
  {
   "cell_type": "code",
   "execution_count": 108,
   "metadata": {},
   "outputs": [],
   "source": [
    "n=200 if large_instances else 100\n",
    "hfmIn = Eikonal.dictIn({\n",
    "    'model':'TTI3',\n",
    "    'exportValues':1,\n",
    "    'seed':[0.,0.,0.],\n",
    "    'factoringRadius':20,\n",
    "    'seedRadius':2,\n",
    "#    'traits':{'niter_i':3},'fim_front_width':6, # Optional : improves a bit gpu time when n=200. (25%) \n",
    "})\n",
    "\n",
    "hfmIn.SetRect(sides=[[-1,1],[-1,1],[-1,1] ],dimx=n+1,sampleBoundary=True) # Define the domain\n",
    "X = hfmIn.Grid() \n",
    "\n",
    "metric = TTI(lin,quad,vdim=3).rotate_by(cp.array(0.5),axis=cp.array((1,2,3.)))\n",
    "hfmIn['metric'] = metric"
   ]
  },
  {
   "cell_type": "code",
   "execution_count": 20,
   "metadata": {},
   "outputs": [
    {
     "name": "stdout",
     "output_type": "stream",
     "text": [
      "Setting the kernel traits.\n",
      "Preparing the domain data (shape,metric,...)\n",
      "Preparing the problem rhs (cost, seeds,...)\n",
      "Preparing the GPU kernel\n",
      "Running the eikonal GPU kernel\n",
      "GPU kernel eikonal ran for 0.9624729156494141 seconds, and 48 iterations.\n",
      "Post-Processing\n",
      "--- gpu done, turning to cpu ---\n",
      "Field verbosity defaults to 1\n",
      "Field order defaults to 1\n",
      "Fast marching solver completed in 44.654 s.\n",
      "Solver time (s). GPU : 0.9624729156494141, CPU : 48.091. Device acceleration : 49.966081349469796\n",
      "Max |gpuValues-cpuValues| :  0.005979479891046635\n"
     ]
    }
   ],
   "source": [
    "gpuOut,cpuOut = RunCompare(hfmIn,check=0.008)"
   ]
  },
  {
   "cell_type": "markdown",
   "metadata": {},
   "source": [
    "The CPU and GPU implementations are fairly distinct, using either brute force or a Newton method to solve the local problems.\n",
    "Yet their solutions are extremely close, showing that they do solve the same discrete problem."
   ]
  },
  {
   "cell_type": "code",
   "execution_count": 22,
   "metadata": {},
   "outputs": [
    {
     "data": {
      "text/plain": [
       "(0.005979479891046635, 0.0021988653566339307)"
      ]
     },
     "execution_count": 22,
     "metadata": {},
     "output_type": "execute_result"
    }
   ],
   "source": [
    "error = np.abs(cpuOut['values'] - gpuOut['values'].get())\n",
    "np.max(error), np.mean(error)"
   ]
  },
  {
   "cell_type": "markdown",
   "metadata": {},
   "source": [
    "In particular, they are much closer to one anoher than to the exact solution, which is known in the case of a constant metric."
   ]
  },
  {
   "cell_type": "code",
   "execution_count": 23,
   "metadata": {},
   "outputs": [],
   "source": [
    "exact = metric.norm(X)"
   ]
  },
  {
   "cell_type": "code",
   "execution_count": 24,
   "metadata": {},
   "outputs": [
    {
     "data": {
      "text/plain": [
       "array(0.0155, dtype=float32)"
      ]
     },
     "execution_count": 24,
     "metadata": {},
     "output_type": "execute_result"
    }
   ],
   "source": [
    "np.max(np.abs(exact - gpuOut['values']))"
   ]
  },
  {
   "cell_type": "code",
   "execution_count": 25,
   "metadata": {},
   "outputs": [
    {
     "data": {
      "text/plain": [
       "0.01054677412905658"
      ]
     },
     "execution_count": 25,
     "metadata": {},
     "output_type": "execute_result"
    }
   ],
   "source": [
    "np.max(np.abs(exact.get() - cpuOut['values']))"
   ]
  },
  {
   "cell_type": "code",
   "execution_count": null,
   "metadata": {},
   "outputs": [],
   "source": []
  }
 ],
 "metadata": {
  "kernelspec": {
   "display_name": "Python 3",
   "language": "python",
   "name": "python3"
  },
  "language_info": {
   "codemirror_mode": {
    "name": "ipython",
    "version": 3
   },
   "file_extension": ".py",
   "mimetype": "text/x-python",
   "name": "python",
   "nbconvert_exporter": "python",
   "pygments_lexer": "ipython3",
   "version": "3.7.6"
  }
 },
 "nbformat": 4,
 "nbformat_minor": 4
}

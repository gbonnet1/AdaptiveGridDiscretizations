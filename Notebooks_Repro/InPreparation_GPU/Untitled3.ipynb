{
 "cells": [
  {
   "cell_type": "code",
   "execution_count": 16,
   "metadata": {},
   "outputs": [],
   "source": [
    "import cupy as cp\n",
    "import numpy as np"
   ]
  },
  {
   "cell_type": "code",
   "execution_count": 3,
   "metadata": {},
   "outputs": [],
   "source": [
    "import cupyx"
   ]
  },
  {
   "cell_type": "code",
   "execution_count": 4,
   "metadata": {},
   "outputs": [],
   "source": [
    "import sys; sys.path.insert(0,\"../..\")"
   ]
  },
  {
   "cell_type": "code",
   "execution_count": 5,
   "metadata": {},
   "outputs": [],
   "source": [
    "from agd import AutomaticDifferentiation as ad"
   ]
  },
  {
   "cell_type": "code",
   "execution_count": null,
   "metadata": {},
   "outputs": [],
   "source": [
    "cp.array(1)"
   ]
  },
  {
   "cell_type": "code",
   "execution_count": 12,
   "metadata": {},
   "outputs": [],
   "source": [
    "class myclass:\n",
    "    def __mul__(self,other):\n",
    "        print('hou')\n",
    "    def __rmul__(self,other):\n",
    "        print('hi')"
   ]
  },
  {
   "cell_type": "code",
   "execution_count": 18,
   "metadata": {},
   "outputs": [
    {
     "name": "stdout",
     "output_type": "stream",
     "text": [
      "hi\n"
     ]
    }
   ],
   "source": [
    "np.array(2)*myclass()"
   ]
  },
  {
   "cell_type": "code",
   "execution_count": 19,
   "metadata": {},
   "outputs": [
    {
     "ename": "AttributeError",
     "evalue": "module 'cupyx.scipy' has no attribute 'ndimage'",
     "output_type": "error",
     "traceback": [
      "\u001b[1;31m---------------------------------------------------------------------------\u001b[0m",
      "\u001b[1;31mAttributeError\u001b[0m                            Traceback (most recent call last)",
      "\u001b[1;32m<ipython-input-19-514e9548049e>\u001b[0m in \u001b[0;36m<module>\u001b[1;34m\u001b[0m\n\u001b[1;32m----> 1\u001b[1;33m \u001b[0mcupyx\u001b[0m\u001b[1;33m.\u001b[0m\u001b[0mscipy\u001b[0m\u001b[1;33m.\u001b[0m\u001b[0mndimage\u001b[0m\u001b[1;33m\u001b[0m\u001b[1;33m\u001b[0m\u001b[0m\n\u001b[0m",
      "\u001b[1;31mAttributeError\u001b[0m: module 'cupyx.scipy' has no attribute 'ndimage'"
     ]
    }
   ],
   "source": [
    "cupyx.scipy.ndimage"
   ]
  },
  {
   "cell_type": "code",
   "execution_count": 22,
   "metadata": {},
   "outputs": [
    {
     "data": {
      "text/plain": [
       "dict_keys(['__name__', '__doc__', '__package__', '__loader__', '__spec__', '__path__', '__file__', '__cached__', '__builtins__', 'sys', 'ndarray', 'sparse', 'spmatrix', 'scipy', '_scipy_available', '_cupyx_scipy', 'get_array_module'])"
      ]
     },
     "execution_count": 22,
     "metadata": {},
     "output_type": "execute_result"
    }
   ],
   "source": [
    "cupyx.scipy.__dict__.keys()"
   ]
  },
  {
   "cell_type": "code",
   "execution_count": 23,
   "metadata": {},
   "outputs": [
    {
     "data": {
      "text/plain": [
       "'7.4.0'"
      ]
     },
     "execution_count": 23,
     "metadata": {},
     "output_type": "execute_result"
    }
   ],
   "source": [
    "cupy.__version__"
   ]
  },
  {
   "cell_type": "code",
   "execution_count": 25,
   "metadata": {},
   "outputs": [
    {
     "name": "stdout",
     "output_type": "stream",
     "text": [
      "Help on package cupyx:\n",
      "\n",
      "NAME\n",
      "    cupyx - # \"NOQA\" to suppress flake8 warning\n",
      "\n",
      "PACKAGE CONTENTS\n",
      "    _ufunc_config\n",
      "    fallback_mode (package)\n",
      "    linalg (package)\n",
      "    rsqrt\n",
      "    runtime\n",
      "    scatter\n",
      "    scipy (package)\n",
      "\n",
      "DATA\n",
      "    rsqrt = <ufunc 'cupy_rsqrt'>\n",
      "\n",
      "FILE\n",
      "    c:\\users\\shadow\\miniconda3\\envs\\agd-hfm_dev\\lib\\site-packages\\cupyx\\__init__.py\n",
      "\n",
      "\n"
     ]
    }
   ],
   "source": [
    "help(cupyx)"
   ]
  },
  {
   "cell_type": "code",
   "execution_count": 27,
   "metadata": {},
   "outputs": [
    {
     "data": {
      "text/plain": [
       "dict_keys(['__name__', '__doc__', '__package__', '__loader__', '__spec__', '__path__', '__file__', '__cached__', '__builtins__', 'division', 'functools', 'sys', 'warnings', 'numpy', 'six', '_environment', '_version', 'util', 'cuda', 'core', 'linalg', 'cusparse', 'creation', 'sparse', '_cupyx', 'is_available', '__version__', 'binary', 'cupy', 'fft', 'sorting', 'manipulation', 'indexing', 'io', 'padding', 'random', 'logic', 'statistics', 'testing', 'lib', 'ndarray', 'ufunc', 'e', 'euler_gamma', 'Inf', 'inf', 'Infinity', 'infty', 'NAN', 'NaN', 'nan', 'newaxis', 'NINF', 'NZERO', 'pi', 'PINF', 'PZERO', 'complexfloating', 'floating', 'generic', 'inexact', 'integer', 'number', 'signedinteger', 'unsignedinteger', 'bool_', 'bool8', 'byte', 'short', 'intc', 'int_', 'longlong', 'intp', 'int8', 'int16', 'int32', 'int64', 'ubyte', 'ushort', 'uintc', 'uint', 'ulonglong', 'uintp', 'uint8', 'uint16', 'uint32', 'uint64', 'half', 'single', 'double', 'float_', 'longfloat', 'float16', 'float32', 'float64', 'csingle', 'complex_', 'complex64', 'complex128', 'int', 'bool', 'float', 'complex', 'empty', 'empty_like', 'eye', 'full', 'full_like', 'identity', 'ones', 'ones_like', 'zeros', 'zeros_like', 'copy', 'array', 'asanyarray', 'asarray', 'ascontiguousarray', 'fromfile', 'arange', 'linspace', 'logspace', 'meshgrid', 'mgrid', 'ogrid', 'diag', 'diagflat', 'tri', 'tril', 'triu', 'copyto', 'ravel', 'reshape', 'moveaxis', 'rollaxis', 'swapaxes', 'transpose', 'atleast_1d', 'atleast_2d', 'atleast_3d', 'broadcast', 'broadcast_arrays', 'broadcast_to', 'expand_dims', 'squeeze', 'column_stack', 'concatenate', 'dstack', 'hstack', 'stack', 'vstack', 'asfortranarray', 'array_split', 'dsplit', 'hsplit', 'split', 'vsplit', 'repeat', 'tile', 'unique', 'flip', 'fliplr', 'flipud', 'roll', 'rot90', 'bitwise_and', 'bitwise_or', 'bitwise_xor', 'invert', 'left_shift', 'right_shift', 'packbits', 'unpackbits', 'binary_repr', 'can_cast', 'common_type', 'result_type', 'min_scalar_type', 'obj2sctype', 'promote_types', 'dtype', 'format_parser', 'finfo', 'iinfo', 'MachAr', 'find_common_type', 'issctype', 'issubclass_', 'issubdtype', 'issubsctype', 'mintypecode', 'sctype2char', 'typename', 'c_', 'indices', 'ix_', 'r_', 'unravel_index', 'choose', 'diagonal', 'take', 'take_along_axis', 'place', 'put', 'fill_diagonal', 'load', 'save', 'savez', 'savez_compressed', 'array_repr', 'array_str', 'base_repr', 'einsum', 'cross', 'dot', 'inner', 'kron', 'matmul', 'outer', 'tensordot', 'vdot', 'trace', 'allclose', 'isclose', 'isfinite', 'isinf', 'isnan', 'in1d', 'isin', 'iscomplex', 'iscomplexobj', 'isfortran', 'isreal', 'isrealobj', 'isscalar', 'logical_and', 'logical_not', 'logical_or', 'logical_xor', 'equal', 'greater', 'greater_equal', 'less', 'less_equal', 'not_equal', 'all', 'any', 'math', 'arccos', 'arcsin', 'arctan', 'arctan2', 'cos', 'deg2rad', 'degrees', 'hypot', 'rad2deg', 'radians', 'sin', 'tan', 'unwrap', 'arccosh', 'arcsinh', 'arctanh', 'cosh', 'sinh', 'tanh', 'around', 'ceil', 'fix', 'floor', 'rint', 'round_', 'trunc', 'prod', 'sum', 'cumprod', 'cumsum', 'nansum', 'nanprod', 'diff', 'blackman', 'hamming', 'hanning', 'exp', 'exp2', 'expm1', 'log', 'log10', 'log1p', 'log2', 'logaddexp', 'logaddexp2', 'i0', 'sinc', 'copysign', 'frexp', 'ldexp', 'nextafter', 'signbit', 'add', 'divide', 'divmod', 'floor_divide', 'fmod', 'modf', 'multiply', 'negative', 'power', 'reciprocal', 'remainder', 'mod', 'subtract', 'true_divide', 'angle', 'conj', 'imag', 'real', 'abs', 'absolute', 'cbrt', 'clip', 'fmax', 'fmin', 'maximum', 'minimum', 'nan_to_num', 'sign', 'sqrt', 'square', 'misc', 'may_share_memory', 'shares_memory', 'pad', 'count_nonzero', 'argmax', 'argmin', 'flatnonzero', 'nanargmax', 'nanargmin', 'nonzero', 'searchsorted', 'where', 'argpartition', 'argsort', 'lexsort', 'msort', 'partition', 'sort', 'corrcoef', 'cov', 'amax', 'max', 'amin', 'min', 'nanmax', 'nanmin', 'percentile', 'average', 'mean', 'std', 'var', 'nanmean', 'nanstd', 'nanvar', 'bincount', 'histogram', 'size', 'clear_memo', 'memoize', 'ElementwiseKernel', 'RawKernel', 'RawModule', 'ReductionKernel', 'fromDlpack', 'ext', 'scatter_add', 'asnumpy', '_cupy', 'get_array_module', 'fuse', 'disable_experimental_feature_warning', '_default_memory_pool', '_default_pinned_memory_pool', 'get_default_memory_pool', 'get_default_pinned_memory_pool', 'show_config'])"
      ]
     },
     "execution_count": 27,
     "metadata": {},
     "output_type": "execute_result"
    }
   ],
   "source": [
    "cupy.__dict__.keys()"
   ]
  },
  {
   "cell_type": "code",
   "execution_count": 4,
   "metadata": {},
   "outputs": [],
   "source": [
    "from cupyx import scipy as cupyx_scipy"
   ]
  },
  {
   "cell_type": "code",
   "execution_count": 5,
   "metadata": {},
   "outputs": [
    {
     "ename": "ModuleNotFoundError",
     "evalue": "No module named 'cupyx_scipy'",
     "output_type": "error",
     "traceback": [
      "\u001b[1;31m---------------------------------------------------------------------------\u001b[0m",
      "\u001b[1;31mModuleNotFoundError\u001b[0m                       Traceback (most recent call last)",
      "\u001b[1;32m<ipython-input-5-8a8e7b9a3251>\u001b[0m in \u001b[0;36m<module>\u001b[1;34m\u001b[0m\n\u001b[1;32m----> 1\u001b[1;33m \u001b[1;32mfrom\u001b[0m \u001b[0mcupyx_scipy\u001b[0m \u001b[1;32mimport\u001b[0m \u001b[0mndimage\u001b[0m\u001b[1;33m\u001b[0m\u001b[1;33m\u001b[0m\u001b[0m\n\u001b[0m",
      "\u001b[1;31mModuleNotFoundError\u001b[0m: No module named 'cupyx_scipy'"
     ]
    }
   ],
   "source": [
    "from cupyx_scipy import ndimage"
   ]
  },
  {
   "cell_type": "code",
   "execution_count": 10,
   "metadata": {},
   "outputs": [
    {
     "name": "stdout",
     "output_type": "stream",
     "text": [
      "Help on package cupyx.scipy in cupyx:\n",
      "\n",
      "NAME\n",
      "    cupyx.scipy\n",
      "\n",
      "PACKAGE CONTENTS\n",
      "    fftpack (package)\n",
      "    linalg (package)\n",
      "    ndimage (package)\n",
      "    sparse (package)\n",
      "    special (package)\n",
      "\n",
      "FUNCTIONS\n",
      "    get_array_module(*args)\n",
      "        Returns the array module for arguments.\n",
      "        \n",
      "        This function is used to implement CPU/GPU generic code. If at least one of\n",
      "        the arguments is a :class:`cupy.ndarray` object, the :mod:`cupyx.scipy`\n",
      "        module is returned.\n",
      "        \n",
      "        Args:\n",
      "            args: Values to determine whether NumPy or CuPy should be used.\n",
      "        \n",
      "        Returns:\n",
      "            module: :mod:`cupyx.scipy` or :mod:`scipy` is returned based on the\n",
      "            types of the arguments.\n",
      "\n",
      "FILE\n",
      "    c:\\users\\shadow\\miniconda3\\envs\\gpuenv\\lib\\site-packages\\cupyx\\scipy\\__init__.py\n",
      "\n",
      "\n"
     ]
    }
   ],
   "source": [
    "import cupyx\n",
    "help(cupyx.scipy)"
   ]
  },
  {
   "cell_type": "code",
   "execution_count": 11,
   "metadata": {},
   "outputs": [],
   "source": [
    "from cupyx.scipy import ndimage"
   ]
  },
  {
   "cell_type": "code",
   "execution_count": 31,
   "metadata": {},
   "outputs": [
    {
     "ename": "TypeError",
     "evalue": "convolve() missing 2 required positional arguments: 'input' and 'weights'",
     "output_type": "error",
     "traceback": [
      "\u001b[1;31m---------------------------------------------------------------------------\u001b[0m",
      "\u001b[1;31mTypeError\u001b[0m                                 Traceback (most recent call last)",
      "\u001b[1;32m<ipython-input-31-da557420f07e>\u001b[0m in \u001b[0;36m<module>\u001b[1;34m\u001b[0m\n\u001b[1;32m----> 1\u001b[1;33m \u001b[0mndimage\u001b[0m\u001b[1;33m.\u001b[0m\u001b[0mconvolve\u001b[0m\u001b[1;33m(\u001b[0m\u001b[1;33m)\u001b[0m\u001b[1;33m\u001b[0m\u001b[1;33m\u001b[0m\u001b[0m\n\u001b[0m",
      "\u001b[1;31mTypeError\u001b[0m: convolve() missing 2 required positional arguments: 'input' and 'weights'"
     ]
    }
   ],
   "source": [
    "ndimage.convolve()"
   ]
  },
  {
   "cell_type": "code",
   "execution_count": null,
   "metadata": {},
   "outputs": [],
   "source": []
  }
 ],
 "metadata": {
  "kernelspec": {
   "display_name": "Python 3",
   "language": "python",
   "name": "python3"
  },
  "language_info": {
   "codemirror_mode": {
    "name": "ipython",
    "version": 3
   },
   "file_extension": ".py",
   "mimetype": "text/x-python",
   "name": "python",
   "nbconvert_exporter": "python",
   "pygments_lexer": "ipython3",
   "version": "3.7.6"
  }
 },
 "nbformat": 4,
 "nbformat_minor": 4
}

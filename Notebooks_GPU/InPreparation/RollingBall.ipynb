{
 "cells": [
  {
   "cell_type": "markdown",
   "metadata": {},
   "source": [
    "# Adaptive PDE discretizations on cartesian grids \n",
    "## Volume : GPU accelerated methods\n",
    "## Part : High dimensional problems\n",
    "## Chapter : Minimal path for a rolling ball"
   ]
  },
  {
   "cell_type": "markdown",
   "metadata": {},
   "source": [
    "In this notebook, we present a numerical solution to the rolling ball problem: find the optimal way to roll a ball on a surface, so that it reaches a given position and orientation. The main properties of this problem are as follows:\n",
    "* *High dimensional.* The configuration space of the system is 5 dimensional: three dimensions for the orientation of the ball, and two dimensions for its position on the surface. Arguably, 5 dimensions is (slightly past) the threshold where discretizations on uniform grids loose their relevance.\n",
    "* *Strongly anisotropic* The problem is of sub-Riemannian type, and its anisotropy is fully generic, not aligned with the axes of the discretization grid.\n",
    "\n",
    "The rolling ball problem admits numerous variants. One may for instance roll a ball along a one dimensional line, or on a more complex surface such as another ball."
   ]
  },
  {
   "cell_type": "markdown",
   "metadata": {},
   "source": [
    "## 0. Importing the required libraries"
   ]
  },
  {
   "cell_type": "code",
   "execution_count": 5,
   "metadata": {},
   "outputs": [],
   "source": [
    "import sys; sys.path.insert(0,\"../..\")"
   ]
  },
  {
   "cell_type": "code",
   "execution_count": 278,
   "metadata": {},
   "outputs": [],
   "source": [
    "from agd import AutomaticDifferentiation as ad\n",
    "from agd import LinearParallel as lp\n",
    "from agd import Metrics\n",
    "norm = ad.Optimization.norm"
   ]
  },
  {
   "cell_type": "code",
   "execution_count": 265,
   "metadata": {},
   "outputs": [],
   "source": [
    "import numpy as np; xp=np\n",
    "import scipy.linalg\n",
    "np.set_printoptions(edgeitems=30, linewidth=100000, \n",
    "    formatter=dict(float=lambda x: \"%5.3g\" % x))"
   ]
  },
  {
   "cell_type": "markdown",
   "metadata": {},
   "source": [
    "## 1. Description of the models"
   ]
  },
  {
   "cell_type": "markdown",
   "metadata": {},
   "source": [
    "### 1.1 Conversions"
   ]
  },
  {
   "cell_type": "markdown",
   "metadata": {},
   "source": [
    "**Rotations and unit quaternions**"
   ]
  },
  {
   "cell_type": "code",
   "execution_count": 1,
   "metadata": {},
   "outputs": [],
   "source": [
    "def rotation_from_quaternion(q):\n",
    "    \"\"\"Produces the rotation associated with a unit quaternion.\"\"\"\n",
    "    qr,qi,qj,qk = q\n",
    "    return xp.eye(3) + 2*ad.array([\n",
    "        [-(qj**2+qk**2), qi*qj-qk*qr, qi*qk+qj*qr],\n",
    "        [qi*qj+qk*qr, -(qi**2+qk**2), qj*qk-qi*qr],\n",
    "        [qi*qk-qj*qr, qj*qk+qi*qr, -(qi**2+qj**2)]])\n",
    "def quaternion_from_rotation(r):\n",
    "    \"\"\"Produces the unit quaternion, with positive real part, associated with a rotation.\"\"\"\n",
    "    qr = np.sqrt(lp.trace(r)+1.)/2.\n",
    "    qi = (r[2,1]-r[1,2])/(4*qr)\n",
    "    qj = (r[0,2]-r[2,0])/(4*qr)\n",
    "    qk = (r[1,0]-r[0,1])/(4*qr)\n",
    "    return ad.array([qr,qi,qj,qk])"
   ]
  },
  {
   "cell_type": "markdown",
   "metadata": {},
   "source": [
    "**Euclidean space and quaternions**"
   ]
  },
  {
   "cell_type": "code",
   "execution_count": 116,
   "metadata": {},
   "outputs": [],
   "source": [
    "def quaternion_from_euclidean(e):\n",
    "    \"\"\"Produces a point in the unit sphere by projecting a point in the equator plane.\"\"\"\n",
    "    e2 = lp.dot_VV(e,e)\n",
    "    return ad.array([1.-e2,*(2*e)])/(1.+e2)\n",
    "def euclidean_from_quaternion(q):\n",
    "    \"\"\"Produces a point in the equator plane from a point in the unit sphere.\"\"\"\n",
    "    e2 = (1-q[0])/(1+q[0])\n",
    "    return q[1:]*((1+e2)/2.)"
   ]
  },
  {
   "cell_type": "code",
   "execution_count": 117,
   "metadata": {},
   "outputs": [],
   "source": [
    "def euclidean_from_rotation(r): return euclidean_from_quaternion(quaternion_from_rotation(r))\n",
    "def rotation_from_euclidean(e): return rotation_from_quaternion(quaternion_from_euclidean(e))"
   ]
  },
  {
   "cell_type": "code",
   "execution_count": 118,
   "metadata": {},
   "outputs": [],
   "source": [
    "def check(e):\n",
    "    q  = quaternion_from_euclidean(e)\n",
    "    r  = rotation_from_quaternion(q)\n",
    "    q_ = quaternion_from_rotation(r)\n",
    "    e_ = euclidean_from_quaternion(q_)\n",
    "    assert np.allclose( norm(q,axis=0), 1.)\n",
    "    assert np.allclose(lp.dot_AA(lp.transpose(r),r),np.eye(3))\n",
    "    if norm(e,axis=0)<1: \n",
    "        assert np.allclose(q,q_)\n",
    "        assert np.allclose(e,e_)"
   ]
  },
  {
   "cell_type": "code",
   "execution_count": 119,
   "metadata": {},
   "outputs": [],
   "source": [
    "check(np.array([1.,2.,3.]))"
   ]
  },
  {
   "cell_type": "markdown",
   "metadata": {},
   "source": [
    "**Antisymmetric matrices and their exponentials**"
   ]
  },
  {
   "cell_type": "code",
   "execution_count": 120,
   "metadata": {},
   "outputs": [],
   "source": [
    "def antisym(a,b,c):\n",
    "    return ad.array([[0, -c, b], [c, 0, -a], [-b, a, 0]])\n",
    "def exp_antisym(a,b,c):\n",
    "    \"\"\"Matrix exponential of antisym(a,b,c)\"\"\"\n",
    "    s = ad.asarray(a**2+b**2+c**2)\n",
    "    s[s==0]=1e-20 # Same trick as in numpy's sinc function ...\n",
    "    sq = np.sqrt(s)\n",
    "    co,si = np.cos(sq),np.sin(sq)\n",
    "    cosc,sinc = (1-co)/s,si/sq    \n",
    "    return ad.array([\n",
    "        [co+cosc*a**2, cosc*a*b-sinc*c, cosc*a*c+sinc*b],\n",
    "        [cosc*a*b+sinc*c, co+cosc*b**2, cosc*b*c-sinc*a],\n",
    "        [cosc*a*c-sinc*b, cosc*b*c+sinc*a, co+cosc*c**2]])"
   ]
  },
  {
   "cell_type": "code",
   "execution_count": 121,
   "metadata": {},
   "outputs": [],
   "source": [
    "assert np.allclose(exp_antisym(1,2,3),scipy.linalg.expm(antisym(1,2,3)))"
   ]
  },
  {
   "cell_type": "code",
   "execution_count": 122,
   "metadata": {},
   "outputs": [
    {
     "data": {
      "text/plain": [
       "(array([[-0.69492056,  0.71352099,  0.08929286],\n",
       "        [-0.19200697, -0.30378504,  0.93319235],\n",
       "        [ 0.69297817,  0.6313497 ,  0.34810748]]),\n",
       " array([[-0.69492056,  0.71352099,  0.08929286],\n",
       "        [-0.19200697, -0.30378504,  0.93319235],\n",
       "        [ 0.69297817,  0.6313497 ,  0.34810748]]))"
      ]
     },
     "execution_count": 122,
     "metadata": {},
     "output_type": "execute_result"
    }
   ],
   "source": [
    "exp_antisym(1,2,3),scipy.linalg.expm(antisym(1,2,3))"
   ]
  },
  {
   "cell_type": "markdown",
   "metadata": {},
   "source": [
    "### 1.2 Action of a control on a state\n",
    "\n",
    "In this notebook, controls are antisymmetric matrices described by their coordinates in $R^3$. They act additively on the physical state, and multiplicatively (through their exponential) on the angular state."
   ]
  },
  {
   "cell_type": "code",
   "execution_count": 183,
   "metadata": {},
   "outputs": [],
   "source": [
    "def advance(state,control):\n",
    "    state,control = map(ad.asarray,(state,control))\n",
    "    state_physical = state[:-3]\n",
    "    state_physical = state_physical + 0.25*control[:len(state_physical)] # Additive action on the physical state\n",
    "    \n",
    "    state_angular = rotation_from_euclidean(state[-3:])\n",
    "    state_angular = lp.dot_AA(state_angular,exp_antisym(*control)) # Left invariant action\n",
    "    \n",
    "    return np.concatenate([state_physical,euclidean_from_rotation(state_angular)],axis=0)"
   ]
  },
  {
   "cell_type": "markdown",
   "metadata": {},
   "source": [
    "Close to the origin, the three controls act independently on each coordinate of the euclidean parametrization of the sphere."
   ]
  },
  {
   "cell_type": "code",
   "execution_count": 184,
   "metadata": {},
   "outputs": [
    {
     "data": {
      "text/plain": [
       "denseAD(array([0., 0., 0.]),\n",
       "array([[0.25],\n",
       "       [0.  ],\n",
       "       [0.  ]]))"
      ]
     },
     "execution_count": 184,
     "metadata": {},
     "output_type": "execute_result"
    }
   ],
   "source": [
    "δ = ad.Dense.identity(constant=0.)\n",
    "advance([0,0,0],[δ,0,0])"
   ]
  },
  {
   "cell_type": "code",
   "execution_count": 185,
   "metadata": {},
   "outputs": [
    {
     "data": {
      "text/plain": [
       "denseAD(array([0., 0., 0.]),\n",
       "array([[0.  ],\n",
       "       [0.25],\n",
       "       [0.  ]]))"
      ]
     },
     "execution_count": 185,
     "metadata": {},
     "output_type": "execute_result"
    }
   ],
   "source": [
    "advance([0,0,0],[0,δ,0])"
   ]
  },
  {
   "cell_type": "code",
   "execution_count": 186,
   "metadata": {},
   "outputs": [
    {
     "data": {
      "text/plain": [
       "denseAD(array([0., 0., 0.]),\n",
       "array([[0.  ],\n",
       "       [0.  ],\n",
       "       [0.25]]))"
      ]
     },
     "execution_count": 186,
     "metadata": {},
     "output_type": "execute_result"
    }
   ],
   "source": [
    "advance([0,0,0],[0,0,δ])"
   ]
  },
  {
   "cell_type": "markdown",
   "metadata": {},
   "source": [
    "They also act independently on the plane or line parametrization, if present."
   ]
  },
  {
   "cell_type": "code",
   "execution_count": 187,
   "metadata": {},
   "outputs": [
    {
     "data": {
      "text/plain": [
       "denseAD(array([0., 0., 0., 0., 0.]),\n",
       "array([[0.25],\n",
       "       [0.  ],\n",
       "       [0.25],\n",
       "       [0.  ],\n",
       "       [0.  ]]))"
      ]
     },
     "execution_count": 187,
     "metadata": {},
     "output_type": "execute_result"
    }
   ],
   "source": [
    "advance([0,0,0,0,0],[δ,0,0])"
   ]
  },
  {
   "cell_type": "code",
   "execution_count": 188,
   "metadata": {},
   "outputs": [
    {
     "data": {
      "text/plain": [
       "denseAD(array([0., 0., 0., 0., 0.]),\n",
       "array([[0.  ],\n",
       "       [0.25],\n",
       "       [0.  ],\n",
       "       [0.25],\n",
       "       [0.  ]]))"
      ]
     },
     "execution_count": 188,
     "metadata": {},
     "output_type": "execute_result"
    }
   ],
   "source": [
    "advance([0,0,0,0,0],[0,δ,0])"
   ]
  },
  {
   "cell_type": "markdown",
   "metadata": {},
   "source": [
    "More complex motions, known as commutators, are needed to control the sphere and the plane independently, or to control the sphere using only two of the three availabel controls."
   ]
  },
  {
   "cell_type": "markdown",
   "metadata": {},
   "source": [
    "### 1.3 Commutators"
   ]
  },
  {
   "cell_type": "code",
   "execution_count": 189,
   "metadata": {},
   "outputs": [],
   "source": [
    "def commute(state,control1,control2):\n",
    "    state,control1,control2 = map(ad.asarray,(state,control1,control2))\n",
    "    state = advance(state, control1)\n",
    "    state = advance(state, control2)\n",
    "    state = advance(state,-control1)\n",
    "    state = advance(state,-control2)\n",
    "    return state "
   ]
  },
  {
   "cell_type": "markdown",
   "metadata": {},
   "source": [
    "On the sphere, the commutator of the first two controls is the third control. This allows to bring the sphere from any state to any other state using only two controls, albeit rather inefficiently since the motion along the third control generated by a commutator is of second order."
   ]
  },
  {
   "cell_type": "code",
   "execution_count": 190,
   "metadata": {},
   "outputs": [
    {
     "data": {
      "text/plain": [
       "denseAD2(array([0., 0., 0.]),\n",
       "array([[0.],\n",
       "       [0.],\n",
       "       [0.]]),\n",
       "array([[[0. ]],\n",
       "\n",
       "       [[0. ]],\n",
       "\n",
       "       [[0.5]]]))"
      ]
     },
     "execution_count": 190,
     "metadata": {},
     "output_type": "execute_result"
    }
   ],
   "source": [
    "δ = ad.Dense2.identity(constant=0.)\n",
    "commute([0,0,0],[δ,0,0],[0,δ,0]) # Motion generated by a commutator of the first two controls"
   ]
  },
  {
   "cell_type": "code",
   "execution_count": 198,
   "metadata": {},
   "outputs": [
    {
     "data": {
      "text/plain": [
       "denseAD2(array([0., 0., 0.]),\n",
       "array([[0.],\n",
       "       [0.],\n",
       "       [0.]]),\n",
       "array([[[0. ]],\n",
       "\n",
       "       [[0. ]],\n",
       "\n",
       "       [[0.5]]]))"
      ]
     },
     "execution_count": 198,
     "metadata": {},
     "output_type": "execute_result"
    }
   ],
   "source": [
    "advance([0,0,0],[0,0,δ**2]) # Same motion generated by the third control, at second order."
   ]
  },
  {
   "cell_type": "markdown",
   "metadata": {},
   "source": [
    "Likewise, on the sphere, the commutator of the second and third control is minus the first one."
   ]
  },
  {
   "cell_type": "code",
   "execution_count": 194,
   "metadata": {},
   "outputs": [
    {
     "data": {
      "text/plain": [
       "denseAD2(array([0., 0., 0.]),\n",
       "array([[0.],\n",
       "       [0.],\n",
       "       [0.]]),\n",
       "array([[[0.5]],\n",
       "\n",
       "       [[0. ]],\n",
       "\n",
       "       [[0. ]]]))"
      ]
     },
     "execution_count": 194,
     "metadata": {},
     "output_type": "execute_result"
    }
   ],
   "source": [
    "commute([0,0,0],[0,δ,0],[0,0,δ]) # Motion generated by a commutator of the second and third controls"
   ]
  },
  {
   "cell_type": "markdown",
   "metadata": {},
   "source": [
    "However, on the plane, which is a vector space, all controls commute. This observation allows to control the motion of the sphere without changing its position on the plane."
   ]
  },
  {
   "cell_type": "code",
   "execution_count": 195,
   "metadata": {},
   "outputs": [
    {
     "data": {
      "text/plain": [
       "denseAD2(array([0., 0., 0., 0., 0.]),\n",
       "array([[0.],\n",
       "       [0.],\n",
       "       [0.],\n",
       "       [0.],\n",
       "       [0.]]),\n",
       "array([[[0. ]],\n",
       "\n",
       "       [[0. ]],\n",
       "\n",
       "       [[0.5]],\n",
       "\n",
       "       [[0. ]],\n",
       "\n",
       "       [[0. ]]]))"
      ]
     },
     "execution_count": 195,
     "metadata": {},
     "output_type": "execute_result"
    }
   ],
   "source": [
    "commute([0,0,0,0,0],[0,δ,0],[0,0,δ]) # Motion generated by a commutator of the second and third controls.\n",
    "# Only the sphere is affected"
   ]
  },
  {
   "cell_type": "code",
   "execution_count": 197,
   "metadata": {},
   "outputs": [
    {
     "data": {
      "text/plain": [
       "denseAD2(array([0., 0., 0., 0., 0.]),\n",
       "array([[0.],\n",
       "       [0.],\n",
       "       [0.],\n",
       "       [0.],\n",
       "       [0.]]),\n",
       "array([[[0.5]],\n",
       "\n",
       "       [[0. ]],\n",
       "\n",
       "       [[0.5]],\n",
       "\n",
       "       [[0. ]],\n",
       "\n",
       "       [[0. ]]]))"
      ]
     },
     "execution_count": 197,
     "metadata": {},
     "output_type": "execute_result"
    }
   ],
   "source": [
    "advance([0,0,0,0,0],[δ**2,0,0]) # Motion generated by the first control, at second order. \n",
    "# Both the sphere and plane are affected"
   ]
  },
  {
   "cell_type": "markdown",
   "metadata": {},
   "source": [
    "The rank of a sub-Riemannian model is the depth of the control commutators needed to generate the entire tangent space.\n",
    "A rank-0 model is amounts to Riemannian manifold. The numerical simulation, using PDE techniques, of models of rank larger than or equal to two is novel to the knowledge of the author."
   ]
  },
  {
   "cell_type": "markdown",
   "metadata": {},
   "source": [
    "### 1.3 Ball models"
   ]
  },
  {
   "cell_type": "markdown",
   "metadata": {},
   "source": [
    "We present the hamiltonians of the different models, in the form of the symmetric semi-definite matrix defining the dual metric, which makes sense since the models are sub-Riemannian. A more classical presentation, involving the position and impulsion variables, is presented in next section."
   ]
  },
  {
   "cell_type": "code",
   "execution_count": 257,
   "metadata": {},
   "outputs": [],
   "source": [
    "def hamiltonian(model):\n",
    "    grad = model.gradient()\n",
    "    return lp.dot_AA(lp.transpose(grad),grad)"
   ]
  },
  {
   "cell_type": "code",
   "execution_count": 258,
   "metadata": {},
   "outputs": [],
   "source": [
    "δ = 4*ad.Dense.identity(constant=[0.,0.,0.]) # Three independent symbolic perturbations\n",
    "ball_state = np.array([1,2,3])/4 # Some arbitrary state"
   ]
  },
  {
   "cell_type": "markdown",
   "metadata": {},
   "source": [
    "The **Riemannian ball** is governed by the three controls, with the same strength on each axis, and its state space is the ball alone. It is thus a Riemannian model. At the origin, the Hamiltonian is the identity matrix."
   ]
  },
  {
   "cell_type": "code",
   "execution_count": 239,
   "metadata": {},
   "outputs": [
    {
     "data": {
      "text/plain": [
       "array([[1., 0., 0.],\n",
       "       [0., 1., 0.],\n",
       "       [0., 0., 1.]])"
      ]
     },
     "execution_count": 239,
     "metadata": {},
     "output_type": "execute_result"
    }
   ],
   "source": [
    "hamiltonian(advance([0,0,0],δ))"
   ]
  },
  {
   "cell_type": "markdown",
   "metadata": {},
   "source": [
    "At any point in space, this hamiltonian is a positive definite matrix, whose inverse is the Riemannian metric. Because of our choice of coordinates, this metric is *conformal*, in other words proportional to the euclidean metric (up to machine precision)."
   ]
  },
  {
   "cell_type": "code",
   "execution_count": 242,
   "metadata": {},
   "outputs": [
    {
     "data": {
      "text/plain": [
       "array([[3.51562500e+00, 5.79425397e-13, 8.59534666e-13],\n",
       "       [5.79425397e-13, 3.51562500e+00, 1.72795112e-12],\n",
       "       [8.59534666e-13, 1.72795112e-12, 3.51562500e+00]])"
      ]
     },
     "execution_count": 242,
     "metadata": {},
     "output_type": "execute_result"
    }
   ],
   "source": [
    "hamiltonian(advance(ball_state,delta))"
   ]
  },
  {
   "cell_type": "markdown",
   "metadata": {},
   "source": [
    "The **Reeds shepp ball** is governed only two of the three controls, missing the middle one, and is a sub-Riemannian model of rank one. This model can also be regarded as describing a wheelchair-like vehicle moving on a ball."
   ]
  },
  {
   "cell_type": "code",
   "execution_count": 252,
   "metadata": {},
   "outputs": [
    {
     "data": {
      "text/plain": [
       "array([[1., 0., 0.],\n",
       "       [0., 0., 0.],\n",
       "       [0., 0., 1.]])"
      ]
     },
     "execution_count": 252,
     "metadata": {},
     "output_type": "execute_result"
    }
   ],
   "source": [
    "δRS = [δ[0],0,δ[2]] # The y-axis control is lacking\n",
    "hamiltonian(advance([0,0,0],δRS))"
   ]
  },
  {
   "cell_type": "markdown",
   "metadata": {},
   "source": [
    "At any point in space, this hamiltonian is a positive semi-definite matrix, with two non-zero eigenvalues."
   ]
  },
  {
   "cell_type": "code",
   "execution_count": 253,
   "metadata": {},
   "outputs": [
    {
     "data": {
      "text/plain": [
       "(array([[ 1.953125,  0.78125 ,  1.5625  ],\n",
       "        [ 0.78125 ,  3.125   , -0.78125 ],\n",
       "        [ 1.5625  , -0.78125 ,  1.953125]]),\n",
       " array([2.63677881e-16, 3.51562500e+00, 3.51562500e+00]))"
      ]
     },
     "execution_count": 253,
     "metadata": {},
     "output_type": "execute_result"
    }
   ],
   "source": [
    "ham = hamiltonian(advance(state,δRS))\n",
    "ham, np.linalg.eigvalsh(ham)"
   ]
  },
  {
   "cell_type": "markdown",
   "metadata": {},
   "source": [
    "The **torqueless ball** is governed by two of the three controls, missing the last one. On the ball alone, this model is identical to the Reeds-Shepp model. However the situation changes when put on a plane, as discussed below."
   ]
  },
  {
   "cell_type": "code",
   "execution_count": 254,
   "metadata": {},
   "outputs": [
    {
     "data": {
      "text/plain": [
       "array([[1., 0., 0.],\n",
       "       [0., 1., 0.],\n",
       "       [0., 0., 0.]])"
      ]
     },
     "execution_count": 254,
     "metadata": {},
     "output_type": "execute_result"
    }
   ],
   "source": [
    "δTL = [δ[0],δ[1],0]\n",
    "hamiltonian(advance([0,0,0],δTL))"
   ]
  },
  {
   "cell_type": "code",
   "execution_count": 255,
   "metadata": {},
   "outputs": [
    {
     "data": {
      "text/plain": [
       "(array([[ 1.625   , -0.34375 , -1.71875 ],\n",
       "        [-0.34375 ,  3.453125, -0.3125  ],\n",
       "        [-1.71875 , -0.3125  ,  1.953125]]),\n",
       " array([-1.11022302e-16,  3.51562500e+00,  3.51562500e+00]))"
      ]
     },
     "execution_count": 255,
     "metadata": {},
     "output_type": "execute_result"
    }
   ],
   "source": [
    "ham = hamiltonian(advance(ball_state,δTL))\n",
    "ham, np.linalg.eigvalsh(ham)"
   ]
  },
  {
   "cell_type": "markdown",
   "metadata": {},
   "source": [
    "### 1.4 Ball with support"
   ]
  },
  {
   "cell_type": "markdown",
   "metadata": {},
   "source": [
    "The **Riemannian ball on a plane** is a rank one sub-Riemannian model. The ball may be rolled along both the $x$-axis and $y$-axis, and its rotation around the $z$-axis is also controlled."
   ]
  },
  {
   "cell_type": "code",
   "execution_count": 273,
   "metadata": {},
   "outputs": [],
   "source": [
    "plane_state = np.concatenate((np.zeros(2),ball_state)) # Some arbitrary plane-ball state\n",
    "line_state  = np.concatenate((np.zeros(1),ball_state)) # Some arbitrary plane-ball state"
   ]
  },
  {
   "cell_type": "markdown",
   "metadata": {},
   "source": [
    "The hamiltonian is degenerate, as expected, with two vanishing eigenvalues due to the fact that motion in the plane is tied to the rotation of the ball."
   ]
  },
  {
   "cell_type": "code",
   "execution_count": 268,
   "metadata": {},
   "outputs": [
    {
     "data": {
      "text/plain": [
       "(array([[    1,     0,     1,     0,     0],\n",
       "        [    0,     1,     0,     1,     0],\n",
       "        [    1,     0,     1,     0,     0],\n",
       "        [    0,     1,     0,     1,     0],\n",
       "        [    0,     0,     0,     0,     1]]),\n",
       " array([    0,     0,     1,     2,     2]))"
      ]
     },
     "execution_count": 268,
     "metadata": {},
     "output_type": "execute_result"
    }
   ],
   "source": [
    "ham = hamiltonian(advance(np.zeros(5),δ))\n",
    "ham,np.linalg.eigvalsh(ham)"
   ]
  },
  {
   "cell_type": "markdown",
   "metadata": {},
   "source": [
    "The situation is the same at any point in space."
   ]
  },
  {
   "cell_type": "code",
   "execution_count": 269,
   "metadata": {},
   "outputs": [
    {
     "data": {
      "text/plain": [
       "(array([[    1,     0,  0.25,  1.75, -0.625],\n",
       "        [    0,     1, -1.25, 0.625,  1.25],\n",
       "        [ 0.25, -1.25,  3.52, 5.79e-13, 8.6e-13],\n",
       "        [ 1.75, 0.625, 5.79e-13,  3.52, 1.73e-12],\n",
       "        [-0.625,  1.25, 8.6e-13, 1.73e-12,  3.52]]),\n",
       " array([-8e-17, 7.45e-17,  3.52,  4.52,  4.52]))"
      ]
     },
     "execution_count": 269,
     "metadata": {},
     "output_type": "execute_result"
    }
   ],
   "source": [
    "ham = hamiltonian(advance(plane_state,δ))\n",
    "ham,np.linalg.eigvalsh(ham)"
   ]
  },
  {
   "cell_type": "markdown",
   "metadata": {},
   "source": [
    "The **Reeds-Shepp ball on a line** is a rank two sub-Riemannian model. The ball may only be rolled along the $x$-axis, and rotated around the $z$-axis.\n",
    "In order to generate a rotation around the $y$-axis, a commutator of these two motions is required. In order to generate a rotation around the $x$-axis, without any motion in the plane, a second order commutator is needed involving rotation around the $y$-axis and a rotation around the $z$-axis."
   ]
  },
  {
   "cell_type": "code",
   "execution_count": 272,
   "metadata": {},
   "outputs": [
    {
     "data": {
      "text/plain": [
       "(array([[    1,     1,     0,     0],\n",
       "        [    1,     1,     0,     0],\n",
       "        [    0,     0,     0,     0],\n",
       "        [    0,     0,     0,     1]]),\n",
       " array([    0,     0,     1,     2]))"
      ]
     },
     "execution_count": 272,
     "metadata": {},
     "output_type": "execute_result"
    }
   ],
   "source": [
    "ham = hamiltonian(advance(np.zeros(4),δRS))\n",
    "ham,np.linalg.eigvalsh(ham)"
   ]
  },
  {
   "cell_type": "code",
   "execution_count": 275,
   "metadata": {},
   "outputs": [
    {
     "data": {
      "text/plain": [
       "(array([[    1,  0.25,  1.75, -0.625],\n",
       "        [ 0.25,  1.95, 0.781,  1.56],\n",
       "        [ 1.75, 0.781,  3.13, -0.781],\n",
       "        [-0.625,  1.56, -0.781,  1.95]]),\n",
       " array([-3.37e-16, 4.61e-16,  3.52,  4.52]))"
      ]
     },
     "execution_count": 275,
     "metadata": {},
     "output_type": "execute_result"
    }
   ],
   "source": [
    "ham = hamiltonian(advance(line_state,δRS))\n",
    "ham,np.linalg.eigvalsh(ham)"
   ]
  },
  {
   "cell_type": "markdown",
   "metadata": {},
   "source": [
    "The **torqueless ball on a plane** is a rank two sub-Riemannian model. The ball may be rolled along the $x$-axis and the $y$-axis, but not rotated around the $z$-axis (think of a punctual control, without any torque). In order to generate a rotation around the $z$-axis, a commutator of the rolling motions along the $x$-axis and the $y$-axis is needed. In order to generate a pure rotation around the $x$-axis or the $y$-axis, one needs a commutator of the pure rotation around the $z$-axis, and of the rolling motion along the $x$ or the $y$ axis."
   ]
  },
  {
   "cell_type": "code",
   "execution_count": 276,
   "metadata": {},
   "outputs": [
    {
     "data": {
      "text/plain": [
       "(array([[    1,     0,     1,     0,     0],\n",
       "        [    0,     1,     0,     1,     0],\n",
       "        [    1,     0,     1,     0,     0],\n",
       "        [    0,     1,     0,     1,     0],\n",
       "        [    0,     0,     0,     0,     0]]),\n",
       " array([    0,     0,     0,     2,     2]))"
      ]
     },
     "execution_count": 276,
     "metadata": {},
     "output_type": "execute_result"
    }
   ],
   "source": [
    "ham = hamiltonian(advance(np.zeros(5),δTL))\n",
    "ham,np.linalg.eigvalsh(ham)"
   ]
  },
  {
   "cell_type": "code",
   "execution_count": 277,
   "metadata": {},
   "outputs": [
    {
     "data": {
      "text/plain": [
       "(array([[    1,     0,  0.25,  1.75, -0.625],\n",
       "        [    0,     1, -1.25, 0.625,  1.25],\n",
       "        [ 0.25, -1.25,  1.62, -0.344, -1.72],\n",
       "        [ 1.75, 0.625, -0.344,  3.45, -0.312],\n",
       "        [-0.625,  1.25, -1.72, -0.312,  1.95]]),\n",
       " array([-3.67e-16, 7.34e-17, 5.62e-16,  4.52,  4.52]))"
      ]
     },
     "execution_count": 277,
     "metadata": {},
     "output_type": "execute_result"
    }
   ],
   "source": [
    "ham = hamiltonian(advance(plane_state,δTL))\n",
    "ham,np.linalg.eigvalsh(ham)"
   ]
  },
  {
   "cell_type": "markdown",
   "metadata": {},
   "source": [
    "## 2. Geodesic shooting\n",
    "\n",
    "We compute, for checking their consistency, some geodesics of the considered models model. They correspond to the free motion of the corresponding physical system, without external force or obstacles."
   ]
  },
  {
   "cell_type": "code",
   "execution_count": null,
   "metadata": {},
   "outputs": [],
   "source": [
    "def hamiltonian(controls):\n",
    "    pass"
   ]
  },
  {
   "cell_type": "code",
   "execution_count": 279,
   "metadata": {},
   "outputs": [
    {
     "name": "stdout",
     "output_type": "stream",
     "text": [
      "Help on class Hamiltonian in module agd.Metrics.hamiltonian:\n",
      "\n",
      "class Hamiltonian(builtins.object)\n",
      " |  Hamiltonian(H, shape_free=None, vdim=-1, disassociate_ad=False, **kwargs)\n",
      " |  \n",
      " |  Methods defined here:\n",
      " |  \n",
      " |  DpH(self, q, p)\n",
      " |      Differentiates the Hamiltonian, w.r.t. impulsion.\n",
      " |  \n",
      " |  DqH(self, q, p)\n",
      " |      Differentiates the Hamiltonian, w.r.t. position.\n",
      " |  \n",
      " |  H(self, q, p)\n",
      " |      Evaluates the Hamiltonian, for a given position and impulsion.\n",
      " |  \n",
      " |  __init__(self, H, shape_free=None, vdim=-1, disassociate_ad=False, **kwargs)\n",
      " |      Inputs:\n",
      " |      - H : the hamiltonian, which may be either:\n",
      " |              * a metric\n",
      " |              * a callable function\n",
      " |              * a pair of callable functions, for a separable hamiltonian.\n",
      " |                      (in that case, may also be scalars or matrices, for quadratic hamiltonians)\n",
      " |      - shape_free (optional) : the shape of the position and impulsion\n",
      " |      - vdim (optional): equivalent to shape_free = (vdim,)\n",
      " |      - disassociate_ad: hide the AD information when calling H.\n",
      " |      - **kwargs : if not empty, use dual metric interpolated with these arguments\n",
      " |  \n",
      " |  flow(self, q, p)\n",
      " |      Symplectic gradient of the Hamiltonian.\n",
      " |  \n",
      " |  flow_cat(self, qp, t=None)\n",
      " |      Symplectic gradient of the hamiltonian, intended for odeint. \n",
      " |      Input : \n",
      " |              - qp : position q, impulsion p, concatenated and flattened.\n",
      " |              - t : ignored parameter (compatibility with scipy.integrate.odeint)\n",
      " |      Output : \n",
      " |              - symplectic gradient, concatenated and flattened.\n",
      " |  \n",
      " |  incomplete_schemes(self, solver=None)\n",
      " |      Incomplete schemes, updating only position or impulsion. \n",
      " |      Inputs : \n",
      " |              - solver (optional). Numerical solver used for the implicit steps.\n",
      " |              Defaults to a basic fixed point solver: \"fixedpoint\" in the same package.\n",
      " |  \n",
      " |  integrate(self, q, p, scheme, niter, T=1, path=False)\n",
      " |      Solves Hamilton's equations by running the scheme niter times.\n",
      " |      Inputs : \n",
      " |              - q,p : Initial position and impulsion.\n",
      " |              - scheme : ODE integration scheme. (string or callable)\n",
      " |              - niter : number of steps\n",
      " |              - T : total time\n",
      " |              - path : wether to return the intermediate steps\n",
      " |      Output : \n",
      " |              - q,p if path is False. \n",
      " |              Otherwise [q0,...,qn],[p0,...,pn],[t0,..tn], with n=niter, tn=T.\n",
      " |  \n",
      " |  nonsymplectic_schemes(self)\n",
      " |      Standard ODE integration schemes\n",
      " |  \n",
      " |  separable_quadratic_set_sparse_matrices(self)\n",
      " |      If the hamiltonian is separable and quadratic, replace the callable functions\n",
      " |      with sparse matrices, for faster evaluation.\n",
      " |  \n",
      " |  symplectic_schemes(self, **kwargs)\n",
      " |      Symplectic schemes, alternating updates of position and impulsion.\n",
      " |      The first updated variable is indicated with a suffix.\n",
      " |      \n",
      " |      In the non-separable cases, some of the updates are implicit, otherwise\n",
      " |      they are explicit.\n",
      " |      Inputs : \n",
      " |              - kwargs. Passed to self.incomplete_schemes\n",
      " |  \n",
      " |  ----------------------------------------------------------------------\n",
      " |  Data descriptors defined here:\n",
      " |  \n",
      " |  __dict__\n",
      " |      dictionary for instance variables (if defined)\n",
      " |  \n",
      " |  __weakref__\n",
      " |      list of weak references to the object (if defined)\n",
      " |  \n",
      " |  is_metric\n",
      " |  \n",
      " |  is_separable\n",
      " |  \n",
      " |  vdim\n",
      " |      Dimension of space of positions. \n",
      " |      (Also equals the dimension of the space of impulsions)\n",
      " |      Returns none for a Hamiltonian acting on scalars.\n",
      "\n"
     ]
    }
   ],
   "source": [
    "help(Metrics.Hamiltonian)"
   ]
  },
  {
   "cell_type": "code",
   "execution_count": null,
   "metadata": {},
   "outputs": [],
   "source": [
    "ham"
   ]
  }
 ],
 "metadata": {
  "kernelspec": {
   "display_name": "Python 3",
   "language": "python",
   "name": "python3"
  },
  "language_info": {
   "codemirror_mode": {
    "name": "ipython",
    "version": 3
   },
   "file_extension": ".py",
   "mimetype": "text/x-python",
   "name": "python",
   "nbconvert_exporter": "python",
   "pygments_lexer": "ipython3",
   "version": "3.7.6"
  }
 },
 "nbformat": 4,
 "nbformat_minor": 4
}

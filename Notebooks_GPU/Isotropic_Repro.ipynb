{
 "cells": [
  {
   "cell_type": "markdown",
   "metadata": {},
   "source": [
    "# Adaptive PDE discretizations on cartesian grids \n",
    "## Volume : GPU accelerated methods\n",
    "## Part : Eikonal equations, acceleration and reproducibility\n",
    "## Chapter : Isotropic metrics"
   ]
  },
  {
   "cell_type": "markdown",
   "metadata": {},
   "source": [
    "In this notebook, we solve isotropic eikonal equations on the CPU and the GPU, and check that they produce consistent results.\n",
    "\n",
    "We obtain substantial accelerations on sufficiently large instances, a few million points, by a factor up to $100$. Note that smaller test cases yield less acceleration, due to the difficulty to extract parallelism.\n",
    "\n",
    "**bit-consistency.** By design, the CPU and GPU codes produce the same values, up to machine precision, which is approximately $10^{-8}$ for floating point types, in a variety on situations. \n",
    "This is due to the fact that the two implementations, although widely different, solve the same discretized problem. We try to ensure this behavior and check it as much as possible, as it is a strong indicator of the validity of the implementations. We refer to it as bit-consistency, aknowledging that it is a bit abusive, since the algorithm outputs, while extremely close, are still far from a bit-for-bit match.\n",
    "\n",
    "**GPU/CPU speedup.**  General purpose graphical processors are massively parallel machines, which greatly outperform CPUs on embarassingly parallel tasks. The acceleration due to GPUs is therefore most impressive on large test cases."
   ]
  },
  {
   "cell_type": "code",
   "execution_count": 1,
   "metadata": {},
   "outputs": [],
   "source": [
    "large_instances = False # Set to True to show off GPU acceleration (CPU times may become a big long.)"
   ]
  },
  {
   "cell_type": "markdown",
   "metadata": {},
   "source": [
    "[**Summary**](Summary.ipynb) of volume GPU accelerated methods, this series of notebooks.\n",
    "\n",
    "[**Main summary**](../Summary.ipynb) of the Adaptive Grid Discretizations \n",
    "\tbook of notebooks, including the other volumes.\n",
    "\n",
    "# Table of contents\n",
    "  * [1. Three dimensions](#1.-Three-dimensions)\n",
    "  * [2. Two dimensions](#2.-Two-dimensions)\n",
    "  * [3. GPU specific options](#3.-GPU-specific-options)\n",
    "    * [3.1 Multiprecision and convergence tolerance](#3.1-Multiprecision-and-convergence-tolerance)\n",
    "    * [3.2 Block shape and inner iterations](#3.2-Block-shape-and-inner-iterations)\n",
    "    * [3.3 Periodicity](#3.3-Periodicity)\n",
    "    * [3.4 Help and parameter defaults](#3.4-Help-and-parameter-defaults)\n",
    "\n",
    "\n",
    "\n",
    "**Acknowledgement.** The experiments presented in these notebooks are part of ongoing research.\n",
    "The author would like to acknowledge fruitful informal discussions with L. Gayraud on the \n",
    "topic of GPU coding and optimization.\n",
    "\n",
    "Copyright Jean-Marie Mirebeau, University Paris-Sud, CNRS, University Paris-Saclay"
   ]
  },
  {
   "cell_type": "markdown",
   "metadata": {},
   "source": [
    "## 0. Importing the required libraries"
   ]
  },
  {
   "cell_type": "code",
   "execution_count": 2,
   "metadata": {},
   "outputs": [],
   "source": [
    "import sys; sys.path.insert(0,\"..\")\n",
    "#from Miscellaneous import TocTools; print(TocTools.displayTOC('Isotropic_Repro','GPU'))"
   ]
  },
  {
   "cell_type": "code",
   "execution_count": 3,
   "metadata": {
    "tags": [
     "ExportCode"
    ]
   },
   "outputs": [],
   "source": [
    "import cupy as cp\n",
    "import numpy as np\n",
    "import itertools\n",
    "from matplotlib import pyplot as plt\n",
    "np.set_printoptions(edgeitems=30, linewidth=100000, formatter=dict(float=lambda x: \"%5.3g\" % x))"
   ]
  },
  {
   "cell_type": "code",
   "execution_count": 4,
   "metadata": {
    "tags": [
     "ExportCode"
    ]
   },
   "outputs": [],
   "source": [
    "from agd import Eikonal\n",
    "from agd import AutomaticDifferentiation as ad\n",
    "from agd import Metrics\n",
    "import agd.AutomaticDifferentiation.cupy_generic as cugen\n",
    "norm_infinity = ad.Optimization.norm_infinity\n",
    "Eikonal.dictIn.default_mode = 'gpu'"
   ]
  },
  {
   "cell_type": "code",
   "execution_count": 5,
   "metadata": {},
   "outputs": [],
   "source": [
    "def ReloadPackages():\n",
    "    from Miscellaneous.rreload import rreload\n",
    "    global Eikonal,ad,cugen\n",
    "    Eikonal,ad,cugen = rreload([Eikonal,ad,cugen],\"..\")\n",
    "    Eikonal.dictIn.default_mode = 'gpu'"
   ]
  },
  {
   "cell_type": "markdown",
   "metadata": {},
   "source": [
    "### 0.1 Decorations for gpu usage\n",
    "\n",
    "Dealing with GPU data induces minor inconveniences:\n",
    "- GPU arrays are not implicitly convertible to CPU arrays, and this is a good thing since memory transfers from GPU memory to CPU memory, and conversely, are not cheap. The `get` method must be applied to a cupy array to retrieve a numpy array.\n",
    "- GPU computing is much more efficient with 32 bit data types, integer and floating point, than with their 64bit counterparts. However a number of numpy and cupy basic functions default to 64bit output, which will be inconsistent with the rest of computations.\n",
    "\n",
    "We provide decorators to perform these memory transfers and data type conversions automatically. They are only applied to specific modules and functions, below, to avoid excessive implicit operations. "
   ]
  },
  {
   "cell_type": "code",
   "execution_count": 6,
   "metadata": {
    "tags": [
     "ExportCode"
    ]
   },
   "outputs": [],
   "source": [
    "cp = ad.functional.decorate_module_functions(cp,cugen.set_output_dtype32) # Use float32 and int32 types in place of float64 and int64\n",
    "plt = ad.functional.decorate_module_functions(plt,cugen.cupy_get_args)"
   ]
  },
  {
   "cell_type": "code",
   "execution_count": 7,
   "metadata": {},
   "outputs": [
    {
     "data": {
      "image/png": "[encoded data removed]",
      "text/plain": [
       "<Figure size 432x288 with 1 Axes>"
      ]
     },
     "metadata": {
      "needs_background": "light"
     },
     "output_type": "display_data"
    }
   ],
   "source": [
    "X = cp.linspace(0,np.pi) # 64 bit output is converted to 32 bit by decorator\n",
    "plt.plot(X,np.sin(X));   # GPU array is transfered to CPU memory."
   ]
  },
  {
   "cell_type": "markdown",
   "metadata": {},
   "source": [
    "Note that, by default, these decorators do not apply to the system module, but only to a shallow copy."
   ]
  },
  {
   "cell_type": "code",
   "execution_count": 8,
   "metadata": {},
   "outputs": [
    {
     "data": {
      "text/plain": [
       "dtype('float64')"
      ]
     },
     "execution_count": 8,
     "metadata": {},
     "output_type": "execute_result"
    }
   ],
   "source": [
    "sys.modules['cupy'].linspace(0,np.pi).dtype"
   ]
  },
  {
   "cell_type": "markdown",
   "metadata": {},
   "source": [
    "### 0.2 Comparing CPU and GPU results"
   ]
  },
  {
   "cell_type": "code",
   "execution_count": 9,
   "metadata": {
    "tags": [
     "ExportCode"
    ]
   },
   "outputs": [],
   "source": [
    "variants_basic = (\n",
    "    [{},{\"seedRadius\":2.}], # Spread seed information ?\n",
    "    [{},{'multiprecision':True}] # Reduce floating point roundoff errors\n",
    ")\n",
    "\n",
    "variants_ext = (\n",
    "    [{},{'order':2}], # second order scheme ?\n",
    "    [{},{\"seedRadius\":2.},{\"factoringRadius\":10.,'factoringPointChoice':'Key'}], # source factorization ?\n",
    "    [{},{'multiprecision':True}] # Reduce floating point roundoff errors\n",
    ")"
   ]
  },
  {
   "cell_type": "code",
   "execution_count": 10,
   "metadata": {
    "tags": [
     "ExportCode"
    ]
   },
   "outputs": [],
   "source": [
    "def RunCompare(gpuIn,check=True,check_ratio=0,variants=None,**kwargs):\n",
    "    # Dispatch the common variants if requested\n",
    "    if isinstance(variants,str): variants = {'basic':variants_basic,'ext':variants_ext}[variants]\n",
    "    if variants:\n",
    "        for variant in variants[0]:\n",
    "            RunCompare(gpuIn,check=check,check_ratio=check_ratio,variants=variants[1:],**kwargs,**variant)\n",
    "        return\n",
    "\n",
    "    if kwargs: print(\"\\n\",f\"--- Variant {kwargs} ---\")\n",
    "\n",
    "    # Run the CPU and GPU solvers\n",
    "    gpuIn = gpuIn.copy(); gpuIn.update(kwargs)\n",
    "    gpuOut = gpuIn.Run()\n",
    "    if gpuIn.get('verbosity',1):  print(f\"--- gpu done, turning to cpu ---\")\n",
    "    cpuOut = gpuIn.Run(join={'mode':'cpu_transfer'})\n",
    "    \n",
    "    # Print performance info\n",
    "    fmTime = cpuOut['FMCPUTime']; stencilTime = cpuOut['StencilCPUTime']; \n",
    "    cpuTime = fmTime+stencilTime; gpuTime = gpuOut['solverGPUTime'];\n",
    "    print(f\"Solver time (s). GPU : {gpuTime}, CPU : {cpuTime}. Device acceleration : {cpuTime/gpuTime}\")\n",
    "    \n",
    "    # Check consistency \n",
    "    cpuVals = cpuOut['values'].copy(); gpuVals = gpuOut['values'].get()\n",
    "    # Inf is a legitimate value in the presence of e.g. obstacles\n",
    "    commonInfs = np.logical_and(np.isinf(cpuVals),np.isinf(gpuVals)) \n",
    "    cpuVals[commonInfs]=0; gpuVals[commonInfs]=0\n",
    "    print(\"Max |gpuValues-cpuValues| : \", norm_infinity(gpuVals-cpuVals))\n",
    "    \n",
    "    if check is True: assert np.allclose(gpuVals,cpuVals,atol=1e-5,rtol=1e-4)\n",
    "    elif check is False: pass\n",
    "    else: assert np.sum(np.abs(gpuVals-cpuVals)>check)<=check_ratio*gpuVals.size\n",
    "\n",
    "    return gpuOut,cpuOut"
   ]
  },
  {
   "cell_type": "markdown",
   "metadata": {},
   "source": [
    "## 1. Three dimensions"
   ]
  },
  {
   "cell_type": "markdown",
   "metadata": {},
   "source": [
    "GPU acceleration shines particularly well in three dimensions, where we get accelerations by a factor $100$ on large instances."
   ]
  },
  {
   "cell_type": "code",
   "execution_count": 12,
   "metadata": {},
   "outputs": [],
   "source": [
    "n = 200 if large_instances else 100\n",
    "hfmIn = Eikonal.dictIn({\n",
    "    'model':'Isotropic3',\n",
    "    'seed':[0.,0.5,1.],\n",
    "    'exportValues':1,\n",
    "    'cost':1.,\n",
    "})\n",
    "hfmIn.SetRect([[0,1],[0,1],[0,1]],dimx=n+1,sampleBoundary=True)"
   ]
  },
  {
   "cell_type": "code",
   "execution_count": 13,
   "metadata": {},
   "outputs": [
    {
     "name": "stdout",
     "output_type": "stream",
     "text": [
      "Setting the kernel traits.\n",
      "Prepating the domain data (shape,metric,...)\n",
      "Preparing the problem rhs (cost, seeds,...)\n",
      "Preparing the GPU kernel\n",
      "Running the eikonal GPU kernel\n",
      "GPU kernel eikonal ran for 0.054995059967041016 seconds, and 65 iterations.\n",
      "Post-Processing\n",
      "--- gpu done, turning to cpu ---\n",
      "Field verbosity defaults to 1\n",
      "Field order defaults to 1\n",
      "Field seedRadius defaults to 0\n",
      "Fast marching solver completed in 1.125 s.\n",
      "Solver time (s). GPU : 0.054995059967041016, CPU : 1.135. Device acceleration : 20.638217335888253\n",
      "Max |gpuValues-cpuValues| :  6.332993507385254e-07\n"
     ]
    }
   ],
   "source": [
    "RunCompare(hfmIn);"
   ]
  },
  {
   "cell_type": "markdown",
   "metadata": {},
   "source": [
    "We check bit-consistency for a few variants of the scheme."
   ]
  },
  {
   "cell_type": "code",
   "execution_count": 14,
   "metadata": {},
   "outputs": [],
   "source": [
    "n=50; hfmInS = hfmIn.copy() # Define the a smaller instance\n",
    "hfmInS.SetRect([[0,1],[0,1],[0,1]],dimx=n+1,sampleBoundary=True)\n",
    "X = hfmInS.Grid()\n",
    "hfmInS.update({\n",
    "    'seed':[0,0,0],\n",
    "    'cost': np.prod(np.sin(2*np.pi*X),axis=0) + 1.1, # Non-constant cost\n",
    "    'verbosity':0,\n",
    "})"
   ]
  },
  {
   "cell_type": "code",
   "execution_count": 15,
   "metadata": {},
   "outputs": [
    {
     "name": "stdout",
     "output_type": "stream",
     "text": [
      "Solver time (s). GPU : 0.01949906349182129, CPU : 0.114. Device acceleration : 5.8464346273766585\n",
      "Max |gpuValues-cpuValues| :  6.903636284860681e-07\n",
      "\n",
      " --- Variant {'multiprecision': True} ---\n",
      "Solver time (s). GPU : 0.021498680114746094, CPU : 0.119. Device acceleration : 5.535223528368007\n",
      "Max |gpuValues-cpuValues| :  1.5621205884386313e-07\n",
      "\n",
      " --- Variant {'seedRadius': 2.0} ---\n",
      "Solver time (s). GPU : 0.016475677490234375, CPU : 0.116. Device acceleration : 7.04068163926835\n",
      "Max |gpuValues-cpuValues| :  7.111670792259162e-07\n",
      "\n",
      " --- Variant {'seedRadius': 2.0, 'multiprecision': True} ---\n",
      "Solver time (s). GPU : 0.017999649047851562, CPU : 0.114. Device acceleration : 6.333456818904313\n",
      "Max |gpuValues-cpuValues| :  1.1188518178606444e-07\n"
     ]
    }
   ],
   "source": [
    "RunCompare(hfmInS,variants='basic');"
   ]
  },
  {
   "cell_type": "markdown",
   "metadata": {},
   "source": [
    "The second order scheme implementation, and the source factorization, have some slight differences between the GPU and CPU implementation, hence *one cannot expect bit-consistency in general*. "
   ]
  },
  {
   "cell_type": "code",
   "execution_count": 19,
   "metadata": {},
   "outputs": [
    {
     "name": "stdout",
     "output_type": "stream",
     "text": [
      "Solver time (s). GPU : 0.018478870391845703, CPU : 0.11800000000000001. Device acceleration : 6.385671715738137\n",
      "Max |gpuValues-cpuValues| :  6.903636284860681e-07\n",
      "\n",
      " --- Variant {'multiprecision': True} ---\n",
      "Solver time (s). GPU : 0.01849961280822754, CPU : 0.114. Device acceleration : 6.162291134509556\n",
      "Max |gpuValues-cpuValues| :  1.5621205884386313e-07\n",
      "\n",
      " --- Variant {'seedRadius': 2.0} ---\n",
      "Solver time (s). GPU : 0.021993160247802734, CPU : 0.115. Device acceleration : 5.228898380417579\n",
      "Max |gpuValues-cpuValues| :  7.111670792259162e-07\n",
      "\n",
      " --- Variant {'seedRadius': 2.0, 'multiprecision': True} ---\n",
      "Solver time (s). GPU : 0.017961502075195312, CPU : 0.113. Device acceleration : 6.291233301476054\n",
      "Max |gpuValues-cpuValues| :  1.1188518178606444e-07\n",
      "\n",
      " --- Variant {'factoringRadius': 10.0, 'factoringPointChoice': 'Key'} ---\n",
      "Solver time (s). GPU : 0.0169677734375, CPU : 0.117. Device acceleration : 6.895424460431655\n",
      "Max |gpuValues-cpuValues| :  0.0016292832261056156\n",
      "\n",
      " --- Variant {'factoringRadius': 10.0, 'factoringPointChoice': 'Key', 'multiprecision': True} ---\n",
      "Solver time (s). GPU : 0.019520998001098633, CPU : 0.119. Device acceleration : 6.095999804584926\n",
      "Max |gpuValues-cpuValues| :  0.0016292832261056156\n",
      "\n",
      " --- Variant {'order': 2} ---\n",
      "Solver time (s). GPU : 0.0209958553314209, CPU : 0.169. Device acceleration : 8.049207680864836\n",
      "Max |gpuValues-cpuValues| :  0.007898599629571068\n",
      "\n",
      " --- Variant {'order': 2, 'multiprecision': True} ---\n",
      "Solver time (s). GPU : 0.0225064754486084, CPU : 0.168. Device acceleration : 7.464518395321985\n",
      "Max |gpuValues-cpuValues| :  0.007898480420281517\n",
      "\n",
      " --- Variant {'order': 2, 'seedRadius': 2.0} ---\n",
      "Solver time (s). GPU : 0.02352118492126465, CPU : 0.168. Device acceleration : 7.1424973088034065\n",
      "Max |gpuValues-cpuValues| :  0.011129540428334112\n",
      "\n",
      " --- Variant {'order': 2, 'seedRadius': 2.0, 'multiprecision': True} ---\n",
      "Solver time (s). GPU : 0.02702164649963379, CPU : 0.165. Device acceleration : 6.106215622435745\n",
      "Max |gpuValues-cpuValues| :  0.011129540428334112\n",
      "\n",
      " --- Variant {'order': 2, 'factoringRadius': 10.0, 'factoringPointChoice': 'Key'} ---\n",
      "Solver time (s). GPU : 0.023503780364990234, CPU : 0.166. Device acceleration : 7.062693635755006\n",
      "Max |gpuValues-cpuValues| :  0.006708100137535977\n",
      "\n",
      " --- Variant {'order': 2, 'factoringRadius': 10.0, 'factoringPointChoice': 'Key', 'multiprecision': True} ---\n",
      "Solver time (s). GPU : 0.02399468421936035, CPU : 0.171. Device acceleration : 7.126578471994516\n",
      "Max |gpuValues-cpuValues| :  0.006708100137535977\n"
     ]
    }
   ],
   "source": [
    "RunCompare(hfmInS,variants='ext',check=0.02);"
   ]
  },
  {
   "cell_type": "markdown",
   "metadata": {},
   "source": [
    "## 2. Two dimensions\n",
    "\n",
    "In two dimensions, it is usually more difficult to extract parallism than in three dimensions.\n",
    "Indeed, the front propagated in the computations is expected to have approximately\n",
    "$$\n",
    "    N^{\\frac{d-1} d}\n",
    "$$\n",
    "points in dimension $d$, where $N$ denotes the total number of points in the domain. \n",
    "The front in a two dimensional computation thus has $N^{\\frac 1 2}$ points which is much fewer than $N^{\\frac 2 3}$ in three dimensions, when $N$ is large. In addition the number of points $N$ is also often fewer in two dimensional problems."
   ]
  },
  {
   "cell_type": "code",
   "execution_count": 20,
   "metadata": {},
   "outputs": [],
   "source": [
    "n=4000 if large_instances else 1000\n",
    "hfmIn = Eikonal.dictIn({\n",
    "    'model':'Isotropic2',\n",
    "    'seed':[0.,0.5],\n",
    "    'exportValues':1,\n",
    "    'cost':1.,\n",
    "})\n",
    "hfmIn.SetRect([[0,1],[0,1]],dimx=n+1,sampleBoundary=True)"
   ]
  },
  {
   "cell_type": "code",
   "execution_count": 21,
   "metadata": {},
   "outputs": [
    {
     "data": {
      "text/plain": [
       "2"
      ]
     },
     "execution_count": 21,
     "metadata": {},
     "output_type": "execute_result"
    }
   ],
   "source": [
    "sum(e in {1,2,3} for e in [1,4,2])"
   ]
  },
  {
   "cell_type": "code",
   "execution_count": 22,
   "metadata": {},
   "outputs": [
    {
     "name": "stdout",
     "output_type": "stream",
     "text": [
      "Setting the kernel traits.\n",
      "Prepating the domain data (shape,metric,...)\n",
      "Preparing the problem rhs (cost, seeds,...)\n",
      "Preparing the GPU kernel\n",
      "Running the eikonal GPU kernel\n",
      "GPU kernel eikonal ran for 0.041998863220214844 seconds, and 64 iterations.\n",
      "Post-Processing\n",
      "--- gpu done, turning to cpu ---\n",
      "Field verbosity defaults to 1\n",
      "Field order defaults to 1\n",
      "Field seedRadius defaults to 0\n",
      "Fast marching solver completed in 0.464 s.\n",
      "Solver time (s). GPU : 0.041998863220214844, CPU : 0.47400000000000003. Device acceleration : 11.286019755216968\n",
      "Max |gpuValues-cpuValues| :  1.2254594355276538e-05\n"
     ]
    }
   ],
   "source": [
    "gpuOut,cpuOut = RunCompare(hfmIn,check=1e-4)"
   ]
  },
  {
   "cell_type": "markdown",
   "metadata": {},
   "source": [
    "Another annoyance is that the numerical error, close to $10^{-4}$ in the large instance, is not as good as could be expected, around $10^{-7}$ for single precision floating point types. \n",
    "A quick fix, explained in more detail below and which does have a computational cost, is to run the computation using multiprecision."
   ]
  },
  {
   "cell_type": "code",
   "execution_count": 23,
   "metadata": {},
   "outputs": [
    {
     "name": "stdout",
     "output_type": "stream",
     "text": [
      "Setting the kernel traits.\n",
      "Prepating the domain data (shape,metric,...)\n",
      "Preparing the problem rhs (cost, seeds,...)\n",
      "Preparing the GPU kernel\n",
      "Running the eikonal GPU kernel\n",
      "GPU kernel eikonal ran for 0.042495012283325195 seconds, and 64 iterations.\n",
      "Post-Processing\n",
      "Max |gpuValues-cpuValues| :  7.807194535303097e-08\n"
     ]
    }
   ],
   "source": [
    "gpuOut = hfmIn.Run(join={'multiprecision':True}) # join with another dict\n",
    "print(\"Max |gpuValues-cpuValues| : \", norm_infinity(gpuOut['values'].get()-cpuOut['values']))"
   ]
  },
  {
   "cell_type": "code",
   "execution_count": 24,
   "metadata": {},
   "outputs": [],
   "source": [
    "n=50; hfmInS = hfmIn.copy() # Define a small instance for bit-consistency validation\n",
    "hfmInS.SetRect([[0,1],[0,1]],dimx=n+1,sampleBoundary=True)\n",
    "X = hfmInS.Grid()\n",
    "hfmInS.update({\n",
    "    'cost':np.prod(np.sin(2*np.pi*X),axis=0) +1.1, # Non-constant cost\n",
    "    'verbosity':0,\n",
    "})"
   ]
  },
  {
   "cell_type": "code",
   "execution_count": 25,
   "metadata": {},
   "outputs": [
    {
     "name": "stdout",
     "output_type": "stream",
     "text": [
      "Solver time (s). GPU : 0.003499746322631836, CPU : 0.001. Device acceleration : 0.28573499557190546\n",
      "Max |gpuValues-cpuValues| :  3.278750158042243e-07\n",
      "\n",
      " --- Variant {'multiprecision': True} ---\n",
      "Solver time (s). GPU : 0.003999471664428711, CPU : 0.001. Device acceleration : 0.2500330253353204\n",
      "Max |gpuValues-cpuValues| :  8.287156183506283e-08\n",
      "\n",
      " --- Variant {'seedRadius': 2.0} ---\n",
      "Solver time (s). GPU : 0.003998994827270508, CPU : 0.001. Device acceleration : 0.2500628390866273\n",
      "Max |gpuValues-cpuValues| :  3.19909373436289e-07\n",
      "\n",
      " --- Variant {'seedRadius': 2.0, 'multiprecision': True} ---\n",
      "Solver time (s). GPU : 0.004491567611694336, CPU : 0.001. Device acceleration : 0.22263941822814376\n",
      "Max |gpuValues-cpuValues| :  9.216803587008826e-08\n"
     ]
    }
   ],
   "source": [
    "RunCompare(hfmInS,variants='basic')"
   ]
  },
  {
   "cell_type": "markdown",
   "metadata": {},
   "source": [
    "Again, bit consistency is not expected with the second order scheme.\n",
    "\n",
    "<!---\n",
    ", but not excluded either.\n",
    "Note that the second order scheme is non-monotone, hence the solution values need not decrease as the iterations proceed. \n",
    "In order to be consistent with the CPU implementation, and validate this test, we set the trait `decreasing_macro` to $0$.\n",
    "--->"
   ]
  },
  {
   "cell_type": "code",
   "execution_count": 26,
   "metadata": {},
   "outputs": [
    {
     "name": "stdout",
     "output_type": "stream",
     "text": [
      "Solver time (s). GPU : 0.0034911632537841797, CPU : 0.001. Device acceleration : 0.2864374786587448\n",
      "Max |gpuValues-cpuValues| :  3.278750158042243e-07\n",
      "\n",
      " --- Variant {'multiprecision': True} ---\n",
      "Solver time (s). GPU : 0.003499269485473633, CPU : 0.001. Device acceleration : 0.2857739320024528\n",
      "Max |gpuValues-cpuValues| :  8.287156183506283e-08\n",
      "\n",
      " --- Variant {'seedRadius': 2.0} ---\n",
      "Solver time (s). GPU : 0.0034983158111572266, CPU : 0.001. Device acceleration : 0.2858518367068766\n",
      "Max |gpuValues-cpuValues| :  3.19909373436289e-07\n",
      "\n",
      " --- Variant {'seedRadius': 2.0, 'multiprecision': True} ---\n",
      "Solver time (s). GPU : 0.003999233245849609, CPU : 0.001. Device acceleration : 0.2500479313222845\n",
      "Max |gpuValues-cpuValues| :  9.216803587008826e-08\n",
      "\n",
      " --- Variant {'factoringRadius': 10.0, 'factoringPointChoice': 'Key'} ---\n",
      "Solver time (s). GPU : 0.0035316944122314453, CPU : 0.002. Device acceleration : 0.5663004118004455\n",
      "Max |gpuValues-cpuValues| :  0.0007890716105969364\n",
      "\n",
      " --- Variant {'factoringRadius': 10.0, 'factoringPointChoice': 'Key', 'multiprecision': True} ---\n",
      "Solver time (s). GPU : 0.003009319305419922, CPU : 0.001. Device acceleration : 0.3323010616384091\n",
      "Max |gpuValues-cpuValues| :  0.0007890567094357426\n",
      "\n",
      " --- Variant {'order': 2} ---\n",
      "Solver time (s). GPU : 0.006024599075317383, CPU : 0.001. Device acceleration : 0.16598614903636869\n",
      "Max |gpuValues-cpuValues| :  0.002885687063646669\n",
      "\n",
      " --- Variant {'order': 2, 'multiprecision': True} ---\n",
      "Solver time (s). GPU : 0.005487203598022461, CPU : 0.001. Device acceleration : 0.18224218987616772\n",
      "Max |gpuValues-cpuValues| :  0.0028904554352287004\n",
      "\n",
      " --- Variant {'order': 2, 'seedRadius': 2.0} ---\n",
      "Solver time (s). GPU : 0.0054950714111328125, CPU : 0.001. Device acceleration : 0.18198125650815689\n",
      "Max |gpuValues-cpuValues| :  0.012899825049452696\n",
      "\n",
      " --- Variant {'order': 2, 'seedRadius': 2.0, 'multiprecision': True} ---\n",
      "Solver time (s). GPU : 0.005511045455932617, CPU : 0.002. Device acceleration : 0.3629075492104694\n",
      "Max |gpuValues-cpuValues| :  0.012899854851775083\n",
      "\n",
      " --- Variant {'order': 2, 'factoringRadius': 10.0, 'factoringPointChoice': 'Key'} ---\n",
      "Solver time (s). GPU : 0.005001068115234375, CPU : 0.002. Device acceleration : 0.39991456903127387\n",
      "Max |gpuValues-cpuValues| :  0.007501915364444001\n",
      "\n",
      " --- Variant {'order': 2, 'factoringRadius': 10.0, 'factoringPointChoice': 'Key', 'multiprecision': True} ---\n",
      "Solver time (s). GPU : 0.004998445510864258, CPU : 0.002. Device acceleration : 0.40012439780586695\n",
      "Max |gpuValues-cpuValues| :  0.007501915364444001\n"
     ]
    }
   ],
   "source": [
    "RunCompare(hfmInS,variants='ext',check=0.02)"
   ]
  },
  {
   "cell_type": "markdown",
   "metadata": {},
   "source": [
    "## 3. GPU specific options\n",
    "\n",
    "The RunGPU method of the HFM has a number of parameters, usually set to reasonnable defaults. We discuss a few of them below."
   ]
  },
  {
   "cell_type": "markdown",
   "metadata": {},
   "source": [
    "### 3.1 Multiprecision and convergence tolerance\n",
    "\n",
    "**Multiprecision.** In this mode, the solution values are represented as pairs \n",
    "$$\n",
    "    u(x) = u_q(x) \\delta + u_r(x),\n",
    "$$\n",
    "where $u_q(x) \\in Z$ is an integer, $\\delta>0$ is a fixed scale, and $u_r(x) \\in [-\\delta/2,\\delta/2[$.\n",
    "\n",
    "The parameter $\\delta$ is set automatically as the largest power of two (usually a negative power) bounded by $h/10$, where $h$ is the grid scale. The choice of a power of two avoids roundoff errors.\n",
    "\n",
    "<!---\n",
    "Eventually, the result is converted to floating point format. A slightly better accuracy can be obtained by using a double type in this last step.\n",
    "gpuOut = RunGPU({**hfmIn,'values_float64':True})\n",
    "print(\"Max |gpuValues-cpuValues| : \", norm_infinity(gpuOut['values'].get()-cpuOut['values']))\n",
    "--->\n",
    "\n",
    "**Convergence tolerance.** This parameter sets the tolerance for the convergence of the fixed point solver.\n",
    "When setting the convergence tolerance, it is important to keep in mind the *resolution* of the chosen floating point type."
   ]
  },
  {
   "cell_type": "code",
   "execution_count": 27,
   "metadata": {},
   "outputs": [
    {
     "data": {
      "text/plain": [
       "finfo(resolution=1e-06, min=-3.4028235e+38, max=3.4028235e+38, dtype=float32)"
      ]
     },
     "execution_count": 27,
     "metadata": {},
     "output_type": "execute_result"
    }
   ],
   "source": [
    "np.finfo(np.float32)"
   ]
  },
  {
   "cell_type": "code",
   "execution_count": 28,
   "metadata": {},
   "outputs": [
    {
     "data": {
      "text/plain": [
       "finfo(resolution=1e-15, min=-1.7976931348623157e+308, max=1.7976931348623157e+308, dtype=float64)"
      ]
     },
     "execution_count": 28,
     "metadata": {},
     "output_type": "execute_result"
    }
   ],
   "source": [
    "np.finfo(np.float64)"
   ]
  },
  {
   "cell_type": "markdown",
   "metadata": {},
   "source": [
    "A typical value for tolerance, in *multi-precision* mode is \n",
    "$$\n",
    "    tol=res*h*M,\n",
    "$$\n",
    "where $h$ is the grid scale, $res$ is the resolution of the floating point type, and $M$ is the magnitude of cost function in the case of an isotropic metric, or a related quantity in the anisotropic case.\n",
    "\n",
    "Without multiprecision, the above tolerance value should be multiplied by the grid scale.\n",
    "\n",
    "Caveats:\n",
    "- Choosing an excessively small tolerance, may increase the number of iterations of the solver (especially in multi-precision mode according to our experiments). In fact, the solver may not converge at all.\n",
    "- Choosing a excessively large tolerance may reduce accuracy."
   ]
  },
  {
   "cell_type": "markdown",
   "metadata": {},
   "source": [
    "### 3.2 Block shape and inner iterations"
   ]
  },
  {
   "cell_type": "markdown",
   "metadata": {},
   "source": [
    "The GPU implementation of the fast marching method works by grouping together blocks of grid points, which are updated simultaneously a prescribed number of times. The shape of these blocks ` shape_i`  and number of iterations `niter_i` can be modified, which may affect performance. They are collected in the `traits` input parameter, together with a number of compile time constants and typedefs for the GPU kernel."
   ]
  },
  {
   "cell_type": "code",
   "execution_count": 29,
   "metadata": {},
   "outputs": [
    {
     "data": {
      "text/plain": [
       "{'Scalar': numpy.float32,\n",
       " 'Int': numpy.int32,\n",
       " 'OffsetT': numpy.int32,\n",
       " 'multiprecision_macro': 1,\n",
       " 'pruning_macro': 0,\n",
       " 'shape_i': (24, 24),\n",
       " 'niter_i': 48,\n",
       " 'strict_iter_o_macro': 1,\n",
       " 'strict_iter_i_macro': 1,\n",
       " 'ndim_macro': 2,\n",
       " 'isotropic_macro': 1}"
      ]
     },
     "execution_count": 29,
     "metadata": {},
     "output_type": "execute_result"
    }
   ],
   "source": [
    "gpuOut['keys']['default']['traits']"
   ]
  },
  {
   "cell_type": "markdown",
   "metadata": {},
   "source": [
    "### 3.3 Periodicity\n",
    "\n",
    "Standard periodic boundary conditions may be applied to one or several some axes."
   ]
  },
  {
   "cell_type": "code",
   "execution_count": 30,
   "metadata": {},
   "outputs": [],
   "source": [
    "n=48\n",
    "hfmIn = Eikonal.dictIn({\n",
    "    'model':'Isotropic2',\n",
    "    'seed':[0.2,0.4],\n",
    "    'exportValues':1,\n",
    "    'cost':1.,\n",
    "    'verbosity':1,\n",
    "    'periodic':(False,True) # Periodic along second axis\n",
    "})\n",
    "hfmIn.SetRect([[0,1],[0,1]],dimx=n+1,sampleBoundary=False)"
   ]
  },
  {
   "cell_type": "code",
   "execution_count": 31,
   "metadata": {},
   "outputs": [
    {
     "name": "stdout",
     "output_type": "stream",
     "text": [
      "Setting the kernel traits.\n",
      "Prepating the domain data (shape,metric,...)\n",
      "Preparing the problem rhs (cost, seeds,...)\n",
      "Preparing the GPU kernel\n",
      "Running the eikonal GPU kernel\n",
      "GPU kernel eikonal ran for 0.004001617431640625 seconds, and 6 iterations.\n",
      "Post-Processing\n"
     ]
    }
   ],
   "source": [
    "gpuOut = hfmIn.Run()"
   ]
  },
  {
   "cell_type": "code",
   "execution_count": 32,
   "metadata": {},
   "outputs": [
    {
     "data": {
      "image/png": "[encoded data removed]",
      "text/plain": [
       "<Figure size 432x288 with 1 Axes>"
      ]
     },
     "metadata": {
      "needs_background": "light"
     },
     "output_type": "display_data"
    }
   ],
   "source": [
    "X = hfmIn.Grid()\n",
    "plt.title('Periodic solution'); plt.axis('equal')\n",
    "plt.contour(*X,gpuOut['values']); "
   ]
  },
  {
   "cell_type": "markdown",
   "metadata": {},
   "source": [
    "### 3.4 Help and parameter defaults"
   ]
  },
  {
   "cell_type": "markdown",
   "metadata": {},
   "source": [
    "The HFM algorithm sets a number of parameters to (hopefull relevant) default values. \n",
    "Setting a verbosity equal or larger than two will display some of the associated values."
   ]
  },
  {
   "cell_type": "code",
   "execution_count": 33,
   "metadata": {},
   "outputs": [],
   "source": [
    "n=200\n",
    "hfmIn = Eikonal.dictIn({\n",
    "    'model':'Isotropic2',\n",
    "    'seed':[0.,0.5],\n",
    "    'exportValues':1,\n",
    "    'cost':1.,\n",
    "    'verbosity':2\n",
    "})\n",
    "hfmIn.SetRect([[0,1],[0,1]],dimx=n+1,sampleBoundary=True)"
   ]
  },
  {
   "cell_type": "code",
   "execution_count": 34,
   "metadata": {
    "scrolled": false
   },
   "outputs": [
    {
     "name": "stdout",
     "output_type": "stream",
     "text": [
      "Setting the kernel traits.\n",
      "key traits defaults to {'Scalar': <class 'numpy.float32'>, 'Int': <class 'numpy.int32'>, 'OffsetT': <class 'numpy.int32'>, 'multiprecision_macro': 0, 'pruning_macro': 0, 'shape_i': (24, 24), 'niter_i': 48}\n",
      "key multiprecision defaults to False\n",
      "key values_float64 defaults to False\n",
      "key factoringRadius defaults to 0\n",
      "key order defaults to 1\n",
      "key bound_active_blocks defaults to False\n",
      "key solver defaults to AGSI\n",
      "Prepating the domain data (shape,metric,...)\n",
      "key periodic defaults to (False, False)\n",
      "key exportGeodesicFlow defaults to False\n",
      "key tips defaults to None\n",
      "key costVariation defaults to None\n",
      "see out['keys']['default'][tol] for default\n",
      "key atol defaults to 2.4999984e-08\n",
      "key rtol defaults to 4.9999999873762135e-06\n",
      "key walls defaults to None\n",
      "Preparing the problem rhs (cost, seeds,...)\n",
      "key values defaults to None\n",
      "key seedValues defaults to [    0]\n",
      "key seedValueVariation defaults to None\n",
      "key seedRadius defaults to 0.0\n",
      "Preparing the GPU kernel\n",
      "key count_updates defaults to False\n",
      "key cuoptions defaults to ()\n",
      "key nitermax_o defaults to 2000\n",
      "key raiseOnNonConvergence defaults to True\n",
      "Running the eikonal GPU kernel\n",
      "GPU kernel eikonal ran for 0.007483005523681641 seconds, and 14 iterations.\n",
      "Post-Processing\n",
      "key extractValues defaults to False\n",
      "key retself defaults to False\n"
     ]
    }
   ],
   "source": [
    "gpuOut = hfmIn.Run()"
   ]
  },
  {
   "cell_type": "markdown",
   "metadata": {},
   "source": [
    "The default values of the keys and values are provided in the output."
   ]
  },
  {
   "cell_type": "code",
   "execution_count": 35,
   "metadata": {},
   "outputs": [
    {
     "data": {
      "text/plain": [
       "OrderedDict([('verbosity', 1),\n",
       "             ('model', '_None'),\n",
       "             ('traits',\n",
       "              {'Scalar': numpy.float32,\n",
       "               'Int': numpy.int32,\n",
       "               'OffsetT': numpy.int32,\n",
       "               'multiprecision_macro': 0,\n",
       "               'pruning_macro': 0,\n",
       "               'shape_i': (24, 24),\n",
       "               'niter_i': 48,\n",
       "               'ndim_macro': 2,\n",
       "               'isotropic_macro': 1}),\n",
       "             ('multiprecision', False),\n",
       "             ('values_float64', False),\n",
       "             ('factoringRadius', 0),\n",
       "             ('order', 1),\n",
       "             ('bound_active_blocks', False),\n",
       "             ('solver', 'AGSI'),\n",
       "             ('periodic', (False, False)),\n",
       "             ('gridScale', '_None'),\n",
       "             ('exportGeodesicFlow', False),\n",
       "             ('tips', None),\n",
       "             ('cost', None),\n",
       "             ('costVariation', None),\n",
       "             ('tol', 2.4999984e-08),\n",
       "             ('atol', array(2.5e-08, dtype=float32)),\n",
       "             ('rtol', 4.9999999873762135e-06),\n",
       "             ('walls', None),\n",
       "             ('values', None),\n",
       "             ('seeds', None),\n",
       "             ('seedValues', array([    0], dtype=float32)),\n",
       "             ('seedValueVariation', None),\n",
       "             ('seedRadius', 0.0),\n",
       "             ('count_updates', False),\n",
       "             ('cuoptions', ()),\n",
       "             ('nitermax_o', 2000),\n",
       "             ('raiseOnNonConvergence', True),\n",
       "             ('exportValues', False),\n",
       "             ('extractValues', False),\n",
       "             ('retself', False)])"
      ]
     },
     "execution_count": 35,
     "metadata": {},
     "output_type": "execute_result"
    }
   ],
   "source": [
    "gpuOut['keys']['default']"
   ]
  },
  {
   "cell_type": "markdown",
   "metadata": {},
   "source": [
    "A succint help on the role of each key can be displayed."
   ]
  },
  {
   "cell_type": "code",
   "execution_count": 36,
   "metadata": {},
   "outputs": [
    {
     "data": {
      "text/plain": [
       "OrderedDict([('verbosity', 'Choose the amount of detail displayed on the run'),\n",
       "             ('model', 'Minimal path model to be solved.'),\n",
       "             ('traits', 'Optional trait parameters for the eikonal kernel.'),\n",
       "             ('multiprecision',\n",
       "              'Use multiprecision arithmetic, to improve accuracy'),\n",
       "             ('values_float64', 'Sorry : no help for this key'),\n",
       "             ('factoringRadius',\n",
       "              'Use source factorization, to improve accuracy'),\n",
       "             ('order', 'Use second order scheme to improve accuracy'),\n",
       "             ('bound_active_blocks',\n",
       "              'Limit the number of active blocks in the front. Admissible values : (False,True, or positive integer)'),\n",
       "             ('solver',\n",
       "              'Choice of fixed point solver (AGSI, global_iteration)'),\n",
       "             ('periodic', 'Apply periodic boundary conditions on some axes'),\n",
       "             ('gridScale', 'Scale of the computational grid'),\n",
       "             ('exportGeodesicFlow',\n",
       "              'Export the upwind geodesic flow (direction of the geodesics)'),\n",
       "             ('tips', 'Tips from which to compute the minimal geodesics'),\n",
       "             ('cost', 'cost = 1/speed (scales the metric, accepts AD)'),\n",
       "             ('costVariation', 'First order variation of the cost function'),\n",
       "             ('tol',\n",
       "              'Convergence tolerance for the fixed point solver (determines atol, rtol)'),\n",
       "             ('atol',\n",
       "              'Absolute convergence tolerance for the fixed point solver'),\n",
       "             ('rtol',\n",
       "              'Relative convergence tolerance for the fixed point solver'),\n",
       "             ('walls', 'Obstacles in the domain'),\n",
       "             ('values', 'Initial values for the eikonal solver'),\n",
       "             ('seeds', 'Points from where the front propagation starts'),\n",
       "             ('seedValues', 'Initial value for the front propagation'),\n",
       "             ('seedValueVariation',\n",
       "              'First order variation of the seed values'),\n",
       "             ('seedRadius',\n",
       "              'Spread the seeds over a radius given in pixels, so as to improve accuracy.'),\n",
       "             ('count_updates',\n",
       "              'Count the number of times each block is updated'),\n",
       "             ('cuoptions',\n",
       "              'Options passed via cupy.RawKernel to the cuda compiler'),\n",
       "             ('nitermax_o', 'Maximum number of iterations of the solver'),\n",
       "             ('raiseOnNonConvergence',\n",
       "              'Raise an exception if a solver fails to converge'),\n",
       "             ('exportValues', 'Return the solution numerical values'),\n",
       "             ('extractValues',\n",
       "              'Return the solution numerical values separately from other data'),\n",
       "             ('retself', 'Return the class instance that did the work')])"
      ]
     },
     "execution_count": 36,
     "metadata": {},
     "output_type": "execute_result"
    }
   ],
   "source": [
    "gpuOut['keys']['help']"
   ]
  },
  {
   "cell_type": "code",
   "execution_count": null,
   "metadata": {},
   "outputs": [],
   "source": []
  }
 ],
 "metadata": {
  "celltoolbar": "Format de la Cellule Texte Brut",
  "kernelspec": {
   "display_name": "Python 3",
   "language": "python",
   "name": "python3"
  },
  "language_info": {
   "codemirror_mode": {
    "name": "ipython",
    "version": 3
   },
   "file_extension": ".py",
   "mimetype": "text/x-python",
   "name": "python",
   "nbconvert_exporter": "python",
   "pygments_lexer": "ipython3",
   "version": "3.7.6"
  }
 },
 "nbformat": 4,
 "nbformat_minor": 4
}

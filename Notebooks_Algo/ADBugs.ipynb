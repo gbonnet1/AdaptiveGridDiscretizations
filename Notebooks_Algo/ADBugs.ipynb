{
 "cells": [
  {
   "cell_type": "markdown",
   "metadata": {},
   "source": [
    "# Adaptive PDE discretizations on cartesian grids \n",
    "## Volume : Algorithmic tools\n",
    "## Part : Automatic differentiation\n",
    "## Chapter : Known bugs and incompatibilities"
   ]
  },
  {
   "cell_type": "markdown",
   "metadata": {},
   "source": [
    "The techniques of automatic differentiation technique play an essential role in the notebooks presented in this repository. "
   ]
  },
  {
   "cell_type": "markdown",
   "metadata": {},
   "source": [
    "[**Summary**](Summary.ipynb) of volume Algorithmic tools, this series of notebooks.\n",
    "\n",
    "[**Main summary**](../Summary.ipynb) of the Adaptive Grid Discretizations \n",
    "\tbook of notebooks, including the other volumes.\n",
    "\n",
    "# Table of contents\n",
    "  * [1 Matrix multiplication and inversion](#1-Matrix-multiplication-and-inversion)\n",
    "  * [2. In place modifications and aliasing](#2.-In-place-modifications-and-aliasing)\n",
    "    * [2.1 Aliasing of the AD information](#2.1-Aliasing-of-the-AD-information)\n",
    "    * [2.2 Non writeable AD information](#2.2-Non-writeable-AD-information)\n",
    "\n",
    "\n",
    "\n",
    "**Acknowledgement.** The experiments presented in these notebooks are part of ongoing research, \n",
    "some of it with PhD student Guillaume Bonnet, in co-direction with Frederic Bonnans.\n",
    "\n",
    "Copyright Jean-Marie Mirebeau, University Paris-Sud, CNRS, University Paris-Saclay"
   ]
  },
  {
   "cell_type": "markdown",
   "metadata": {},
   "source": [
    "## 0. Importing the required libraries"
   ]
  },
  {
   "cell_type": "code",
   "execution_count": 1,
   "metadata": {},
   "outputs": [],
   "source": [
    "import sys; sys.path.insert(0,\"..\") # Allow importing agd from parent directory\n",
    "#from Miscellaneous import TocTools; TocTools.displayTOC('ADBugs','Algo')"
   ]
  },
  {
   "cell_type": "code",
   "execution_count": 2,
   "metadata": {},
   "outputs": [],
   "source": [
    "import numpy as np\n",
    "import scipy.sparse.linalg"
   ]
  },
  {
   "cell_type": "code",
   "execution_count": 3,
   "metadata": {},
   "outputs": [],
   "source": [
    "import agd.AutomaticDifferentiation as ad"
   ]
  },
  {
   "cell_type": "code",
   "execution_count": 4,
   "metadata": {},
   "outputs": [],
   "source": [
    "def reload_packages():\n",
    "    from Miscellaneous.rreload import rreload\n",
    "    global ad\n",
    "    ad, = rreload([ad],rootdir='..',verbose=True)"
   ]
  },
  {
   "cell_type": "markdown",
   "metadata": {},
   "source": [
    "## 1 Matrix multiplication and inversion"
   ]
  },
  {
   "cell_type": "markdown",
   "metadata": {},
   "source": [
    "Please use the `ad.apply_linear_mapping` and `ad.apply_linear_inverse` functions in combination with `np.dot`, or scipy solve functions."
   ]
  },
  {
   "cell_type": "code",
   "execution_count": 36,
   "metadata": {},
   "outputs": [],
   "source": [
    "v = ad.Dense.denseAD( np.random.standard_normal((4,)),np.random.standard_normal((4,4)))\n",
    "m0 = np.random.standard_normal((4,4))\n",
    "m1 = scipy.sparse.coo_matrix( ([1.,2.,3.,4.,5.],([0,2,1,2,3],[0,1,2,2,3]))).tocsr()"
   ]
  },
  {
   "cell_type": "code",
   "execution_count": 37,
   "metadata": {},
   "outputs": [],
   "source": [
    "# Fails\n",
    "#print(\"np.dot looses AD:\",np.dot(m0,v))\n",
    "#print(\"scipy '*' looses AD:\",m1*v) "
   ]
  },
  {
   "cell_type": "code",
   "execution_count": 38,
   "metadata": {},
   "outputs": [
    {
     "name": "stdout",
     "output_type": "stream",
     "text": [
      "np.dot with AD:\n",
      " denseAD([ 2.35235392  0.26440333  2.24259106 -1.68842825],\n",
      "[[-2.98560581  1.30578452  0.4219539   0.4405235 ]\n",
      " [-0.90830923 -2.40696381  2.22900244 -1.97361014]\n",
      " [-3.73570982 -0.18563747  1.75156844  1.11318797]\n",
      " [ 0.17856435 -2.59378054  0.39560053  2.40460541]])\n",
      "scipy '*' with AD:\n",
      " denseAD([ 0.56140742 -0.37699399 -4.1332458   8.15577671],\n",
      "[[-1.45923092e+00 -9.81010117e-02 -5.06670857e-01  7.69283240e-01]\n",
      " [ 2.43968361e-03 -4.08462334e-01  9.69397632e-01  1.93501014e+00]\n",
      " [ 1.35342886e+00 -5.74825397e+00  1.50053419e+00  5.08502685e+00]\n",
      " [-9.60842086e+00  4.62957060e-01  6.52340297e+00 -5.02911061e+00]])\n"
     ]
    }
   ],
   "source": [
    "print(\"np.dot with AD:\\n\",ad.apply_linear_mapping(m0,v))\n",
    "print(\"scipy '*' with AD:\\n\",ad.apply_linear_mapping(m1,v))"
   ]
  },
  {
   "cell_type": "code",
   "execution_count": 39,
   "metadata": {},
   "outputs": [
    {
     "name": "stdout",
     "output_type": "stream",
     "text": [
      "scipy solve with AD :\n",
      " denseAD([ 0.56140742  1.14736338 -0.60509786  0.32623107],\n",
      "[[-1.45923092 -0.09810101 -0.50667086  0.76928324]\n",
      " [-0.44965203  1.66646878  0.0922316  -0.51250275]\n",
      " [ 0.22502932 -0.86727292  0.03466734  0.41750222]\n",
      " [-0.38433683  0.01851828  0.26093612 -0.20116442]])\n"
     ]
    }
   ],
   "source": [
    "print(\"scipy solve with AD :\\n\",ad.apply_linear_inverse(scipy.sparse.linalg.spsolve,m1,v))"
   ]
  },
  {
   "cell_type": "markdown",
   "metadata": {},
   "source": [
    "## 2. In place modifications and aliasing\n",
    "\n",
    "The AD information often consists of very large arrays. In order to save time and memory, this information is not systematically copied and/or stored fully. It can take the form of a broadcasted array, or of an alias to another array. In that case a copy is necessary to enable modifications."
   ]
  },
  {
   "cell_type": "markdown",
   "metadata": {},
   "source": [
    "### 2.1 Aliasing of the AD information\n",
    "\n",
    "When an operation leaves the AD information untouched, an alias is used. This can lead to bugs if in place modifications are used afterward."
   ]
  },
  {
   "cell_type": "code",
   "execution_count": 40,
   "metadata": {},
   "outputs": [],
   "source": [
    "x=ad.Dense.identity(constant=np.array([1.,2.]))\n",
    "y=x+1 # Only affects the value, not the AD information"
   ]
  },
  {
   "cell_type": "code",
   "execution_count": 41,
   "metadata": {},
   "outputs": [
    {
     "name": "stdout",
     "output_type": "stream",
     "text": [
      "Values are distinct : False\n",
      "AD information is shared : True\n"
     ]
    }
   ],
   "source": [
    "print(\"Values are distinct :\", x.value is y.value)\n",
    "print(\"AD information is shared :\", y.coef is x.coef)"
   ]
  },
  {
   "cell_type": "markdown",
   "metadata": {},
   "source": [
    "A modification of the aliased variable will impact the original one."
   ]
  },
  {
   "cell_type": "code",
   "execution_count": 42,
   "metadata": {},
   "outputs": [
    {
     "name": "stdout",
     "output_type": "stream",
     "text": [
      "denseAD(1.0,[1. 0.])\n",
      "Caution ! Shared AD information is affected : denseAD(1.0,[2. 0.])\n"
     ]
    }
   ],
   "source": [
    "print(x[0])\n",
    "y[0]*=2\n",
    "print(\"Caution ! Shared AD information is affected :\", x[0])"
   ]
  },
  {
   "cell_type": "markdown",
   "metadata": {},
   "source": [
    "Avoid this effect by making a copy."
   ]
  },
  {
   "cell_type": "code",
   "execution_count": 43,
   "metadata": {},
   "outputs": [
    {
     "name": "stdout",
     "output_type": "stream",
     "text": [
      "AD information is distinct : False\n"
     ]
    }
   ],
   "source": [
    "x=ad.Dense.identity(constant=np.array([1.,2.]))\n",
    "y=(x+1).copy()\n",
    "print(\"AD information is distinct :\", y.coef is x.coef)"
   ]
  },
  {
   "cell_type": "markdown",
   "metadata": {},
   "source": [
    "Note that a similar effect arises with the `-` binary operator, but not with `*`or `/`. That is because the latter modify the AD information, which therefore must be copied anyway."
   ]
  },
  {
   "cell_type": "code",
   "execution_count": 44,
   "metadata": {},
   "outputs": [
    {
     "name": "stdout",
     "output_type": "stream",
     "text": [
      "AD information is shared : True\n",
      "AD information is distinct : False\n",
      "AD information is distinct : False\n"
     ]
    }
   ],
   "source": [
    "x=ad.Dense.identity(constant=np.array([1.,2.]))\n",
    "print(\"AD information is shared :\", (x-1).coef is x.coef)\n",
    "print(\"AD information is distinct :\", (x*2).coef is x.coef)\n",
    "print(\"AD information is distinct :\", (x/2).coef is x.coef)"
   ]
  },
  {
   "cell_type": "markdown",
   "metadata": {},
   "source": [
    "### 2.2 Non writeable AD information\n",
    "\n",
    "When creating an dense AD variable, the coefficients may be non writeable (e.g. broadcasted) arrays."
   ]
  },
  {
   "cell_type": "code",
   "execution_count": 45,
   "metadata": {},
   "outputs": [],
   "source": [
    "x=ad.Dense.identity(constant=np.array([[1.,2.],[3.,4.]]),shape_bound=(2,))"
   ]
  },
  {
   "cell_type": "code",
   "execution_count": 46,
   "metadata": {},
   "outputs": [
    {
     "data": {
      "text/plain": [
       "False"
      ]
     },
     "execution_count": 46,
     "metadata": {},
     "output_type": "execute_result"
    }
   ],
   "source": [
    "x.coef.flags.writeable"
   ]
  },
  {
   "cell_type": "code",
   "execution_count": 47,
   "metadata": {},
   "outputs": [],
   "source": [
    "# x+=1 # Fails because non-writeable"
   ]
  },
  {
   "cell_type": "markdown",
   "metadata": {},
   "source": [
    "Make a copy to solve the issue."
   ]
  },
  {
   "cell_type": "code",
   "execution_count": 48,
   "metadata": {},
   "outputs": [],
   "source": [
    "y=x.copy()"
   ]
  },
  {
   "cell_type": "code",
   "execution_count": 49,
   "metadata": {},
   "outputs": [
    {
     "data": {
      "text/plain": [
       "True"
      ]
     },
     "execution_count": 49,
     "metadata": {},
     "output_type": "execute_result"
    }
   ],
   "source": [
    "y.coef.flags.writeable"
   ]
  },
  {
   "cell_type": "code",
   "execution_count": 50,
   "metadata": {},
   "outputs": [],
   "source": [
    "y+=1"
   ]
  },
  {
   "cell_type": "code",
   "execution_count": null,
   "metadata": {},
   "outputs": [],
   "source": []
  }
 ],
 "metadata": {
  "kernelspec": {
   "display_name": "Python 3",
   "language": "python",
   "name": "python3"
  },
  "language_info": {
   "codemirror_mode": {
    "name": "ipython",
    "version": 3
   },
   "file_extension": ".py",
   "mimetype": "text/x-python",
   "name": "python",
   "nbconvert_exporter": "python",
   "pygments_lexer": "ipython3",
   "version": "3.7.6"
  }
 },
 "nbformat": 4,
 "nbformat_minor": 2
}

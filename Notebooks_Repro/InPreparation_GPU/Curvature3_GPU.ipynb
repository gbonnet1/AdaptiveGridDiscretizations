{
 "cells": [
  {
   "cell_type": "markdown",
   "metadata": {},
   "source": [
    "# Adaptive PDE discretizations on cartesian grids \n",
    "## Volume : Reproducible research\n",
    "## Part : Eikonal CPU/GPU solvers comparison\n",
    "## Chapter : Five dimensional Reeds-Shepp models"
   ]
  },
  {
   "cell_type": "markdown",
   "metadata": {},
   "source": [
    "In this chapter, we consider generalized Reeds-Shepp models, in the five dimensional domain $R^3 \\times S^2$. The models are described in more detail in the notebook [Curvature3](../Notebooks_FMM/Curvature3.ipynb), and may in principle be used to segment three dimensional data such as white fiber tracks in MRI scans of the brain, or plan the motion of aerial vehicles.\n",
    "This notebook presents GPU accelerated solvers of these models, which have a good potential in view of the high dimensionality ($d=5$) of the state space.\n",
    "\n",
    "A significant difference between the CPU and GPU implementations is the treatment of the sphere topology. \n",
    "* The CPU implementation relies on angular coordinates $(\\theta,\\phi)$. The resulting metric on the sphere is diagonal. The main weakness of this approach is the treatment of the poles, where the parametrization is singular reverses its orientation.\n",
    "* The GPU implementation relies on the equatorial projection. The resulting metric on the sphere is isotropic. Memory usage is one of the weaknesses of this approach, this a band of values is stored twice along the equator, and some parts of the parametrization domain are unused."
   ]
  },
  {
   "cell_type": "markdown",
   "metadata": {},
   "source": [
    "## 0. Importing the required libraries"
   ]
  },
  {
   "cell_type": "code",
   "execution_count": 6,
   "metadata": {},
   "outputs": [],
   "source": [
    "import sys; sys.path.insert(0,\"../..\")\n",
    "#from Miscellaneous import TocTools; print(TocTools.displayTOC('Flow_GPU','Repro'))"
   ]
  },
  {
   "cell_type": "code",
   "execution_count": 7,
   "metadata": {},
   "outputs": [],
   "source": [
    "from agd import Eikonal\n",
    "from agd import AutomaticDifferentiation as ad\n",
    "from agd import FiniteDifferences as fd\n",
    "from agd import Metrics\n",
    "from agd import LinearParallel as lp\n",
    "norm = ad.Optimization.norm"
   ]
  },
  {
   "cell_type": "code",
   "execution_count": null,
   "metadata": {},
   "outputs": [],
   "source": []
  }
 ],
 "metadata": {
  "kernelspec": {
   "display_name": "Python 3",
   "language": "python",
   "name": "python3"
  },
  "language_info": {
   "codemirror_mode": {
    "name": "ipython",
    "version": 3
   },
   "file_extension": ".py",
   "mimetype": "text/x-python",
   "name": "python",
   "nbconvert_exporter": "python",
   "pygments_lexer": "ipython3",
   "version": "3.7.6"
  }
 },
 "nbformat": 4,
 "nbformat_minor": 4
}

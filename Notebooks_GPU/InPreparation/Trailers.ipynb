{
 "cells": [
  {
   "cell_type": "markdown",
   "metadata": {},
   "source": [
    "# The HFM library - A fast marching solver with adaptive stencils\n",
    "\n",
    "## Part : Application examples\n",
    "## Chapter : Vehicles with trailers"
   ]
  },
  {
   "cell_type": "markdown",
   "metadata": {},
   "source": [
    "We compute globally minimal paths for an omni-directional vehicle equipped with one or two trailers.\n",
    "For that purpose, we numerically solve sub-Riemannian eikonal equations in dimension three and four. The numerical scheme is GPU accelerated, with features aimed to reduce numerical diffusion. The extracted trajectories are validated by comparison with a geodesic shooting method.\n",
    "\n",
    "**References.**\n",
    "\n",
    "The numerical scheme used in this notebook is described and studied in detail in the following publication:\n",
    "* Mirebeau, J.-M. (2019). Riemannian Fast-Marching on Cartesian Grids, Using Voronoi's First Reduction of Quadratic Forms. SIAM Journal on Numerical Analysis, 57(6), 2608–2655."
   ]
  },
  {
   "cell_type": "markdown",
   "metadata": {},
   "source": [
    "## 0. Importing the required libraries"
   ]
  },
  {
   "cell_type": "code",
   "execution_count": 1,
   "metadata": {},
   "outputs": [],
   "source": [
    "import sys; sys.path.insert(0,\"../..\")\n",
    "#from Miscellaneous import TocTools; print(TocTools.displayTOC('Isotropic_Repro','GPU'))"
   ]
  },
  {
   "cell_type": "code",
   "execution_count": 2,
   "metadata": {
    "tags": [
     "ExportCode"
    ]
   },
   "outputs": [],
   "source": [
    "from agd import Eikonal\n",
    "from agd import AutomaticDifferentiation as ad\n",
    "from agd import Metrics\n",
    "from agd import LinearParallel as lp\n",
    "norm_infinity = ad.Optimization.norm_infinity"
   ]
  },
  {
   "cell_type": "code",
   "execution_count": 3,
   "metadata": {},
   "outputs": [],
   "source": [
    "import numpy as np\n",
    "from matplotlib import pyplot as plt\n",
    "np.set_printoptions(edgeitems=30, linewidth=100000, formatter=dict(float=lambda x: \"%5.3g\" % x))"
   ]
  },
  {
   "cell_type": "code",
   "execution_count": 4,
   "metadata": {},
   "outputs": [],
   "source": [
    "def ReloadPackages():\n",
    "    from Miscellaneous.rreload import rreload\n",
    "    global Eikonal,ad,cugen\n",
    "    Eikonal,ad,cugen = rreload([Eikonal,ad,cugen],\"..\")\n",
    "    Eikonal.dictIn.default_mode = 'gpu'"
   ]
  },
  {
   "cell_type": "markdown",
   "metadata": {},
   "source": [
    "## 1. Mathematical framework\n"
   ]
  },
  {
   "cell_type": "markdown",
   "metadata": {},
   "source": [
    "### 1.1 The vehicle models\n",
    "\n",
    "**Omni-directional vehicle.** Our starting point is a vehicle able to move in any direction in the plane, at unit Euclidean speed. Denote by $X \\in R^2$ its position. In control theoretic terms, the evolution of $X$ is expressed in an orthonormal basis $(e,e^\\perp)$ of the plane, and determined by two controls $(\\alpha, \\beta)$ in the unit ball.\n",
    "$$\n",
    "    \\dot X = \\alpha e + \\beta e^\\perp, \\qquad \\alpha^2 + \\beta^2 \\leq 1.\n",
    "$$\n",
    "\n",
    "\n",
    "**Case of one trailer.** Let us attach a trailer to the preceding vehicle. The trailer is rigid and has fixed length $r>0$, also denoted $r=1/\\xi$. The full vehicle state is now $(X,\\theta) \\in R^2 \\times S^1$, where $e(\\theta) := (\\cos \\theta , \\sin \\theta)$ is colinear to the trailer direction and directed toward the (omni-directional) head. The trailer state cannot be controlled directly, thus the evolution of $(X,\\theta)$ is again determined by two controls $(\\alpha,\\beta)$ in the unit ball and reads\n",
    "$$\n",
    "    \\begin{pmatrix}\n",
    "    \\dot X\\\\\n",
    "    \\dot \\theta\n",
    "    \\end{pmatrix}\n",
    "    =\n",
    "    \\alpha \n",
    "    \\begin{pmatrix}\n",
    "    e(\\theta)\\\\\n",
    "    0\n",
    "    \\end{pmatrix}\n",
    "    {+}\n",
    "    \\beta\n",
    "    \\begin{pmatrix}\n",
    "    e(\\theta)^\\perp\\\\\n",
    "    \\xi\n",
    "    \\end{pmatrix}.\n",
    "$$\n",
    "Note that we use a block notation for vectors; for instance $(X,\\theta) := (X_0,X_1,\\theta)$ if $X = (X_0,X_1) \\in R^2$.\n",
    "A few remarks are in order:\n",
    "- The head $X$ of the vehicle follows the same dynamics as in the previous simpler model, only expressed in the peculiar orthonormal basis $e((\\theta),e(\\theta)^\\perp)$. Again, the head can always move in any direction, at unit Euclidean speed.\n",
    "- If the head moves in the direction $e(\\theta)$, aligned with the trailer direction, then the latter is only trailing behing and its orientation does not change, as expected.\n",
    "- A special motion of interest is when the head moves in circles of radius $r = 1/\\xi$ in the direction $e(\\theta)^\\perp$, so that the rear wheels of the trailer do not move, although its angle $\\theta$ changes continuously. The second control vector corresponds, at first order, to this motion.\n",
    "\n",
    "**Case of two trailers.**\n",
    "Let us attach a second trailer at to the preceding vehicle, at the back of the first trailer. The additional trailer is again rigid, and has fixed length $r'>0$, also denoted $r' = 1/\\zeta$. The angle of the second trailer is again denoted $\\phi$. The vehicle state $(X,\\theta,\\phi) \\in R^2 \\times S^1 \\times S^1$ is now four dimensional, but still only two controls $(\\alpha, \\beta)$ are available. The evolution equation reads:\n",
    "$$\n",
    "    \\begin{pmatrix}\n",
    "    \\dot X \\\\\n",
    "    \\dot \\theta \\\\\n",
    "    \\dot \\phi\n",
    "    \\end{pmatrix}\n",
    "    =\n",
    "    \\alpha \n",
    "    \\begin{pmatrix}\n",
    "    e(\\theta) \\\\\n",
    "    0 \\\\\n",
    "    \\zeta \\sin(\\theta-\\phi)\n",
    "    \\end{pmatrix}\n",
    "    {+}\n",
    "    \\beta\n",
    "    \\begin{pmatrix}\n",
    "    e(\\theta)^\\perp \\\\\n",
    "    \\xi \\\\\n",
    "    0\n",
    "    \\end{pmatrix}\n",
    "$$\n",
    "- Control $\\alpha$ corresponds to the vehicle moving forward, so that the first trailer orientation is not affected, but the second trailer tends to align with the first one.\n",
    "- Control $\\beta$ corresponds to the omni-directional head moving into circles of radius $\\xi$, leaving in place the rear wheels of the first trailer, as described above. The second trailer is unaffected by this motion."
   ]
  },
  {
   "cell_type": "markdown",
   "metadata": {},
   "source": [
    "### 1.2 Properties of the models\n",
    "\n",
    "**Commutators.**\n",
    "Denote by $\\omega_0$ and $\\omega_1$ the two control vector fields of (one of our three) models. In the trailer-less case, $\\omega_0$ and $\\omega_1$ span the plane $R^2$. In other words, any tangent vector to the state space $R^2$ can be realized by a suitable linear combination $\\alpha\\omega_0+ \\beta \\omega_1$.\n",
    "\n",
    "As soon as one trailer is attached, the two vectors vector fields $\\omega_0,\\omega_1$ fail to span the tangent space to the state space $R^2 \\times S^1$, which is three dimensional. The model is said non-holonomic. Alternating small (first-order) displacements along $\\omega_0$ and $\\omega_1$ one may however realize a motion (second-order small) in a direction $\\omega_2$ which is not a linear combination of $\\omega_0$ and $\\omega_1$, namely here $\\omega_2 = (e(\\theta)^\\perp,0)$. One says that $\\omega_2$ is the commutor of $\\omega_0$ and $\\omega_1$.\n",
    "\n",
    "When two trailers are attached, the two vector fields $\\omega_0, \\omega_1$ and their first order commutator $\\omega_2$ still do not span the tangent space to the state space $R^2 \\times S^1 \\times S^1$, which is four dimensional. Yet another commutator, of $\\omega_2$ with $\\omega_0$ or $\\omega_1$ is required for that purpose, and one says that the model is sub-Riemannian of rank two.\n",
    "\n",
    "\n",
    "**Comparison with the Reeds-Shepp model.**\n",
    "\n",
    "To (some) mathematicians, wether the dog is wagging the tail, or the tail is wagging the dog, is only a question of coordinate system choice. Following that rationale, and we denote by $Y = X - e(\\theta)/\\xi$ the position of the tail of the trailer, in the single trailer case. One easily checks that \n",
    "$$\n",
    "    \\begin{pmatrix}\n",
    "    \\dot Y \\\\\n",
    "    \\dot \\theta \n",
    "    \\end{pmatrix}\n",
    "    = \n",
    "    \\alpha\n",
    "    \\begin{pmatrix}\n",
    "    e(\\theta) \\\\\n",
    "    0\n",
    "    \\end{pmatrix}\n",
    "    {+}\n",
    "    \\beta\n",
    "    \\begin{pmatrix}\n",
    "    0 \\\\\n",
    "    \\xi\n",
    "    \\end{pmatrix}.\n",
    "$$\n",
    "This particular optimal control model is known as the Reeds-Shepp car, and best represents a wheelchair-like vehicle. Up to a coordinate change, it is thus isomorphic to the omni-directional vehicle with a single trailer. \n",
    "(Implementation-wise, one notable difference is that the the Reeds-Shepp hamiltonian is block diagonal with sizes (2,1), in contrast with the original model which has no such structure.)\n",
    "\n",
    "The omni-directional vehicle with two trailers is, likewise, isomorphic to a Reeds-Shepp car with a single trailer."
   ]
  },
  {
   "cell_type": "markdown",
   "metadata": {},
   "source": [
    "### 1.3 Sub-Riemannian formalism\n",
    "\n",
    "**Optimal control.** Denote by $\\Omega$ a sub-domain of the state space (for our models $R^2$, $R^2 \\times S^1$ or $R^2 \\times S^1 \\times S^1$). \n",
    "Denote by $\\omega_0, \\cdots, \\omega_n$ the control vector fields (for our models $n=1$), and by $\\alpha_0, \\cdots, \\alpha_n$ the related controls (for our models denoted $\\alpha, \\beta$).\n",
    "\n",
    "Our objective is to evaluate the minimal cost $U(z)$ of a path from a reference seed point $z_0$ to a given point $z$. More precisely, \n",
    "$$\n",
    "    U(z)^2 = \\min_{\\alpha_0,\\cdots,\\alpha_n}\\int_0^1 (\\alpha_0(t)^2 +\\cdots+ \\alpha_n(t)^2) dt,\n",
    "$$\n",
    "subject to the following constraint: one has $Z(1) = z$, where $Z : [0,1] \\to \\Omega$ is the path characterized by $Z(0) = z_0$ and for all $0 \\leq t \\leq 1$\n",
    "$$\n",
    "    \\dot Z(t) = \\alpha_0(t) \\omega_0(Z(t)) + \\cdots + \\alpha_n(t) \\omega_n(Z(t)).\n",
    "$$\n",
    "\n",
    "**Eikonal equation.** The value function $U : \\Omega \\to R$ is, under suitable assumptions, the unique viscosity solution of the sub-Riemannian eikonal equation. More precisely, one has $U(z_0) = 0$, outflow boundary conditions on $\\partial \\Omega$, and for all $z \\in \\Omega$ \n",
    "$$\n",
    "    \\|\\nabla u(z)\\|_{D(z)} = 1,\n",
    "$$\n",
    "where $D(z) = \\omega_0(z) \\omega_0(z)^T + \\cdots + \\omega_n(z) \\omega_n(z)^T$ is the sum of the self outer-products of the control vector fields.\n",
    "Note that $D(z)$ is a positive semi-definite matrix, which is rank deficient unless $(\\omega_0(z), \\cdots,\\omega_n(z))$ span the tangent space. The function $H(q,p) := \\frac 1 2 <p,D(q)p>$ is referred to as the Hamiltonian of the system.\n",
    "\n",
    "**Riemannian relaxation.**\n",
    "Denote by $\\tilde \\omega_0, \\cdots , \\tilde \\omega_{\\tilde n}$ a family of vector fields which, together with $\\omega_0, \\cdots, \\omega_n$, span the tangent space to the state space. Let also $\\tilde D := \\tilde\\omega_0(z) \\tilde\\omega_0(z)^T + \\cdots + \\tilde\\omega_{\\tilde n}(z) \\cdots \\tilde \\omega_{\\tilde n}(z)^T$, and for any $\\epsilon >0$\n",
    "$$\n",
    "    D_\\epsilon(z) := D(z) + \\epsilon^2 \\tilde D(z).\n",
    "$$\n",
    "Then $D_\\epsilon(z)$ is a positive definite (full rank) matrix, and the Riemannian eikonal equation \n",
    "$$\n",
    "    \\|\\nabla u_\\epsilon(z)\\|_{D_\\epsilon(z)} = 1,\n",
    "$$\n",
    "is referred to as the $\\epsilon$-relaxation of the sub-Riemannian eikonal equation. The Riemannian eikonal equation can be discretized using the techniques which are standard in this series of notebooks, see below. For sufficiently small $\\epsilon>0$, the solution $u_\\epsilon$ to the Riemannian relaxation is close to the solution $u$ of the original sub-Riemannian equation, see the reference.\n",
    "\n",
    "<!---\n",
    "### 1.2 Sub-Riemannian formalism\n",
    "\n",
    "**Describing a sub-Riemannian model.**\n",
    "\n",
    "Sub-Riemannian geometry is a limit case of Riemannian geometry, where the cost of motion in certain directions tends to infinity. Heuristically, one could say that some of the eigenvalues of the Riemannian metric tensor tend to infinity.\n",
    "A simpler and more rigorous approach is to consider the matrix of the Hamiltonian, defined as the inverse of the Riemannian tensor, which in the sub-Riemannian case is rank-deficient.\n",
    "\n",
    "Our numerical approach to solving eikonal equations does however require a positive definite Hamiltonian. We thus introduce a relaxation parameter $\\epsilon>0$ and consider \n",
    "$$\n",
    "    D(x) = D_0(x) + \\epsilon^2 D_1(x),\n",
    "$$\n",
    "where $D_0$ is the rank deficient hamiltonian of interest, and $D_1$ is introduced so that the sum $D$ is positive definite. By assumption, $D_0$ and $D_1$ must be positive semi-definite.\n",
    "If $\\epsilon$ is small, then the Riemannian eikonal equation based on the matrix $D$, \n",
    "$$\n",
    "\\|\\nabla u(x) \\|_{D(x)} = 1\n",
    "$$\n",
    "is a good enough approximation of the sub-Riemannian eikonal equation, involving $D_0$ instead. We denoted $\\|v\\|_D := \\sqrt{<v,Dv>}$.\n",
    "--->"
   ]
  },
  {
   "cell_type": "markdown",
   "metadata": {},
   "source": [
    "### 1.4 Numerical implementation\n",
    "\n",
    "**Discretization of the eikonal equation.**\n",
    "Assume that a tensor field $D$ admits a decomposition of the type\n",
    "$$\n",
    "    D = \\sum_{i \\in I} \\lambda_i e_i e_i^T,\n",
    "$$\n",
    "where the index set $I$ is finite, $\\lambda_i \\geq 0$ is a non-negative weight, and $e_i \\in Z^d$ is an offset with integer coordinates, for each $i \\in I$.\n",
    "The pointwise dependency of $D=D(x)$, $\\lambda_i=\\lambda_i(x)$, $e_i=e_i(x)$ is omitted for readability.\n",
    "We discretize the Riemannian eikonal equation based on the following finite differences approximation:\n",
    "$$\n",
    "    \\|\\nabla u(x)\\|_{D(x)}^2 \\approx h^{-2} \\sum_{i \\in I} \\max\\{0,u(x)-u(x-h e_i), u(x)-u(x+h e_i)\\}^2.\n",
    "$$\n",
    "This resulting numerical scheme enjoys properties (monotony, causality) which allow to establish the convergence and stability of the method, and to implement it efficiently, see the reference above.\n",
    "\n",
    "**Tensor decomposition techniques and their limitations.**\n",
    "[Selling's](../Notebooks_Algo/TensorSelling.ipynb) and [Voronoi's](../Notebooks_Algo/TensorVoronoi.ipynb) matrix decompositions, are our main tools for obtaining the tensor decomposition presented above. They do require however, that the matrices $D(z)$, $z \\in \\Omega$, be positive definite. In fact, no such decomposition exists for semi-definite matrices in general.\n",
    "\n",
    "In the case of a sub-Riemannian eikonal equation, involving a rank deficient tensor field $D$, we thus apply the previous approach to the Riemannian relaxation $D_\\epsilon$.\n",
    "\n",
    "**Numerical diffusion and pruning.**\n",
    "Consider a decomposition of a Riemannian relaxation $D_\\epsilon = D + \\epsilon^2 \\tilde D$, and note that the Frobenius norm of $D_\\epsilon$ can be expressed as follows:\n",
    "$$\n",
    "    \\mathrm{Tr}(D_\\epsilon^2) = \\sum_{i \\in I} \\lambda_i (\\|e_i\\|_D^2 + \\epsilon^2 \\| e_i \\|_{\\tilde D}^2),\n",
    "$$\n",
    "where all the contributions are non-negative.\n",
    "The pruning step eliminates from the numerical scheme all offsets such that $\\|e_j\\|_D \\leq \\epsilon \\|e_j\\|_{\\tilde D}$, which helps moderate the numerical diffusion, while maintaining the consistency with the sub-Riemannian eikonal equation as $\\epsilon \\to 0$."
   ]
  },
  {
   "cell_type": "markdown",
   "metadata": {},
   "source": [
    "## 2. One trailer"
   ]
  },
  {
   "cell_type": "code",
   "execution_count": 5,
   "metadata": {},
   "outputs": [],
   "source": [
    "θs = np.linspace(0,2*np.pi,96)"
   ]
  },
  {
   "cell_type": "markdown",
   "metadata": {},
   "source": [
    "### 2.1 Control vector fields\n",
    "\n",
    "We reproduce the two control vector fields defining the model, whose mathematical expression is given in the first section."
   ]
  },
  {
   "cell_type": "code",
   "execution_count": 6,
   "metadata": {},
   "outputs": [],
   "source": [
    "def ω(θ,ξ=1):\n",
    "    z,u = np.zeros_like(θ), np.ones_like(θ)\n",
    "    return np.stack([\n",
    "        [ np.cos(θ),np.sin(θ),  z],\n",
    "        [-np.sin(θ),np.cos(θ),ξ*u]\n",
    "    ],axis=1)"
   ]
  },
  {
   "cell_type": "markdown",
   "metadata": {},
   "source": [
    "We also introduce one additional control vector field, used in the Riemannian relaxation, which together with the first two spans the tangent space."
   ]
  },
  {
   "cell_type": "code",
   "execution_count": 7,
   "metadata": {},
   "outputs": [],
   "source": [
    "def ω_(θ,ξ=1):\n",
    "    u = np.ones_like(θ)\n",
    "    return np.stack([\n",
    "        [ξ*np.sin(θ),-ξ*np.cos(θ),u]\n",
    "    ],axis=1)"
   ]
  },
  {
   "cell_type": "markdown",
   "metadata": {},
   "source": [
    "The additional vector field with chosen orthogonal from the two basic fields. This is a common choice, although it is not required.\n",
    "\n",
    "<!---\n",
    "We now implement the sum $D = \\omega_0\\omega_0^T+ \\cdots+ \\omega_n \\omega_n^T$ of the self outer products of some vectors.\n",
    "As mentioned in the introduction, this is a semi-definite matrix, which is rank deficient unless the vectors $(\\omega_0,\\cdots,\\omega_n)$ span $R^d$. \n",
    "\n",
    "If $\\omega_1,\\cdots,\\omega_n$ are the control vector fields, then $D$ defines the sub-Riemannian hamiltonian. In the full-rank Riemannian case, it is also the matrix inverse, or dual, of the metric.\n",
    "\n",
    "def ω2D(ω): \n",
    "    \"\"\"\n",
    "    DUAL of the (sub-)Riemannian metric \n",
    "    defined by a family of control vector fields.\n",
    "    \"\"\"\n",
    "    return Metrics.Riemann(lp.outer_self(ω).sum(axis=1))\n",
    "--->\n",
    "\n",
    "<!---\n",
    "We choose not to store this data in the `Metrics.Riemann` class, since it is \n",
    "**Important note.**\n",
    "In most notebooks, the *Metrics.Riemann* class is used to store a\n",
    "The next function evaluates the sum $\\omega_0\\omega_0^T+ \\cdots+ \\omega_n \\omega_n^T$\n",
    "--->"
   ]
  },
  {
   "cell_type": "code",
   "execution_count": 8,
   "metadata": {},
   "outputs": [],
   "source": [
    "assert np.allclose(lp.dot_VV(ω(θs),ω_(θs)),0)"
   ]
  },
  {
   "cell_type": "markdown",
   "metadata": {},
   "source": [
    "### 2.2 Input"
   ]
  },
  {
   "cell_type": "code",
   "execution_count": 54,
   "metadata": {},
   "outputs": [],
   "source": [
    "hfmIn = Eikonal.dictIn({\n",
    "    'model':'SubRiemann3',\n",
    "    'seed':[0,0,0],\n",
    "    'periodic':[False,False,True],\n",
    "})\n",
    "hfmIn.SetRect([[-1,1],[-1,1],[-np.pi,np.pi]],dims = [101,101,96])\n",
    "hfmIn['origin'][2] -= hfmIn['gridScales'][2]/2 # Angular grid starts at -pi\n",
    "hfmIn.SetUniformTips([4,4,4])"
   ]
  },
  {
   "cell_type": "markdown",
   "metadata": {},
   "source": [
    "Our metric is translation invariant w.r.t the first two coordinates $X = (X_0,X_1)$, only depending on the *last coordinate* the angle $\\theta$. This structure is relatively common, and the HFM library will take advantage of it to save some memory and compute less stencils.\n",
    "\n",
    "More generally, metrics depending only on some of the final coordinates $(x_k,...,x_n)$ are implicitly regarded invariant w.r.t the first coordinates, see also the two trailer case in the next section. (This is a form of broadcasting.)"
   ]
  },
  {
   "cell_type": "code",
   "execution_count": 55,
   "metadata": {},
   "outputs": [],
   "source": [
    "_,_,aθ = hfmIn.Axes()\n",
    "assert np.allclose(aθ[0],-np.pi)"
   ]
  },
  {
   "cell_type": "code",
   "execution_count": 56,
   "metadata": {},
   "outputs": [],
   "source": [
    "ξ=1.\n",
    "hfmIn.update({\n",
    "    'controls':(ω(aθ,ξ), ω_(aθ,ξ)),\n",
    "    'eps':0.1,\n",
    "})"
   ]
  },
  {
   "cell_type": "markdown",
   "metadata": {},
   "source": [
    "## 3. Two trailers"
   ]
  },
  {
   "cell_type": "code",
   "execution_count": 59,
   "metadata": {},
   "outputs": [],
   "source": [
    "angles = np.linspace(0,2*np.pi,96)\n",
    "θs,ϕs = np.meshgrid(angles,angles,indexing='ij')"
   ]
  },
  {
   "cell_type": "markdown",
   "metadata": {},
   "source": [
    "### 3.1 Control vector fields\n",
    "\n",
    "Again, we reproduce the two control vector fields defining the model, whose mathematical expression is given in the first section."
   ]
  },
  {
   "cell_type": "code",
   "execution_count": 61,
   "metadata": {},
   "outputs": [],
   "source": [
    "def ω(θ,ϕ,ξ=1,ζ=1):\n",
    "    z,u = np.zeros_like(θ), np.ones_like(θ)\n",
    "    return np.stack([\n",
    "        [ np.cos(θ),np.sin(θ),z,ζ*np.sin(θ-ϕ)],\n",
    "        [-np.sin(θ),np.cos(θ),ξ*u,z]\n",
    "    ],axis=1)"
   ]
  },
  {
   "cell_type": "markdown",
   "metadata": {},
   "source": [
    "We also introduce two additional control vector fields, used in the Riemannian relaxation, which together with the first two span the tangent space."
   ]
  },
  {
   "cell_type": "code",
   "execution_count": 62,
   "metadata": {},
   "outputs": [],
   "source": [
    "def ω_(θ,ϕ,ξ=1,ζ=1):\n",
    "    z,u = np.zeros_like(θ), np.ones_like(θ)\n",
    "    ρ = -ζ*np.sin(θ-ϕ)\n",
    "    return np.stack([\n",
    "        [ρ*np.cos(θ), ρ*np.sin(θ),z,u],\n",
    "        [ξ*np.sin(θ),-ξ*np.cos(θ),u,z]\n",
    "    ],axis=1)"
   ]
  },
  {
   "cell_type": "code",
   "execution_count": 63,
   "metadata": {},
   "outputs": [],
   "source": [
    "assert np.allclose(lp.dot_VV(ω(θs,ϕs),ω_(θs,ϕs)),0)"
   ]
  },
  {
   "cell_type": "markdown",
   "metadata": {},
   "source": [
    "### 3.2 Input"
   ]
  },
  {
   "cell_type": "code",
   "execution_count": 57,
   "metadata": {},
   "outputs": [],
   "source": [
    "hfmIn = Eikonal.dictIn({\n",
    "    'model':'SubRiemann4',\n",
    "    'seed':[0,0,0,0],\n",
    "    'periodic':[False,False,True,True],\n",
    "})\n",
    "hfmIn.SetRect([[-0.5,0.5],[-0.5,0.5],[-np.pi,np.pi],[-np.pi,np.pi]],dims=[51,51,64,64])\n",
    "hfmIn['origin'][2:] -= hfmIn['gridScales'][2:]/2 # Angular grid starts at -pi\n",
    "hfmIn.SetUniformTips([4,4,4,3])"
   ]
  },
  {
   "cell_type": "markdown",
   "metadata": {},
   "source": [
    "Our metric is translation invariant w.r.t the first two coordinates $X = (X_0,X_1)$, only depending on the *last two coordinates* the angle $\\theta$ and $\\phi$. This structure is relatively common, and the HFM library will take advantage of it to save some memory and compute less stencils."
   ]
  },
  {
   "cell_type": "code",
   "execution_count": 59,
   "metadata": {},
   "outputs": [],
   "source": [
    "_,_,aθ,aϕ = hfmIn.Axes()\n",
    "assert np.allclose(aθ[0],-np.pi) and np.allclose(aϕ[0],-np.pi)\n",
    "θs,ϕs = np.meshgrid(aθ,aϕ,indexing='ij')"
   ]
  },
  {
   "cell_type": "code",
   "execution_count": 64,
   "metadata": {},
   "outputs": [],
   "source": [
    "ξ,ζ=1.,1.\n",
    "hfmIn.update({\n",
    "    'controls':[ω(θs,ϕs,ξ,ζ), ω_(θs,ϕs,ξ,ζ)],\n",
    "    'eps':0.1,\n",
    "})"
   ]
  },
  {
   "cell_type": "code",
   "execution_count": null,
   "metadata": {},
   "outputs": [],
   "source": []
  }
 ],
 "metadata": {
  "kernelspec": {
   "display_name": "Python 3",
   "language": "python",
   "name": "python3"
  },
  "language_info": {
   "codemirror_mode": {
    "name": "ipython",
    "version": 3
   },
   "file_extension": ".py",
   "mimetype": "text/x-python",
   "name": "python",
   "nbconvert_exporter": "python",
   "pygments_lexer": "ipython3",
   "version": "3.7.6"
  }
 },
 "nbformat": 4,
 "nbformat_minor": 4
}

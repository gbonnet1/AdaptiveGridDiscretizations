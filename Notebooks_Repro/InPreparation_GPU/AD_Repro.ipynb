{
 "cells": [
  {
   "cell_type": "markdown",
   "metadata": {},
   "source": [
    "# Adaptive PDE discretizations on cartesian grids \n",
    "## Volume : GPU accelerated methods\n",
    "## Part : Reproducibility\n",
    "## Chapter : Automatic differentiation"
   ]
  },
  {
   "cell_type": "markdown",
   "metadata": {},
   "source": [
    "## 0. Importing the required libraries"
   ]
  },
  {
   "cell_type": "code",
   "execution_count": 1,
   "metadata": {},
   "outputs": [],
   "source": [
    "import sys; sys.path.insert(0,\"../..\")\n",
    "#from Miscellaneous import TocTools; print(TocTools.displayTOC('Isotropic_Repro','GPU'))"
   ]
  },
  {
   "cell_type": "code",
   "execution_count": 2,
   "metadata": {},
   "outputs": [],
   "source": [
    "import cupy as cp\n",
    "import numpy as np\n",
    "import itertools\n",
    "from copy import copy\n",
    "from matplotlib import pyplot as plt\n",
    "np.set_printoptions(edgeitems=30, linewidth=100000, formatter=dict(float=lambda x: \"%5.3g\" % x))"
   ]
  },
  {
   "cell_type": "code",
   "execution_count": 3,
   "metadata": {},
   "outputs": [],
   "source": [
    "from agd import AutomaticDifferentiation as ad\n",
    "from agd import Metrics\n",
    "from agd import FiniteDifferences as fd\n",
    "from agd import LinearParallel as lp\n",
    "import agd.AutomaticDifferentiation.cupy_generic as cugen\n",
    "norm_infinity = ad.Optimization.norm_infinity"
   ]
  },
  {
   "cell_type": "code",
   "execution_count": null,
   "metadata": {},
   "outputs": [],
   "source": []
  },
  {
   "cell_type": "code",
   "execution_count": null,
   "metadata": {},
   "outputs": [],
   "source": []
  },
  {
   "cell_type": "code",
   "execution_count": null,
   "metadata": {},
   "outputs": [],
   "source": []
  },
  {
   "cell_type": "code",
   "execution_count": 11,
   "metadata": {},
   "outputs": [],
   "source": [
    "z=ad.Sparse.identity(constant=cp.ones((2,2),dtype=np.float32))\n",
    "adtype = type(z)"
   ]
  },
  {
   "cell_type": "code",
   "execution_count": 13,
   "metadata": {},
   "outputs": [
    {
     "data": {
      "text/plain": [
       "dtype('int32')"
      ]
     },
     "execution_count": 13,
     "metadata": {},
     "output_type": "execute_result"
    }
   ],
   "source": [
    "z.index.dtype"
   ]
  },
  {
   "cell_type": "code",
   "execution_count": 7,
   "metadata": {},
   "outputs": [
    {
     "data": {
      "text/plain": [
       "4"
      ]
     },
     "execution_count": 7,
     "metadata": {},
     "output_type": "execute_result"
    }
   ],
   "source": [
    "z.sum(axis=-1).size_ad"
   ]
  },
  {
   "cell_type": "code",
   "execution_count": 16,
   "metadata": {},
   "outputs": [
    {
     "data": {
      "text/plain": [
       "2"
      ]
     },
     "execution_count": 16,
     "metadata": {},
     "output_type": "execute_result"
    }
   ],
   "source": [
    "z.ndim"
   ]
  },
  {
   "cell_type": "code",
   "execution_count": 6,
   "metadata": {},
   "outputs": [
    {
     "data": {
      "text/plain": [
       "True"
      ]
     },
     "execution_count": 6,
     "metadata": {},
     "output_type": "execute_result"
    }
   ],
   "source": [
    "isinstance(z,cp.ndarray)"
   ]
  },
  {
   "cell_type": "code",
   "execution_count": 8,
   "metadata": {},
   "outputs": [
    {
     "name": "stdout",
     "output_type": "stream",
     "text": [
      "hi\n"
     ]
    },
    {
     "data": {
      "text/plain": [
       "False"
      ]
     },
     "execution_count": 8,
     "metadata": {},
     "output_type": "execute_result"
    }
   ],
   "source": [
    "adtype(z)"
   ]
  },
  {
   "cell_type": "code",
   "execution_count": 6,
   "metadata": {},
   "outputs": [
    {
     "data": {
      "text/plain": [
       "denseAD(array([  0.5,   0.5]),\n",
       "array([[  0.5,     0],\n",
       "       [    0,   0.5]]))"
      ]
     },
     "execution_count": 6,
     "metadata": {},
     "output_type": "execute_result"
    }
   ],
   "source": [
    "z/(2*cp.ones(2))"
   ]
  },
  {
   "cell_type": "code",
   "execution_count": 7,
   "metadata": {},
   "outputs": [
    {
     "data": {
      "text/plain": [
       "denseAD(array([    1,     1]),\n",
       "array([[    1,     0],\n",
       "       [    0,     1]]))"
      ]
     },
     "execution_count": 7,
     "metadata": {},
     "output_type": "execute_result"
    }
   ],
   "source": [
    "z/adtype(cp.ones(2))"
   ]
  },
  {
   "cell_type": "code",
   "execution_count": 8,
   "metadata": {},
   "outputs": [
    {
     "data": {
      "text/plain": [
       "array([ True,  True])"
      ]
     },
     "execution_count": 8,
     "metadata": {},
     "output_type": "execute_result"
    }
   ],
   "source": [
    "z>=0.5"
   ]
  },
  {
   "cell_type": "code",
   "execution_count": 10,
   "metadata": {},
   "outputs": [
    {
     "data": {
      "text/plain": [
       "denseAD(array([0.841, 0.841]),\n",
       "array([[ 0.54,     0],\n",
       "       [    0,  0.54]]))"
      ]
     },
     "execution_count": 10,
     "metadata": {},
     "output_type": "execute_result"
    }
   ],
   "source": [
    "np.sin(z)"
   ]
  },
  {
   "cell_type": "code",
   "execution_count": 5,
   "metadata": {},
   "outputs": [],
   "source": [
    "#cp = ad.functional.decorate_module_functions(cp,cugen.set_output_dtype32) # Use float32 and int32 types in place of float64 and int64\n",
    "#plt = ad.functional.decorate_module_functions(plt,cugen.cupy_get_args)"
   ]
  },
  {
   "cell_type": "code",
   "execution_count": 6,
   "metadata": {},
   "outputs": [
    {
     "name": "stdout",
     "output_type": "stream",
     "text": [
      "[    0     0] [[    1     0]\n",
      " [    0     1]]\n"
     ]
    },
    {
     "data": {
      "text/plain": [
       "False"
      ]
     },
     "execution_count": 6,
     "metadata": {},
     "output_type": "execute_result"
    }
   ],
   "source": [
    "x_numpy = ad.Dense.identity((2,))\n",
    "x_numpy.cupy_based()"
   ]
  },
  {
   "cell_type": "code",
   "execution_count": 7,
   "metadata": {},
   "outputs": [
    {
     "name": "stdout",
     "output_type": "stream",
     "text": [
      "[    0     0] [[    1     0]\n",
      " [    0     1]]\n"
     ]
    },
    {
     "data": {
      "text/plain": [
       "denseAD(array([    0,     0]),\n",
       "array([[    1,     0],\n",
       "       [    0,     1]]))"
      ]
     },
     "execution_count": 7,
     "metadata": {},
     "output_type": "execute_result"
    }
   ],
   "source": [
    "ad.Dense.identity((2,))"
   ]
  },
  {
   "cell_type": "code",
   "execution_count": 7,
   "metadata": {},
   "outputs": [],
   "source": [
    "denseAD_cupy = cugen.cupy_rebase(ad.Dense.denseAD)"
   ]
  },
  {
   "cell_type": "code",
   "execution_count": 8,
   "metadata": {},
   "outputs": [
    {
     "data": {
      "text/plain": [
       "(cupy.core.core.ndarray,)"
      ]
     },
     "execution_count": 8,
     "metadata": {},
     "output_type": "execute_result"
    }
   ],
   "source": [
    "denseAD_cupy.__bases__"
   ]
  },
  {
   "cell_type": "code",
   "execution_count": 10,
   "metadata": {},
   "outputs": [
    {
     "name": "stdout",
     "output_type": "stream",
     "text": [
      "__new__ [    1     1] ()\n"
     ]
    },
    {
     "data": {
      "text/plain": [
       "(denseAD(array([    1,     1]),array([], dtype=float64)), (2,))"
      ]
     },
     "execution_count": 10,
     "metadata": {},
     "output_type": "execute_result"
    }
   ],
   "source": [
    "x=cp.ones(2)\n",
    "z = denseAD_cupy(x)\n",
    "type(z.coef)\n",
    "z,z.shape"
   ]
  },
  {
   "cell_type": "code",
   "execution_count": 11,
   "metadata": {},
   "outputs": [
    {
     "data": {
      "text/plain": [
       "True"
      ]
     },
     "execution_count": 11,
     "metadata": {},
     "output_type": "execute_result"
    }
   ],
   "source": [
    "z.cupy_based()"
   ]
  },
  {
   "cell_type": "code",
   "execution_count": 12,
   "metadata": {},
   "outputs": [
    {
     "data": {
      "text/plain": [
       "denseAD(array([    1,     1]),array([], dtype=float64))"
      ]
     },
     "execution_count": 12,
     "metadata": {},
     "output_type": "execute_result"
    }
   ],
   "source": [
    "z.new(z.value,z.coef)"
   ]
  },
  {
   "cell_type": "code",
   "execution_count": 13,
   "metadata": {},
   "outputs": [
    {
     "data": {
      "text/plain": [
       "agd.AutomaticDifferentiation.Dense.denseAD_cupy"
      ]
     },
     "execution_count": 13,
     "metadata": {},
     "output_type": "execute_result"
    }
   ],
   "source": [
    "type(z)"
   ]
  },
  {
   "cell_type": "code",
   "execution_count": 14,
   "metadata": {},
   "outputs": [
    {
     "name": "stdout",
     "output_type": "stream",
     "text": [
      "[    1     1] [[    1     0]\n",
      " [    0     1]]\n"
     ]
    },
    {
     "ename": "AssertionError",
     "evalue": "",
     "output_type": "error",
     "traceback": [
      "\u001b[1;31m---------------------------------------------------------------------------\u001b[0m",
      "\u001b[1;31mAssertionError\u001b[0m                            Traceback (most recent call last)",
      "\u001b[1;32m<ipython-input-14-f5ecf5024c37>\u001b[0m in \u001b[0;36m<module>\u001b[1;34m\u001b[0m\n\u001b[1;32m----> 1\u001b[1;33m \u001b[0mad\u001b[0m\u001b[1;33m.\u001b[0m\u001b[0mDense\u001b[0m\u001b[1;33m.\u001b[0m\u001b[0midentity\u001b[0m\u001b[1;33m(\u001b[0m\u001b[0mconstant\u001b[0m\u001b[1;33m=\u001b[0m\u001b[0mcp\u001b[0m\u001b[1;33m.\u001b[0m\u001b[0mones\u001b[0m\u001b[1;33m(\u001b[0m\u001b[1;36m2\u001b[0m\u001b[1;33m)\u001b[0m\u001b[1;33m)\u001b[0m\u001b[1;33m\u001b[0m\u001b[1;33m\u001b[0m\u001b[0m\n\u001b[0m",
      "\u001b[1;32m~\\Documents\\GitHub\\AdaptiveGridDiscretizations\\agd\\AutomaticDifferentiation\\Dense.py\u001b[0m in \u001b[0;36midentity\u001b[1;34m(shape, shape_free, shape_bound, constant, shift)\u001b[0m\n\u001b[0;32m    333\u001b[0m         \u001b[0mcls\u001b[0m \u001b[1;33m=\u001b[0m \u001b[0mcupy_rebase\u001b[0m\u001b[1;33m(\u001b[0m\u001b[0mdenseAD\u001b[0m\u001b[1;33m)\u001b[0m \u001b[1;32mif\u001b[0m \u001b[0mfrom_cupy\u001b[0m\u001b[1;33m(\u001b[0m\u001b[0mconstant\u001b[0m\u001b[1;33m)\u001b[0m \u001b[1;32melse\u001b[0m \u001b[0mdenseAD\u001b[0m\u001b[1;33m\u001b[0m\u001b[1;33m\u001b[0m\u001b[0m\n\u001b[0;32m    334\u001b[0m         \u001b[0mprint\u001b[0m\u001b[1;33m(\u001b[0m\u001b[0mconstant\u001b[0m\u001b[1;33m,\u001b[0m\u001b[0mcoef1\u001b[0m\u001b[1;33m)\u001b[0m\u001b[1;33m\u001b[0m\u001b[1;33m\u001b[0m\u001b[0m\n\u001b[1;32m--> 335\u001b[1;33m         \u001b[1;32mreturn\u001b[0m \u001b[0mcls\u001b[0m\u001b[1;33m(\u001b[0m\u001b[0mconstant\u001b[0m\u001b[1;33m,\u001b[0m\u001b[0mcoef1\u001b[0m\u001b[1;33m)\u001b[0m\u001b[1;33m\u001b[0m\u001b[1;33m\u001b[0m\u001b[0m\n\u001b[0m\u001b[0;32m    336\u001b[0m \u001b[1;33m\u001b[0m\u001b[0m\n\u001b[0;32m    337\u001b[0m \u001b[1;32mdef\u001b[0m \u001b[0mregister\u001b[0m\u001b[1;33m(\u001b[0m\u001b[0minputs\u001b[0m\u001b[1;33m,\u001b[0m\u001b[0miterables\u001b[0m\u001b[1;33m=\u001b[0m\u001b[1;32mNone\u001b[0m\u001b[1;33m,\u001b[0m\u001b[0mshape_bound\u001b[0m\u001b[1;33m=\u001b[0m\u001b[1;32mNone\u001b[0m\u001b[1;33m,\u001b[0m\u001b[0mshift\u001b[0m\u001b[1;33m=\u001b[0m\u001b[1;33m(\u001b[0m\u001b[1;36m0\u001b[0m\u001b[1;33m,\u001b[0m\u001b[1;36m0\u001b[0m\u001b[1;33m)\u001b[0m\u001b[1;33m,\u001b[0m\u001b[0mident\u001b[0m\u001b[1;33m=\u001b[0m\u001b[0midentity\u001b[0m\u001b[1;33m,\u001b[0m\u001b[0mconsidered\u001b[0m\u001b[1;33m=\u001b[0m\u001b[1;32mNone\u001b[0m\u001b[1;33m)\u001b[0m\u001b[1;33m:\u001b[0m\u001b[1;33m\u001b[0m\u001b[1;33m\u001b[0m\u001b[0m\n",
      "\u001b[1;32m~\\Documents\\GitHub\\AdaptiveGridDiscretizations\\agd\\AutomaticDifferentiation\\Dense.py\u001b[0m in \u001b[0;36m__new__\u001b[1;34m(cls, value, coef, broadcast_ad)\u001b[0m\n\u001b[0;32m     32\u001b[0m                 \u001b[0mshape2\u001b[0m \u001b[1;33m=\u001b[0m \u001b[0mshape\u001b[0m\u001b[1;33m+\u001b[0m\u001b[1;33m(\u001b[0m\u001b[1;36m0\u001b[0m\u001b[1;33m,\u001b[0m\u001b[1;33m)\u001b[0m\u001b[1;33m\u001b[0m\u001b[1;33m\u001b[0m\u001b[0m\n\u001b[0;32m     33\u001b[0m \t\tobj.coef  = (numpy_like.zeros_like(value,shape=shape2) if coef is None \n\u001b[1;32m---> 34\u001b[1;33m \t\t\telse misc._test_or_broadcast_ad(coef,shape,broadcast_ad) )\n\u001b[0m\u001b[0;32m     35\u001b[0m                 \u001b[1;32mreturn\u001b[0m \u001b[0mobj\u001b[0m\u001b[1;33m\u001b[0m\u001b[1;33m\u001b[0m\u001b[0m\n\u001b[0;32m     36\u001b[0m \u001b[1;33m\u001b[0m\u001b[0m\n",
      "\u001b[1;32m~\\Documents\\GitHub\\AdaptiveGridDiscretizations\\agd\\AutomaticDifferentiation\\misc.py\u001b[0m in \u001b[0;36m_test_or_broadcast_ad\u001b[1;34m(array, shape, broadcast, ad_depth)\u001b[0m\n\u001b[0;32m     60\u001b[0m                         \u001b[1;32mreturn\u001b[0m \u001b[0mnp\u001b[0m\u001b[1;33m.\u001b[0m\u001b[0mbroadcast_to\u001b[0m\u001b[1;33m(\u001b[0m\u001b[0marray\u001b[0m\u001b[1;33m,\u001b[0m\u001b[0mshape\u001b[0m\u001b[1;33m+\u001b[0m\u001b[0marray\u001b[0m\u001b[1;33m.\u001b[0m\u001b[0mshape\u001b[0m\u001b[1;33m[\u001b[0m\u001b[1;33m-\u001b[0m\u001b[0mad_depth\u001b[0m\u001b[1;33m:\u001b[0m\u001b[1;33m]\u001b[0m\u001b[1;33m)\u001b[0m\u001b[1;33m\u001b[0m\u001b[1;33m\u001b[0m\u001b[0m\n\u001b[0;32m     61\u001b[0m         \u001b[1;32melse\u001b[0m\u001b[1;33m:\u001b[0m\u001b[1;33m\u001b[0m\u001b[1;33m\u001b[0m\u001b[0m\n\u001b[1;32m---> 62\u001b[1;33m                 \u001b[1;32massert\u001b[0m \u001b[0marray\u001b[0m\u001b[1;33m.\u001b[0m\u001b[0mshape\u001b[0m\u001b[1;33m[\u001b[0m\u001b[1;33m:\u001b[0m\u001b[1;33m-\u001b[0m\u001b[0mad_depth\u001b[0m\u001b[1;33m]\u001b[0m\u001b[1;33m==\u001b[0m\u001b[0mshape\u001b[0m\u001b[1;33m\u001b[0m\u001b[1;33m\u001b[0m\u001b[0m\n\u001b[0m\u001b[0;32m     63\u001b[0m                 \u001b[1;32mreturn\u001b[0m \u001b[0marray\u001b[0m\u001b[1;33m\u001b[0m\u001b[1;33m\u001b[0m\u001b[0m\n\u001b[0;32m     64\u001b[0m \u001b[1;33m\u001b[0m\u001b[0m\n",
      "\u001b[1;31mAssertionError\u001b[0m: "
     ]
    }
   ],
   "source": []
  },
  {
   "cell_type": "markdown",
   "metadata": {},
   "source": [
    "## 1. Dense  "
   ]
  },
  {
   "cell_type": "code",
   "execution_count": 39,
   "metadata": {},
   "outputs": [
    {
     "name": "stdout",
     "output_type": "stream",
     "text": [
      "Help on class ndarray in module cupy.core.core:\n",
      "\n",
      "class ndarray(builtins.object)\n",
      " |  ndarray(shape, dtype=float, memptr=None, strides=None, order=u'C')\n",
      " |  Multi-dimensional array on a CUDA device.\n",
      " |  \n",
      " |      This class implements a subset of methods of :class:`numpy.ndarray`.\n",
      " |      The difference is that this class allocates the array content on the\n",
      " |      current GPU device.\n",
      " |  \n",
      " |      Args:\n",
      " |          shape (tuple of ints): Length of axes.\n",
      " |          dtype: Data type. It must be an argument of :class:`numpy.dtype`.\n",
      " |          memptr (cupy.cuda.MemoryPointer): Pointer to the array content head.\n",
      " |          strides (tuple of ints or None): Strides of data in memory.\n",
      " |          order ({'C', 'F'}): Row-major (C-style) or column-major\n",
      " |              (Fortran-style) order.\n",
      " |  \n",
      " |      Attributes:\n",
      " |          base (None or cupy.ndarray): Base array from which this array is\n",
      " |              created as a view.\n",
      " |          data (cupy.cuda.MemoryPointer): Pointer to the array content head.\n",
      " |          ~ndarray.dtype(numpy.dtype): Dtype object of element type.\n",
      " |  \n",
      " |              .. seealso::\n",
      " |                 `Data type objects (dtype)                <https://docs.scipy.org/doc/numpy/reference/arrays.dtypes.html>`_\n",
      " |          ~ndarray.size (int): Number of elements this array holds.\n",
      " |  \n",
      " |              This is equivalent to product over the shape tuple.\n",
      " |  \n",
      " |              .. seealso:: :attr:`numpy.ndarray.size`\n",
      " |  \n",
      " |  Methods defined here:\n",
      " |  \n",
      " |  __abs__(self, /)\n",
      " |      abs(self)\n",
      " |  \n",
      " |  __add__(self, value, /)\n",
      " |      Return self+value.\n",
      " |  \n",
      " |  __and__(self, value, /)\n",
      " |      Return self&value.\n",
      " |  \n",
      " |  __array__(...)\n",
      " |      ndarray.__array__(self, dtype=None)\n",
      " |  \n",
      " |  __array_function__(...)\n",
      " |      ndarray.__array_function__(self, func, types, args, kwargs)\n",
      " |  \n",
      " |  __array_ufunc__(...)\n",
      " |      ndarray.__array_ufunc__(self, ufunc, method, *inputs, **kwargs)\n",
      " |      Apply unary or binary ufunc to this array\n",
      " |      \n",
      " |              If binary, only allow if second argument is another cupy ndarray or\n",
      " |              a number, i.e., raise ValueError instead of silently converting a\n",
      " |              numpy array.\n",
      " |  \n",
      " |  __bool__(self, /)\n",
      " |      self != 0\n",
      " |  \n",
      " |  __complex__(...)\n",
      " |      ndarray.__complex__(self)\n",
      " |  \n",
      " |  __copy__(...)\n",
      " |      ndarray.__copy__(self)\n",
      " |  \n",
      " |  __deepcopy__(...)\n",
      " |      ndarray.__deepcopy__(self, memo)\n",
      " |  \n",
      " |  __delitem__(self, key, /)\n",
      " |      Delete self[key].\n",
      " |  \n",
      " |  __divmod__(self, value, /)\n",
      " |      Return divmod(self, value).\n",
      " |  \n",
      " |  __eq__(self, value, /)\n",
      " |      Return self==value.\n",
      " |  \n",
      " |  __float__(self, /)\n",
      " |      float(self)\n",
      " |  \n",
      " |  __floordiv__(self, value, /)\n",
      " |      Return self//value.\n",
      " |  \n",
      " |  __ge__(self, value, /)\n",
      " |      Return self>=value.\n",
      " |  \n",
      " |  __getitem__(...)\n",
      " |      x.__getitem__(y) <==> x[y]\n",
      " |      \n",
      " |      Supports both basic and advanced indexing.\n",
      " |      \n",
      " |      .. note::\n",
      " |      \n",
      " |          Currently, it does not support ``slices`` that consists of more\n",
      " |          than one boolean arrays\n",
      " |      \n",
      " |      .. note::\n",
      " |      \n",
      " |         CuPy handles out-of-bounds indices differently from NumPy.\n",
      " |         NumPy handles them by raising an error, but CuPy wraps around them.\n",
      " |      \n",
      " |      Example:\n",
      " |      \n",
      " |          >>> a = cupy.arange(3)\n",
      " |          >>> a[[1, 3]]\n",
      " |          array([1, 0])\n",
      " |  \n",
      " |  __gt__(self, value, /)\n",
      " |      Return self>value.\n",
      " |  \n",
      " |  __iadd__(self, value, /)\n",
      " |      Return self+=value.\n",
      " |  \n",
      " |  __iand__(self, value, /)\n",
      " |      Return self&=value.\n",
      " |  \n",
      " |  __ifloordiv__(self, value, /)\n",
      " |      Return self//=value.\n",
      " |  \n",
      " |  __ilshift__(self, value, /)\n",
      " |      Return self<<=value.\n",
      " |  \n",
      " |  __imod__(self, value, /)\n",
      " |      Return self%=value.\n",
      " |  \n",
      " |  __imul__(self, value, /)\n",
      " |      Return self*=value.\n",
      " |  \n",
      " |  __init__(self, /, *args, **kwargs)\n",
      " |      Initialize self.  See help(type(self)) for accurate signature.\n",
      " |  \n",
      " |  __int__(self, /)\n",
      " |      int(self)\n",
      " |  \n",
      " |  __invert__(self, /)\n",
      " |      ~self\n",
      " |  \n",
      " |  __ior__(self, value, /)\n",
      " |      Return self|=value.\n",
      " |  \n",
      " |  __ipow__(self, value, /)\n",
      " |      Return self**=value.\n",
      " |  \n",
      " |  __irshift__(self, value, /)\n",
      " |      Return self>>=value.\n",
      " |  \n",
      " |  __isub__(self, value, /)\n",
      " |      Return self-=value.\n",
      " |  \n",
      " |  __iter__(self, /)\n",
      " |      Implement iter(self).\n",
      " |  \n",
      " |  __itruediv__(self, value, /)\n",
      " |      Return self/=value.\n",
      " |  \n",
      " |  __ixor__(self, value, /)\n",
      " |      Return self^=value.\n",
      " |  \n",
      " |  __le__(self, value, /)\n",
      " |      Return self<=value.\n",
      " |  \n",
      " |  __len__(self, /)\n",
      " |      Return len(self).\n",
      " |  \n",
      " |  __lshift__(self, value, /)\n",
      " |      Return self<<value.\n",
      " |  \n",
      " |  __lt__(self, value, /)\n",
      " |      Return self<value.\n",
      " |  \n",
      " |  __matmul__(self, value, /)\n",
      " |      Return self@value.\n",
      " |  \n",
      " |  __mod__(self, value, /)\n",
      " |      Return self%value.\n",
      " |  \n",
      " |  __mul__(self, value, /)\n",
      " |      Return self*value.\n",
      " |  \n",
      " |  __ne__(self, value, /)\n",
      " |      Return self!=value.\n",
      " |  \n",
      " |  __neg__(self, /)\n",
      " |      -self\n",
      " |  \n",
      " |  __or__(self, value, /)\n",
      " |      Return self|value.\n",
      " |  \n",
      " |  __pos__(self, /)\n",
      " |      +self\n",
      " |  \n",
      " |  __pow__(self, value, mod=None, /)\n",
      " |      Return pow(self, value, mod).\n",
      " |  \n",
      " |  __radd__(self, value, /)\n",
      " |      Return value+self.\n",
      " |  \n",
      " |  __rand__(self, value, /)\n",
      " |      Return value&self.\n",
      " |  \n",
      " |  __rdivmod__(self, value, /)\n",
      " |      Return divmod(value, self).\n",
      " |  \n",
      " |  __reduce__(...)\n",
      " |      ndarray.__reduce__(self)\n",
      " |  \n",
      " |  __repr__(self, /)\n",
      " |      Return repr(self).\n",
      " |  \n",
      " |  __rfloordiv__(self, value, /)\n",
      " |      Return value//self.\n",
      " |  \n",
      " |  __rlshift__(self, value, /)\n",
      " |      Return value<<self.\n",
      " |  \n",
      " |  __rmatmul__(self, value, /)\n",
      " |      Return value@self.\n",
      " |  \n",
      " |  __rmod__(self, value, /)\n",
      " |      Return value%self.\n",
      " |  \n",
      " |  __rmul__(self, value, /)\n",
      " |      Return value*self.\n",
      " |  \n",
      " |  __ror__(self, value, /)\n",
      " |      Return value|self.\n",
      " |  \n",
      " |  __rpow__(self, value, mod=None, /)\n",
      " |      Return pow(value, self, mod).\n",
      " |  \n",
      " |  __rrshift__(self, value, /)\n",
      " |      Return value>>self.\n",
      " |  \n",
      " |  __rshift__(self, value, /)\n",
      " |      Return self>>value.\n",
      " |  \n",
      " |  __rsub__(self, value, /)\n",
      " |      Return value-self.\n",
      " |  \n",
      " |  __rtruediv__(self, value, /)\n",
      " |      Return value/self.\n",
      " |  \n",
      " |  __rxor__(self, value, /)\n",
      " |      Return value^self.\n",
      " |  \n",
      " |  __setitem__(...)\n",
      " |      x.__setitem__(slices, y) <==> x[slices] = y\n",
      " |      \n",
      " |      Supports both basic and advanced indexing.\n",
      " |      \n",
      " |      .. note::\n",
      " |      \n",
      " |          Currently, it does not support ``slices`` that consists of more\n",
      " |          than one boolean arrays\n",
      " |      \n",
      " |      .. note::\n",
      " |      \n",
      " |          CuPy handles out-of-bounds indices differently from NumPy when\n",
      " |          using integer array indexing.\n",
      " |          NumPy handles them by raising an error, but CuPy wraps around them.\n",
      " |      \n",
      " |          >>> import cupy\n",
      " |          >>> x = cupy.arange(3)\n",
      " |          >>> x[[1, 3]] = 10\n",
      " |          >>> x\n",
      " |          array([10, 10,  2])\n",
      " |      \n",
      " |      .. note::\n",
      " |      \n",
      " |          The behavior differs from NumPy when integer arrays in ``slices``\n",
      " |          reference the same location multiple times.\n",
      " |          In that case, the value that is actually stored is undefined.\n",
      " |      \n",
      " |          >>> import cupy\n",
      " |          >>> a = cupy.zeros((2,))\n",
      " |          >>> i = cupy.arange(10000) % 2\n",
      " |          >>> v = cupy.arange(10000).astype(cupy.float)\n",
      " |          >>> a[i] = v\n",
      " |          >>> a  # doctest: +SKIP\n",
      " |          array([9150., 9151.])\n",
      " |      \n",
      " |          On the other hand, NumPy stores the value corresponding to the\n",
      " |          last index among the indices referencing duplicate locations.\n",
      " |      \n",
      " |          >>> import numpy\n",
      " |          >>> a_cpu = numpy.zeros((2,))\n",
      " |          >>> i_cpu = numpy.arange(10000) % 2\n",
      " |          >>> v_cpu = numpy.arange(10000).astype(numpy.float)\n",
      " |          >>> a_cpu[i_cpu] = v_cpu\n",
      " |          >>> a_cpu\n",
      " |          array([9998., 9999.])\n",
      " |  \n",
      " |  __str__(self, /)\n",
      " |      Return str(self).\n",
      " |  \n",
      " |  __sub__(self, value, /)\n",
      " |      Return self-value.\n",
      " |  \n",
      " |  __truediv__(self, value, /)\n",
      " |      Return self/value.\n",
      " |  \n",
      " |  __xor__(self, value, /)\n",
      " |      Return self^value.\n",
      " |  \n",
      " |  all(...)\n",
      " |      ndarray.all(self, axis=None, out=None, keepdims=False) -> ndarray\n",
      " |  \n",
      " |  any(...)\n",
      " |      ndarray.any(self, axis=None, out=None, keepdims=False) -> ndarray\n",
      " |  \n",
      " |  argmax(...)\n",
      " |      ndarray.argmax(self, axis=None, out=None, dtype=None, keepdims=False) -> ndarray\n",
      " |      Returns the indices of the maximum along a given axis.\n",
      " |      \n",
      " |              .. seealso::\n",
      " |                 :func:`cupy.argmax` for full documentation,\n",
      " |                 :meth:`numpy.ndarray.argmax`\n",
      " |  \n",
      " |  argmin(...)\n",
      " |      ndarray.argmin(self, axis=None, out=None, dtype=None, keepdims=False) -> ndarray\n",
      " |      Returns the indices of the minimum along a given axis.\n",
      " |      \n",
      " |              .. seealso::\n",
      " |                 :func:`cupy.argmin` for full documentation,\n",
      " |                 :meth:`numpy.ndarray.argmin`\n",
      " |  \n",
      " |  argpartition(...)\n",
      " |      ndarray.argpartition(self, kth, axis=-1) -> ndarray\n",
      " |      Returns the indices that would partially sort an array.\n",
      " |      \n",
      " |              Args:\n",
      " |                  kth (int or sequence of ints): Element index to partition by. If\n",
      " |                      supplied with a sequence of k-th it will partition all elements\n",
      " |                      indexed by k-th of them into their sorted position at once.\n",
      " |                  axis (int or None): Axis along which to sort. Default is -1, which\n",
      " |                      means sort along the last axis. If None is supplied, the array\n",
      " |                      is flattened before sorting.\n",
      " |      \n",
      " |              Returns:\n",
      " |                  cupy.ndarray: Array of the same type and shape as ``a``.\n",
      " |      \n",
      " |              .. seealso::\n",
      " |                  :func:`cupy.argpartition` for full documentation,\n",
      " |                  :meth:`numpy.ndarray.argpartition`\n",
      " |  \n",
      " |  argsort(...)\n",
      " |      ndarray.argsort(self, axis=-1) -> ndarray\n",
      " |      Returns the indices that would sort an array with stable sorting\n",
      " |      \n",
      " |              Args:\n",
      " |                  axis (int or None): Axis along which to sort. Default is -1, which\n",
      " |                      means sort along the last axis. If None is supplied, the array\n",
      " |                      is flattened before sorting.\n",
      " |      \n",
      " |              Returns:\n",
      " |                  cupy.ndarray: Array of indices that sort the array.\n",
      " |      \n",
      " |              .. seealso::\n",
      " |                  :func:`cupy.argsort` for full documentation,\n",
      " |                  :meth:`numpy.ndarray.argsort`\n",
      " |  \n",
      " |  astype(...)\n",
      " |      ndarray.astype(self, dtype, order=u'K', casting=None, subok=None, copy=True) -> ndarray\n",
      " |      Casts the array to given data type.\n",
      " |      \n",
      " |              Args:\n",
      " |                  dtype: Type specifier.\n",
      " |                  order ({'C', 'F', 'A', 'K'}): Row-major (C-style) or column-major\n",
      " |                      (Fortran-style) order.\n",
      " |                      When ``order`` is 'A', it uses 'F' if ``a`` is column-major and\n",
      " |                      uses 'C' otherwise.\n",
      " |                      And when ``order`` is 'K', it keeps strides as closely as\n",
      " |                      possible.\n",
      " |                  copy (bool): If it is False and no cast happens, then this method\n",
      " |                      returns the array itself. Otherwise, a copy is returned.\n",
      " |      \n",
      " |              Returns:\n",
      " |                  If ``copy`` is False and no cast is required, then the array itself\n",
      " |                  is returned. Otherwise, it returns a (possibly casted) copy of the\n",
      " |                  array.\n",
      " |      \n",
      " |              .. note::\n",
      " |                 This method currently does not support ``casting``, and ``subok``\n",
      " |                 arguments.\n",
      " |      \n",
      " |              .. seealso:: :meth:`numpy.ndarray.astype`\n",
      " |  \n",
      " |  choose(...)\n",
      " |      ndarray.choose(self, choices, out=None, mode=u'raise')\n",
      " |  \n",
      " |  clip(...)\n",
      " |      ndarray.clip(self, a_min=None, a_max=None, out=None) -> ndarray\n",
      " |      Returns an array with values limited to [a_min, a_max].\n",
      " |      \n",
      " |              .. seealso::\n",
      " |                 :func:`cupy.clip` for full documentation,\n",
      " |                 :meth:`numpy.ndarray.clip`\n",
      " |  \n",
      " |  conj(...)\n",
      " |      ndarray.conj(self) -> ndarray\n",
      " |  \n",
      " |  copy(...)\n",
      " |      ndarray.copy(self, order=u'C') -> ndarray\n",
      " |      Returns a copy of the array.\n",
      " |      \n",
      " |              This method makes a copy of a given array in the current device.\n",
      " |              Even when a given array is located in another device, you can copy it\n",
      " |              to the current device.\n",
      " |      \n",
      " |              Args:\n",
      " |                  order ({'C', 'F', 'A', 'K'}): Row-major (C-style) or column-major\n",
      " |                      (Fortran-style) order.\n",
      " |                      When ``order`` is 'A', it uses 'F' if ``a`` is column-major and\n",
      " |                      uses 'C' otherwise.\n",
      " |                      And when `order` is 'K', it keeps strides as closely as\n",
      " |                      possible.\n",
      " |      \n",
      " |              .. seealso::\n",
      " |                 :func:`cupy.copy` for full documentation,\n",
      " |                 :meth:`numpy.ndarray.copy`\n",
      " |  \n",
      " |  cumprod(...)\n",
      " |      ndarray.cumprod(self, axis=None, dtype=None, out=None) -> ndarray\n",
      " |      Returns the cumulative product of an array along a given axis.\n",
      " |      \n",
      " |              .. seealso::\n",
      " |                 :func:`cupy.cumprod` for full documentation,\n",
      " |                 :meth:`numpy.ndarray.cumprod`\n",
      " |  \n",
      " |  cumsum(...)\n",
      " |      ndarray.cumsum(self, axis=None, dtype=None, out=None) -> ndarray\n",
      " |      Returns the cumulative sum of an array along a given axis.\n",
      " |      \n",
      " |              .. seealso::\n",
      " |                 :func:`cupy.cumsum` for full documentation,\n",
      " |                 :meth:`numpy.ndarray.cumsum`\n",
      " |  \n",
      " |  diagonal(...)\n",
      " |      ndarray.diagonal(self, offset=0, axis1=0, axis2=1) -> ndarray\n",
      " |      Returns a view of the specified diagonals.\n",
      " |      \n",
      " |              .. seealso::\n",
      " |                 :func:`cupy.diagonal` for full documentation,\n",
      " |                 :meth:`numpy.ndarray.diagonal`\n",
      " |  \n",
      " |  dot(...)\n",
      " |      ndarray.dot(self, ndarray b, ndarray out=None)\n",
      " |      Returns the dot product with given array.\n",
      " |      \n",
      " |              .. seealso::\n",
      " |                 :func:`cupy.dot` for full documentation,\n",
      " |                 :meth:`numpy.ndarray.dot`\n",
      " |  \n",
      " |  dump(...)\n",
      " |      ndarray.dump(self, file)\n",
      " |      Dumps a pickle of the array to a file.\n",
      " |      \n",
      " |              Dumped file can be read back to :class:`cupy.ndarray` by\n",
      " |              :func:`cupy.load`.\n",
      " |  \n",
      " |  dumps(...)\n",
      " |      ndarray.dumps(self)\n",
      " |      Dumps a pickle of the array to a string.\n",
      " |  \n",
      " |  fill(...)\n",
      " |      ndarray.fill(self, value)\n",
      " |      Fills the array with a scalar value.\n",
      " |      \n",
      " |              Args:\n",
      " |                  value: A scalar value to fill the array content.\n",
      " |      \n",
      " |              .. seealso:: :meth:`numpy.ndarray.fill`\n",
      " |  \n",
      " |  flatten(...)\n",
      " |      ndarray.flatten(self) -> ndarray\n",
      " |      Returns a copy of the array flatten into one dimension.\n",
      " |      \n",
      " |              It currently supports C-order only.\n",
      " |      \n",
      " |              Returns:\n",
      " |                  cupy.ndarray: A copy of the array with one dimension.\n",
      " |      \n",
      " |              .. seealso:: :meth:`numpy.ndarray.flatten`\n",
      " |  \n",
      " |  get(...)\n",
      " |      ndarray.get(self, stream=None, order=u'C', out=None)\n",
      " |      Returns a copy of the array on host memory.\n",
      " |      \n",
      " |              Args:\n",
      " |                  stream (cupy.cuda.Stream): CUDA stream object. If it is given, the\n",
      " |                      copy runs asynchronously. Otherwise, the copy is synchronous.\n",
      " |                      The default uses CUDA stream object of the current context.\n",
      " |                  order ({'C', 'F', 'A'}): The desired memory layout of the host\n",
      " |                      array. When ``order`` is 'A', it uses 'F' if the array is\n",
      " |                      fortran-contiguous and 'C' otherwise. The ``order`` will be\n",
      " |                      ignored if ``out`` is specified.\n",
      " |                  out (numpy.ndarray): Output array. In order to enable asynchronous\n",
      " |                      copy, the underlying memory should be a pinned memory.\n",
      " |      \n",
      " |              Returns:\n",
      " |                  numpy.ndarray: Copy of the array on host memory.\n",
      " |  \n",
      " |  item(...)\n",
      " |      ndarray.item(self)\n",
      " |      Converts the array with one element to a Python scalar\n",
      " |      \n",
      " |              Returns:\n",
      " |                  int or float or complex: The element of the array.\n",
      " |      \n",
      " |              .. seealso:: :meth:`numpy.ndarray.item`\n",
      " |  \n",
      " |  max(...)\n",
      " |      ndarray.max(self, axis=None, out=None, dtype=None, keepdims=False) -> ndarray\n",
      " |      Returns the maximum along a given axis.\n",
      " |      \n",
      " |              .. seealso::\n",
      " |                 :func:`cupy.amax` for full documentation,\n",
      " |                 :meth:`numpy.ndarray.max`\n",
      " |  \n",
      " |  mean(...)\n",
      " |      ndarray.mean(self, axis=None, dtype=None, out=None, keepdims=False) -> ndarray\n",
      " |      Returns the mean along a given axis.\n",
      " |      \n",
      " |              .. seealso::\n",
      " |                 :func:`cupy.mean` for full documentation,\n",
      " |                 :meth:`numpy.ndarray.mean`\n",
      " |  \n",
      " |  min(...)\n",
      " |      ndarray.min(self, axis=None, out=None, dtype=None, keepdims=False) -> ndarray\n",
      " |      Returns the minimum along a given axis.\n",
      " |      \n",
      " |              .. seealso::\n",
      " |                 :func:`cupy.amin` for full documentation,\n",
      " |                 :meth:`numpy.ndarray.min`\n",
      " |  \n",
      " |  nonzero(...)\n",
      " |      ndarray.nonzero(self) -> tuple\n",
      " |      Return the indices of the elements that are non-zero.\n",
      " |      \n",
      " |              Returned Array is containing the indices of the non-zero elements\n",
      " |              in that dimension.\n",
      " |      \n",
      " |              Returns:\n",
      " |                  tuple of arrays: Indices of elements that are non-zero.\n",
      " |      \n",
      " |              .. seealso::\n",
      " |                  :func:`numpy.nonzero`\n",
      " |  \n",
      " |  partition(...)\n",
      " |      ndarray.partition(self, kth, int axis=-1)\n",
      " |      Partitions an array.\n",
      " |      \n",
      " |              Args:\n",
      " |                  kth (int or sequence of ints): Element index to partition by. If\n",
      " |                      supplied with a sequence of k-th it will partition all elements\n",
      " |                      indexed by k-th of them into their sorted position at once.\n",
      " |      \n",
      " |                  axis (int): Axis along which to sort. Default is -1, which means\n",
      " |                      sort along the last axis.\n",
      " |      \n",
      " |              .. seealso::\n",
      " |                  :func:`cupy.partition` for full documentation,\n",
      " |                  :meth:`numpy.ndarray.partition`\n",
      " |  \n",
      " |  prod(...)\n",
      " |      ndarray.prod(self, axis=None, dtype=None, out=None, keepdims=None) -> ndarray\n",
      " |      Returns the product along a given axis.\n",
      " |      \n",
      " |              .. seealso::\n",
      " |                 :func:`cupy.prod` for full documentation,\n",
      " |                 :meth:`numpy.ndarray.prod`\n",
      " |  \n",
      " |  put(...)\n",
      " |      ndarray.put(self, indices, values, mode=u'wrap')\n",
      " |      Replaces specified elements of an array with given values.\n",
      " |      \n",
      " |              .. seealso::\n",
      " |                 :func:`cupy.put` for full documentation,\n",
      " |                 :meth:`numpy.ndarray.put`\n",
      " |  \n",
      " |  ravel(...)\n",
      " |      ndarray.ravel(self, order=u'C') -> ndarray\n",
      " |      Returns an array flattened into one dimension.\n",
      " |      \n",
      " |              .. seealso::\n",
      " |                 :func:`cupy.ravel` for full documentation,\n",
      " |                 :meth:`numpy.ndarray.ravel`\n",
      " |  \n",
      " |  reduced_view(...)\n",
      " |      ndarray.reduced_view(self, dtype=None) -> ndarray\n",
      " |      Returns a view of the array with minimum number of dimensions.\n",
      " |      \n",
      " |              Args:\n",
      " |                  dtype: Data type specifier. If it is given, then the memory\n",
      " |                      sequence is reinterpreted as the new type.\n",
      " |      \n",
      " |              Returns:\n",
      " |                  cupy.ndarray: A view of the array with reduced dimensions.\n",
      " |  \n",
      " |  repeat(...)\n",
      " |      ndarray.repeat(self, repeats, axis=None)\n",
      " |      Returns an array with repeated arrays along an axis.\n",
      " |      \n",
      " |              .. seealso::\n",
      " |                  :func:`cupy.repeat` for full documentation,\n",
      " |                  :meth:`numpy.ndarray.repeat`\n",
      " |  \n",
      " |  reshape(...)\n",
      " |      ndarray.reshape(self, *shape, order=u'C')\n",
      " |      Returns an array of a different shape and the same content.\n",
      " |      \n",
      " |              .. seealso::\n",
      " |                 :func:`cupy.reshape` for full documentation,\n",
      " |                 :meth:`numpy.ndarray.reshape`\n",
      " |  \n",
      " |  round(...)\n",
      " |      ndarray.round(self, decimals=0, out=None) -> ndarray\n",
      " |      Returns an array with values rounded to the given number of decimals.\n",
      " |      \n",
      " |              .. seealso::\n",
      " |                 :func:`cupy.around` for full documentation,\n",
      " |                 :meth:`numpy.ndarray.round`\n",
      " |  \n",
      " |  scatter_add(...)\n",
      " |      ndarray.scatter_add(self, slices, value)\n",
      " |      Adds given values to specified elements of an array.\n",
      " |      \n",
      " |              .. seealso::\n",
      " |                  :func:`cupyx.scatter_add` for full documentation.\n",
      " |  \n",
      " |  set(...)\n",
      " |      ndarray.set(self, arr, stream=None)\n",
      " |      Copies an array on the host memory to :class:`cupy.ndarray`.\n",
      " |      \n",
      " |              Args:\n",
      " |                  arr (numpy.ndarray): The source array on the host memory.\n",
      " |                  stream (cupy.cuda.Stream): CUDA stream object. If it is given, the\n",
      " |                      copy runs asynchronously. Otherwise, the copy is synchronous.\n",
      " |                      The default uses CUDA stream object of the current context.\n",
      " |  \n",
      " |  sort(...)\n",
      " |      ndarray.sort(self, int axis=-1)\n",
      " |      Sort an array, in-place with a stable sorting algorithm.\n",
      " |      \n",
      " |              Args:\n",
      " |                  axis (int): Axis along which to sort. Default is -1, which means\n",
      " |                      sort along the last axis.\n",
      " |      \n",
      " |              .. note::\n",
      " |                 For its implementation reason, ``ndarray.sort`` currently supports\n",
      " |                 only arrays with their own data, and does not support ``kind`` and\n",
      " |                 ``order`` parameters that ``numpy.ndarray.sort`` does support.\n",
      " |      \n",
      " |              .. seealso::\n",
      " |                  :func:`cupy.sort` for full documentation,\n",
      " |                  :meth:`numpy.ndarray.sort`\n",
      " |  \n",
      " |  squeeze(...)\n",
      " |      ndarray.squeeze(self, axis=None) -> ndarray\n",
      " |      Returns a view with size-one axes removed.\n",
      " |      \n",
      " |              .. seealso::\n",
      " |                 :func:`cupy.squeeze` for full documentation,\n",
      " |                 :meth:`numpy.ndarray.squeeze`\n",
      " |  \n",
      " |  std(...)\n",
      " |      ndarray.std(self, axis=None, dtype=None, out=None, ddof=0, keepdims=False) -> ndarray\n",
      " |      Returns the standard deviation along a given axis.\n",
      " |      \n",
      " |              .. seealso::\n",
      " |                 :func:`cupy.std` for full documentation,\n",
      " |                 :meth:`numpy.ndarray.std`\n",
      " |  \n",
      " |  sum(...)\n",
      " |      ndarray.sum(self, axis=None, dtype=None, out=None, keepdims=False) -> ndarray\n",
      " |      Returns the sum along a given axis.\n",
      " |      \n",
      " |              .. seealso::\n",
      " |                 :func:`cupy.sum` for full documentation,\n",
      " |                 :meth:`numpy.ndarray.sum`\n",
      " |  \n",
      " |  swapaxes(...)\n",
      " |      ndarray.swapaxes(self, Py_ssize_t axis1, Py_ssize_t axis2) -> ndarray\n",
      " |      Returns a view of the array with two axes swapped.\n",
      " |      \n",
      " |              .. seealso::\n",
      " |                 :func:`cupy.swapaxes` for full documentation,\n",
      " |                 :meth:`numpy.ndarray.swapaxes`\n",
      " |  \n",
      " |  take(...)\n",
      " |      ndarray.take(self, indices, axis=None, out=None) -> ndarray\n",
      " |      Returns an array of elements at given indices along the axis.\n",
      " |      \n",
      " |              .. seealso::\n",
      " |                 :func:`cupy.take` for full documentation,\n",
      " |                 :meth:`numpy.ndarray.take`\n",
      " |  \n",
      " |  toDlpack(...)\n",
      " |      ndarray.toDlpack(self)\n",
      " |      Zero-copy conversion to a DLPack tensor.\n",
      " |      \n",
      " |              DLPack is a open in memory tensor structure proposed in this\n",
      " |              repository: `dmlc/dlpack <https://github.com/dmlc/dlpack>`_.\n",
      " |      \n",
      " |              This function returns a :class:`PyCapsule` object which contains a\n",
      " |              pointer to a DLPack tensor converted from the own ndarray. This\n",
      " |              function does not copy the own data to the output DLpack tensor\n",
      " |              but it shares the pointer which is pointing to the same memory region\n",
      " |              for the data.\n",
      " |      \n",
      " |              Returns:\n",
      " |                  dltensor (:class:`PyCapsule`): Output DLPack tensor which is\n",
      " |                      encapsulated in a :class:`PyCapsule` object.\n",
      " |      \n",
      " |              .. seealso::\n",
      " |      \n",
      " |                  :meth:`~cupy.fromDlpack` is a method for zero-copy conversion from\n",
      " |                  a DLPack tensor (which is encapsulated in a :class:`PyCapsule`\n",
      " |                  object) to a :class:`ndarray`\n",
      " |      \n",
      " |              .. admonition:: Example\n",
      " |      \n",
      " |                  >>> import cupy\n",
      " |                  >>> array1 = cupy.array([0, 1, 2], dtype=cupy.float32)\n",
      " |                  >>> dltensor = array1.toDlpack()\n",
      " |                  >>> array2 = cupy.fromDlpack(dltensor)\n",
      " |                  >>> cupy.testing.assert_array_equal(array1, array2)\n",
      " |  \n",
      " |  tofile(...)\n",
      " |      ndarray.tofile(self, fid, sep=u'', format=u'%s')\n",
      " |      Writes the array to a file.\n",
      " |      \n",
      " |              .. seealso:: :meth:`numpy.ndarray.tolist`\n",
      " |  \n",
      " |  tolist(...)\n",
      " |      ndarray.tolist(self)\n",
      " |      Converts the array to a (possibly nested) Python list.\n",
      " |      \n",
      " |              Returns:\n",
      " |                  list: The possibly nested Python list of array elements.\n",
      " |      \n",
      " |              .. seealso:: :meth:`numpy.ndarray.tolist`\n",
      " |  \n",
      " |  trace(...)\n",
      " |      ndarray.trace(self, offset=0, axis1=0, axis2=1, dtype=None, out=None) -> ndarray\n",
      " |      Returns the sum along diagonals of the array.\n",
      " |      \n",
      " |              .. seealso::\n",
      " |                 :func:`cupy.trace` for full documentation,\n",
      " |                 :meth:`numpy.ndarray.trace`\n",
      " |  \n",
      " |  transpose(...)\n",
      " |      ndarray.transpose(self, *axes)\n",
      " |      Returns a view of the array with axes permuted.\n",
      " |      \n",
      " |              .. seealso::\n",
      " |                 :func:`cupy.transpose` for full documentation,\n",
      " |                 :meth:`numpy.ndarray.reshape`\n",
      " |  \n",
      " |  var(...)\n",
      " |      ndarray.var(self, axis=None, dtype=None, out=None, ddof=0, keepdims=False) -> ndarray\n",
      " |      Returns the variance along a given axis.\n",
      " |      \n",
      " |              .. seealso::\n",
      " |                 :func:`cupy.var` for full documentation,\n",
      " |                 :meth:`numpy.ndarray.var`\n",
      " |  \n",
      " |  view(...)\n",
      " |      ndarray.view(self, dtype=None) -> ndarray\n",
      " |      Returns a view of the array.\n",
      " |      \n",
      " |              Args:\n",
      " |                  dtype: If this is different from the data type of the array, the\n",
      " |                      returned view reinterpret the memory sequence as an array of\n",
      " |                      this type.\n",
      " |      \n",
      " |              Returns:\n",
      " |                  cupy.ndarray: A view of the array. A reference to the original\n",
      " |                  array is stored at the :attr:`~ndarray.base` attribute.\n",
      " |      \n",
      " |              .. seealso:: :meth:`numpy.ndarray.view`\n",
      " |  \n",
      " |  ----------------------------------------------------------------------\n",
      " |  Static methods defined here:\n",
      " |  \n",
      " |  __new__(*args, **kwargs) from builtins.type\n",
      " |      Create and return a new object.  See help(type) for accurate signature.\n",
      " |  \n",
      " |  ----------------------------------------------------------------------\n",
      " |  Data descriptors defined here:\n",
      " |  \n",
      " |  T\n",
      " |      Shape-reversed view of the array.\n",
      " |      \n",
      " |      If ndim < 2, then this is just a reference to the array itself.\n",
      " |  \n",
      " |  __cuda_array_interface__\n",
      " |  \n",
      " |  base\n",
      " |  \n",
      " |  cstruct\n",
      " |      C representation of the array.\n",
      " |      \n",
      " |      This property is used for sending an array to CUDA kernels. The type of\n",
      " |      returned C structure is different for different dtypes and ndims. The\n",
      " |      definition of C type is written in ``cupy/carray.cuh``.\n",
      " |  \n",
      " |  data\n",
      " |  \n",
      " |  device\n",
      " |      CUDA device on which this array resides.\n",
      " |  \n",
      " |  dtype\n",
      " |  \n",
      " |  flags\n",
      " |      Object containing memory-layout information.\n",
      " |      \n",
      " |      It only contains ``c_contiguous``, ``f_contiguous``, and ``owndata``\n",
      " |      attributes. All of these are read-only. Accessing by indexes is also\n",
      " |      supported.\n",
      " |      \n",
      " |      .. seealso:: :attr:`numpy.ndarray.flags`\n",
      " |  \n",
      " |  imag\n",
      " |  \n",
      " |  itemsize\n",
      " |      Size of each element in bytes.\n",
      " |      \n",
      " |      .. seealso:: :attr:`numpy.ndarray.itemsize`\n",
      " |  \n",
      " |  nbytes\n",
      " |      Total size of all elements in bytes.\n",
      " |      \n",
      " |      It does not count skips between elements.\n",
      " |      \n",
      " |      .. seealso:: :attr:`numpy.ndarray.nbytes`\n",
      " |  \n",
      " |  ndim\n",
      " |      Number of dimensions.\n",
      " |      \n",
      " |      ``a.ndim`` is equivalent to ``len(a.shape)``.\n",
      " |      \n",
      " |      .. seealso:: :attr:`numpy.ndarray.ndim`\n",
      " |  \n",
      " |  real\n",
      " |  \n",
      " |  shape\n",
      " |      Lengths of axes.\n",
      " |      \n",
      " |      Setter of this property involves reshaping without copy. If the array\n",
      " |      cannot be reshaped without copy, it raises an exception.\n",
      " |      \n",
      " |      .. seealso: :attr:`numpy.ndarray.shape`\n",
      " |  \n",
      " |  size\n",
      " |  \n",
      " |  strides\n",
      " |      Strides of axes in bytes.\n",
      " |      \n",
      " |      .. seealso:: :attr:`numpy.ndarray.strides`\n",
      " |  \n",
      " |  ----------------------------------------------------------------------\n",
      " |  Data and other attributes defined here:\n",
      " |  \n",
      " |  __array_priority__ = 100\n",
      " |  \n",
      " |  __hash__ = None\n",
      " |  \n",
      " |  __pyx_vtable__ = <capsule object NULL>\n",
      "\n"
     ]
    }
   ],
   "source": [
    "help(cp.ndarray)"
   ]
  },
  {
   "cell_type": "code",
   "execution_count": 100,
   "metadata": {},
   "outputs": [
    {
     "name": "stdout",
     "output_type": "stream",
     "text": [
      "Help on built-in function __new__:\n",
      "\n",
      "__new__(*args, **kwargs) method of builtins.type instance\n",
      "    Create and return a new object.  See help(type) for accurate signature.\n",
      "\n"
     ]
    }
   ],
   "source": [
    "help(cp.ndarray.__new__)"
   ]
  },
  {
   "cell_type": "code",
   "execution_count": 76,
   "metadata": {},
   "outputs": [],
   "source": [
    "y = cp.ndarray(shape=x.shape,dtype=x.dtype,\n",
    "               memptr=x.data,\n",
    "               strides=x.strides,order='C')"
   ]
  },
  {
   "cell_type": "code",
   "execution_count": 121,
   "metadata": {},
   "outputs": [
    {
     "name": "stdout",
     "output_type": "stream",
     "text": [
      "1.0 <class '__main__.myclass'>\n",
      "args (array([    1,     1]),)\n",
      "kwargs {}\n",
      "1.0 2\n"
     ]
    }
   ],
   "source": [
    "xp=cp\n",
    "class myclass(xp.ndarray):\n",
    "    def __new__(cls,x):\n",
    "        obj = super(myclass,cls).__new__(cls,shape=2)\n",
    "        #,dtype=x.dtype,memptr=x.data,strides=x.strides,order='C')\n",
    "        obj.coef=2\n",
    "        print(obj,type(obj))\n",
    "        return obj\n",
    "    def __init__(self,*args,**kwargs):\n",
    "        print('args',args)\n",
    "        print('kwargs',kwargs)\n",
    "#    def __array_finalize__\n",
    "#        obj=value.view(type=myclass)\n",
    "#        return obj\n",
    "z = myclass(x)\n",
    "#z.coef=2\n",
    "print(z,z.coef)"
   ]
  },
  {
   "cell_type": "code",
   "execution_count": 111,
   "metadata": {},
   "outputs": [
    {
     "name": "stdout",
     "output_type": "stream",
     "text": [
      "args (array([    1,     1]),)\n",
      "kwargs {}\n",
      "1.0 2\n"
     ]
    }
   ],
   "source": [
    "xp=cp\n",
    "class myclass(xp.ndarray):\n",
    "    def __new__(cls,x):\n",
    "        obj = super().__new__(myclass,shape=x.size,dtype=x.dtype,memptr=x.data,strides=x.strides,order='C')\n",
    "        obj.coef=2\n",
    "        return obj\n",
    "    def __init__(self,*args,**kwargs):\n",
    "        print('args',args)\n",
    "        print('kwargs',kwargs)\n",
    "#    def __array_finalize__\n",
    "#        obj=value.view(type=myclass)\n",
    "#        return obj\n",
    "z = myclass(x)\n",
    "#z.coef=2\n",
    "print(z,z.coef)"
   ]
  },
  {
   "cell_type": "code",
   "execution_count": 112,
   "metadata": {},
   "outputs": [
    {
     "data": {
      "text/plain": [
       "array(    1)"
      ]
     },
     "execution_count": 112,
     "metadata": {},
     "output_type": "execute_result"
    }
   ],
   "source": [
    "z"
   ]
  },
  {
   "cell_type": "code",
   "execution_count": 85,
   "metadata": {},
   "outputs": [
    {
     "data": {
      "text/plain": [
       "2"
      ]
     },
     "execution_count": 85,
     "metadata": {},
     "output_type": "execute_result"
    }
   ],
   "source": [
    "z.coef"
   ]
  },
  {
   "cell_type": "code",
   "execution_count": 139,
   "metadata": {},
   "outputs": [
    {
     "data": {
      "text/plain": [
       "(array([    1,     1]), 2)"
      ]
     },
     "execution_count": 139,
     "metadata": {},
     "output_type": "execute_result"
    }
   ],
   "source": [
    "# This one works\n",
    "xp=cp\n",
    "class myclass2(xp.ndarray):\n",
    "    def __new__(cls,**kwargs):\n",
    "#        print(arr.size)\n",
    "        obj = super(myclass2,cls).__new__(cls,**kwargs)\n",
    "        obj.coef=2\n",
    "        return obj\n",
    "\n",
    "    @classmethod\n",
    "    def cast(cls,x):\n",
    "        return cls(shape=x.shape,dtype=x.dtype,\n",
    "               memptr=x.data,\n",
    "               strides=x.strides,order='C')\n",
    "        \n",
    "    \n",
    "#    def __array_finalize__\n",
    "#        obj=value.view(type=myclass)\n",
    "#        return obj\n",
    "z = myclass2.cast(x)\n",
    "z,z.coef"
   ]
  },
  {
   "cell_type": "code",
   "execution_count": 185,
   "metadata": {},
   "outputs": [
    {
     "name": "stdout",
     "output_type": "stream",
     "text": [
      "[    1     1] 2 [    1     1]\n",
      "<class '__main__.myclass5'> <class 'cupy.core.core.ndarray'>\n"
     ]
    }
   ],
   "source": [
    "xp=cp\n",
    "def cupy_init_kwargs(x):\n",
    "    return {\n",
    "            'shape':x.shape,'dtype':x.dtype,\n",
    "               'memptr':x.data,'strides':x.strides,'order':'C'\n",
    "        }\n",
    "\n",
    "class myclass5(xp.ndarray):    \n",
    "    def __new__(cls,x):\n",
    "        obj = super(myclass5,cls).__new__(cls,**cupy_init_kwargs(x))\n",
    "        obj.coef=2\n",
    "        return obj\n",
    "    def __init__(self,x):\n",
    "        super(myclass5,self).__init__(**cupy_init_kwargs(x))\n",
    "        \n",
    "    def value(self):\n",
    "        return \n",
    "x=xp.ones(2)\n",
    "z = myclass5(x)\n",
    "print(z,z.coef,cp.asarray(z))\n",
    "print(type(z),type(z.view()))"
   ]
  },
  {
   "cell_type": "code",
   "execution_count": 186,
   "metadata": {},
   "outputs": [
    {
     "data": {
      "text/plain": [
       "dtype('float64')"
      ]
     },
     "execution_count": 186,
     "metadata": {},
     "output_type": "execute_result"
    }
   ],
   "source": [
    "x.dtype"
   ]
  },
  {
   "cell_type": "code",
   "execution_count": 172,
   "metadata": {},
   "outputs": [
    {
     "data": {
      "text/plain": [
       "['T',\n",
       " '__abs__',\n",
       " '__add__',\n",
       " '__and__',\n",
       " '__array__',\n",
       " '__array_function__',\n",
       " '__array_priority__',\n",
       " '__array_ufunc__',\n",
       " '__bool__',\n",
       " '__class__',\n",
       " '__complex__',\n",
       " '__copy__',\n",
       " '__cuda_array_interface__',\n",
       " '__deepcopy__',\n",
       " '__delattr__',\n",
       " '__delitem__',\n",
       " '__dir__',\n",
       " '__divmod__',\n",
       " '__doc__',\n",
       " '__eq__',\n",
       " '__float__',\n",
       " '__floordiv__',\n",
       " '__format__',\n",
       " '__ge__',\n",
       " '__getattribute__',\n",
       " '__getitem__',\n",
       " '__gt__',\n",
       " '__hash__',\n",
       " '__iadd__',\n",
       " '__iand__',\n",
       " '__ifloordiv__',\n",
       " '__ilshift__',\n",
       " '__imod__',\n",
       " '__imul__',\n",
       " '__init__',\n",
       " '__init_subclass__',\n",
       " '__int__',\n",
       " '__invert__',\n",
       " '__ior__',\n",
       " '__ipow__',\n",
       " '__irshift__',\n",
       " '__isub__',\n",
       " '__iter__',\n",
       " '__itruediv__',\n",
       " '__ixor__',\n",
       " '__le__',\n",
       " '__len__',\n",
       " '__lshift__',\n",
       " '__lt__',\n",
       " '__matmul__',\n",
       " '__mod__',\n",
       " '__mul__',\n",
       " '__ne__',\n",
       " '__neg__',\n",
       " '__new__',\n",
       " '__or__',\n",
       " '__pos__',\n",
       " '__pow__',\n",
       " '__pyx_vtable__',\n",
       " '__radd__',\n",
       " '__rand__',\n",
       " '__rdivmod__',\n",
       " '__reduce__',\n",
       " '__reduce_ex__',\n",
       " '__repr__',\n",
       " '__rfloordiv__',\n",
       " '__rlshift__',\n",
       " '__rmatmul__',\n",
       " '__rmod__',\n",
       " '__rmul__',\n",
       " '__ror__',\n",
       " '__rpow__',\n",
       " '__rrshift__',\n",
       " '__rshift__',\n",
       " '__rsub__',\n",
       " '__rtruediv__',\n",
       " '__rxor__',\n",
       " '__setattr__',\n",
       " '__setitem__',\n",
       " '__sizeof__',\n",
       " '__str__',\n",
       " '__sub__',\n",
       " '__subclasshook__',\n",
       " '__truediv__',\n",
       " '__xor__',\n",
       " '_c_contiguous',\n",
       " '_f_contiguous',\n",
       " '_set_contiguous_strides',\n",
       " '_set_shape_and_strides',\n",
       " '_shape',\n",
       " '_strides',\n",
       " '_update_c_contiguity',\n",
       " '_update_contiguity',\n",
       " '_update_f_contiguity',\n",
       " 'all',\n",
       " 'any',\n",
       " 'argmax',\n",
       " 'argmin',\n",
       " 'argpartition',\n",
       " 'argsort',\n",
       " 'astype',\n",
       " 'base',\n",
       " 'choose',\n",
       " 'clip',\n",
       " 'conj',\n",
       " 'copy',\n",
       " 'cstruct',\n",
       " 'cumprod',\n",
       " 'cumsum',\n",
       " 'data',\n",
       " 'device',\n",
       " 'diagonal',\n",
       " 'dot',\n",
       " 'dtype',\n",
       " 'dump',\n",
       " 'dumps',\n",
       " 'fill',\n",
       " 'flags',\n",
       " 'flatten',\n",
       " 'get',\n",
       " 'imag',\n",
       " 'item',\n",
       " 'itemsize',\n",
       " 'max',\n",
       " 'mean',\n",
       " 'min',\n",
       " 'nbytes',\n",
       " 'ndim',\n",
       " 'nonzero',\n",
       " 'partition',\n",
       " 'prod',\n",
       " 'put',\n",
       " 'ravel',\n",
       " 'real',\n",
       " 'reduced_view',\n",
       " 'repeat',\n",
       " 'reshape',\n",
       " 'round',\n",
       " 'scatter_add',\n",
       " 'set',\n",
       " 'shape',\n",
       " 'size',\n",
       " 'sort',\n",
       " 'squeeze',\n",
       " 'std',\n",
       " 'strides',\n",
       " 'sum',\n",
       " 'swapaxes',\n",
       " 'take',\n",
       " 'toDlpack',\n",
       " 'tofile',\n",
       " 'tolist',\n",
       " 'trace',\n",
       " 'transpose',\n",
       " 'var',\n",
       " 'view']"
      ]
     },
     "execution_count": 172,
     "metadata": {},
     "output_type": "execute_result"
    }
   ],
   "source": [
    "dir(xp.ndarray)"
   ]
  },
  {
   "cell_type": "code",
   "execution_count": 159,
   "metadata": {},
   "outputs": [
    {
     "data": {
      "text/plain": [
       "cupy.core.core.ndarray"
      ]
     },
     "execution_count": 159,
     "metadata": {},
     "output_type": "execute_result"
    }
   ],
   "source": [
    "myclass5.__bases__[0]"
   ]
  },
  {
   "cell_type": "code",
   "execution_count": 161,
   "metadata": {},
   "outputs": [
    {
     "data": {
      "text/plain": [
       "(cupy.core.core.ndarray,)"
      ]
     },
     "execution_count": 161,
     "metadata": {},
     "output_type": "execute_result"
    }
   ],
   "source": [
    "type(z).__bases__"
   ]
  },
  {
   "cell_type": "code",
   "execution_count": 165,
   "metadata": {},
   "outputs": [
    {
     "data": {
      "text/plain": [
       "True"
      ]
     },
     "execution_count": 165,
     "metadata": {},
     "output_type": "execute_result"
    }
   ],
   "source": [
    "x0=cp.ones(2)\n",
    "x1=cp.ascontiguousarray(x0)\n",
    "x0 is x1"
   ]
  },
  {
   "cell_type": "code",
   "execution_count": 144,
   "metadata": {},
   "outputs": [
    {
     "ename": "AttributeError",
     "evalue": "'cupy.core.core.ndarray' object has no attribute 'coef'",
     "output_type": "error",
     "traceback": [
      "\u001b[1;31m---------------------------------------------------------------------------\u001b[0m",
      "\u001b[1;31mAttributeError\u001b[0m                            Traceback (most recent call last)",
      "\u001b[1;32m<ipython-input-144-57be6a5a995f>\u001b[0m in \u001b[0;36m<module>\u001b[1;34m\u001b[0m\n\u001b[0;32m      5\u001b[0m                memptr=x.data,strides=x.strides,order='C')\n\u001b[0;32m      6\u001b[0m         \u001b[0mx\u001b[0m\u001b[1;33m.\u001b[0m\u001b[0mcoef\u001b[0m\u001b[1;33m=\u001b[0m\u001b[1;36m2\u001b[0m\u001b[1;33m\u001b[0m\u001b[1;33m\u001b[0m\u001b[0m\n\u001b[1;32m----> 7\u001b[1;33m \u001b[0mz\u001b[0m\u001b[1;33m=\u001b[0m\u001b[0mmyclass4\u001b[0m\u001b[1;33m(\u001b[0m\u001b[0mx\u001b[0m\u001b[1;33m)\u001b[0m\u001b[1;33m\u001b[0m\u001b[1;33m\u001b[0m\u001b[0m\n\u001b[0m\u001b[0;32m      8\u001b[0m \u001b[0mz\u001b[0m\u001b[1;33m,\u001b[0m\u001b[0mz\u001b[0m\u001b[1;33m.\u001b[0m\u001b[0mcoef\u001b[0m\u001b[1;33m\u001b[0m\u001b[1;33m\u001b[0m\u001b[0m\n",
      "\u001b[1;32m<ipython-input-144-57be6a5a995f>\u001b[0m in \u001b[0;36m__init__\u001b[1;34m(self, x)\u001b[0m\n\u001b[0;32m      4\u001b[0m         super(myclass4,self).__init__(shape=x.shape,dtype=x.dtype,\n\u001b[0;32m      5\u001b[0m                memptr=x.data,strides=x.strides,order='C')\n\u001b[1;32m----> 6\u001b[1;33m         \u001b[0mx\u001b[0m\u001b[1;33m.\u001b[0m\u001b[0mcoef\u001b[0m\u001b[1;33m=\u001b[0m\u001b[1;36m2\u001b[0m\u001b[1;33m\u001b[0m\u001b[1;33m\u001b[0m\u001b[0m\n\u001b[0m\u001b[0;32m      7\u001b[0m \u001b[0mz\u001b[0m\u001b[1;33m=\u001b[0m\u001b[0mmyclass4\u001b[0m\u001b[1;33m(\u001b[0m\u001b[0mx\u001b[0m\u001b[1;33m)\u001b[0m\u001b[1;33m\u001b[0m\u001b[1;33m\u001b[0m\u001b[0m\n\u001b[0;32m      8\u001b[0m \u001b[0mz\u001b[0m\u001b[1;33m,\u001b[0m\u001b[0mz\u001b[0m\u001b[1;33m.\u001b[0m\u001b[0mcoef\u001b[0m\u001b[1;33m\u001b[0m\u001b[1;33m\u001b[0m\u001b[0m\n",
      "\u001b[1;31mAttributeError\u001b[0m: 'cupy.core.core.ndarray' object has no attribute 'coef'"
     ]
    }
   ],
   "source": [
    "xp=cp\n",
    "class myclass4(xp.ndarray):\n",
    "    def __init__(self,x):\n",
    "        super(myclass4,self).__init__(shape=x.shape,dtype=x.dtype,\n",
    "               memptr=x.data,strides=x.strides,order='C')\n",
    "        x.coef=2\n",
    "z=myclass4(x)\n",
    "z,z.coef"
   ]
  },
  {
   "cell_type": "code",
   "execution_count": 134,
   "metadata": {},
   "outputs": [],
   "source": [
    "def cupy_type_view(x,subclass):\n",
    "    return super(cp.ndarray,subclass).__new__(subclass,shape=2)\n",
    "    "
   ]
  },
  {
   "cell_type": "code",
   "execution_count": 135,
   "metadata": {},
   "outputs": [
    {
     "ename": "TypeError",
     "evalue": "object.__new__(myclass3) is not safe, use myclass3.__new__()",
     "output_type": "error",
     "traceback": [
      "\u001b[1;31m---------------------------------------------------------------------------\u001b[0m",
      "\u001b[1;31mTypeError\u001b[0m                                 Traceback (most recent call last)",
      "\u001b[1;32m<ipython-input-135-bd39b71843f2>\u001b[0m in \u001b[0;36m<module>\u001b[1;34m\u001b[0m\n\u001b[0;32m      1\u001b[0m \u001b[1;32mclass\u001b[0m \u001b[0mmyclass3\u001b[0m\u001b[1;33m(\u001b[0m\u001b[0mcp\u001b[0m\u001b[1;33m.\u001b[0m\u001b[0mndarray\u001b[0m\u001b[1;33m)\u001b[0m\u001b[1;33m:\u001b[0m\u001b[1;33m\u001b[0m\u001b[1;33m\u001b[0m\u001b[0m\n\u001b[0;32m      2\u001b[0m     \u001b[1;32mpass\u001b[0m\u001b[1;33m\u001b[0m\u001b[1;33m\u001b[0m\u001b[0m\n\u001b[1;32m----> 3\u001b[1;33m \u001b[0mcupy_type_view\u001b[0m\u001b[1;33m(\u001b[0m\u001b[0mx\u001b[0m\u001b[1;33m,\u001b[0m\u001b[0mmyclass3\u001b[0m\u001b[1;33m)\u001b[0m\u001b[1;33m\u001b[0m\u001b[1;33m\u001b[0m\u001b[0m\n\u001b[0m",
      "\u001b[1;32m<ipython-input-134-e314a4eb8dd1>\u001b[0m in \u001b[0;36mcupy_type_view\u001b[1;34m(x, subclass)\u001b[0m\n\u001b[0;32m      1\u001b[0m \u001b[1;32mdef\u001b[0m \u001b[0mcupy_type_view\u001b[0m\u001b[1;33m(\u001b[0m\u001b[0mx\u001b[0m\u001b[1;33m,\u001b[0m\u001b[0msubclass\u001b[0m\u001b[1;33m)\u001b[0m\u001b[1;33m:\u001b[0m\u001b[1;33m\u001b[0m\u001b[1;33m\u001b[0m\u001b[0m\n\u001b[1;32m----> 2\u001b[1;33m     \u001b[1;32mreturn\u001b[0m \u001b[0msuper\u001b[0m\u001b[1;33m(\u001b[0m\u001b[0mcp\u001b[0m\u001b[1;33m.\u001b[0m\u001b[0mndarray\u001b[0m\u001b[1;33m,\u001b[0m\u001b[0msubclass\u001b[0m\u001b[1;33m)\u001b[0m\u001b[1;33m.\u001b[0m\u001b[0m__new__\u001b[0m\u001b[1;33m(\u001b[0m\u001b[0msubclass\u001b[0m\u001b[1;33m,\u001b[0m\u001b[0mshape\u001b[0m\u001b[1;33m=\u001b[0m\u001b[1;36m2\u001b[0m\u001b[1;33m)\u001b[0m\u001b[1;33m\u001b[0m\u001b[1;33m\u001b[0m\u001b[0m\n\u001b[0m\u001b[0;32m      3\u001b[0m \u001b[1;33m\u001b[0m\u001b[0m\n",
      "\u001b[1;31mTypeError\u001b[0m: object.__new__(myclass3) is not safe, use myclass3.__new__()"
     ]
    }
   ],
   "source": [
    "class myclass3(cp.ndarray):\n",
    "    pass\n",
    "cupy_type_view(x,myclass3)"
   ]
  },
  {
   "cell_type": "code",
   "execution_count": 127,
   "metadata": {},
   "outputs": [
    {
     "data": {
      "text/plain": [
       "(array([    0,     0]), 2)"
      ]
     },
     "execution_count": 127,
     "metadata": {},
     "output_type": "execute_result"
    }
   ],
   "source": [
    "z,z.coef"
   ]
  },
  {
   "cell_type": "code",
   "execution_count": 81,
   "metadata": {},
   "outputs": [
    {
     "data": {
      "text/plain": [
       "(2,)"
      ]
     },
     "execution_count": 81,
     "metadata": {},
     "output_type": "execute_result"
    }
   ],
   "source": [
    "x.shape"
   ]
  },
  {
   "cell_type": "code",
   "execution_count": 82,
   "metadata": {},
   "outputs": [
    {
     "ename": "TypeError",
     "evalue": "cupy.core.core.ndarray.__new__(): not enough arguments",
     "output_type": "error",
     "traceback": [
      "\u001b[1;31m---------------------------------------------------------------------------\u001b[0m",
      "\u001b[1;31mTypeError\u001b[0m                                 Traceback (most recent call last)",
      "\u001b[1;32m<ipython-input-82-e9f9ff666e9c>\u001b[0m in \u001b[0;36m<module>\u001b[1;34m\u001b[0m\n\u001b[1;32m----> 1\u001b[1;33m \u001b[0mz\u001b[0m \u001b[1;33m=\u001b[0m \u001b[0mmyclass\u001b[0m\u001b[1;33m(\u001b[0m\u001b[0mx\u001b[0m\u001b[1;33m)\u001b[0m\u001b[1;33m\u001b[0m\u001b[1;33m\u001b[0m\u001b[0m\n\u001b[0m",
      "\u001b[1;32m<ipython-input-80-68716a328515>\u001b[0m in \u001b[0;36m__new__\u001b[1;34m(cls, x)\u001b[0m\n\u001b[0;32m      5\u001b[0m \u001b[1;33m\u001b[0m\u001b[0m\n\u001b[0;32m      6\u001b[0m         obj = super().__new__(\n\u001b[1;32m----> 7\u001b[1;33m                shape=x.shape)\n\u001b[0m\u001b[0;32m      8\u001b[0m         \"\"\"\n\u001b[0;32m      9\u001b[0m         \u001b[1;33m,\u001b[0m\u001b[0mdtype\u001b[0m\u001b[1;33m=\u001b[0m\u001b[0mx\u001b[0m\u001b[1;33m.\u001b[0m\u001b[0mdtype\u001b[0m\u001b[1;33m,\u001b[0m\u001b[1;33m\u001b[0m\u001b[1;33m\u001b[0m\u001b[0m\n",
      "\u001b[1;31mTypeError\u001b[0m: cupy.core.core.ndarray.__new__(): not enough arguments"
     ]
    }
   ],
   "source": [
    "z = myclass(x)"
   ]
  },
  {
   "cell_type": "code",
   "execution_count": 75,
   "metadata": {},
   "outputs": [
    {
     "data": {
      "text/plain": [
       "True"
      ]
     },
     "execution_count": 75,
     "metadata": {},
     "output_type": "execute_result"
    }
   ],
   "source": [
    "z is x"
   ]
  },
  {
   "cell_type": "code",
   "execution_count": 53,
   "metadata": {},
   "outputs": [
    {
     "data": {
      "text/plain": [
       "{'shape': (2,),\n",
       " 'typestr': '<f8',\n",
       " 'descr': [('', '<f8')],\n",
       " 'data': (25874663424, False),\n",
       " 'version': 0}"
      ]
     },
     "execution_count": 53,
     "metadata": {},
     "output_type": "execute_result"
    }
   ],
   "source": [
    "x=cp.ones(2)\n",
    "x.__cuda_array_interface__"
   ]
  },
  {
   "cell_type": "code",
   "execution_count": 43,
   "metadata": {},
   "outputs": [
    {
     "data": {
      "text/plain": [
       "True"
      ]
     },
     "execution_count": 43,
     "metadata": {},
     "output_type": "execute_result"
    }
   ],
   "source": [
    "x._c_contiguous"
   ]
  },
  {
   "cell_type": "code",
   "execution_count": 56,
   "metadata": {},
   "outputs": [
    {
     "data": {
      "text/plain": [
       "<cupy.cuda.memory.MemoryPointer at 0x16ceac970e8>"
      ]
     },
     "execution_count": 56,
     "metadata": {},
     "output_type": "execute_result"
    }
   ],
   "source": [
    "x.data"
   ]
  },
  {
   "cell_type": "code",
   "execution_count": 57,
   "metadata": {},
   "outputs": [],
   "source": [
    "y = cp.ndarray(shape=x.shape,dtype=x.dtype,\n",
    "               memptr=x.data,\n",
    "               strides=x.strides,order='C')"
   ]
  },
  {
   "cell_type": "code",
   "execution_count": 58,
   "metadata": {},
   "outputs": [
    {
     "data": {
      "text/plain": [
       "array([    1,     1])"
      ]
     },
     "execution_count": 58,
     "metadata": {},
     "output_type": "execute_result"
    }
   ],
   "source": [
    "y"
   ]
  },
  {
   "cell_type": "code",
   "execution_count": 50,
   "metadata": {},
   "outputs": [
    {
     "name": "stdout",
     "output_type": "stream",
     "text": [
      "Help on class BaseMemory in module cupy.cuda.memory:\n",
      "\n",
      "class BaseMemory(builtins.object)\n",
      " |  Memory on a CUDA device.\n",
      " |  \n",
      " |  Attributes:\n",
      " |      ~Memory.ptr (int): Pointer to the place within the buffer.\n",
      " |      ~Memory.size (int): Size of the memory allocation in bytes.\n",
      " |      ~Memory.device (~cupy.cuda.Device): Device whose memory the pointer\n",
      " |          refers to.\n",
      " |  \n",
      " |  Methods defined here:\n",
      " |  \n",
      " |  __int__(...)\n",
      " |      Returns the pointer value to the head of the allocation.\n",
      " |  \n",
      " |  __reduce__ = __reduce_cython__(...)\n",
      " |      BaseMemory.__reduce_cython__(self)\n",
      " |  \n",
      " |  __setstate__ = __setstate_cython__(...)\n",
      " |      BaseMemory.__setstate_cython__(self, __pyx_state)\n",
      " |  \n",
      " |  ----------------------------------------------------------------------\n",
      " |  Static methods defined here:\n",
      " |  \n",
      " |  __new__(*args, **kwargs) from builtins.type\n",
      " |      Create and return a new object.  See help(type) for accurate signature.\n",
      " |  \n",
      " |  ----------------------------------------------------------------------\n",
      " |  Data descriptors defined here:\n",
      " |  \n",
      " |  device\n",
      " |  \n",
      " |  device_id\n",
      " |      device_id: 'int'\n",
      " |  \n",
      " |  ptr\n",
      " |      ptr: 'intptr_t'\n",
      " |  \n",
      " |  size\n",
      " |      size: 'size_t'\n",
      "\n"
     ]
    }
   ],
   "source": [
    "help(cp.cuda.memory.BaseMemory)"
   ]
  },
  {
   "cell_type": "code",
   "execution_count": 35,
   "metadata": {},
   "outputs": [
    {
     "data": {
      "text/plain": [
       "['T',\n",
       " '__abs__',\n",
       " '__add__',\n",
       " '__and__',\n",
       " '__array__',\n",
       " '__array_function__',\n",
       " '__array_priority__',\n",
       " '__array_ufunc__',\n",
       " '__bool__',\n",
       " '__class__',\n",
       " '__complex__',\n",
       " '__copy__',\n",
       " '__cuda_array_interface__',\n",
       " '__deepcopy__',\n",
       " '__delattr__',\n",
       " '__delitem__',\n",
       " '__dir__',\n",
       " '__divmod__',\n",
       " '__doc__',\n",
       " '__eq__',\n",
       " '__float__',\n",
       " '__floordiv__',\n",
       " '__format__',\n",
       " '__ge__',\n",
       " '__getattribute__',\n",
       " '__getitem__',\n",
       " '__gt__',\n",
       " '__hash__',\n",
       " '__iadd__',\n",
       " '__iand__',\n",
       " '__ifloordiv__',\n",
       " '__ilshift__',\n",
       " '__imod__',\n",
       " '__imul__',\n",
       " '__init__',\n",
       " '__init_subclass__',\n",
       " '__int__',\n",
       " '__invert__',\n",
       " '__ior__',\n",
       " '__ipow__',\n",
       " '__irshift__',\n",
       " '__isub__',\n",
       " '__iter__',\n",
       " '__itruediv__',\n",
       " '__ixor__',\n",
       " '__le__',\n",
       " '__len__',\n",
       " '__lshift__',\n",
       " '__lt__',\n",
       " '__matmul__',\n",
       " '__mod__',\n",
       " '__mul__',\n",
       " '__ne__',\n",
       " '__neg__',\n",
       " '__new__',\n",
       " '__or__',\n",
       " '__pos__',\n",
       " '__pow__',\n",
       " '__pyx_vtable__',\n",
       " '__radd__',\n",
       " '__rand__',\n",
       " '__rdivmod__',\n",
       " '__reduce__',\n",
       " '__reduce_ex__',\n",
       " '__repr__',\n",
       " '__rfloordiv__',\n",
       " '__rlshift__',\n",
       " '__rmatmul__',\n",
       " '__rmod__',\n",
       " '__rmul__',\n",
       " '__ror__',\n",
       " '__rpow__',\n",
       " '__rrshift__',\n",
       " '__rshift__',\n",
       " '__rsub__',\n",
       " '__rtruediv__',\n",
       " '__rxor__',\n",
       " '__setattr__',\n",
       " '__setitem__',\n",
       " '__sizeof__',\n",
       " '__str__',\n",
       " '__sub__',\n",
       " '__subclasshook__',\n",
       " '__truediv__',\n",
       " '__xor__',\n",
       " '_c_contiguous',\n",
       " '_f_contiguous',\n",
       " '_set_contiguous_strides',\n",
       " '_set_shape_and_strides',\n",
       " '_shape',\n",
       " '_strides',\n",
       " '_update_c_contiguity',\n",
       " '_update_contiguity',\n",
       " '_update_f_contiguity',\n",
       " 'all',\n",
       " 'any',\n",
       " 'argmax',\n",
       " 'argmin',\n",
       " 'argpartition',\n",
       " 'argsort',\n",
       " 'astype',\n",
       " 'base',\n",
       " 'choose',\n",
       " 'clip',\n",
       " 'conj',\n",
       " 'copy',\n",
       " 'cstruct',\n",
       " 'cumprod',\n",
       " 'cumsum',\n",
       " 'data',\n",
       " 'device',\n",
       " 'diagonal',\n",
       " 'dot',\n",
       " 'dtype',\n",
       " 'dump',\n",
       " 'dumps',\n",
       " 'fill',\n",
       " 'flags',\n",
       " 'flatten',\n",
       " 'get',\n",
       " 'imag',\n",
       " 'item',\n",
       " 'itemsize',\n",
       " 'max',\n",
       " 'mean',\n",
       " 'min',\n",
       " 'nbytes',\n",
       " 'ndim',\n",
       " 'nonzero',\n",
       " 'partition',\n",
       " 'prod',\n",
       " 'put',\n",
       " 'ravel',\n",
       " 'real',\n",
       " 'reduced_view',\n",
       " 'repeat',\n",
       " 'reshape',\n",
       " 'round',\n",
       " 'scatter_add',\n",
       " 'set',\n",
       " 'shape',\n",
       " 'size',\n",
       " 'sort',\n",
       " 'squeeze',\n",
       " 'std',\n",
       " 'strides',\n",
       " 'sum',\n",
       " 'swapaxes',\n",
       " 'take',\n",
       " 'toDlpack',\n",
       " 'tofile',\n",
       " 'tolist',\n",
       " 'trace',\n",
       " 'transpose',\n",
       " 'var',\n",
       " 'view']"
      ]
     },
     "execution_count": 35,
     "metadata": {},
     "output_type": "execute_result"
    }
   ],
   "source": [
    "dir(cp.ones(2))"
   ]
  },
  {
   "cell_type": "code",
   "execution_count": null,
   "metadata": {},
   "outputs": [],
   "source": []
  },
  {
   "cell_type": "code",
   "execution_count": 10,
   "metadata": {},
   "outputs": [
    {
     "data": {
      "text/plain": [
       "array([None, None], dtype=object)"
      ]
     },
     "execution_count": 10,
     "metadata": {},
     "output_type": "execute_result"
    }
   ],
   "source": [
    "z"
   ]
  },
  {
   "cell_type": "code",
   "execution_count": 13,
   "metadata": {},
   "outputs": [
    {
     "name": "stdout",
     "output_type": "stream",
     "text": [
      "Help on built-in function view:\n",
      "\n",
      "view(...) method of cupy.core.core.ndarray instance\n",
      "    ndarray.view(self, dtype=None) -> ndarray\n",
      "    Returns a view of the array.\n",
      "    \n",
      "            Args:\n",
      "                dtype: If this is different from the data type of the array, the\n",
      "                    returned view reinterpret the memory sequence as an array of\n",
      "                    this type.\n",
      "    \n",
      "            Returns:\n",
      "                cupy.ndarray: A view of the array. A reference to the original\n",
      "                array is stored at the :attr:`~ndarray.base` attribute.\n",
      "    \n",
      "            .. seealso:: :meth:`numpy.ndarray.view`\n",
      "\n"
     ]
    }
   ],
   "source": [
    "x = cp.zeros(2)\n",
    "help(x.view)"
   ]
  },
  {
   "cell_type": "code",
   "execution_count": 14,
   "metadata": {},
   "outputs": [
    {
     "name": "stdout",
     "output_type": "stream",
     "text": [
      "Help on built-in function __new__:\n",
      "\n",
      "__new__(*args, **kwargs) method of builtins.type instance\n",
      "    Create and return a new object.  See help(type) for accurate signature.\n",
      "\n"
     ]
    }
   ],
   "source": [
    "help(x.__new__)"
   ]
  },
  {
   "cell_type": "code",
   "execution_count": 21,
   "metadata": {},
   "outputs": [
    {
     "ename": "AttributeError",
     "evalue": "'cupy.core.core.ndarray' object has no attribute 'order'",
     "output_type": "error",
     "traceback": [
      "\u001b[1;31m---------------------------------------------------------------------------\u001b[0m",
      "\u001b[1;31mAttributeError\u001b[0m                            Traceback (most recent call last)",
      "\u001b[1;32m<ipython-input-21-42a72903cb53>\u001b[0m in \u001b[0;36m<module>\u001b[1;34m\u001b[0m\n\u001b[1;32m----> 1\u001b[1;33m \u001b[0mx\u001b[0m\u001b[1;33m.\u001b[0m\u001b[0morder\u001b[0m\u001b[1;33m\u001b[0m\u001b[1;33m\u001b[0m\u001b[0m\n\u001b[0m",
      "\u001b[1;31mAttributeError\u001b[0m: 'cupy.core.core.ndarray' object has no attribute 'order'"
     ]
    }
   ],
   "source": [
    "x.order"
   ]
  },
  {
   "cell_type": "code",
   "execution_count": 15,
   "metadata": {},
   "outputs": [
    {
     "name": "stdout",
     "output_type": "stream",
     "text": [
      "Help on class ndarray in module cupy.core.core:\n",
      "\n",
      "class ndarray(builtins.object)\n",
      " |  ndarray(shape, dtype=float, memptr=None, strides=None, order=u'C')\n",
      " |  Multi-dimensional array on a CUDA device.\n",
      " |  \n",
      " |      This class implements a subset of methods of :class:`numpy.ndarray`.\n",
      " |      The difference is that this class allocates the array content on the\n",
      " |      current GPU device.\n",
      " |  \n",
      " |      Args:\n",
      " |          shape (tuple of ints): Length of axes.\n",
      " |          dtype: Data type. It must be an argument of :class:`numpy.dtype`.\n",
      " |          memptr (cupy.cuda.MemoryPointer): Pointer to the array content head.\n",
      " |          strides (tuple of ints or None): Strides of data in memory.\n",
      " |          order ({'C', 'F'}): Row-major (C-style) or column-major\n",
      " |              (Fortran-style) order.\n",
      " |  \n",
      " |      Attributes:\n",
      " |          base (None or cupy.ndarray): Base array from which this array is\n",
      " |              created as a view.\n",
      " |          data (cupy.cuda.MemoryPointer): Pointer to the array content head.\n",
      " |          ~ndarray.dtype(numpy.dtype): Dtype object of element type.\n",
      " |  \n",
      " |              .. seealso::\n",
      " |                 `Data type objects (dtype)                <https://docs.scipy.org/doc/numpy/reference/arrays.dtypes.html>`_\n",
      " |          ~ndarray.size (int): Number of elements this array holds.\n",
      " |  \n",
      " |              This is equivalent to product over the shape tuple.\n",
      " |  \n",
      " |              .. seealso:: :attr:`numpy.ndarray.size`\n",
      " |  \n",
      " |  Methods defined here:\n",
      " |  \n",
      " |  __abs__(self, /)\n",
      " |      abs(self)\n",
      " |  \n",
      " |  __add__(self, value, /)\n",
      " |      Return self+value.\n",
      " |  \n",
      " |  __and__(self, value, /)\n",
      " |      Return self&value.\n",
      " |  \n",
      " |  __array__(...)\n",
      " |      ndarray.__array__(self, dtype=None)\n",
      " |  \n",
      " |  __array_function__(...)\n",
      " |      ndarray.__array_function__(self, func, types, args, kwargs)\n",
      " |  \n",
      " |  __array_ufunc__(...)\n",
      " |      ndarray.__array_ufunc__(self, ufunc, method, *inputs, **kwargs)\n",
      " |      Apply unary or binary ufunc to this array\n",
      " |      \n",
      " |              If binary, only allow if second argument is another cupy ndarray or\n",
      " |              a number, i.e., raise ValueError instead of silently converting a\n",
      " |              numpy array.\n",
      " |  \n",
      " |  __bool__(self, /)\n",
      " |      self != 0\n",
      " |  \n",
      " |  __complex__(...)\n",
      " |      ndarray.__complex__(self)\n",
      " |  \n",
      " |  __copy__(...)\n",
      " |      ndarray.__copy__(self)\n",
      " |  \n",
      " |  __deepcopy__(...)\n",
      " |      ndarray.__deepcopy__(self, memo)\n",
      " |  \n",
      " |  __delitem__(self, key, /)\n",
      " |      Delete self[key].\n",
      " |  \n",
      " |  __divmod__(self, value, /)\n",
      " |      Return divmod(self, value).\n",
      " |  \n",
      " |  __eq__(self, value, /)\n",
      " |      Return self==value.\n",
      " |  \n",
      " |  __float__(self, /)\n",
      " |      float(self)\n",
      " |  \n",
      " |  __floordiv__(self, value, /)\n",
      " |      Return self//value.\n",
      " |  \n",
      " |  __ge__(self, value, /)\n",
      " |      Return self>=value.\n",
      " |  \n",
      " |  __getitem__(...)\n",
      " |      x.__getitem__(y) <==> x[y]\n",
      " |      \n",
      " |      Supports both basic and advanced indexing.\n",
      " |      \n",
      " |      .. note::\n",
      " |      \n",
      " |          Currently, it does not support ``slices`` that consists of more\n",
      " |          than one boolean arrays\n",
      " |      \n",
      " |      .. note::\n",
      " |      \n",
      " |         CuPy handles out-of-bounds indices differently from NumPy.\n",
      " |         NumPy handles them by raising an error, but CuPy wraps around them.\n",
      " |      \n",
      " |      Example:\n",
      " |      \n",
      " |          >>> a = cupy.arange(3)\n",
      " |          >>> a[[1, 3]]\n",
      " |          array([1, 0])\n",
      " |  \n",
      " |  __gt__(self, value, /)\n",
      " |      Return self>value.\n",
      " |  \n",
      " |  __iadd__(self, value, /)\n",
      " |      Return self+=value.\n",
      " |  \n",
      " |  __iand__(self, value, /)\n",
      " |      Return self&=value.\n",
      " |  \n",
      " |  __ifloordiv__(self, value, /)\n",
      " |      Return self//=value.\n",
      " |  \n",
      " |  __ilshift__(self, value, /)\n",
      " |      Return self<<=value.\n",
      " |  \n",
      " |  __imod__(self, value, /)\n",
      " |      Return self%=value.\n",
      " |  \n",
      " |  __imul__(self, value, /)\n",
      " |      Return self*=value.\n",
      " |  \n",
      " |  __init__(self, /, *args, **kwargs)\n",
      " |      Initialize self.  See help(type(self)) for accurate signature.\n",
      " |  \n",
      " |  __int__(self, /)\n",
      " |      int(self)\n",
      " |  \n",
      " |  __invert__(self, /)\n",
      " |      ~self\n",
      " |  \n",
      " |  __ior__(self, value, /)\n",
      " |      Return self|=value.\n",
      " |  \n",
      " |  __ipow__(self, value, /)\n",
      " |      Return self**=value.\n",
      " |  \n",
      " |  __irshift__(self, value, /)\n",
      " |      Return self>>=value.\n",
      " |  \n",
      " |  __isub__(self, value, /)\n",
      " |      Return self-=value.\n",
      " |  \n",
      " |  __iter__(self, /)\n",
      " |      Implement iter(self).\n",
      " |  \n",
      " |  __itruediv__(self, value, /)\n",
      " |      Return self/=value.\n",
      " |  \n",
      " |  __ixor__(self, value, /)\n",
      " |      Return self^=value.\n",
      " |  \n",
      " |  __le__(self, value, /)\n",
      " |      Return self<=value.\n",
      " |  \n",
      " |  __len__(self, /)\n",
      " |      Return len(self).\n",
      " |  \n",
      " |  __lshift__(self, value, /)\n",
      " |      Return self<<value.\n",
      " |  \n",
      " |  __lt__(self, value, /)\n",
      " |      Return self<value.\n",
      " |  \n",
      " |  __matmul__(self, value, /)\n",
      " |      Return self@value.\n",
      " |  \n",
      " |  __mod__(self, value, /)\n",
      " |      Return self%value.\n",
      " |  \n",
      " |  __mul__(self, value, /)\n",
      " |      Return self*value.\n",
      " |  \n",
      " |  __ne__(self, value, /)\n",
      " |      Return self!=value.\n",
      " |  \n",
      " |  __neg__(self, /)\n",
      " |      -self\n",
      " |  \n",
      " |  __or__(self, value, /)\n",
      " |      Return self|value.\n",
      " |  \n",
      " |  __pos__(self, /)\n",
      " |      +self\n",
      " |  \n",
      " |  __pow__(self, value, mod=None, /)\n",
      " |      Return pow(self, value, mod).\n",
      " |  \n",
      " |  __radd__(self, value, /)\n",
      " |      Return value+self.\n",
      " |  \n",
      " |  __rand__(self, value, /)\n",
      " |      Return value&self.\n",
      " |  \n",
      " |  __rdivmod__(self, value, /)\n",
      " |      Return divmod(value, self).\n",
      " |  \n",
      " |  __reduce__(...)\n",
      " |      ndarray.__reduce__(self)\n",
      " |  \n",
      " |  __repr__(self, /)\n",
      " |      Return repr(self).\n",
      " |  \n",
      " |  __rfloordiv__(self, value, /)\n",
      " |      Return value//self.\n",
      " |  \n",
      " |  __rlshift__(self, value, /)\n",
      " |      Return value<<self.\n",
      " |  \n",
      " |  __rmatmul__(self, value, /)\n",
      " |      Return value@self.\n",
      " |  \n",
      " |  __rmod__(self, value, /)\n",
      " |      Return value%self.\n",
      " |  \n",
      " |  __rmul__(self, value, /)\n",
      " |      Return value*self.\n",
      " |  \n",
      " |  __ror__(self, value, /)\n",
      " |      Return value|self.\n",
      " |  \n",
      " |  __rpow__(self, value, mod=None, /)\n",
      " |      Return pow(value, self, mod).\n",
      " |  \n",
      " |  __rrshift__(self, value, /)\n",
      " |      Return value>>self.\n",
      " |  \n",
      " |  __rshift__(self, value, /)\n",
      " |      Return self>>value.\n",
      " |  \n",
      " |  __rsub__(self, value, /)\n",
      " |      Return value-self.\n",
      " |  \n",
      " |  __rtruediv__(self, value, /)\n",
      " |      Return value/self.\n",
      " |  \n",
      " |  __rxor__(self, value, /)\n",
      " |      Return value^self.\n",
      " |  \n",
      " |  __setitem__(...)\n",
      " |      x.__setitem__(slices, y) <==> x[slices] = y\n",
      " |      \n",
      " |      Supports both basic and advanced indexing.\n",
      " |      \n",
      " |      .. note::\n",
      " |      \n",
      " |          Currently, it does not support ``slices`` that consists of more\n",
      " |          than one boolean arrays\n",
      " |      \n",
      " |      .. note::\n",
      " |      \n",
      " |          CuPy handles out-of-bounds indices differently from NumPy when\n",
      " |          using integer array indexing.\n",
      " |          NumPy handles them by raising an error, but CuPy wraps around them.\n",
      " |      \n",
      " |          >>> import cupy\n",
      " |          >>> x = cupy.arange(3)\n",
      " |          >>> x[[1, 3]] = 10\n",
      " |          >>> x\n",
      " |          array([10, 10,  2])\n",
      " |      \n",
      " |      .. note::\n",
      " |      \n",
      " |          The behavior differs from NumPy when integer arrays in ``slices``\n",
      " |          reference the same location multiple times.\n",
      " |          In that case, the value that is actually stored is undefined.\n",
      " |      \n",
      " |          >>> import cupy\n",
      " |          >>> a = cupy.zeros((2,))\n",
      " |          >>> i = cupy.arange(10000) % 2\n",
      " |          >>> v = cupy.arange(10000).astype(cupy.float)\n",
      " |          >>> a[i] = v\n",
      " |          >>> a  # doctest: +SKIP\n",
      " |          array([9150., 9151.])\n",
      " |      \n",
      " |          On the other hand, NumPy stores the value corresponding to the\n",
      " |          last index among the indices referencing duplicate locations.\n",
      " |      \n",
      " |          >>> import numpy\n",
      " |          >>> a_cpu = numpy.zeros((2,))\n",
      " |          >>> i_cpu = numpy.arange(10000) % 2\n",
      " |          >>> v_cpu = numpy.arange(10000).astype(numpy.float)\n",
      " |          >>> a_cpu[i_cpu] = v_cpu\n",
      " |          >>> a_cpu\n",
      " |          array([9998., 9999.])\n",
      " |  \n",
      " |  __str__(self, /)\n",
      " |      Return str(self).\n",
      " |  \n",
      " |  __sub__(self, value, /)\n",
      " |      Return self-value.\n",
      " |  \n",
      " |  __truediv__(self, value, /)\n",
      " |      Return self/value.\n",
      " |  \n",
      " |  __xor__(self, value, /)\n",
      " |      Return self^value.\n",
      " |  \n",
      " |  all(...)\n",
      " |      ndarray.all(self, axis=None, out=None, keepdims=False) -> ndarray\n",
      " |  \n",
      " |  any(...)\n",
      " |      ndarray.any(self, axis=None, out=None, keepdims=False) -> ndarray\n",
      " |  \n",
      " |  argmax(...)\n",
      " |      ndarray.argmax(self, axis=None, out=None, dtype=None, keepdims=False) -> ndarray\n",
      " |      Returns the indices of the maximum along a given axis.\n",
      " |      \n",
      " |              .. seealso::\n",
      " |                 :func:`cupy.argmax` for full documentation,\n",
      " |                 :meth:`numpy.ndarray.argmax`\n",
      " |  \n",
      " |  argmin(...)\n",
      " |      ndarray.argmin(self, axis=None, out=None, dtype=None, keepdims=False) -> ndarray\n",
      " |      Returns the indices of the minimum along a given axis.\n",
      " |      \n",
      " |              .. seealso::\n",
      " |                 :func:`cupy.argmin` for full documentation,\n",
      " |                 :meth:`numpy.ndarray.argmin`\n",
      " |  \n",
      " |  argpartition(...)\n",
      " |      ndarray.argpartition(self, kth, axis=-1) -> ndarray\n",
      " |      Returns the indices that would partially sort an array.\n",
      " |      \n",
      " |              Args:\n",
      " |                  kth (int or sequence of ints): Element index to partition by. If\n",
      " |                      supplied with a sequence of k-th it will partition all elements\n",
      " |                      indexed by k-th of them into their sorted position at once.\n",
      " |                  axis (int or None): Axis along which to sort. Default is -1, which\n",
      " |                      means sort along the last axis. If None is supplied, the array\n",
      " |                      is flattened before sorting.\n",
      " |      \n",
      " |              Returns:\n",
      " |                  cupy.ndarray: Array of the same type and shape as ``a``.\n",
      " |      \n",
      " |              .. seealso::\n",
      " |                  :func:`cupy.argpartition` for full documentation,\n",
      " |                  :meth:`numpy.ndarray.argpartition`\n",
      " |  \n",
      " |  argsort(...)\n",
      " |      ndarray.argsort(self, axis=-1) -> ndarray\n",
      " |      Returns the indices that would sort an array with stable sorting\n",
      " |      \n",
      " |              Args:\n",
      " |                  axis (int or None): Axis along which to sort. Default is -1, which\n",
      " |                      means sort along the last axis. If None is supplied, the array\n",
      " |                      is flattened before sorting.\n",
      " |      \n",
      " |              Returns:\n",
      " |                  cupy.ndarray: Array of indices that sort the array.\n",
      " |      \n",
      " |              .. seealso::\n",
      " |                  :func:`cupy.argsort` for full documentation,\n",
      " |                  :meth:`numpy.ndarray.argsort`\n",
      " |  \n",
      " |  astype(...)\n",
      " |      ndarray.astype(self, dtype, order=u'K', casting=None, subok=None, copy=True) -> ndarray\n",
      " |      Casts the array to given data type.\n",
      " |      \n",
      " |              Args:\n",
      " |                  dtype: Type specifier.\n",
      " |                  order ({'C', 'F', 'A', 'K'}): Row-major (C-style) or column-major\n",
      " |                      (Fortran-style) order.\n",
      " |                      When ``order`` is 'A', it uses 'F' if ``a`` is column-major and\n",
      " |                      uses 'C' otherwise.\n",
      " |                      And when ``order`` is 'K', it keeps strides as closely as\n",
      " |                      possible.\n",
      " |                  copy (bool): If it is False and no cast happens, then this method\n",
      " |                      returns the array itself. Otherwise, a copy is returned.\n",
      " |      \n",
      " |              Returns:\n",
      " |                  If ``copy`` is False and no cast is required, then the array itself\n",
      " |                  is returned. Otherwise, it returns a (possibly casted) copy of the\n",
      " |                  array.\n",
      " |      \n",
      " |              .. note::\n",
      " |                 This method currently does not support ``casting``, and ``subok``\n",
      " |                 arguments.\n",
      " |      \n",
      " |              .. seealso:: :meth:`numpy.ndarray.astype`\n",
      " |  \n",
      " |  choose(...)\n",
      " |      ndarray.choose(self, choices, out=None, mode=u'raise')\n",
      " |  \n",
      " |  clip(...)\n",
      " |      ndarray.clip(self, a_min=None, a_max=None, out=None) -> ndarray\n",
      " |      Returns an array with values limited to [a_min, a_max].\n",
      " |      \n",
      " |              .. seealso::\n",
      " |                 :func:`cupy.clip` for full documentation,\n",
      " |                 :meth:`numpy.ndarray.clip`\n",
      " |  \n",
      " |  conj(...)\n",
      " |      ndarray.conj(self) -> ndarray\n",
      " |  \n",
      " |  copy(...)\n",
      " |      ndarray.copy(self, order=u'C') -> ndarray\n",
      " |      Returns a copy of the array.\n",
      " |      \n",
      " |              This method makes a copy of a given array in the current device.\n",
      " |              Even when a given array is located in another device, you can copy it\n",
      " |              to the current device.\n",
      " |      \n",
      " |              Args:\n",
      " |                  order ({'C', 'F', 'A', 'K'}): Row-major (C-style) or column-major\n",
      " |                      (Fortran-style) order.\n",
      " |                      When ``order`` is 'A', it uses 'F' if ``a`` is column-major and\n",
      " |                      uses 'C' otherwise.\n",
      " |                      And when `order` is 'K', it keeps strides as closely as\n",
      " |                      possible.\n",
      " |      \n",
      " |              .. seealso::\n",
      " |                 :func:`cupy.copy` for full documentation,\n",
      " |                 :meth:`numpy.ndarray.copy`\n",
      " |  \n",
      " |  cumprod(...)\n",
      " |      ndarray.cumprod(self, axis=None, dtype=None, out=None) -> ndarray\n",
      " |      Returns the cumulative product of an array along a given axis.\n",
      " |      \n",
      " |              .. seealso::\n",
      " |                 :func:`cupy.cumprod` for full documentation,\n",
      " |                 :meth:`numpy.ndarray.cumprod`\n",
      " |  \n",
      " |  cumsum(...)\n",
      " |      ndarray.cumsum(self, axis=None, dtype=None, out=None) -> ndarray\n",
      " |      Returns the cumulative sum of an array along a given axis.\n",
      " |      \n",
      " |              .. seealso::\n",
      " |                 :func:`cupy.cumsum` for full documentation,\n",
      " |                 :meth:`numpy.ndarray.cumsum`\n",
      " |  \n",
      " |  diagonal(...)\n",
      " |      ndarray.diagonal(self, offset=0, axis1=0, axis2=1) -> ndarray\n",
      " |      Returns a view of the specified diagonals.\n",
      " |      \n",
      " |              .. seealso::\n",
      " |                 :func:`cupy.diagonal` for full documentation,\n",
      " |                 :meth:`numpy.ndarray.diagonal`\n",
      " |  \n",
      " |  dot(...)\n",
      " |      ndarray.dot(self, ndarray b, ndarray out=None)\n",
      " |      Returns the dot product with given array.\n",
      " |      \n",
      " |              .. seealso::\n",
      " |                 :func:`cupy.dot` for full documentation,\n",
      " |                 :meth:`numpy.ndarray.dot`\n",
      " |  \n",
      " |  dump(...)\n",
      " |      ndarray.dump(self, file)\n",
      " |      Dumps a pickle of the array to a file.\n",
      " |      \n",
      " |              Dumped file can be read back to :class:`cupy.ndarray` by\n",
      " |              :func:`cupy.load`.\n",
      " |  \n",
      " |  dumps(...)\n",
      " |      ndarray.dumps(self)\n",
      " |      Dumps a pickle of the array to a string.\n",
      " |  \n",
      " |  fill(...)\n",
      " |      ndarray.fill(self, value)\n",
      " |      Fills the array with a scalar value.\n",
      " |      \n",
      " |              Args:\n",
      " |                  value: A scalar value to fill the array content.\n",
      " |      \n",
      " |              .. seealso:: :meth:`numpy.ndarray.fill`\n",
      " |  \n",
      " |  flatten(...)\n",
      " |      ndarray.flatten(self) -> ndarray\n",
      " |      Returns a copy of the array flatten into one dimension.\n",
      " |      \n",
      " |              It currently supports C-order only.\n",
      " |      \n",
      " |              Returns:\n",
      " |                  cupy.ndarray: A copy of the array with one dimension.\n",
      " |      \n",
      " |              .. seealso:: :meth:`numpy.ndarray.flatten`\n",
      " |  \n",
      " |  get(...)\n",
      " |      ndarray.get(self, stream=None, order=u'C', out=None)\n",
      " |      Returns a copy of the array on host memory.\n",
      " |      \n",
      " |              Args:\n",
      " |                  stream (cupy.cuda.Stream): CUDA stream object. If it is given, the\n",
      " |                      copy runs asynchronously. Otherwise, the copy is synchronous.\n",
      " |                      The default uses CUDA stream object of the current context.\n",
      " |                  order ({'C', 'F', 'A'}): The desired memory layout of the host\n",
      " |                      array. When ``order`` is 'A', it uses 'F' if the array is\n",
      " |                      fortran-contiguous and 'C' otherwise. The ``order`` will be\n",
      " |                      ignored if ``out`` is specified.\n",
      " |                  out (numpy.ndarray): Output array. In order to enable asynchronous\n",
      " |                      copy, the underlying memory should be a pinned memory.\n",
      " |      \n",
      " |              Returns:\n",
      " |                  numpy.ndarray: Copy of the array on host memory.\n",
      " |  \n",
      " |  item(...)\n",
      " |      ndarray.item(self)\n",
      " |      Converts the array with one element to a Python scalar\n",
      " |      \n",
      " |              Returns:\n",
      " |                  int or float or complex: The element of the array.\n",
      " |      \n",
      " |              .. seealso:: :meth:`numpy.ndarray.item`\n",
      " |  \n",
      " |  max(...)\n",
      " |      ndarray.max(self, axis=None, out=None, dtype=None, keepdims=False) -> ndarray\n",
      " |      Returns the maximum along a given axis.\n",
      " |      \n",
      " |              .. seealso::\n",
      " |                 :func:`cupy.amax` for full documentation,\n",
      " |                 :meth:`numpy.ndarray.max`\n",
      " |  \n",
      " |  mean(...)\n",
      " |      ndarray.mean(self, axis=None, dtype=None, out=None, keepdims=False) -> ndarray\n",
      " |      Returns the mean along a given axis.\n",
      " |      \n",
      " |              .. seealso::\n",
      " |                 :func:`cupy.mean` for full documentation,\n",
      " |                 :meth:`numpy.ndarray.mean`\n",
      " |  \n",
      " |  min(...)\n",
      " |      ndarray.min(self, axis=None, out=None, dtype=None, keepdims=False) -> ndarray\n",
      " |      Returns the minimum along a given axis.\n",
      " |      \n",
      " |              .. seealso::\n",
      " |                 :func:`cupy.amin` for full documentation,\n",
      " |                 :meth:`numpy.ndarray.min`\n",
      " |  \n",
      " |  nonzero(...)\n",
      " |      ndarray.nonzero(self) -> tuple\n",
      " |      Return the indices of the elements that are non-zero.\n",
      " |      \n",
      " |              Returned Array is containing the indices of the non-zero elements\n",
      " |              in that dimension.\n",
      " |      \n",
      " |              Returns:\n",
      " |                  tuple of arrays: Indices of elements that are non-zero.\n",
      " |      \n",
      " |              .. seealso::\n",
      " |                  :func:`numpy.nonzero`\n",
      " |  \n",
      " |  partition(...)\n",
      " |      ndarray.partition(self, kth, int axis=-1)\n",
      " |      Partitions an array.\n",
      " |      \n",
      " |              Args:\n",
      " |                  kth (int or sequence of ints): Element index to partition by. If\n",
      " |                      supplied with a sequence of k-th it will partition all elements\n",
      " |                      indexed by k-th of them into their sorted position at once.\n",
      " |      \n",
      " |                  axis (int): Axis along which to sort. Default is -1, which means\n",
      " |                      sort along the last axis.\n",
      " |      \n",
      " |              .. seealso::\n",
      " |                  :func:`cupy.partition` for full documentation,\n",
      " |                  :meth:`numpy.ndarray.partition`\n",
      " |  \n",
      " |  prod(...)\n",
      " |      ndarray.prod(self, axis=None, dtype=None, out=None, keepdims=None) -> ndarray\n",
      " |      Returns the product along a given axis.\n",
      " |      \n",
      " |              .. seealso::\n",
      " |                 :func:`cupy.prod` for full documentation,\n",
      " |                 :meth:`numpy.ndarray.prod`\n",
      " |  \n",
      " |  put(...)\n",
      " |      ndarray.put(self, indices, values, mode=u'wrap')\n",
      " |      Replaces specified elements of an array with given values.\n",
      " |      \n",
      " |              .. seealso::\n",
      " |                 :func:`cupy.put` for full documentation,\n",
      " |                 :meth:`numpy.ndarray.put`\n",
      " |  \n",
      " |  ravel(...)\n",
      " |      ndarray.ravel(self, order=u'C') -> ndarray\n",
      " |      Returns an array flattened into one dimension.\n",
      " |      \n",
      " |              .. seealso::\n",
      " |                 :func:`cupy.ravel` for full documentation,\n",
      " |                 :meth:`numpy.ndarray.ravel`\n",
      " |  \n",
      " |  reduced_view(...)\n",
      " |      ndarray.reduced_view(self, dtype=None) -> ndarray\n",
      " |      Returns a view of the array with minimum number of dimensions.\n",
      " |      \n",
      " |              Args:\n",
      " |                  dtype: Data type specifier. If it is given, then the memory\n",
      " |                      sequence is reinterpreted as the new type.\n",
      " |      \n",
      " |              Returns:\n",
      " |                  cupy.ndarray: A view of the array with reduced dimensions.\n",
      " |  \n",
      " |  repeat(...)\n",
      " |      ndarray.repeat(self, repeats, axis=None)\n",
      " |      Returns an array with repeated arrays along an axis.\n",
      " |      \n",
      " |              .. seealso::\n",
      " |                  :func:`cupy.repeat` for full documentation,\n",
      " |                  :meth:`numpy.ndarray.repeat`\n",
      " |  \n",
      " |  reshape(...)\n",
      " |      ndarray.reshape(self, *shape, order=u'C')\n",
      " |      Returns an array of a different shape and the same content.\n",
      " |      \n",
      " |              .. seealso::\n",
      " |                 :func:`cupy.reshape` for full documentation,\n",
      " |                 :meth:`numpy.ndarray.reshape`\n",
      " |  \n",
      " |  round(...)\n",
      " |      ndarray.round(self, decimals=0, out=None) -> ndarray\n",
      " |      Returns an array with values rounded to the given number of decimals.\n",
      " |      \n",
      " |              .. seealso::\n",
      " |                 :func:`cupy.around` for full documentation,\n",
      " |                 :meth:`numpy.ndarray.round`\n",
      " |  \n",
      " |  scatter_add(...)\n",
      " |      ndarray.scatter_add(self, slices, value)\n",
      " |      Adds given values to specified elements of an array.\n",
      " |      \n",
      " |              .. seealso::\n",
      " |                  :func:`cupyx.scatter_add` for full documentation.\n",
      " |  \n",
      " |  set(...)\n",
      " |      ndarray.set(self, arr, stream=None)\n",
      " |      Copies an array on the host memory to :class:`cupy.ndarray`.\n",
      " |      \n",
      " |              Args:\n",
      " |                  arr (numpy.ndarray): The source array on the host memory.\n",
      " |                  stream (cupy.cuda.Stream): CUDA stream object. If it is given, the\n",
      " |                      copy runs asynchronously. Otherwise, the copy is synchronous.\n",
      " |                      The default uses CUDA stream object of the current context.\n",
      " |  \n",
      " |  sort(...)\n",
      " |      ndarray.sort(self, int axis=-1)\n",
      " |      Sort an array, in-place with a stable sorting algorithm.\n",
      " |      \n",
      " |              Args:\n",
      " |                  axis (int): Axis along which to sort. Default is -1, which means\n",
      " |                      sort along the last axis.\n",
      " |      \n",
      " |              .. note::\n",
      " |                 For its implementation reason, ``ndarray.sort`` currently supports\n",
      " |                 only arrays with their own data, and does not support ``kind`` and\n",
      " |                 ``order`` parameters that ``numpy.ndarray.sort`` does support.\n",
      " |      \n",
      " |              .. seealso::\n",
      " |                  :func:`cupy.sort` for full documentation,\n",
      " |                  :meth:`numpy.ndarray.sort`\n",
      " |  \n",
      " |  squeeze(...)\n",
      " |      ndarray.squeeze(self, axis=None) -> ndarray\n",
      " |      Returns a view with size-one axes removed.\n",
      " |      \n",
      " |              .. seealso::\n",
      " |                 :func:`cupy.squeeze` for full documentation,\n",
      " |                 :meth:`numpy.ndarray.squeeze`\n",
      " |  \n",
      " |  std(...)\n",
      " |      ndarray.std(self, axis=None, dtype=None, out=None, ddof=0, keepdims=False) -> ndarray\n",
      " |      Returns the standard deviation along a given axis.\n",
      " |      \n",
      " |              .. seealso::\n",
      " |                 :func:`cupy.std` for full documentation,\n",
      " |                 :meth:`numpy.ndarray.std`\n",
      " |  \n",
      " |  sum(...)\n",
      " |      ndarray.sum(self, axis=None, dtype=None, out=None, keepdims=False) -> ndarray\n",
      " |      Returns the sum along a given axis.\n",
      " |      \n",
      " |              .. seealso::\n",
      " |                 :func:`cupy.sum` for full documentation,\n",
      " |                 :meth:`numpy.ndarray.sum`\n",
      " |  \n",
      " |  swapaxes(...)\n",
      " |      ndarray.swapaxes(self, Py_ssize_t axis1, Py_ssize_t axis2) -> ndarray\n",
      " |      Returns a view of the array with two axes swapped.\n",
      " |      \n",
      " |              .. seealso::\n",
      " |                 :func:`cupy.swapaxes` for full documentation,\n",
      " |                 :meth:`numpy.ndarray.swapaxes`\n",
      " |  \n",
      " |  take(...)\n",
      " |      ndarray.take(self, indices, axis=None, out=None) -> ndarray\n",
      " |      Returns an array of elements at given indices along the axis.\n",
      " |      \n",
      " |              .. seealso::\n",
      " |                 :func:`cupy.take` for full documentation,\n",
      " |                 :meth:`numpy.ndarray.take`\n",
      " |  \n",
      " |  toDlpack(...)\n",
      " |      ndarray.toDlpack(self)\n",
      " |      Zero-copy conversion to a DLPack tensor.\n",
      " |      \n",
      " |              DLPack is a open in memory tensor structure proposed in this\n",
      " |              repository: `dmlc/dlpack <https://github.com/dmlc/dlpack>`_.\n",
      " |      \n",
      " |              This function returns a :class:`PyCapsule` object which contains a\n",
      " |              pointer to a DLPack tensor converted from the own ndarray. This\n",
      " |              function does not copy the own data to the output DLpack tensor\n",
      " |              but it shares the pointer which is pointing to the same memory region\n",
      " |              for the data.\n",
      " |      \n",
      " |              Returns:\n",
      " |                  dltensor (:class:`PyCapsule`): Output DLPack tensor which is\n",
      " |                      encapsulated in a :class:`PyCapsule` object.\n",
      " |      \n",
      " |              .. seealso::\n",
      " |      \n",
      " |                  :meth:`~cupy.fromDlpack` is a method for zero-copy conversion from\n",
      " |                  a DLPack tensor (which is encapsulated in a :class:`PyCapsule`\n",
      " |                  object) to a :class:`ndarray`\n",
      " |      \n",
      " |              .. admonition:: Example\n",
      " |      \n",
      " |                  >>> import cupy\n",
      " |                  >>> array1 = cupy.array([0, 1, 2], dtype=cupy.float32)\n",
      " |                  >>> dltensor = array1.toDlpack()\n",
      " |                  >>> array2 = cupy.fromDlpack(dltensor)\n",
      " |                  >>> cupy.testing.assert_array_equal(array1, array2)\n",
      " |  \n",
      " |  tofile(...)\n",
      " |      ndarray.tofile(self, fid, sep=u'', format=u'%s')\n",
      " |      Writes the array to a file.\n",
      " |      \n",
      " |              .. seealso:: :meth:`numpy.ndarray.tolist`\n",
      " |  \n",
      " |  tolist(...)\n",
      " |      ndarray.tolist(self)\n",
      " |      Converts the array to a (possibly nested) Python list.\n",
      " |      \n",
      " |              Returns:\n",
      " |                  list: The possibly nested Python list of array elements.\n",
      " |      \n",
      " |              .. seealso:: :meth:`numpy.ndarray.tolist`\n",
      " |  \n",
      " |  trace(...)\n",
      " |      ndarray.trace(self, offset=0, axis1=0, axis2=1, dtype=None, out=None) -> ndarray\n",
      " |      Returns the sum along diagonals of the array.\n",
      " |      \n",
      " |              .. seealso::\n",
      " |                 :func:`cupy.trace` for full documentation,\n",
      " |                 :meth:`numpy.ndarray.trace`\n",
      " |  \n",
      " |  transpose(...)\n",
      " |      ndarray.transpose(self, *axes)\n",
      " |      Returns a view of the array with axes permuted.\n",
      " |      \n",
      " |              .. seealso::\n",
      " |                 :func:`cupy.transpose` for full documentation,\n",
      " |                 :meth:`numpy.ndarray.reshape`\n",
      " |  \n",
      " |  var(...)\n",
      " |      ndarray.var(self, axis=None, dtype=None, out=None, ddof=0, keepdims=False) -> ndarray\n",
      " |      Returns the variance along a given axis.\n",
      " |      \n",
      " |              .. seealso::\n",
      " |                 :func:`cupy.var` for full documentation,\n",
      " |                 :meth:`numpy.ndarray.var`\n",
      " |  \n",
      " |  view(...)\n",
      " |      ndarray.view(self, dtype=None) -> ndarray\n",
      " |      Returns a view of the array.\n",
      " |      \n",
      " |              Args:\n",
      " |                  dtype: If this is different from the data type of the array, the\n",
      " |                      returned view reinterpret the memory sequence as an array of\n",
      " |                      this type.\n",
      " |      \n",
      " |              Returns:\n",
      " |                  cupy.ndarray: A view of the array. A reference to the original\n",
      " |                  array is stored at the :attr:`~ndarray.base` attribute.\n",
      " |      \n",
      " |              .. seealso:: :meth:`numpy.ndarray.view`\n",
      " |  \n",
      " |  ----------------------------------------------------------------------\n",
      " |  Static methods defined here:\n",
      " |  \n",
      " |  __new__(*args, **kwargs) from builtins.type\n",
      " |      Create and return a new object.  See help(type) for accurate signature.\n",
      " |  \n",
      " |  ----------------------------------------------------------------------\n",
      " |  Data descriptors defined here:\n",
      " |  \n",
      " |  T\n",
      " |      Shape-reversed view of the array.\n",
      " |      \n",
      " |      If ndim < 2, then this is just a reference to the array itself.\n",
      " |  \n",
      " |  __cuda_array_interface__\n",
      " |  \n",
      " |  base\n",
      " |  \n",
      " |  cstruct\n",
      " |      C representation of the array.\n",
      " |      \n",
      " |      This property is used for sending an array to CUDA kernels. The type of\n",
      " |      returned C structure is different for different dtypes and ndims. The\n",
      " |      definition of C type is written in ``cupy/carray.cuh``.\n",
      " |  \n",
      " |  data\n",
      " |  \n",
      " |  device\n",
      " |      CUDA device on which this array resides.\n",
      " |  \n",
      " |  dtype\n",
      " |  \n",
      " |  flags\n",
      " |      Object containing memory-layout information.\n",
      " |      \n",
      " |      It only contains ``c_contiguous``, ``f_contiguous``, and ``owndata``\n",
      " |      attributes. All of these are read-only. Accessing by indexes is also\n",
      " |      supported.\n",
      " |      \n",
      " |      .. seealso:: :attr:`numpy.ndarray.flags`\n",
      " |  \n",
      " |  imag\n",
      " |  \n",
      " |  itemsize\n",
      " |      Size of each element in bytes.\n",
      " |      \n",
      " |      .. seealso:: :attr:`numpy.ndarray.itemsize`\n",
      " |  \n",
      " |  nbytes\n",
      " |      Total size of all elements in bytes.\n",
      " |      \n",
      " |      It does not count skips between elements.\n",
      " |      \n",
      " |      .. seealso:: :attr:`numpy.ndarray.nbytes`\n",
      " |  \n",
      " |  ndim\n",
      " |      Number of dimensions.\n",
      " |      \n",
      " |      ``a.ndim`` is equivalent to ``len(a.shape)``.\n",
      " |      \n",
      " |      .. seealso:: :attr:`numpy.ndarray.ndim`\n",
      " |  \n",
      " |  real\n",
      " |  \n",
      " |  shape\n",
      " |      Lengths of axes.\n",
      " |      \n",
      " |      Setter of this property involves reshaping without copy. If the array\n",
      " |      cannot be reshaped without copy, it raises an exception.\n",
      " |      \n",
      " |      .. seealso: :attr:`numpy.ndarray.shape`\n",
      " |  \n",
      " |  size\n",
      " |  \n",
      " |  strides\n",
      " |      Strides of axes in bytes.\n",
      " |      \n",
      " |      .. seealso:: :attr:`numpy.ndarray.strides`\n",
      " |  \n",
      " |  ----------------------------------------------------------------------\n",
      " |  Data and other attributes defined here:\n",
      " |  \n",
      " |  __array_priority__ = 100\n",
      " |  \n",
      " |  __hash__ = None\n",
      " |  \n",
      " |  __pyx_vtable__ = <capsule object NULL>\n",
      "\n"
     ]
    }
   ],
   "source": [
    "help(cp.ndarray)"
   ]
  },
  {
   "cell_type": "code",
   "execution_count": 5,
   "metadata": {},
   "outputs": [
    {
     "ename": "AttributeError",
     "evalue": "'cupy.core.core.ndarray' object has no attribute 'coef'",
     "output_type": "error",
     "traceback": [
      "\u001b[1;31m---------------------------------------------------------------------------\u001b[0m",
      "\u001b[1;31mAttributeError\u001b[0m                            Traceback (most recent call last)",
      "\u001b[1;32m<ipython-input-5-124b166bf779>\u001b[0m in \u001b[0;36m<module>\u001b[1;34m\u001b[0m\n\u001b[1;32m----> 1\u001b[1;33m \u001b[0mad\u001b[0m\u001b[1;33m.\u001b[0m\u001b[0mDense\u001b[0m\u001b[1;33m.\u001b[0m\u001b[0mdenseAD\u001b[0m\u001b[1;33m(\u001b[0m\u001b[0mcp\u001b[0m\u001b[1;33m.\u001b[0m\u001b[0mones\u001b[0m\u001b[1;33m(\u001b[0m\u001b[1;36m2\u001b[0m\u001b[1;33m)\u001b[0m\u001b[1;33m)\u001b[0m\u001b[1;33m\u001b[0m\u001b[1;33m\u001b[0m\u001b[0m\n\u001b[0m",
      "\u001b[1;32m~\\Documents\\GitHub\\AdaptiveGridDiscretizations\\agd\\AutomaticDifferentiation\\Dense.py\u001b[0m in \u001b[0;36m__new__\u001b[1;34m(cls, value, coef, broadcast_ad)\u001b[0m\n\u001b[0;32m     28\u001b[0m                 \u001b[0mshape2\u001b[0m \u001b[1;33m=\u001b[0m \u001b[0mshape\u001b[0m\u001b[1;33m+\u001b[0m\u001b[1;33m(\u001b[0m\u001b[1;36m0\u001b[0m\u001b[1;33m,\u001b[0m\u001b[1;33m)\u001b[0m\u001b[1;33m\u001b[0m\u001b[1;33m\u001b[0m\u001b[0m\n\u001b[0;32m     29\u001b[0m \t\tobj.coef  = (numpy_like.zeros_like(value,shape=shape2) if coef is None \n\u001b[1;32m---> 30\u001b[1;33m \t\t\telse misc._test_or_broadcast_ad(coef,shape,broadcast_ad) )\n\u001b[0m\u001b[0;32m     31\u001b[0m                 \u001b[1;32mreturn\u001b[0m \u001b[0mobj\u001b[0m\u001b[1;33m\u001b[0m\u001b[1;33m\u001b[0m\u001b[0m\n\u001b[0;32m     32\u001b[0m \u001b[1;33m\u001b[0m\u001b[0m\n",
      "\u001b[1;31mAttributeError\u001b[0m: 'cupy.core.core.ndarray' object has no attribute 'coef'"
     ]
    }
   ],
   "source": [
    "ad.Dense.denseAD(cp.ones(2))"
   ]
  },
  {
   "cell_type": "code",
   "execution_count": 5,
   "metadata": {},
   "outputs": [
    {
     "ename": "AttributeError",
     "evalue": "'cupy.core.core.ndarray' object has no attribute 'coef'",
     "output_type": "error",
     "traceback": [
      "\u001b[1;31m---------------------------------------------------------------------------\u001b[0m",
      "\u001b[1;31mAttributeError\u001b[0m                            Traceback (most recent call last)",
      "\u001b[1;32m<ipython-input-5-24f35cf0e810>\u001b[0m in \u001b[0;36m<module>\u001b[1;34m\u001b[0m\n\u001b[0;32m      1\u001b[0m \u001b[0mcupy_denseAD\u001b[0m \u001b[1;33m=\u001b[0m \u001b[0mtype\u001b[0m\u001b[1;33m(\u001b[0m\u001b[1;34m'cupy_denseAD'\u001b[0m\u001b[1;33m,\u001b[0m\u001b[1;33m(\u001b[0m\u001b[0mcp\u001b[0m\u001b[1;33m.\u001b[0m\u001b[0mndarray\u001b[0m\u001b[1;33m,\u001b[0m\u001b[1;33m)\u001b[0m\u001b[1;33m,\u001b[0m\u001b[0mdict\u001b[0m\u001b[1;33m(\u001b[0m\u001b[0mad\u001b[0m\u001b[1;33m.\u001b[0m\u001b[0mDense\u001b[0m\u001b[1;33m.\u001b[0m\u001b[0mdenseAD\u001b[0m\u001b[1;33m.\u001b[0m\u001b[0m__dict__\u001b[0m\u001b[1;33m)\u001b[0m\u001b[1;33m)\u001b[0m\u001b[1;33m\u001b[0m\u001b[1;33m\u001b[0m\u001b[0m\n\u001b[1;32m----> 2\u001b[1;33m \u001b[0mcupy_denseAD\u001b[0m\u001b[1;33m(\u001b[0m\u001b[0mcp\u001b[0m\u001b[1;33m.\u001b[0m\u001b[0mones\u001b[0m\u001b[1;33m(\u001b[0m\u001b[1;33m(\u001b[0m\u001b[1;36m2\u001b[0m\u001b[1;33m,\u001b[0m\u001b[1;33m)\u001b[0m\u001b[1;33m)\u001b[0m\u001b[1;33m)\u001b[0m\u001b[1;33m\u001b[0m\u001b[1;33m\u001b[0m\u001b[0m\n\u001b[0m",
      "\u001b[1;32m~\\Documents\\GitHub\\AdaptiveGridDiscretizations\\agd\\AutomaticDifferentiation\\Dense.py\u001b[0m in \u001b[0;36m__new__\u001b[1;34m(cls, value, coef, broadcast_ad)\u001b[0m\n\u001b[0;32m     26\u001b[0m                 \u001b[0mshape2\u001b[0m \u001b[1;33m=\u001b[0m \u001b[0mshape\u001b[0m\u001b[1;33m+\u001b[0m\u001b[1;33m(\u001b[0m\u001b[1;36m0\u001b[0m\u001b[1;33m,\u001b[0m\u001b[1;33m)\u001b[0m\u001b[1;33m\u001b[0m\u001b[1;33m\u001b[0m\u001b[0m\n\u001b[0;32m     27\u001b[0m \t\tobj.coef  = (numpy_like.zeros_like(value,shape=shape2) if coef is None \n\u001b[1;32m---> 28\u001b[1;33m \t\t\telse misc._test_or_broadcast_ad(coef,shape,broadcast_ad) )\n\u001b[0m\u001b[0;32m     29\u001b[0m                 \u001b[1;32mreturn\u001b[0m \u001b[0mobj\u001b[0m\u001b[1;33m\u001b[0m\u001b[1;33m\u001b[0m\u001b[0m\n\u001b[0;32m     30\u001b[0m \u001b[1;33m\u001b[0m\u001b[0m\n",
      "\u001b[1;31mAttributeError\u001b[0m: 'cupy.core.core.ndarray' object has no attribute 'coef'"
     ]
    }
   ],
   "source": [
    "cupy_denseAD = type('cupy_denseAD',(cp.ndarray,),dict(ad.Dense.denseAD.__dict__))\n",
    "cupy_denseAD(cp.ones((2,)))"
   ]
  },
  {
   "cell_type": "code",
   "execution_count": 8,
   "metadata": {},
   "outputs": [
    {
     "ename": "AttributeError",
     "evalue": "'numpy.ndarray' object has no attribute 'coef'",
     "output_type": "error",
     "traceback": [
      "\u001b[1;31m---------------------------------------------------------------------------\u001b[0m",
      "\u001b[1;31mAttributeError\u001b[0m                            Traceback (most recent call last)",
      "\u001b[1;32m<ipython-input-8-da0d1be72c82>\u001b[0m in \u001b[0;36m<module>\u001b[1;34m\u001b[0m\n\u001b[0;32m      1\u001b[0m \u001b[0mx\u001b[0m \u001b[1;33m=\u001b[0m \u001b[0mnp\u001b[0m\u001b[1;33m.\u001b[0m\u001b[0mones\u001b[0m\u001b[1;33m(\u001b[0m\u001b[1;36m2\u001b[0m\u001b[1;33m)\u001b[0m\u001b[1;33m\u001b[0m\u001b[1;33m\u001b[0m\u001b[0m\n\u001b[1;32m----> 2\u001b[1;33m \u001b[0mx\u001b[0m\u001b[1;33m.\u001b[0m\u001b[0mcoef\u001b[0m\u001b[1;33m=\u001b[0m\u001b[1;36m2\u001b[0m\u001b[1;33m\u001b[0m\u001b[1;33m\u001b[0m\u001b[0m\n\u001b[0m",
      "\u001b[1;31mAttributeError\u001b[0m: 'numpy.ndarray' object has no attribute 'coef'"
     ]
    }
   ],
   "source": [
    "x = np.ones(2)\n",
    "x.coef=2"
   ]
  },
  {
   "cell_type": "code",
   "execution_count": 9,
   "metadata": {},
   "outputs": [
    {
     "data": {
      "text/plain": [
       "denseAD(array([    1,     1]),array([], shape=(2, 0), dtype=float64))"
      ]
     },
     "execution_count": 9,
     "metadata": {},
     "output_type": "execute_result"
    }
   ],
   "source": []
  },
  {
   "cell_type": "code",
   "execution_count": 6,
   "metadata": {},
   "outputs": [
    {
     "data": {
      "text/plain": [
       "{numpy.ndarray: 1, cupy.core.core.ndarray: 2}"
      ]
     },
     "execution_count": 6,
     "metadata": {},
     "output_type": "execute_result"
    }
   ],
   "source": [
    "{np.ndarray:1,cp.ndarray:2}"
   ]
  },
  {
   "cell_type": "code",
   "execution_count": 27,
   "metadata": {},
   "outputs": [],
   "source": [
    "#help(type)"
   ]
  },
  {
   "cell_type": "code",
   "execution_count": 15,
   "metadata": {},
   "outputs": [
    {
     "ename": "TypeError",
     "evalue": "__bases__ assignment: 'cupy.core.core.ndarray' deallocator differs from 'numpy.ndarray'",
     "output_type": "error",
     "traceback": [
      "\u001b[1;31m---------------------------------------------------------------------------\u001b[0m",
      "\u001b[1;31mTypeError\u001b[0m                                 Traceback (most recent call last)",
      "\u001b[1;32m<ipython-input-15-796278a3fbfc>\u001b[0m in \u001b[0;36m<module>\u001b[1;34m\u001b[0m\n\u001b[0;32m      1\u001b[0m \u001b[0mnp_cls\u001b[0m \u001b[1;33m=\u001b[0m \u001b[0mad\u001b[0m\u001b[1;33m.\u001b[0m\u001b[0mDense\u001b[0m\u001b[1;33m.\u001b[0m\u001b[0mdenseAD\u001b[0m\u001b[1;33m\u001b[0m\u001b[1;33m\u001b[0m\u001b[0m\n\u001b[0;32m      2\u001b[0m \u001b[0mcp_cls\u001b[0m \u001b[1;33m=\u001b[0m \u001b[0mcopy\u001b[0m\u001b[1;33m(\u001b[0m\u001b[0mnp_cls\u001b[0m\u001b[1;33m)\u001b[0m\u001b[1;33m\u001b[0m\u001b[1;33m\u001b[0m\u001b[0m\n\u001b[1;32m----> 3\u001b[1;33m \u001b[0mcp_cls\u001b[0m\u001b[1;33m.\u001b[0m\u001b[0m__bases__\u001b[0m \u001b[1;33m=\u001b[0m \u001b[1;33m(\u001b[0m\u001b[0mcp\u001b[0m\u001b[1;33m.\u001b[0m\u001b[0mndarray\u001b[0m\u001b[1;33m,\u001b[0m\u001b[1;33m)\u001b[0m\u001b[1;33m\u001b[0m\u001b[1;33m\u001b[0m\u001b[0m\n\u001b[0m",
      "\u001b[1;31mTypeError\u001b[0m: __bases__ assignment: 'cupy.core.core.ndarray' deallocator differs from 'numpy.ndarray'"
     ]
    }
   ],
   "source": [
    "np_cls = ad.Dense.denseAD\n",
    "cp_cls = copy(np_cls)\n",
    "cp_cls.__bases__ = (cp.ndarray,)\n"
   ]
  },
  {
   "cell_type": "code",
   "execution_count": 28,
   "metadata": {},
   "outputs": [],
   "source": []
  },
  {
   "cell_type": "code",
   "execution_count": 29,
   "metadata": {},
   "outputs": [
    {
     "ename": "ValueError",
     "evalue": "object __array__ method not producing an array",
     "output_type": "error",
     "traceback": [
      "\u001b[1;31m---------------------------------------------------------------------------\u001b[0m",
      "\u001b[1;31mValueError\u001b[0m                                Traceback (most recent call last)",
      "\u001b[1;32m<ipython-input-29-7bdd742e2f03>\u001b[0m in \u001b[0;36m<module>\u001b[1;34m\u001b[0m\n\u001b[1;32m----> 1\u001b[1;33m \u001b[0mcupy_denseAD\u001b[0m\u001b[1;33m(\u001b[0m\u001b[0mcp\u001b[0m\u001b[1;33m.\u001b[0m\u001b[0mones\u001b[0m\u001b[1;33m(\u001b[0m\u001b[1;33m(\u001b[0m\u001b[1;36m2\u001b[0m\u001b[1;33m,\u001b[0m\u001b[1;33m)\u001b[0m\u001b[1;33m)\u001b[0m\u001b[1;33m)\u001b[0m\u001b[1;33m\u001b[0m\u001b[1;33m\u001b[0m\u001b[0m\n\u001b[0m",
      "\u001b[1;32m~\\Documents\\GitHub\\AdaptiveGridDiscretizations\\agd\\AutomaticDifferentiation\\Dense.py\u001b[0m in \u001b[0;36m__new__\u001b[1;34m(cls, value, coef, broadcast_ad)\u001b[0m\n\u001b[0;32m     22\u001b[0m                 \u001b[1;32mif\u001b[0m \u001b[0mad_generic\u001b[0m\u001b[1;33m.\u001b[0m\u001b[0mis_ad\u001b[0m\u001b[1;33m(\u001b[0m\u001b[0mvalue\u001b[0m\u001b[1;33m)\u001b[0m\u001b[1;33m:\u001b[0m\u001b[1;33m\u001b[0m\u001b[1;33m\u001b[0m\u001b[0m\n\u001b[0;32m     23\u001b[0m                         \u001b[1;32mraise\u001b[0m \u001b[0mValueError\u001b[0m\u001b[1;33m(\u001b[0m\u001b[1;34m\"Attempting to cast between different AD types\"\u001b[0m\u001b[1;33m)\u001b[0m\u001b[1;33m\u001b[0m\u001b[1;33m\u001b[0m\u001b[0m\n\u001b[1;32m---> 24\u001b[1;33m                 \u001b[0mvalue\u001b[0m \u001b[1;33m=\u001b[0m \u001b[0mnp\u001b[0m\u001b[1;33m.\u001b[0m\u001b[0masarray\u001b[0m\u001b[1;33m(\u001b[0m\u001b[0mvalue\u001b[0m\u001b[1;33m)\u001b[0m\u001b[1;33m\u001b[0m\u001b[1;33m\u001b[0m\u001b[0m\n\u001b[0m\u001b[0;32m     25\u001b[0m                 \u001b[0mobj\u001b[0m \u001b[1;33m=\u001b[0m \u001b[0mvalue\u001b[0m\u001b[1;33m.\u001b[0m\u001b[0mview\u001b[0m\u001b[1;33m(\u001b[0m\u001b[0mdenseAD\u001b[0m\u001b[1;33m)\u001b[0m\u001b[1;33m\u001b[0m\u001b[1;33m\u001b[0m\u001b[0m\n\u001b[0;32m     26\u001b[0m                 \u001b[0mshape\u001b[0m \u001b[1;33m=\u001b[0m \u001b[0mobj\u001b[0m\u001b[1;33m.\u001b[0m\u001b[0mshape\u001b[0m\u001b[1;33m\u001b[0m\u001b[1;33m\u001b[0m\u001b[0m\n",
      "\u001b[1;32m~\\Miniconda3\\envs\\gpuenv\\lib\\site-packages\\numpy\\core\\_asarray.py\u001b[0m in \u001b[0;36masarray\u001b[1;34m(a, dtype, order)\u001b[0m\n\u001b[0;32m     83\u001b[0m \u001b[1;33m\u001b[0m\u001b[0m\n\u001b[0;32m     84\u001b[0m     \"\"\"\n\u001b[1;32m---> 85\u001b[1;33m     \u001b[1;32mreturn\u001b[0m \u001b[0marray\u001b[0m\u001b[1;33m(\u001b[0m\u001b[0ma\u001b[0m\u001b[1;33m,\u001b[0m \u001b[0mdtype\u001b[0m\u001b[1;33m,\u001b[0m \u001b[0mcopy\u001b[0m\u001b[1;33m=\u001b[0m\u001b[1;32mFalse\u001b[0m\u001b[1;33m,\u001b[0m \u001b[0morder\u001b[0m\u001b[1;33m=\u001b[0m\u001b[0morder\u001b[0m\u001b[1;33m)\u001b[0m\u001b[1;33m\u001b[0m\u001b[1;33m\u001b[0m\u001b[0m\n\u001b[0m\u001b[0;32m     86\u001b[0m \u001b[1;33m\u001b[0m\u001b[0m\n\u001b[0;32m     87\u001b[0m \u001b[1;33m\u001b[0m\u001b[0m\n",
      "\u001b[1;31mValueError\u001b[0m: object __array__ method not producing an array"
     ]
    }
   ],
   "source": []
  },
  {
   "cell_type": "code",
   "execution_count": 23,
   "metadata": {},
   "outputs": [
    {
     "ename": "TypeError",
     "evalue": "'cupy.core.core.ndarray' object cannot be interpreted as an integer",
     "output_type": "error",
     "traceback": [
      "\u001b[1;31m---------------------------------------------------------------------------\u001b[0m",
      "\u001b[1;31mTypeError\u001b[0m                                 Traceback (most recent call last)",
      "\u001b[1;32m<ipython-input-23-102217ae9040>\u001b[0m in \u001b[0;36m<module>\u001b[1;34m\u001b[0m\n\u001b[1;32m----> 1\u001b[1;33m \u001b[0mx\u001b[0m\u001b[1;33m=\u001b[0m\u001b[0mcupy_denseAD\u001b[0m\u001b[1;33m(\u001b[0m\u001b[0mcp\u001b[0m\u001b[1;33m.\u001b[0m\u001b[0mones\u001b[0m\u001b[1;33m(\u001b[0m\u001b[1;33m(\u001b[0m\u001b[1;36m2\u001b[0m\u001b[1;33m,\u001b[0m\u001b[1;33m)\u001b[0m\u001b[1;33m)\u001b[0m\u001b[1;33m)\u001b[0m\u001b[1;33m\u001b[0m\u001b[1;33m\u001b[0m\u001b[0m\n\u001b[0m",
      "\u001b[1;32mcupy\\core\\core.pyx\u001b[0m in \u001b[0;36mcupy.core.core.ndarray.__init__\u001b[1;34m()\u001b[0m\n",
      "\u001b[1;31mTypeError\u001b[0m: 'cupy.core.core.ndarray' object cannot be interpreted as an integer"
     ]
    }
   ],
   "source": [
    "x=cupy_denseAD(cp.ones((2,)))"
   ]
  },
  {
   "cell_type": "code",
   "execution_count": 7,
   "metadata": {},
   "outputs": [],
   "source": [
    "x = ad.Dense.identity((2,2))\n",
    "#x.view(np.ndarray)"
   ]
  },
  {
   "cell_type": "code",
   "execution_count": 8,
   "metadata": {},
   "outputs": [
    {
     "data": {
      "text/plain": [
       "<super: agd.AutomaticDifferentiation.Dense.denseAD,\n",
       "        denseAD(array([[    0,     0],\n",
       "               [    0,     0]]),\n",
       "        array([[[    1,     0,     0,     0],\n",
       "                [    0,     1,     0,     0]],\n",
       "        \n",
       "               [[    0,     0,     1,     0],\n",
       "                [    0,     0,     0,     1]]]))>"
      ]
     },
     "execution_count": 8,
     "metadata": {},
     "output_type": "execute_result"
    }
   ],
   "source": [
    "x = ad.Dense.identity((2,2))\n",
    "super(type(x),x)"
   ]
  },
  {
   "cell_type": "code",
   "execution_count": 5,
   "metadata": {},
   "outputs": [
    {
     "ename": "ValueError",
     "evalue": "object __array__ method not producing an array",
     "output_type": "error",
     "traceback": [
      "\u001b[1;31m---------------------------------------------------------------------------\u001b[0m",
      "\u001b[1;31mValueError\u001b[0m                                Traceback (most recent call last)",
      "\u001b[1;32m<ipython-input-5-21b52a51a274>\u001b[0m in \u001b[0;36m<module>\u001b[1;34m\u001b[0m\n\u001b[0;32m      1\u001b[0m \u001b[0mX\u001b[0m \u001b[1;33m=\u001b[0m \u001b[0mcp\u001b[0m\u001b[1;33m.\u001b[0m\u001b[0marange\u001b[0m\u001b[1;33m(\u001b[0m\u001b[1;36m6\u001b[0m\u001b[1;33m)\u001b[0m\u001b[1;33m.\u001b[0m\u001b[0mreshape\u001b[0m\u001b[1;33m(\u001b[0m\u001b[1;36m2\u001b[0m\u001b[1;33m,\u001b[0m\u001b[1;36m3\u001b[0m\u001b[1;33m)\u001b[0m\u001b[1;33m\u001b[0m\u001b[1;33m\u001b[0m\u001b[0m\n\u001b[1;32m----> 2\u001b[1;33m \u001b[0mX_ad\u001b[0m \u001b[1;33m=\u001b[0m \u001b[0mad\u001b[0m\u001b[1;33m.\u001b[0m\u001b[0mDense\u001b[0m\u001b[1;33m.\u001b[0m\u001b[0midentity\u001b[0m\u001b[1;33m(\u001b[0m\u001b[0mconstant\u001b[0m\u001b[1;33m=\u001b[0m\u001b[0mX\u001b[0m\u001b[1;33m)\u001b[0m\u001b[1;33m\u001b[0m\u001b[1;33m\u001b[0m\u001b[0m\n\u001b[0m",
      "\u001b[1;32m~\\Documents\\GitHub\\AdaptiveGridDiscretizations\\agd\\AutomaticDifferentiation\\Dense.py\u001b[0m in \u001b[0;36midentity\u001b[1;34m(shape, shape_free, shape_bound, constant, shift)\u001b[0m\n\u001b[0;32m    306\u001b[0m         \u001b[1;32mif\u001b[0m \u001b[0mcoef1\u001b[0m\u001b[1;33m.\u001b[0m\u001b[0mshape\u001b[0m\u001b[1;33m[\u001b[0m\u001b[1;33m:\u001b[0m\u001b[1;33m-\u001b[0m\u001b[1;36m1\u001b[0m\u001b[1;33m]\u001b[0m\u001b[1;33m!=\u001b[0m\u001b[0mconstant\u001b[0m\u001b[1;33m.\u001b[0m\u001b[0mshape\u001b[0m\u001b[1;33m:\u001b[0m\u001b[1;33m\u001b[0m\u001b[1;33m\u001b[0m\u001b[0m\n\u001b[0;32m    307\u001b[0m                 \u001b[0mcoef1\u001b[0m \u001b[1;33m=\u001b[0m \u001b[0mnp\u001b[0m\u001b[1;33m.\u001b[0m\u001b[0mbroadcast_to\u001b[0m\u001b[1;33m(\u001b[0m\u001b[0mcoef1\u001b[0m\u001b[1;33m,\u001b[0m\u001b[0mshape\u001b[0m\u001b[1;33m+\u001b[0m\u001b[1;33m(\u001b[0m\u001b[0msize_ad\u001b[0m\u001b[1;33m,\u001b[0m\u001b[1;33m)\u001b[0m\u001b[1;33m)\u001b[0m\u001b[1;33m\u001b[0m\u001b[1;33m\u001b[0m\u001b[0m\n\u001b[1;32m--> 308\u001b[1;33m         \u001b[1;32mreturn\u001b[0m \u001b[0mdenseAD\u001b[0m\u001b[1;33m(\u001b[0m\u001b[0mconstant\u001b[0m\u001b[1;33m,\u001b[0m\u001b[0mcoef1\u001b[0m\u001b[1;33m)\u001b[0m\u001b[1;33m\u001b[0m\u001b[1;33m\u001b[0m\u001b[0m\n\u001b[0m\u001b[0;32m    309\u001b[0m \u001b[1;33m\u001b[0m\u001b[0m\n\u001b[0;32m    310\u001b[0m \u001b[1;32mdef\u001b[0m \u001b[0mregister\u001b[0m\u001b[1;33m(\u001b[0m\u001b[0minputs\u001b[0m\u001b[1;33m,\u001b[0m\u001b[0miterables\u001b[0m\u001b[1;33m=\u001b[0m\u001b[1;32mNone\u001b[0m\u001b[1;33m,\u001b[0m\u001b[0mshape_bound\u001b[0m\u001b[1;33m=\u001b[0m\u001b[1;32mNone\u001b[0m\u001b[1;33m,\u001b[0m\u001b[0mshift\u001b[0m\u001b[1;33m=\u001b[0m\u001b[1;33m(\u001b[0m\u001b[1;36m0\u001b[0m\u001b[1;33m,\u001b[0m\u001b[1;36m0\u001b[0m\u001b[1;33m)\u001b[0m\u001b[1;33m,\u001b[0m\u001b[0mident\u001b[0m\u001b[1;33m=\u001b[0m\u001b[0midentity\u001b[0m\u001b[1;33m,\u001b[0m\u001b[0mconsidered\u001b[0m\u001b[1;33m=\u001b[0m\u001b[1;32mNone\u001b[0m\u001b[1;33m)\u001b[0m\u001b[1;33m:\u001b[0m\u001b[1;33m\u001b[0m\u001b[1;33m\u001b[0m\u001b[0m\n",
      "\u001b[1;32m~\\Documents\\GitHub\\AdaptiveGridDiscretizations\\agd\\AutomaticDifferentiation\\Dense.py\u001b[0m in \u001b[0;36m__new__\u001b[1;34m(cls, value, coef, broadcast_ad)\u001b[0m\n\u001b[0;32m     18\u001b[0m                         \u001b[1;32massert\u001b[0m \u001b[0mcoef\u001b[0m \u001b[1;32mis\u001b[0m \u001b[1;32mNone\u001b[0m\u001b[1;33m\u001b[0m\u001b[1;33m\u001b[0m\u001b[0m\n\u001b[0;32m     19\u001b[0m                         \u001b[1;32mreturn\u001b[0m \u001b[0mvalue\u001b[0m\u001b[1;33m\u001b[0m\u001b[1;33m\u001b[0m\u001b[0m\n\u001b[1;32m---> 20\u001b[1;33m                 \u001b[0mvalue\u001b[0m \u001b[1;33m=\u001b[0m \u001b[0mnp\u001b[0m\u001b[1;33m.\u001b[0m\u001b[0masarray\u001b[0m\u001b[1;33m(\u001b[0m\u001b[0mvalue\u001b[0m\u001b[1;33m)\u001b[0m\u001b[1;33m\u001b[0m\u001b[1;33m\u001b[0m\u001b[0m\n\u001b[0m\u001b[0;32m     21\u001b[0m                 \u001b[0mobj\u001b[0m \u001b[1;33m=\u001b[0m \u001b[0mvalue\u001b[0m\u001b[1;33m.\u001b[0m\u001b[0mview\u001b[0m\u001b[1;33m(\u001b[0m\u001b[0mdenseAD\u001b[0m\u001b[1;33m)\u001b[0m\u001b[1;33m\u001b[0m\u001b[1;33m\u001b[0m\u001b[0m\n\u001b[0;32m     22\u001b[0m                 \u001b[0mshape\u001b[0m \u001b[1;33m=\u001b[0m \u001b[0mobj\u001b[0m\u001b[1;33m.\u001b[0m\u001b[0mshape\u001b[0m\u001b[1;33m\u001b[0m\u001b[1;33m\u001b[0m\u001b[0m\n",
      "\u001b[1;32m~\\Miniconda3\\envs\\gpuenv\\lib\\site-packages\\numpy\\core\\_asarray.py\u001b[0m in \u001b[0;36masarray\u001b[1;34m(a, dtype, order)\u001b[0m\n\u001b[0;32m     83\u001b[0m \u001b[1;33m\u001b[0m\u001b[0m\n\u001b[0;32m     84\u001b[0m     \"\"\"\n\u001b[1;32m---> 85\u001b[1;33m     \u001b[1;32mreturn\u001b[0m \u001b[0marray\u001b[0m\u001b[1;33m(\u001b[0m\u001b[0ma\u001b[0m\u001b[1;33m,\u001b[0m \u001b[0mdtype\u001b[0m\u001b[1;33m,\u001b[0m \u001b[0mcopy\u001b[0m\u001b[1;33m=\u001b[0m\u001b[1;32mFalse\u001b[0m\u001b[1;33m,\u001b[0m \u001b[0morder\u001b[0m\u001b[1;33m=\u001b[0m\u001b[0morder\u001b[0m\u001b[1;33m)\u001b[0m\u001b[1;33m\u001b[0m\u001b[1;33m\u001b[0m\u001b[0m\n\u001b[0m\u001b[0;32m     86\u001b[0m \u001b[1;33m\u001b[0m\u001b[0m\n\u001b[0;32m     87\u001b[0m \u001b[1;33m\u001b[0m\u001b[0m\n",
      "\u001b[1;31mValueError\u001b[0m: object __array__ method not producing an array"
     ]
    }
   ],
   "source": [
    "X = cp.arange(6).reshape(2,3)\n",
    "X_ad = ad.Dense.identity(constant=X)"
   ]
  },
  {
   "cell_type": "code",
   "execution_count": 14,
   "metadata": {},
   "outputs": [],
   "source": [
    "a = np.zeros((2,2))\n",
    "b = np.array(a)"
   ]
  },
  {
   "cell_type": "code",
   "execution_count": 15,
   "metadata": {},
   "outputs": [
    {
     "data": {
      "text/plain": [
       "(array([[    0,     0],\n",
       "        [    0,     0]]),\n",
       " array([[    1,     0],\n",
       "        [    0,     0]]))"
      ]
     },
     "execution_count": 15,
     "metadata": {},
     "output_type": "execute_result"
    }
   ],
   "source": [
    "b[0,0]=1\n",
    "a,b"
   ]
  },
  {
   "cell_type": "code",
   "execution_count": 8,
   "metadata": {},
   "outputs": [
    {
     "ename": "ValueError",
     "evalue": "object __array__ method not producing an array",
     "output_type": "error",
     "traceback": [
      "\u001b[1;31m---------------------------------------------------------------------------\u001b[0m",
      "\u001b[1;31mValueError\u001b[0m                                Traceback (most recent call last)",
      "\u001b[1;32m<ipython-input-8-0f3b27a9942d>\u001b[0m in \u001b[0;36m<module>\u001b[1;34m\u001b[0m\n\u001b[1;32m----> 1\u001b[1;33m \u001b[0mnp\u001b[0m\u001b[1;33m.\u001b[0m\u001b[0marray\u001b[0m\u001b[1;33m(\u001b[0m\u001b[0mcp\u001b[0m\u001b[1;33m.\u001b[0m\u001b[0marange\u001b[0m\u001b[1;33m(\u001b[0m\u001b[1;36m2\u001b[0m\u001b[1;33m)\u001b[0m\u001b[1;33m)\u001b[0m\u001b[1;33m\u001b[0m\u001b[1;33m\u001b[0m\u001b[0m\n\u001b[0m",
      "\u001b[1;31mValueError\u001b[0m: object __array__ method not producing an array"
     ]
    }
   ],
   "source": [
    "np.array(cp.arange(2))"
   ]
  },
  {
   "cell_type": "code",
   "execution_count": null,
   "metadata": {},
   "outputs": [],
   "source": []
  }
 ],
 "metadata": {
  "kernelspec": {
   "display_name": "Python 3",
   "language": "python",
   "name": "python3"
  },
  "language_info": {
   "codemirror_mode": {
    "name": "ipython",
    "version": 3
   },
   "file_extension": ".py",
   "mimetype": "text/x-python",
   "name": "python",
   "nbconvert_exporter": "python",
   "pygments_lexer": "ipython3",
   "version": "3.7.6"
  }
 },
 "nbformat": 4,
 "nbformat_minor": 4
}
